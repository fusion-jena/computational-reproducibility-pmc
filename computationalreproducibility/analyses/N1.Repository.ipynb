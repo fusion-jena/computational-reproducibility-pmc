{
 "cells": [
  {
   "cell_type": "markdown",
   "metadata": {
    "toc": "true"
   },
   "source": [
    "<h1>Table of Contents<span class=\"tocSkip\"></span></h1>\n",
    "<div class=\"toc\"><ul class=\"toc-item\"><li><span><a href=\"#Repositories\" data-toc-modified-id=\"Repositories-1\"><span class=\"toc-item-num\">1&nbsp;&nbsp;</span>Repositories</a></span></li><li><span><a href=\"#Status\" data-toc-modified-id=\"Status-2\"><span class=\"toc-item-num\">2&nbsp;&nbsp;</span>Status</a></span></li><li><span><a href=\"#Repositories\" data-toc-modified-id=\"Repositories-3\"><span class=\"toc-item-num\">3&nbsp;&nbsp;</span>Repositories</a></span><ul class=\"toc-item\"><li><span><a href=\"#Remove-repositories-that-we-lost-access-without-a-backup\" data-toc-modified-id=\"Remove-repositories-that-we-lost-access-without-a-backup-3.1\"><span class=\"toc-item-num\">3.1&nbsp;&nbsp;</span>Remove repositories that we lost access without a backup</a></span><ul class=\"toc-item\"><li><span><a href=\"#Repositories-with-no-notebooks\" data-toc-modified-id=\"Repositories-with-no-notebooks-3.1.1\"><span class=\"toc-item-num\">3.1.1&nbsp;&nbsp;</span>Repositories with no notebooks</a></span></li><li><span><a href=\"#Valid-repositories\" data-toc-modified-id=\"Valid-repositories-3.1.2\"><span class=\"toc-item-num\">3.1.2&nbsp;&nbsp;</span>Valid repositories</a></span></li></ul></li><li><span><a href=\"#Notebook-count\" data-toc-modified-id=\"Notebook-count-3.2\"><span class=\"toc-item-num\">3.2&nbsp;&nbsp;</span>Notebook count</a></span></li><li><span><a href=\"#Repository-count\" data-toc-modified-id=\"Repository-count-3.3\"><span class=\"toc-item-num\">3.3&nbsp;&nbsp;</span>Repository count</a></span><ul class=\"toc-item\"><li><span><a href=\"#Repositories-with-only-1-notebook\" data-toc-modified-id=\"Repositories-with-only-1-notebook-3.3.1\"><span class=\"toc-item-num\">3.3.1&nbsp;&nbsp;</span>Repositories with only 1 notebook</a></span></li><li><span><a href=\"#Repositories-with-only-2-notebook\" data-toc-modified-id=\"Repositories-with-only-2-notebook-3.3.2\"><span class=\"toc-item-num\">3.3.2&nbsp;&nbsp;</span>Repositories with only 2 notebook</a></span></li><li><span><a href=\"#Repositories-with-10-or-more-notebooks\" data-toc-modified-id=\"Repositories-with-10-or-more-notebooks-3.3.3\"><span class=\"toc-item-num\">3.3.3&nbsp;&nbsp;</span>Repositories with 10 or more notebooks</a></span></li><li><span><a href=\"#Notebooks-that-belong-to-repositories-with-10-or-more-notebooks\" data-toc-modified-id=\"Notebooks-that-belong-to-repositories-with-10-or-more-notebooks-3.3.4\"><span class=\"toc-item-num\">3.3.4&nbsp;&nbsp;</span>Notebooks that belong to repositories with 10 or more notebooks</a></span></li></ul></li><li><span><a href=\"#Repositories-with-requirements.txt-or-setup.py\" data-toc-modified-id=\"Repositories-with-requirements.txt-or-setup.py-3.4\"><span class=\"toc-item-num\">3.4&nbsp;&nbsp;</span>Repositories with requirements.txt or setup.py</a></span></li><li><span><a href=\"#Notebooks-in-repositories-with-requirements.py-or-setup.py-or-Pipfile\" data-toc-modified-id=\"Notebooks-in-repositories-with-requirements.py-or-setup.py-or-Pipfile-3.5\"><span class=\"toc-item-num\">3.5&nbsp;&nbsp;</span>Notebooks in repositories with requirements.py or setup.py or Pipfile</a></span></li></ul></li></ul></div>"
   ]
  },
  {
   "cell_type": "markdown",
   "metadata": {},
   "source": [
    "# Repositories\n",
    "\n",
    "Analyze repositories: number of notebooks/repository, and repoositories with dependency files (setup.py, requirements.txt, Pipfile)"
   ]
  },
  {
   "cell_type": "code",
   "execution_count": 1,
   "metadata": {},
   "outputs": [],
   "source": [
    "import sys\n",
    "sys.path.insert(0, '../archaeology')\n",
    "sys.path.insert(0, '../analysis')\n",
    "\n",
    "import os\n",
    "\n",
    "import seaborn as sns\n",
    "import pandas as pd\n",
    "\n",
    "\n",
    "from matplotlib import pyplot as plt\n",
    "from matplotlib_venn import venn2, venn3\n",
    "from matplotlib.ticker import NullLocator\n",
    "\n",
    "from consts import R_STATUSES\n",
    "from config import DB_CONNECTION\n",
    "from db import connect, Repository, Query\n",
    "import analysis_helpers, importlib\n",
    "importlib.reload(analysis_helpers)\n",
    "from analysis_helpers import describe_processed\n",
    "from analysis_helpers import distribution_with_boxplot, savefig\n",
    "from analysis_helpers import var, relative_var\n",
    "\n",
    "%matplotlib inline"
   ]
  },
  {
   "cell_type": "code",
   "execution_count": 2,
   "metadata": {},
   "outputs": [],
   "source": [
    "with connect() as session:\n",
    "    #print('Last query:', session.query(Query).all()[-1])\n",
    "    repositories = pd.read_sql_table('repositories', session.connection())"
   ]
  },
  {
   "cell_type": "markdown",
   "metadata": {},
   "source": [
    "# Status"
   ]
  },
  {
   "cell_type": "code",
   "execution_count": 3,
   "metadata": {},
   "outputs": [],
   "source": [
    "series = repositories.groupby(\"processed\").size()\n",
    "#series\n",
    "#series.plot(kind=\"bar\")"
   ]
  },
  {
   "cell_type": "code",
   "execution_count": 4,
   "metadata": {},
   "outputs": [
    {
     "data": {
      "text/html": [
       "<div>\n",
       "<style scoped>\n",
       "    .dataframe tbody tr th:only-of-type {\n",
       "        vertical-align: middle;\n",
       "    }\n",
       "\n",
       "    .dataframe tbody tr th {\n",
       "        vertical-align: top;\n",
       "    }\n",
       "\n",
       "    .dataframe thead th {\n",
       "        text-align: right;\n",
       "    }\n",
       "</style>\n",
       "<table border=\"1\" class=\"dataframe\">\n",
       "  <thead>\n",
       "    <tr style=\"text-align: right;\">\n",
       "      <th></th>\n",
       "      <th>0</th>\n",
       "    </tr>\n",
       "  </thead>\n",
       "  <tbody>\n",
       "    <tr>\n",
       "      <th>notebooks and cells - ok</th>\n",
       "      <td>2177</td>\n",
       "    </tr>\n",
       "    <tr>\n",
       "      <th>compress - ok</th>\n",
       "      <td>2177</td>\n",
       "    </tr>\n",
       "    <tr>\n",
       "      <th>requirements - ok</th>\n",
       "      <td>2177</td>\n",
       "    </tr>\n",
       "    <tr>\n",
       "      <th>compress - fail</th>\n",
       "      <td>276</td>\n",
       "    </tr>\n",
       "    <tr>\n",
       "      <th>extracted files</th>\n",
       "      <td>1897</td>\n",
       "    </tr>\n",
       "  </tbody>\n",
       "</table>\n",
       "</div>"
      ],
      "text/plain": [
       "                             0\n",
       "notebooks and cells - ok  2177\n",
       "compress - ok             2177\n",
       "requirements - ok         2177\n",
       "compress - fail            276\n",
       "extracted files           1897"
      ]
     },
     "metadata": {},
     "output_type": "display_data"
    },
    {
     "data": {
      "text/plain": [
       "<AxesSubplot:>"
      ]
     },
     "execution_count": 4,
     "metadata": {},
     "output_type": "execute_result"
    },
    {
     "data": {
      "image/png": "[encoded data removed]",
      "text/plain": [
       "<Figure size 432x288 with 1 Axes>"
      ]
     },
     "metadata": {
      "needs_background": "light"
     },
     "output_type": "display_data"
    }
   ],
   "source": [
    "described = describe_processed(series, R_STATUSES, True)\n",
    "display(described.to_frame())\n",
    "described.plot(kind=\"bar\")"
   ]
  },
  {
   "cell_type": "markdown",
   "metadata": {},
   "source": [
    "# Repositories"
   ]
  },
  {
   "cell_type": "markdown",
   "metadata": {},
   "source": [
    "## Remove repositories that we lost access without a backup"
   ]
  },
  {
   "cell_type": "code",
   "execution_count": 5,
   "metadata": {},
   "outputs": [],
   "source": [
    "repositories = repositories[\n",
    "    (repositories[\"processed\"] & 1024 == 0) # failed to clone\n",
    "] "
   ]
  },
  {
   "cell_type": "markdown",
   "metadata": {},
   "source": [
    "### Repositories with no notebooks\n",
    "They matched the query 'language:\"Jupyter Notebook\"', but they did not have a notebook.\n",
    "Or they had only in checkpoint folders"
   ]
  },
  {
   "cell_type": "code",
   "execution_count": 6,
   "metadata": {},
   "outputs": [
    {
     "data": {
      "text/plain": [
       "1060"
      ]
     },
     "execution_count": 6,
     "metadata": {},
     "output_type": "execute_result"
    }
   ],
   "source": [
    "len(repositories[repositories[\"notebooks_count\"] == 0])"
   ]
  },
  {
   "cell_type": "markdown",
   "metadata": {},
   "source": [
    "### Valid repositories"
   ]
  },
  {
   "cell_type": "code",
   "execution_count": 7,
   "metadata": {},
   "outputs": [
    {
     "name": "stdout",
     "output_type": "stream",
     "text": [
      "Repositories: 1,117\n"
     ]
    }
   ],
   "source": [
    "repositories = repositories[repositories[\"notebooks_count\"] > 0]\n",
    "print('Repositories: {}'.format(var(\"repositories\", len(repositories), \"{:,}\")))"
   ]
  },
  {
   "cell_type": "code",
   "execution_count": 8,
   "metadata": {},
   "outputs": [
    {
     "data": {
      "text/html": [
       "<div>\n",
       "<style scoped>\n",
       "    .dataframe tbody tr th:only-of-type {\n",
       "        vertical-align: middle;\n",
       "    }\n",
       "\n",
       "    .dataframe tbody tr th {\n",
       "        vertical-align: top;\n",
       "    }\n",
       "\n",
       "    .dataframe thead th {\n",
       "        text-align: right;\n",
       "    }\n",
       "</style>\n",
       "<table border=\"1\" class=\"dataframe\">\n",
       "  <thead>\n",
       "    <tr style=\"text-align: right;\">\n",
       "      <th></th>\n",
       "      <th>id</th>\n",
       "      <th>article_id</th>\n",
       "      <th>domain</th>\n",
       "      <th>repository</th>\n",
       "      <th>hash_dir1</th>\n",
       "      <th>hash_dir2</th>\n",
       "      <th>commit</th>\n",
       "      <th>notebooks_count</th>\n",
       "      <th>setups_count</th>\n",
       "      <th>requirements_count</th>\n",
       "      <th>notebooks</th>\n",
       "      <th>setups</th>\n",
       "      <th>requirements</th>\n",
       "      <th>processed</th>\n",
       "      <th>pipfiles_count</th>\n",
       "      <th>pipfile_locks_count</th>\n",
       "      <th>pipfiles</th>\n",
       "      <th>pipfile_locks</th>\n",
       "    </tr>\n",
       "  </thead>\n",
       "  <tbody>\n",
       "    <tr>\n",
       "      <th>0</th>\n",
       "      <td>1</td>\n",
       "      <td>1</td>\n",
       "      <td>github.com</td>\n",
       "      <td>chfc-cmi/misas</td>\n",
       "      <td>fb</td>\n",
       "      <td>72c1f535128c3590fbc4947125801710adfc1e</td>\n",
       "      <td>a67e0dbc7c7dbb078f7624fc790564bb6d929b71</td>\n",
       "      <td>8</td>\n",
       "      <td>1</td>\n",
       "      <td>0</td>\n",
       "      <td>07_myops.ipynb;06_pneumothorax.ipynb;index.ipy...</td>\n",
       "      <td>setup.py</td>\n",
       "      <td></td>\n",
       "      <td>8329</td>\n",
       "      <td>0</td>\n",
       "      <td>0</td>\n",
       "      <td></td>\n",
       "      <td></td>\n",
       "    </tr>\n",
       "    <tr>\n",
       "      <th>6</th>\n",
       "      <td>7</td>\n",
       "      <td>2</td>\n",
       "      <td>github.com</td>\n",
       "      <td>labtanaka/meyer_lungfish</td>\n",
       "      <td>d2</td>\n",
       "      <td>d2bcab98f1237068be357125d1b5d5f6144f7b</td>\n",
       "      <td>3b89ce209359dc09aa232bde2954e1b451edc935</td>\n",
       "      <td>5</td>\n",
       "      <td>0</td>\n",
       "      <td>0</td>\n",
       "      <td>jupyter/Lungfish_MARVEL_benchmark.ipynb;jupyte...</td>\n",
       "      <td></td>\n",
       "      <td></td>\n",
       "      <td>8329</td>\n",
       "      <td>0</td>\n",
       "      <td>0</td>\n",
       "      <td></td>\n",
       "      <td></td>\n",
       "    </tr>\n",
       "    <tr>\n",
       "      <th>7</th>\n",
       "      <td>8</td>\n",
       "      <td>3</td>\n",
       "      <td>github.com</td>\n",
       "      <td>malikaratnayake/HyDaT_Tracker</td>\n",
       "      <td>18</td>\n",
       "      <td>43ddb12099c0d0fc077ea91ba55a1b7f257c73</td>\n",
       "      <td>06784ad02d88129f4f3928ecfea0ac2b7f81903e</td>\n",
       "      <td>3</td>\n",
       "      <td>0</td>\n",
       "      <td>1</td>\n",
       "      <td>HyDaT_Tracker.ipynb;LambsEar_analysis.ipynb;Sc...</td>\n",
       "      <td></td>\n",
       "      <td>requirements.txt</td>\n",
       "      <td>8329</td>\n",
       "      <td>0</td>\n",
       "      <td>0</td>\n",
       "      <td></td>\n",
       "      <td></td>\n",
       "    </tr>\n",
       "    <tr>\n",
       "      <th>8</th>\n",
       "      <td>9</td>\n",
       "      <td>3</td>\n",
       "      <td>github.com</td>\n",
       "      <td>deep-diver/Soccer-Ball-Detection-YOLOv2</td>\n",
       "      <td>fd</td>\n",
       "      <td>b3197d5847ee1df39a60baa37e84f8cc215e46</td>\n",
       "      <td>16ab2f2141731a5e1c7e72c68eb4cb7888e9a6a3</td>\n",
       "      <td>1</td>\n",
       "      <td>0</td>\n",
       "      <td>0</td>\n",
       "      <td>YOLOv2-Train.ipynb</td>\n",
       "      <td></td>\n",
       "      <td></td>\n",
       "      <td>8329</td>\n",
       "      <td>0</td>\n",
       "      <td>0</td>\n",
       "      <td></td>\n",
       "      <td></td>\n",
       "    </tr>\n",
       "    <tr>\n",
       "      <th>11</th>\n",
       "      <td>12</td>\n",
       "      <td>4</td>\n",
       "      <td>github.com</td>\n",
       "      <td>KaliLab/HippoUnit_demo</td>\n",
       "      <td>73</td>\n",
       "      <td>7b17e4a2808ce4184486e0ea7046981c3affdc</td>\n",
       "      <td>3062b8fdbbec688ce082e0cb7c9de4b1d57120b9</td>\n",
       "      <td>12</td>\n",
       "      <td>0</td>\n",
       "      <td>0</td>\n",
       "      <td>jupyter_notebooks/Gomez_Gonzalez_2011_n123_mor...</td>\n",
       "      <td></td>\n",
       "      <td></td>\n",
       "      <td>141</td>\n",
       "      <td>0</td>\n",
       "      <td>0</td>\n",
       "      <td></td>\n",
       "      <td></td>\n",
       "    </tr>\n",
       "  </tbody>\n",
       "</table>\n",
       "</div>"
      ],
      "text/plain": [
       "    id  article_id      domain                               repository  \\\n",
       "0    1           1  github.com                           chfc-cmi/misas   \n",
       "6    7           2  github.com                 labtanaka/meyer_lungfish   \n",
       "7    8           3  github.com            malikaratnayake/HyDaT_Tracker   \n",
       "8    9           3  github.com  deep-diver/Soccer-Ball-Detection-YOLOv2   \n",
       "11  12           4  github.com                   KaliLab/HippoUnit_demo   \n",
       "\n",
       "   hash_dir1                               hash_dir2  \\\n",
       "0         fb  72c1f535128c3590fbc4947125801710adfc1e   \n",
       "6         d2  d2bcab98f1237068be357125d1b5d5f6144f7b   \n",
       "7         18  43ddb12099c0d0fc077ea91ba55a1b7f257c73   \n",
       "8         fd  b3197d5847ee1df39a60baa37e84f8cc215e46   \n",
       "11        73  7b17e4a2808ce4184486e0ea7046981c3affdc   \n",
       "\n",
       "                                      commit  notebooks_count  setups_count  \\\n",
       "0   a67e0dbc7c7dbb078f7624fc790564bb6d929b71                8             1   \n",
       "6   3b89ce209359dc09aa232bde2954e1b451edc935                5             0   \n",
       "7   06784ad02d88129f4f3928ecfea0ac2b7f81903e                3             0   \n",
       "8   16ab2f2141731a5e1c7e72c68eb4cb7888e9a6a3                1             0   \n",
       "11  3062b8fdbbec688ce082e0cb7c9de4b1d57120b9               12             0   \n",
       "\n",
       "    requirements_count                                          notebooks  \\\n",
       "0                    0  07_myops.ipynb;06_pneumothorax.ipynb;index.ipy...   \n",
       "6                    0  jupyter/Lungfish_MARVEL_benchmark.ipynb;jupyte...   \n",
       "7                    1  HyDaT_Tracker.ipynb;LambsEar_analysis.ipynb;Sc...   \n",
       "8                    0                                 YOLOv2-Train.ipynb   \n",
       "11                   0  jupyter_notebooks/Gomez_Gonzalez_2011_n123_mor...   \n",
       "\n",
       "      setups      requirements  processed  pipfiles_count  \\\n",
       "0   setup.py                         8329               0   \n",
       "6                                    8329               0   \n",
       "7             requirements.txt       8329               0   \n",
       "8                                    8329               0   \n",
       "11                                    141               0   \n",
       "\n",
       "    pipfile_locks_count pipfiles pipfile_locks  \n",
       "0                     0                         \n",
       "6                     0                         \n",
       "7                     0                         \n",
       "8                     0                         \n",
       "11                    0                         "
      ]
     },
     "execution_count": 8,
     "metadata": {},
     "output_type": "execute_result"
    }
   ],
   "source": [
    "repositories.head(5)"
   ]
  },
  {
   "cell_type": "markdown",
   "metadata": {},
   "source": [
    "## Notebook count"
   ]
  },
  {
   "cell_type": "code",
   "execution_count": 9,
   "metadata": {},
   "outputs": [
    {
     "data": {
      "text/plain": [
       "'9,625'"
      ]
     },
     "execution_count": 9,
     "metadata": {},
     "output_type": "execute_result"
    }
   ],
   "source": [
    "total_notebooks = repositories[\"notebooks_count\"].sum()\n",
    "'{:,}'.format(total_notebooks)"
   ]
  },
  {
   "cell_type": "code",
   "execution_count": 10,
   "metadata": {},
   "outputs": [
    {
     "name": "stdout",
     "output_type": "stream",
     "text": [
      "Distribution(min=1, q1=1.0, median=4.0, q3=9.0, max=294)\n"
     ]
    },
    {
     "data": {
      "image/png": "[encoded data removed]",
      "text/plain": [
       "<Figure size 648x360 with 2 Axes>"
      ]
     },
     "metadata": {
      "needs_background": "light"
     },
     "output_type": "display_data"
    }
   ],
   "source": [
    "column = repositories[\"notebooks_count\"]\n",
    "with savefig(\"notebooks_count\", 9, 5):\n",
    "    distribution = distribution_with_boxplot(column, 0, 20, 2, \"Repositories\", \"Notebooks\",  True)\n",
    "    print(distribution)"
   ]
  },
  {
   "cell_type": "markdown",
   "metadata": {},
   "source": [
    "## Repository count"
   ]
  },
  {
   "cell_type": "code",
   "execution_count": 11,
   "metadata": {},
   "outputs": [
    {
     "data": {
      "text/plain": [
       "1117"
      ]
     },
     "execution_count": 11,
     "metadata": {},
     "output_type": "execute_result"
    }
   ],
   "source": [
    "total = len(repositories)\n",
    "total"
   ]
  },
  {
   "cell_type": "markdown",
   "metadata": {},
   "source": [
    "### Repositories with only 1 notebook"
   ]
  },
  {
   "cell_type": "code",
   "execution_count": 12,
   "metadata": {},
   "outputs": [
    {
     "data": {
      "text/plain": [
       "'290 (25.96%)'"
      ]
     },
     "execution_count": 12,
     "metadata": {},
     "output_type": "execute_result"
    }
   ],
   "source": [
    "relative_var(\n",
    "    \"repositories_1_notebook\", \n",
    "    len(repositories[repositories[\"notebooks_count\"] == 1]),\n",
    "    total,\n",
    ")"
   ]
  },
  {
   "cell_type": "markdown",
   "metadata": {},
   "source": [
    "### Repositories with only 2 notebook"
   ]
  },
  {
   "cell_type": "code",
   "execution_count": 13,
   "metadata": {},
   "outputs": [
    {
     "data": {
      "text/plain": [
       "'462 (41.36%)'"
      ]
     },
     "execution_count": 13,
     "metadata": {},
     "output_type": "execute_result"
    }
   ],
   "source": [
    "relative_var(\n",
    "    \"repositories_2_notebooks\", \n",
    "    len(repositories[repositories[\"notebooks_count\"] <= 2]),\n",
    "    total,\n",
    ")"
   ]
  },
  {
   "cell_type": "markdown",
   "metadata": {},
   "source": [
    "### Repositories with 10 or more notebooks"
   ]
  },
  {
   "cell_type": "code",
   "execution_count": 14,
   "metadata": {},
   "outputs": [
    {
     "data": {
      "text/plain": [
       "'249 (22.29%)'"
      ]
     },
     "execution_count": 14,
     "metadata": {},
     "output_type": "execute_result"
    }
   ],
   "source": [
    "repo_10_plus = repositories[repositories[\"notebooks_count\"] >= 10]\n",
    "relative_var(\n",
    "    \"repositories_10_notebooks\",\n",
    "    len(repo_10_plus),\n",
    "    total,\n",
    ")"
   ]
  },
  {
   "cell_type": "markdown",
   "metadata": {},
   "source": [
    "### Notebooks that belong to repositories with 10 or more notebooks"
   ]
  },
  {
   "cell_type": "code",
   "execution_count": 15,
   "metadata": {},
   "outputs": [
    {
     "data": {
      "text/plain": [
       "'6,782 (70.46%)'"
      ]
     },
     "execution_count": 15,
     "metadata": {},
     "output_type": "execute_result"
    }
   ],
   "source": [
    "notebooks_in_repo_10_plus = repo_10_plus[\"notebooks_count\"].sum()\n",
    "relative_var(\n",
    "    \"notebooks_from_repositories_10\",\n",
    "    notebooks_in_repo_10_plus,\n",
    "    total_notebooks,\n",
    ")"
   ]
  },
  {
   "cell_type": "markdown",
   "metadata": {},
   "source": [
    "## Repositories with requirements.txt or setup.py"
   ]
  },
  {
   "cell_type": "code",
   "execution_count": 16,
   "metadata": {},
   "outputs": [],
   "source": [
    "fn = lambda x: len(x)\n",
    "\n",
    "setup_and_requirements_and_pipfile = fn(repositories[\n",
    "    (repositories[\"setups_count\"] > 0) &\n",
    "    (repositories[\"requirements_count\"] > 0) &\n",
    "    ((repositories[\"pipfiles_count\"] > 0) |\n",
    "     (repositories[\"pipfile_locks_count\"] > 0))\n",
    "])\n",
    "setup_and_requirements = fn(repositories[\n",
    "    (repositories[\"setups_count\"] > 0) &\n",
    "    (repositories[\"requirements_count\"] > 0) &\n",
    "    ~((repositories[\"pipfiles_count\"] > 0) |\n",
    "     (repositories[\"pipfile_locks_count\"] > 0))\n",
    "])\n",
    "setup_and_pipfile = fn(repositories[\n",
    "    (repositories[\"setups_count\"] > 0) &\n",
    "    ~(repositories[\"requirements_count\"] > 0) &\n",
    "    ((repositories[\"pipfiles_count\"] > 0) |\n",
    "     (repositories[\"pipfile_locks_count\"] > 0))\n",
    "])\n",
    "requirements_and_pipfile = fn(repositories[\n",
    "    ~(repositories[\"setups_count\"] > 0) &\n",
    "    (repositories[\"requirements_count\"] > 0) &\n",
    "    ((repositories[\"pipfiles_count\"] > 0) |\n",
    "     (repositories[\"pipfile_locks_count\"] > 0))\n",
    "])\n",
    "setup = fn(repositories[\n",
    "    (repositories[\"setups_count\"] > 0) &\n",
    "    ~(repositories[\"requirements_count\"] > 0) &\n",
    "    ~((repositories[\"pipfiles_count\"] > 0) |\n",
    "     (repositories[\"pipfile_locks_count\"] > 0))\n",
    "])\n",
    "requirements = fn(repositories[\n",
    "    ~(repositories[\"setups_count\"] > 0) &\n",
    "    (repositories[\"requirements_count\"] > 0) &\n",
    "    ~((repositories[\"pipfiles_count\"] > 0) |\n",
    "     (repositories[\"pipfile_locks_count\"] > 0))\n",
    "])\n",
    "pipfiles = fn(repositories[\n",
    "    ~(repositories[\"setups_count\"] > 0) &\n",
    "    ~(repositories[\"requirements_count\"] > 0) &\n",
    "    ((repositories[\"pipfiles_count\"] > 0) |\n",
    "     (repositories[\"pipfile_locks_count\"] > 0))\n",
    "])\n",
    "others = fn(repositories[\n",
    "    ~(repositories[\"setups_count\"] > 0) &\n",
    "    ~(repositories[\"requirements_count\"] > 0) &\n",
    "    ~((repositories[\"pipfiles_count\"] > 0) |\n",
    "     (repositories[\"pipfile_locks_count\"] > 0))\n",
    "])"
   ]
  },
  {
   "cell_type": "code",
   "execution_count": 17,
   "metadata": {},
   "outputs": [
    {
     "data": {
      "image/png": "[encoded data removed]",
      "text/plain": [
       "<Figure size 576x432 with 1 Axes>"
      ]
     },
     "metadata": {},
     "output_type": "display_data"
    }
   ],
   "source": [
    "\n",
    "with savefig(\"repository_dependencies_x3\", 8, 6):\n",
    "    fig = plt.figure()\n",
    "    ax = fig.add_subplot(111)\n",
    "    venn = venn3(subsets={\n",
    "        \"111\": setup_and_requirements_and_pipfile,\n",
    "        \"110\": setup_and_requirements,\n",
    "        \"101\": setup_and_pipfile,\n",
    "        \"100\": setup,\n",
    "        \"011\": requirements_and_pipfile,\n",
    "        \"010\": requirements,\n",
    "        \"001\": pipfiles\n",
    "    }, set_labels=('setup.py', 'requirements.txt', 'Pipfile'), ax=ax)\n",
    "    for label in venn.subset_labels:\n",
    "        label.set_text(\"{0:,g}\".format(int(label.get_text())))\n",
    "    ax.text(0, 0.6, \"{0:,g}\".format(others))\n",
    "    plt.tight_layout()\n",
    "    plt.plot();\n",
    "    "
   ]
  },
  {
   "cell_type": "code",
   "execution_count": 18,
   "metadata": {},
   "outputs": [
    {
     "data": {
      "image/png": "[encoded data removed]",
      "text/plain": [
       "<Figure size 576x432 with 1 Axes>"
      ]
     },
     "metadata": {},
     "output_type": "display_data"
    }
   ],
   "source": [
    "with savefig(\"repository_dependencies_x2\", 8, 6):\n",
    "    fig = plt.figure()\n",
    "    ax = fig.add_subplot(111)\n",
    "    venn = venn2(subsets={\n",
    "        \"11\": setup_and_requirements + setup_and_requirements_and_pipfile,\n",
    "        \"10\": setup + setup_and_pipfile,\n",
    "        \"01\": requirements + requirements_and_pipfile,\n",
    "    }, set_labels=('setup.py', 'requirements.txt'), ax=ax)\n",
    "    for label in venn.subset_labels:\n",
    "        label.set_text(\"{0:,g}\".format(int(label.get_text())))\n",
    "    ax.text(0, 0.55, \"{0:,g}\".format(others + pipfiles))\n",
    "    ax.set_axis_off()\n",
    "    #plt.subplots_adjust(top = 0.9, bottom = 0, right = 1, left = 0, \n",
    "    #        hspace = 0, wspace = 0)\n",
    "    ax.margins(0,0)\n",
    "    ax.xaxis.set_major_locator(NullLocator())\n",
    "    ax.yaxis.set_major_locator(NullLocator())\n",
    "    plt.plot();\n"
   ]
  },
  {
   "cell_type": "code",
   "execution_count": 19,
   "metadata": {},
   "outputs": [
    {
     "name": "stdout",
     "output_type": "stream",
     "text": [
      "Repositories with Pipfile: 10 (0.90%)\n",
      "Repositories with Declared Modules: 492 (44.05%)\n"
     ]
    }
   ],
   "source": [
    "pipfile_total = setup_and_requirements_and_pipfile + setup_and_pipfile + requirements_and_pipfile + pipfiles\n",
    "dependencies = (\n",
    "    setup_and_requirements_and_pipfile\n",
    "    + setup_and_requirements\n",
    "    + setup_and_pipfile\n",
    "    + setup\n",
    "    + requirements_and_pipfile\n",
    "    + requirements\n",
    "    + pipfiles\n",
    ")\n",
    "\n",
    "print(\"Repositories with Pipfile: {}\".format(\n",
    "    relative_var(\"repositories_with_pipfile\", pipfile_total, len(repositories))\n",
    "))\n",
    "print(\"Repositories with Declared Modules: {}\".format(\n",
    "    relative_var(\"repositories_with_dependencies\", dependencies, dependencies + others)\n",
    "))"
   ]
  },
  {
   "cell_type": "markdown",
   "metadata": {},
   "source": [
    "## Notebooks in repositories with requirements.py or setup.py or Pipfile"
   ]
  },
  {
   "cell_type": "code",
   "execution_count": 20,
   "metadata": {},
   "outputs": [],
   "source": [
    "fn = lambda x: x[\"notebooks_count\"].sum()\n",
    "\n",
    "setup_and_requirements_and_pipfile = fn(repositories[\n",
    "    (repositories[\"setups_count\"] > 0) &\n",
    "    (repositories[\"requirements_count\"] > 0) &\n",
    "    ((repositories[\"pipfiles_count\"] > 0) |\n",
    "     (repositories[\"pipfile_locks_count\"] > 0))\n",
    "])\n",
    "setup_and_requirements = fn(repositories[\n",
    "    (repositories[\"setups_count\"] > 0) &\n",
    "    (repositories[\"requirements_count\"] > 0) &\n",
    "    ~((repositories[\"pipfiles_count\"] > 0) |\n",
    "     (repositories[\"pipfile_locks_count\"] > 0))\n",
    "])\n",
    "setup_and_pipfile = fn(repositories[\n",
    "    (repositories[\"setups_count\"] > 0) &\n",
    "    ~(repositories[\"requirements_count\"] > 0) &\n",
    "    ((repositories[\"pipfiles_count\"] > 0) |\n",
    "     (repositories[\"pipfile_locks_count\"] > 0))\n",
    "])\n",
    "requirements_and_pipfile = fn(repositories[\n",
    "    ~(repositories[\"setups_count\"] > 0) &\n",
    "    (repositories[\"requirements_count\"] > 0) &\n",
    "    ((repositories[\"pipfiles_count\"] > 0) |\n",
    "     (repositories[\"pipfile_locks_count\"] > 0))\n",
    "])\n",
    "setup = fn(repositories[\n",
    "    (repositories[\"setups_count\"] > 0) &\n",
    "    ~(repositories[\"requirements_count\"] > 0) &\n",
    "    ~((repositories[\"pipfiles_count\"] > 0) |\n",
    "     (repositories[\"pipfile_locks_count\"] > 0))\n",
    "])\n",
    "requirements = fn(repositories[\n",
    "    ~(repositories[\"setups_count\"] > 0) &\n",
    "    (repositories[\"requirements_count\"] > 0) &\n",
    "    ~((repositories[\"pipfiles_count\"] > 0) |\n",
    "     (repositories[\"pipfile_locks_count\"] > 0))\n",
    "])\n",
    "pipfiles = fn(repositories[\n",
    "    ~(repositories[\"setups_count\"] > 0) &\n",
    "    ~(repositories[\"requirements_count\"] > 0) &\n",
    "    ((repositories[\"pipfiles_count\"] > 0) |\n",
    "     (repositories[\"pipfile_locks_count\"] > 0))\n",
    "])\n",
    "others = fn(repositories[\n",
    "    ~(repositories[\"setups_count\"] > 0) &\n",
    "    ~(repositories[\"requirements_count\"] > 0) &\n",
    "    ~((repositories[\"pipfiles_count\"] > 0) |\n",
    "     (repositories[\"pipfile_locks_count\"] > 0))\n",
    "])\n"
   ]
  },
  {
   "cell_type": "code",
   "execution_count": 21,
   "metadata": {},
   "outputs": [
    {
     "data": {
      "image/png": "[encoded data removed]",
      "text/plain": [
       "<Figure size 576x432 with 1 Axes>"
      ]
     },
     "metadata": {},
     "output_type": "display_data"
    }
   ],
   "source": [
    "with savefig(\"notebook_dependencies_x3\", 8, 6):\n",
    "    fig = plt.figure()\n",
    "    ax = fig.add_subplot(111)\n",
    "    venn = venn3(subsets={\n",
    "        \"111\": setup_and_requirements_and_pipfile,\n",
    "        \"110\": setup_and_requirements,\n",
    "        \"101\": setup_and_pipfile,\n",
    "        \"100\": setup,\n",
    "        \"011\": requirements_and_pipfile,\n",
    "        \"010\": requirements,\n",
    "        \"001\": pipfiles\n",
    "    }, set_labels=('setup.py', 'requirements.txt', 'Pipfile'), ax=ax)\n",
    "    for label in venn.subset_labels:\n",
    "        if label:\n",
    "            label.set_text(\"{0:,g}\".format(int(label.get_text())))\n",
    "    ax.text(0, 0.6, \"{0:,}\".format(others))\n",
    "    plt.plot()"
   ]
  },
  {
   "cell_type": "code",
   "execution_count": 22,
   "metadata": {},
   "outputs": [
    {
     "data": {
      "image/png": "[encoded data removed]",
      "text/plain": [
       "<Figure size 576x432 with 1 Axes>"
      ]
     },
     "metadata": {},
     "output_type": "display_data"
    }
   ],
   "source": [
    "with savefig(\"notebook_dependencies_x2\", 8, 6):\n",
    "    fig = plt.figure()\n",
    "    ax = fig.add_subplot(111)\n",
    "    venn = venn2(subsets={\n",
    "        \"11\": setup_and_requirements + setup_and_requirements_and_pipfile,\n",
    "        \"10\": setup + setup_and_pipfile,\n",
    "        \"01\": requirements + requirements_and_pipfile,\n",
    "    }, set_labels=('setup.py', 'requirements.txt'), ax=ax)\n",
    "    for label in venn.subset_labels:\n",
    "        label.set_text(\"{0:,g}\".format(int(label.get_text())))\n",
    "    #ax.text(0, 0.6, \"{0:,}\".format(others + pipfiles))\n",
    "    plt.subplots_adjust(top=0.8, right=0.8)\n",
    "    plt.plot();\n",
    "\n"
   ]
  },
  {
   "cell_type": "code",
   "execution_count": 23,
   "metadata": {},
   "outputs": [
    {
     "name": "stdout",
     "output_type": "stream",
     "text": [
      "Notebooks in repositories with Pipfile: 186 (1.93%)\n",
      "Notebooks in repositories with Declared Modules: 4,650 (48.31%)\n"
     ]
    }
   ],
   "source": [
    "pipfile_total = setup_and_requirements_and_pipfile + setup_and_pipfile + requirements_and_pipfile + pipfiles\n",
    "dependencies = (\n",
    "    setup_and_requirements_and_pipfile\n",
    "    + setup_and_requirements\n",
    "    + setup_and_pipfile\n",
    "    + setup\n",
    "    + requirements_and_pipfile\n",
    "    + requirements\n",
    "    + pipfiles\n",
    ")\n",
    "\n",
    "print(\"Notebooks in repositories with Pipfile: {}\".format(\n",
    "    relative_var(\"notebooks_with_pipfile\", pipfile_total, total_notebooks)\n",
    "))\n",
    "print(\"Notebooks in repositories with Declared Modules: {}\".format(\n",
    "    relative_var(\"notebooks_with_dependencies\", dependencies, dependencies + others),    \n",
    "))"
   ]
  },
  {
   "cell_type": "code",
   "execution_count": null,
   "metadata": {},
   "outputs": [],
   "source": []
  }
 ],
 "metadata": {
  "kernelspec": {
   "display_name": "Python 3 (ipykernel)",
   "language": "python",
   "name": "python3"
  },
  "language_info": {
   "codemirror_mode": {
    "name": "ipython",
    "version": 3
   },
   "file_extension": ".py",
   "mimetype": "text/x-python",
   "name": "python",
   "nbconvert_exporter": "python",
   "pygments_lexer": "ipython3",
   "version": "3.8.8"
  },
  "toc": {
   "base_numbering": 1,
   "nav_menu": {
    "height": "186px",
    "width": "251px"
   },
   "number_sections": true,
   "sideBar": true,
   "skip_h1_title": false,
   "title_cell": "Table of Contents",
   "title_sidebar": "Contents",
   "toc_cell": true,
   "toc_position": {
    "height": "calc(100% - 180px)",
    "left": "10px",
    "top": "150px",
    "width": "288px"
   },
   "toc_section_display": "block",
   "toc_window_display": true
  }
 },
 "nbformat": 4,
 "nbformat_minor": 4
}
