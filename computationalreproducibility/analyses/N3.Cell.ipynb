{
 "cells": [
  {
   "cell_type": "markdown",
   "metadata": {
    "toc": true
   },
   "source": [
    "<h1>Table of Contents<span class=\"tocSkip\"></span></h1>\n",
    "<div class=\"toc\"><ul class=\"toc-item\"><li><span><a href=\"#Cells\" data-toc-modified-id=\"Cells-1\"><span class=\"toc-item-num\">1&nbsp;&nbsp;</span>Cells</a></span><ul class=\"toc-item\"><li><span><a href=\"#Restrict-notebooks\" data-toc-modified-id=\"Restrict-notebooks-1.1\"><span class=\"toc-item-num\">1.1&nbsp;&nbsp;</span>Restrict notebooks</a></span></li><li><span><a href=\"#Number-of-cells\" data-toc-modified-id=\"Number-of-cells-1.2\"><span class=\"toc-item-num\">1.2&nbsp;&nbsp;</span>Number of cells</a></span></li><li><span><a href=\"#Cells-from-executed-notebooks\" data-toc-modified-id=\"Cells-from-executed-notebooks-1.3\"><span class=\"toc-item-num\">1.3&nbsp;&nbsp;</span>Cells from executed notebooks</a></span></li><li><span><a href=\"#Number-of-notebooks\" data-toc-modified-id=\"Number-of-notebooks-1.4\"><span class=\"toc-item-num\">1.4&nbsp;&nbsp;</span>Number of notebooks</a></span></li><li><span><a href=\"#Number-of-executed-notebooks\" data-toc-modified-id=\"Number-of-executed-notebooks-1.5\"><span class=\"toc-item-num\">1.5&nbsp;&nbsp;</span>Number of executed notebooks</a></span></li><li><span><a href=\"#Number-of-executed-python-notebooks\" data-toc-modified-id=\"Number-of-executed-python-notebooks-1.6\"><span class=\"toc-item-num\">1.6&nbsp;&nbsp;</span>Number of executed python notebooks</a></span></li><li><span><a href=\"#Cell-Types\" data-toc-modified-id=\"Cell-Types-1.7\"><span class=\"toc-item-num\">1.7&nbsp;&nbsp;</span>Cell Types</a></span></li><li><span><a href=\"#Number-of-Lines\" data-toc-modified-id=\"Number-of-Lines-1.8\"><span class=\"toc-item-num\">1.8&nbsp;&nbsp;</span>Number of Lines</a></span><ul class=\"toc-item\"><li><span><a href=\"#Number-of-lines-in-code-cells\" data-toc-modified-id=\"Number-of-lines-in-code-cells-1.8.1\"><span class=\"toc-item-num\">1.8.1&nbsp;&nbsp;</span>Number of lines in code cells</a></span><ul class=\"toc-item\"><li><span><a href=\"#Python\" data-toc-modified-id=\"Python-1.8.1.1\"><span class=\"toc-item-num\">1.8.1.1&nbsp;&nbsp;</span>Python</a></span></li><li><span><a href=\"#Julia\" data-toc-modified-id=\"Julia-1.8.1.2\"><span class=\"toc-item-num\">1.8.1.2&nbsp;&nbsp;</span>Julia</a></span></li><li><span><a href=\"#R\" data-toc-modified-id=\"R-1.8.1.3\"><span class=\"toc-item-num\">1.8.1.3&nbsp;&nbsp;</span>R</a></span></li></ul></li><li><span><a href=\"#Number-of-lines-in-markdown-cells\" data-toc-modified-id=\"Number-of-lines-in-markdown-cells-1.8.2\"><span class=\"toc-item-num\">1.8.2&nbsp;&nbsp;</span>Number of lines in markdown cells</a></span></li><li><span><a href=\"#Number-of-lines-in-raw-cells\" data-toc-modified-id=\"Number-of-lines-in-raw-cells-1.8.3\"><span class=\"toc-item-num\">1.8.3&nbsp;&nbsp;</span>Number of lines in raw cells</a></span></li><li><span><a href=\"#Number-of-lines-in-heading-cells\" data-toc-modified-id=\"Number-of-lines-in-heading-cells-1.8.4\"><span class=\"toc-item-num\">1.8.4&nbsp;&nbsp;</span>Number of lines in heading cells</a></span></li></ul></li><li><span><a href=\"#Output-Formats\" data-toc-modified-id=\"Output-Formats-1.9\"><span class=\"toc-item-num\">1.9&nbsp;&nbsp;</span>Output Formats</a></span><ul class=\"toc-item\"><li><span><a href=\"#Cells-with-outputs\" data-toc-modified-id=\"Cells-with-outputs-1.9.1\"><span class=\"toc-item-num\">1.9.1&nbsp;&nbsp;</span>Cells with outputs</a></span></li><li><span><a href=\"#Notebooks-with-outputs\" data-toc-modified-id=\"Notebooks-with-outputs-1.9.2\"><span class=\"toc-item-num\">1.9.2&nbsp;&nbsp;</span>Notebooks with outputs</a></span></li><li><span><a href=\"#Table\" data-toc-modified-id=\"Table-1.9.3\"><span class=\"toc-item-num\">1.9.3&nbsp;&nbsp;</span>Table</a></span></li></ul></li><li><span><a href=\"#Lines-in-Notebooks\" data-toc-modified-id=\"Lines-in-Notebooks-1.10\"><span class=\"toc-item-num\">1.10&nbsp;&nbsp;</span>Lines in Notebooks</a></span><ul class=\"toc-item\"><li><span><a href=\"#Python-cells\" data-toc-modified-id=\"Python-cells-1.10.1\"><span class=\"toc-item-num\">1.10.1&nbsp;&nbsp;</span>Python cells</a></span></li><li><span><a href=\"#Julia-cells\" data-toc-modified-id=\"Julia-cells-1.10.2\"><span class=\"toc-item-num\">1.10.2&nbsp;&nbsp;</span>Julia cells</a></span></li><li><span><a href=\"#R-cells\" data-toc-modified-id=\"R-cells-1.10.3\"><span class=\"toc-item-num\">1.10.3&nbsp;&nbsp;</span>R cells</a></span></li><li><span><a href=\"#Markdown-cells\" data-toc-modified-id=\"Markdown-cells-1.10.4\"><span class=\"toc-item-num\">1.10.4&nbsp;&nbsp;</span>Markdown cells</a></span></li></ul></li><li><span><a href=\"#Distribution-of-Cells\" data-toc-modified-id=\"Distribution-of-Cells-1.11\"><span class=\"toc-item-num\">1.11&nbsp;&nbsp;</span>Distribution of Cells</a></span><ul class=\"toc-item\"><li><span><a href=\"#Markdown-x-Code\" data-toc-modified-id=\"Markdown-x-Code-1.11.1\"><span class=\"toc-item-num\">1.11.1&nbsp;&nbsp;</span>Markdown x Code</a></span></li><li><span><a href=\"#Import-distribution\" data-toc-modified-id=\"Import-distribution-1.11.2\"><span class=\"toc-item-num\">1.11.2&nbsp;&nbsp;</span>Import distribution</a></span></li><li><span><a href=\"#Execution-distribution\" data-toc-modified-id=\"Execution-distribution-1.11.3\"><span class=\"toc-item-num\">1.11.3&nbsp;&nbsp;</span>Execution distribution</a></span></li></ul></li><li><span><a href=\"#Status\" data-toc-modified-id=\"Status-1.12\"><span class=\"toc-item-num\">1.12&nbsp;&nbsp;</span>Status</a></span></li></ul></li></ul></div>"
   ]
  },
  {
   "cell_type": "markdown",
   "metadata": {},
   "source": [
    "# Cells\n",
    "\n",
    "Analyze cells: number of lines by language/cell type, output formats, distribution of cell types, imports, and execution."
   ]
  },
  {
   "cell_type": "code",
   "execution_count": 1,
   "metadata": {},
   "outputs": [],
   "source": [
    "import sys\n",
    "sys.path.insert(0, '../archaeology')\n",
    "sys.path.insert(0, '../analysis')\n",
    "#sys.path.insert(0, '..')\n",
    "%matplotlib inline\n",
    "import csv\n",
    "from collections import defaultdict, Counter\n",
    "from functools import reduce\n",
    "from math import isnan\n",
    "from pprint import pprint\n",
    "\n",
    "import seaborn as sns\n",
    "import pandas as pd\n",
    "import numpy as np\n",
    "import dask.dataframe as dd\n",
    "import matplotlib\n",
    "from matplotlib import pyplot as plt\n",
    "from sqlalchemy import func\n",
    "from dask.distributed import Client\n",
    "\n",
    "#matplotlib.rc('xtick', labelsize=20) \n",
    "#matplotlib.rc('ytick', labelsize=20) \n",
    "\n",
    "from consts import C_STATUSES\n",
    "from db import connect, Cell, Query, Notebook\n",
    "import analysis_helpers, importlib\n",
    "importlib.reload(analysis_helpers)\n",
    "from analysis_helpers import display_counts, violinplot, describe_processed\n",
    "from analysis_helpers import dask_histogram, numpy_distribution\n",
    "from analysis_helpers import distribution_with_boxplot, savefig\n",
    "from analysis_helpers import relative_var, var, cell_distribution\n",
    "from analysis_helpers import calculate_auto, close_fig\n",
    "\n",
    "\n",
    "def fetchgenerator(cursor, arraysize=1000):\n",
    "    'An iterator that uses fetchmany to keep memory usage down'\n",
    "    while True:\n",
    "        results = cursor.fetchmany(arraysize)\n",
    "        if not results:\n",
    "            break\n",
    "        yield from results"
   ]
  },
  {
   "cell_type": "code",
   "execution_count": 2,
   "metadata": {},
   "outputs": [
    {
     "data": {
      "text/html": [
       "<table style=\"border: 2px solid white;\">\n",
       "<tr>\n",
       "<td style=\"vertical-align: top; border: 0px solid white\">\n",
       "<h3 style=\"text-align: left;\">Client</h3>\n",
       "<ul style=\"text-align: left; list-style: none; margin: 0; padding: 0;\">\n",
       "  <li><b>Scheduler: </b>tcp://127.0.0.1:44625</li>\n",
       "  <li><b>Dashboard: </b><a href='http://127.0.0.1:8787/status' target='_blank'>http://127.0.0.1:8787/status</a></li>\n",
       "</ul>\n",
       "</td>\n",
       "<td style=\"vertical-align: top; border: 0px solid white\">\n",
       "<h3 style=\"text-align: left;\">Cluster</h3>\n",
       "<ul style=\"text-align: left; list-style:none; margin: 0; padding: 0;\">\n",
       "  <li><b>Workers: </b>4</li>\n",
       "  <li><b>Cores: </b>8</li>\n",
       "  <li><b>Memory: </b>46.30 GiB</li>\n",
       "</ul>\n",
       "</td>\n",
       "</tr>\n",
       "</table>"
      ],
      "text/plain": [
       "<Client: 'tcp://127.0.0.1:44625' processes=4 threads=8, memory=46.30 GiB>"
      ]
     },
     "execution_count": 2,
     "metadata": {},
     "output_type": "execute_result"
    }
   ],
   "source": [
    "client = Client()\n",
    "client"
   ]
  },
  {
   "cell_type": "code",
   "execution_count": 3,
   "metadata": {},
   "outputs": [
    {
     "name": "stdout",
     "output_type": "stream",
     "text": [
      "Dask DataFrame Structure:\n",
      "              repository_id language notebook_id  index cell_type  lines output_formats processed has_import notebook_cells execution_count max_execution_count   skip\n",
      "npartitions=1                                                                                                                                                         \n",
      "                      int64   object       int64  int64    object  int64         object     int64      int64          int64          object               int64  int64\n",
      "                        ...      ...         ...    ...       ...    ...            ...       ...        ...            ...             ...                 ...    ...\n",
      "Dask Name: read-csv, 1 tasks\n",
      "Cells: 288,919\n",
      "CPU times: user 17.7 s, sys: 2.18 s, total: 19.9 s\n",
      "Wall time: 23.9 s\n"
     ]
    }
   ],
   "source": [
    "%%time\n",
    "with connect() as session:\n",
    "    #print('Last query:', session.query(Query).all()[-1])\n",
    "    # Dask does not support reading table from SQL yet.\n",
    "    # We must write a csv file before\n",
    "    \n",
    "    \n",
    "#     query = (\n",
    "#         'SELECT n.repository_id, n.language, '\n",
    "#         'c.notebook_id, c.\"index\", c.cell_type, c.lines, '\n",
    "#         'c.output_formats, c.processed, '\n",
    "#         'c.source LIKE \\'%import %\\' as has_import, '\n",
    "#         'n.total_cells as notebook_cells, '\n",
    "#         'c.execution_count, n.max_execution_count, n.skip, '\n",
    "#         \"trim(both from regexp_replace(c.source, E'[\\\\n\\\\r]+', ' ', 'g' )) = '' as empty \"\n",
    "#         'FROM cells as c, notebooks as n '\n",
    "#         'WHERE c.notebook_id = n.id '\n",
    "#         \"AND NOT (n.kernel = 'no-kernel' AND n.nbformat = '0') \"\n",
    "#     )\n",
    "    query = (\n",
    "        'SELECT n.repository_id, n.language, '\n",
    "        'c.notebook_id, c.\"index\", c.cell_type, c.lines, '\n",
    "        'c.output_formats, c.processed, '\n",
    "        'c.source LIKE \\'%import %\\' as has_import, '\n",
    "        'n.total_cells as notebook_cells, '\n",
    "        'c.execution_count, n.max_execution_count, n.skip '        \n",
    "        'FROM cells as c, notebooks as n '\n",
    "        'WHERE c.notebook_id = n.id '\n",
    "        \"AND NOT (n.kernel = 'no-kernel' AND n.nbformat = '0') \"\n",
    "    )\n",
    "    q = session.execute(query)\n",
    "    \n",
    "    with open('cells.csv', 'w') as outfile:\n",
    "        outcsv = csv.writer(outfile)\n",
    "        outcsv.writerow(x[0] for x in q.cursor.description)\n",
    "        outcsv.writerows(fetchgenerator(q.cursor))\n",
    "    \"\"\"\n",
    "    \"\"\"\n",
    "    \n",
    "    raw_cells = dd.read_csv(\"cells.csv\", dtype={'execution_count': 'str'})\n",
    "    print(raw_cells)\n",
    "    raw_total_cells = len(raw_cells)\n",
    "    print('Cells: {:,}'.format(raw_total_cells))"
   ]
  },
  {
   "cell_type": "markdown",
   "metadata": {},
   "source": [
    "## Restrict notebooks"
   ]
  },
  {
   "cell_type": "code",
   "execution_count": 4,
   "metadata": {},
   "outputs": [],
   "source": [
    "SKIP_MAP = {\n",
    "    'f_': 1024 + 512,\n",
    "    'd_': 1024 + 512 + 128,\n",
    "    'dt_': 1024 + 512 + 128 + 32,\n",
    "    'dr_': 1024 + 512 + 128 + 64,\n",
    "}\n",
    "\n",
    "CONFIG = {\n",
    "    'Default': \"f_\",\n",
    "    'Remove duplicates': \"d_\",\n",
    "    'Remove duplicates and toy': \"dt_\",\n",
    "    'Remove duplicates and restricted toy': \"dr_\",\n",
    "}\n"
   ]
  },
  {
   "cell_type": "code",
   "execution_count": 5,
   "metadata": {},
   "outputs": [],
   "source": [
    "@calculate_auto(CONFIG, save_to=\"cells\", level=None)\n",
    "def func(prefix=\"\"):\n",
    "    return raw_cells[np.bitwise_and(raw_cells['skip'], SKIP_MAP[prefix]) == 0].copy()"
   ]
  },
  {
   "cell_type": "markdown",
   "metadata": {},
   "source": [
    "## Number of cells"
   ]
  },
  {
   "cell_type": "code",
   "execution_count": 6,
   "metadata": {},
   "outputs": [
    {
     "data": {
      "text/markdown": [
       "### Default"
      ],
      "text/plain": [
       "<IPython.core.display.Markdown object>"
      ]
     },
     "metadata": {},
     "output_type": "display_data"
    },
    {
     "name": "stdout",
     "output_type": "stream",
     "text": [
      "288,919\n"
     ]
    },
    {
     "data": {
      "text/markdown": [
       "### Remove duplicates"
      ],
      "text/plain": [
       "<IPython.core.display.Markdown object>"
      ]
     },
     "metadata": {},
     "output_type": "display_data"
    },
    {
     "name": "stdout",
     "output_type": "stream",
     "text": [
      "288,919\n"
     ]
    },
    {
     "data": {
      "text/markdown": [
       "### Remove duplicates and toy"
      ],
      "text/plain": [
       "<IPython.core.display.Markdown object>"
      ]
     },
     "metadata": {},
     "output_type": "display_data"
    },
    {
     "name": "stdout",
     "output_type": "stream",
     "text": [
      "288,919\n"
     ]
    },
    {
     "data": {
      "text/markdown": [
       "### Remove duplicates and restricted toy"
      ],
      "text/plain": [
       "<IPython.core.display.Markdown object>"
      ]
     },
     "metadata": {},
     "output_type": "display_data"
    },
    {
     "name": "stdout",
     "output_type": "stream",
     "text": [
      "288,919\n"
     ]
    }
   ],
   "source": [
    "@calculate_auto(CONFIG, save_to=\"total_cells\")\n",
    "def total(cells, prefix=\"\"):\n",
    "    result = var(prefix + \"cells\", len(cells), \"{:,}\")\n",
    "    print(result)\n",
    "    return len(cells)"
   ]
  },
  {
   "cell_type": "markdown",
   "metadata": {},
   "source": [
    "## Cells from executed notebooks"
   ]
  },
  {
   "cell_type": "code",
   "execution_count": 7,
   "metadata": {},
   "outputs": [
    {
     "data": {
      "text/markdown": [
       "### Default"
      ],
      "text/plain": [
       "<IPython.core.display.Markdown object>"
      ]
     },
     "metadata": {},
     "output_type": "display_data"
    },
    {
     "name": "stdout",
     "output_type": "stream",
     "text": [
      "242,375 (83.89%)\n"
     ]
    },
    {
     "data": {
      "text/markdown": [
       "### Remove duplicates"
      ],
      "text/plain": [
       "<IPython.core.display.Markdown object>"
      ]
     },
     "metadata": {},
     "output_type": "display_data"
    },
    {
     "name": "stdout",
     "output_type": "stream",
     "text": [
      "242,375 (83.89%)\n"
     ]
    },
    {
     "data": {
      "text/markdown": [
       "### Remove duplicates and toy"
      ],
      "text/plain": [
       "<IPython.core.display.Markdown object>"
      ]
     },
     "metadata": {},
     "output_type": "display_data"
    },
    {
     "name": "stdout",
     "output_type": "stream",
     "text": [
      "242,375 (83.89%)\n"
     ]
    },
    {
     "data": {
      "text/markdown": [
       "### Remove duplicates and restricted toy"
      ],
      "text/plain": [
       "<IPython.core.display.Markdown object>"
      ]
     },
     "metadata": {},
     "output_type": "display_data"
    },
    {
     "name": "stdout",
     "output_type": "stream",
     "text": [
      "242,375 (83.89%)\n"
     ]
    }
   ],
   "source": [
    "@calculate_auto(CONFIG, save_to=\"total_cells_from_executed_notebooks\", result=None)\n",
    "def func(cells, total_cells, prefix=\"\"):\n",
    "    total_cells_from_executed_notebooks = len(\n",
    "        cells[cells[\"max_execution_count\"] > -0]\n",
    "    )\n",
    "    print(relative_var(\n",
    "        prefix + \"cells_from_executed_notebooks\", total_cells_from_executed_notebooks, total_cells\n",
    "    ))\n",
    "    return total_cells_from_executed_notebooks\n",
    "          "
   ]
  },
  {
   "cell_type": "markdown",
   "metadata": {},
   "source": [
    "## Number of notebooks"
   ]
  },
  {
   "cell_type": "code",
   "execution_count": 8,
   "metadata": {},
   "outputs": [
    {
     "data": {
      "text/markdown": [
       "### Default"
      ],
      "text/plain": [
       "<IPython.core.display.Markdown object>"
      ]
     },
     "metadata": {},
     "output_type": "display_data"
    },
    {
     "name": "stdout",
     "output_type": "stream",
     "text": [
      "9595\n"
     ]
    },
    {
     "data": {
      "text/markdown": [
       "### Remove duplicates"
      ],
      "text/plain": [
       "<IPython.core.display.Markdown object>"
      ]
     },
     "metadata": {},
     "output_type": "display_data"
    },
    {
     "name": "stdout",
     "output_type": "stream",
     "text": [
      "9595\n"
     ]
    },
    {
     "data": {
      "text/markdown": [
       "### Remove duplicates and toy"
      ],
      "text/plain": [
       "<IPython.core.display.Markdown object>"
      ]
     },
     "metadata": {},
     "output_type": "display_data"
    },
    {
     "name": "stdout",
     "output_type": "stream",
     "text": [
      "9595\n"
     ]
    },
    {
     "data": {
      "text/markdown": [
       "### Remove duplicates and restricted toy"
      ],
      "text/plain": [
       "<IPython.core.display.Markdown object>"
      ]
     },
     "metadata": {},
     "output_type": "display_data"
    },
    {
     "name": "stdout",
     "output_type": "stream",
     "text": [
      "9595\n"
     ]
    }
   ],
   "source": [
    "@calculate_auto(CONFIG, save_to=\"total_notebooks\", result=None)\n",
    "def func(prefix=\"\"):\n",
    "    with connect() as session:\n",
    "        query = (\n",
    "            \"SELECT count(id) \"\n",
    "            \"FROM notebooks \"\n",
    "            \"WHERE NOT (kernel = 'no-kernel' AND nbformat = '0') \"\n",
    "            \"AND total_cells != 0 \"\n",
    "            \"AND skip & {} = 0 \"\n",
    "        ).format(SKIP_MAP[prefix])\n",
    "        result = session.execute(query)\n",
    "        total_notebooks = result.scalar()\n",
    "        print(total_notebooks)\n",
    "        return total_notebooks"
   ]
  },
  {
   "cell_type": "markdown",
   "metadata": {},
   "source": [
    "## Number of executed notebooks"
   ]
  },
  {
   "cell_type": "code",
   "execution_count": 9,
   "metadata": {},
   "outputs": [
    {
     "data": {
      "text/markdown": [
       "### Default"
      ],
      "text/plain": [
       "<IPython.core.display.Markdown object>"
      ]
     },
     "metadata": {},
     "output_type": "display_data"
    },
    {
     "name": "stdout",
     "output_type": "stream",
     "text": [
      "Executed Notebooks: 7,714 (80.40%)\n"
     ]
    },
    {
     "data": {
      "text/markdown": [
       "### Remove duplicates"
      ],
      "text/plain": [
       "<IPython.core.display.Markdown object>"
      ]
     },
     "metadata": {},
     "output_type": "display_data"
    },
    {
     "name": "stdout",
     "output_type": "stream",
     "text": [
      "Executed Notebooks: 7,714 (80.40%)\n"
     ]
    },
    {
     "data": {
      "text/markdown": [
       "### Remove duplicates and toy"
      ],
      "text/plain": [
       "<IPython.core.display.Markdown object>"
      ]
     },
     "metadata": {},
     "output_type": "display_data"
    },
    {
     "name": "stdout",
     "output_type": "stream",
     "text": [
      "Executed Notebooks: 7,714 (80.40%)\n"
     ]
    },
    {
     "data": {
      "text/markdown": [
       "### Remove duplicates and restricted toy"
      ],
      "text/plain": [
       "<IPython.core.display.Markdown object>"
      ]
     },
     "metadata": {},
     "output_type": "display_data"
    },
    {
     "name": "stdout",
     "output_type": "stream",
     "text": [
      "Executed Notebooks: 7,714 (80.40%)\n"
     ]
    }
   ],
   "source": [
    "@calculate_auto(CONFIG, save_to=\"total_executed_notebooks\", result=None)\n",
    "def func(total_notebooks, prefix=\"\"):\n",
    "    with connect() as session:\n",
    "        query = (\n",
    "            \"SELECT count(id) \"\n",
    "            \"FROM notebooks \"\n",
    "            \"WHERE NOT (kernel = 'no-kernel' AND nbformat = '0') \"\n",
    "            \"AND max_execution_count > -0 \"\n",
    "            \"AND total_cells != 0 \"\n",
    "            \"AND skip & {} = 0 \"\n",
    "        ).format(SKIP_MAP[prefix])\n",
    "        result = session.execute(query)\n",
    "        total_executed_notebooks = result.scalar()\n",
    "        print('Executed Notebooks: {}'.format(\n",
    "            relative_var(prefix + \"executed_notebooks\", total_executed_notebooks, total_notebooks)\n",
    "        ))\n",
    "        return total_executed_notebooks"
   ]
  },
  {
   "cell_type": "markdown",
   "metadata": {},
   "source": [
    "## Number of executed python notebooks"
   ]
  },
  {
   "cell_type": "code",
   "execution_count": 10,
   "metadata": {},
   "outputs": [
    {
     "data": {
      "text/markdown": [
       "### Default"
      ],
      "text/plain": [
       "<IPython.core.display.Markdown object>"
      ]
     },
     "metadata": {},
     "output_type": "display_data"
    },
    {
     "name": "stdout",
     "output_type": "stream",
     "text": [
      "Executed Python Notebooks: 6,711 (69.94%)\n"
     ]
    },
    {
     "data": {
      "text/markdown": [
       "### Remove duplicates"
      ],
      "text/plain": [
       "<IPython.core.display.Markdown object>"
      ]
     },
     "metadata": {},
     "output_type": "display_data"
    },
    {
     "name": "stdout",
     "output_type": "stream",
     "text": [
      "Executed Python Notebooks: 6,711 (69.94%)\n"
     ]
    },
    {
     "data": {
      "text/markdown": [
       "### Remove duplicates and toy"
      ],
      "text/plain": [
       "<IPython.core.display.Markdown object>"
      ]
     },
     "metadata": {},
     "output_type": "display_data"
    },
    {
     "name": "stdout",
     "output_type": "stream",
     "text": [
      "Executed Python Notebooks: 6,711 (69.94%)\n"
     ]
    },
    {
     "data": {
      "text/markdown": [
       "### Remove duplicates and restricted toy"
      ],
      "text/plain": [
       "<IPython.core.display.Markdown object>"
      ]
     },
     "metadata": {},
     "output_type": "display_data"
    },
    {
     "name": "stdout",
     "output_type": "stream",
     "text": [
      "Executed Python Notebooks: 6,711 (69.94%)\n"
     ]
    }
   ],
   "source": [
    "@calculate_auto(CONFIG, save_to=\"total_executed_python_notebooks\", result=None)\n",
    "def func(total_notebooks, prefix=\"\"):\n",
    "    with connect() as session:\n",
    "        query = (\n",
    "            \"SELECT count(id) \"\n",
    "            \"FROM notebooks \"\n",
    "            \"WHERE NOT (kernel = 'no-kernel' AND nbformat = '0') \"\n",
    "            \"AND max_execution_count > -0 \"\n",
    "            \"AND language = 'python' \"\n",
    "            \"AND total_cells != 0 \"\n",
    "            \"AND skip & {} = 0 \"\n",
    "        ).format(SKIP_MAP[prefix])\n",
    "        result = session.execute(query)\n",
    "        total_executed_python_notebooks = result.scalar()\n",
    "        print('Executed Python Notebooks: {}'.format(\n",
    "            relative_var(prefix + \"executed_python_notebooks\", total_executed_python_notebooks, total_notebooks)\n",
    "        ))\n",
    "        return total_executed_python_notebooks"
   ]
  },
  {
   "cell_type": "code",
   "execution_count": 11,
   "metadata": {},
   "outputs": [
    {
     "data": {
      "text/html": [
       "<div>\n",
       "<style scoped>\n",
       "    .dataframe tbody tr th:only-of-type {\n",
       "        vertical-align: middle;\n",
       "    }\n",
       "\n",
       "    .dataframe tbody tr th {\n",
       "        vertical-align: top;\n",
       "    }\n",
       "\n",
       "    .dataframe thead th {\n",
       "        text-align: right;\n",
       "    }\n",
       "</style>\n",
       "<table border=\"1\" class=\"dataframe\">\n",
       "  <thead>\n",
       "    <tr style=\"text-align: right;\">\n",
       "      <th></th>\n",
       "      <th>repository_id</th>\n",
       "      <th>language</th>\n",
       "      <th>notebook_id</th>\n",
       "      <th>index</th>\n",
       "      <th>cell_type</th>\n",
       "      <th>lines</th>\n",
       "      <th>output_formats</th>\n",
       "      <th>processed</th>\n",
       "      <th>has_import</th>\n",
       "      <th>notebook_cells</th>\n",
       "      <th>execution_count</th>\n",
       "      <th>max_execution_count</th>\n",
       "      <th>skip</th>\n",
       "    </tr>\n",
       "  </thead>\n",
       "  <tbody>\n",
       "    <tr>\n",
       "      <th>0</th>\n",
       "      <td>1</td>\n",
       "      <td>unknown</td>\n",
       "      <td>1</td>\n",
       "      <td>0</td>\n",
       "      <td>markdown</td>\n",
       "      <td>1</td>\n",
       "      <td>NaN</td>\n",
       "      <td>5</td>\n",
       "      <td>0</td>\n",
       "      <td>71</td>\n",
       "      <td>NaN</td>\n",
       "      <td>-1</td>\n",
       "      <td>0</td>\n",
       "    </tr>\n",
       "    <tr>\n",
       "      <th>1</th>\n",
       "      <td>1</td>\n",
       "      <td>unknown</td>\n",
       "      <td>1</td>\n",
       "      <td>1</td>\n",
       "      <td>code</td>\n",
       "      <td>2</td>\n",
       "      <td>NaN</td>\n",
       "      <td>1</td>\n",
       "      <td>0</td>\n",
       "      <td>71</td>\n",
       "      <td>NaN</td>\n",
       "      <td>-1</td>\n",
       "      <td>0</td>\n",
       "    </tr>\n",
       "    <tr>\n",
       "      <th>2</th>\n",
       "      <td>1</td>\n",
       "      <td>unknown</td>\n",
       "      <td>1</td>\n",
       "      <td>2</td>\n",
       "      <td>code</td>\n",
       "      <td>6</td>\n",
       "      <td>NaN</td>\n",
       "      <td>1</td>\n",
       "      <td>1</td>\n",
       "      <td>71</td>\n",
       "      <td>NaN</td>\n",
       "      <td>-1</td>\n",
       "      <td>0</td>\n",
       "    </tr>\n",
       "  </tbody>\n",
       "</table>\n",
       "</div>"
      ],
      "text/plain": [
       "   repository_id language  notebook_id  index cell_type  lines output_formats  \\\n",
       "0              1  unknown            1      0  markdown      1            NaN   \n",
       "1              1  unknown            1      1      code      2            NaN   \n",
       "2              1  unknown            1      2      code      6            NaN   \n",
       "\n",
       "   processed  has_import  notebook_cells execution_count  max_execution_count  \\\n",
       "0          5           0              71             NaN                   -1   \n",
       "1          1           0              71             NaN                   -1   \n",
       "2          1           1              71             NaN                   -1   \n",
       "\n",
       "   skip  \n",
       "0     0  \n",
       "1     0  \n",
       "2     0  "
      ]
     },
     "execution_count": 11,
     "metadata": {},
     "output_type": "execute_result"
    }
   ],
   "source": [
    "f_cells.head(3)"
   ]
  },
  {
   "cell_type": "markdown",
   "metadata": {},
   "source": [
    "## Cell Types\n",
    "\n",
    "* code - cell with code\n",
    "* markdown - cell with markdown\n",
    "* raw - cell with raw output\n",
    "* heading - cell with headings\n",
    "* plaintext - cell with plaintext"
   ]
  },
  {
   "cell_type": "code",
   "execution_count": 12,
   "metadata": {},
   "outputs": [
    {
     "data": {
      "text/markdown": [
       "### Default"
      ],
      "text/plain": [
       "<IPython.core.display.Markdown object>"
      ]
     },
     "metadata": {},
     "output_type": "display_data"
    },
    {
     "data": {
      "image/png": "[encoded data removed]",
      "text/plain": [
       "<Figure size 1440x135 with 1 Axes>"
      ]
     },
     "metadata": {
      "needs_background": "light"
     },
     "output_type": "display_data"
    },
    {
     "data": {
      "text/html": [
       "<div>\n",
       "<style scoped>\n",
       "    .dataframe tbody tr th:only-of-type {\n",
       "        vertical-align: middle;\n",
       "    }\n",
       "\n",
       "    .dataframe tbody tr th {\n",
       "        vertical-align: top;\n",
       "    }\n",
       "\n",
       "    .dataframe thead th {\n",
       "        text-align: right;\n",
       "    }\n",
       "</style>\n",
       "<table border=\"1\" class=\"dataframe\">\n",
       "  <thead>\n",
       "    <tr style=\"text-align: right;\">\n",
       "      <th></th>\n",
       "      <th>cell_type</th>\n",
       "    </tr>\n",
       "  </thead>\n",
       "  <tbody>\n",
       "    <tr>\n",
       "      <th>code</th>\n",
       "      <td>194982</td>\n",
       "    </tr>\n",
       "    <tr>\n",
       "      <th>markdown</th>\n",
       "      <td>92281</td>\n",
       "    </tr>\n",
       "    <tr>\n",
       "      <th>raw</th>\n",
       "      <td>1655</td>\n",
       "    </tr>\n",
       "    <tr>\n",
       "      <th>heading</th>\n",
       "      <td>1</td>\n",
       "    </tr>\n",
       "  </tbody>\n",
       "</table>\n",
       "</div>"
      ],
      "text/plain": [
       "          cell_type\n",
       "code         194982\n",
       "markdown      92281\n",
       "raw            1655\n",
       "heading           1"
      ]
     },
     "metadata": {},
     "output_type": "display_data"
    },
    {
     "data": {
      "text/markdown": [
       "### Remove duplicates"
      ],
      "text/plain": [
       "<IPython.core.display.Markdown object>"
      ]
     },
     "metadata": {},
     "output_type": "display_data"
    },
    {
     "data": {
      "image/png": "[encoded data removed]",
      "text/plain": [
       "<Figure size 1440x135 with 1 Axes>"
      ]
     },
     "metadata": {
      "needs_background": "light"
     },
     "output_type": "display_data"
    },
    {
     "data": {
      "text/html": [
       "<div>\n",
       "<style scoped>\n",
       "    .dataframe tbody tr th:only-of-type {\n",
       "        vertical-align: middle;\n",
       "    }\n",
       "\n",
       "    .dataframe tbody tr th {\n",
       "        vertical-align: top;\n",
       "    }\n",
       "\n",
       "    .dataframe thead th {\n",
       "        text-align: right;\n",
       "    }\n",
       "</style>\n",
       "<table border=\"1\" class=\"dataframe\">\n",
       "  <thead>\n",
       "    <tr style=\"text-align: right;\">\n",
       "      <th></th>\n",
       "      <th>cell_type</th>\n",
       "    </tr>\n",
       "  </thead>\n",
       "  <tbody>\n",
       "    <tr>\n",
       "      <th>code</th>\n",
       "      <td>194982</td>\n",
       "    </tr>\n",
       "    <tr>\n",
       "      <th>markdown</th>\n",
       "      <td>92281</td>\n",
       "    </tr>\n",
       "    <tr>\n",
       "      <th>raw</th>\n",
       "      <td>1655</td>\n",
       "    </tr>\n",
       "    <tr>\n",
       "      <th>heading</th>\n",
       "      <td>1</td>\n",
       "    </tr>\n",
       "  </tbody>\n",
       "</table>\n",
       "</div>"
      ],
      "text/plain": [
       "          cell_type\n",
       "code         194982\n",
       "markdown      92281\n",
       "raw            1655\n",
       "heading           1"
      ]
     },
     "metadata": {},
     "output_type": "display_data"
    },
    {
     "data": {
      "text/markdown": [
       "### Remove duplicates and toy"
      ],
      "text/plain": [
       "<IPython.core.display.Markdown object>"
      ]
     },
     "metadata": {},
     "output_type": "display_data"
    },
    {
     "data": {
      "image/png": "[encoded data removed]",
      "text/plain": [
       "<Figure size 1440x135 with 1 Axes>"
      ]
     },
     "metadata": {
      "needs_background": "light"
     },
     "output_type": "display_data"
    },
    {
     "data": {
      "text/html": [
       "<div>\n",
       "<style scoped>\n",
       "    .dataframe tbody tr th:only-of-type {\n",
       "        vertical-align: middle;\n",
       "    }\n",
       "\n",
       "    .dataframe tbody tr th {\n",
       "        vertical-align: top;\n",
       "    }\n",
       "\n",
       "    .dataframe thead th {\n",
       "        text-align: right;\n",
       "    }\n",
       "</style>\n",
       "<table border=\"1\" class=\"dataframe\">\n",
       "  <thead>\n",
       "    <tr style=\"text-align: right;\">\n",
       "      <th></th>\n",
       "      <th>cell_type</th>\n",
       "    </tr>\n",
       "  </thead>\n",
       "  <tbody>\n",
       "    <tr>\n",
       "      <th>code</th>\n",
       "      <td>194982</td>\n",
       "    </tr>\n",
       "    <tr>\n",
       "      <th>markdown</th>\n",
       "      <td>92281</td>\n",
       "    </tr>\n",
       "    <tr>\n",
       "      <th>raw</th>\n",
       "      <td>1655</td>\n",
       "    </tr>\n",
       "    <tr>\n",
       "      <th>heading</th>\n",
       "      <td>1</td>\n",
       "    </tr>\n",
       "  </tbody>\n",
       "</table>\n",
       "</div>"
      ],
      "text/plain": [
       "          cell_type\n",
       "code         194982\n",
       "markdown      92281\n",
       "raw            1655\n",
       "heading           1"
      ]
     },
     "metadata": {},
     "output_type": "display_data"
    },
    {
     "data": {
      "text/markdown": [
       "### Remove duplicates and restricted toy"
      ],
      "text/plain": [
       "<IPython.core.display.Markdown object>"
      ]
     },
     "metadata": {},
     "output_type": "display_data"
    },
    {
     "data": {
      "image/png": "[encoded data removed]",
      "text/plain": [
       "<Figure size 1440x135 with 1 Axes>"
      ]
     },
     "metadata": {
      "needs_background": "light"
     },
     "output_type": "display_data"
    },
    {
     "data": {
      "text/html": [
       "<div>\n",
       "<style scoped>\n",
       "    .dataframe tbody tr th:only-of-type {\n",
       "        vertical-align: middle;\n",
       "    }\n",
       "\n",
       "    .dataframe tbody tr th {\n",
       "        vertical-align: top;\n",
       "    }\n",
       "\n",
       "    .dataframe thead th {\n",
       "        text-align: right;\n",
       "    }\n",
       "</style>\n",
       "<table border=\"1\" class=\"dataframe\">\n",
       "  <thead>\n",
       "    <tr style=\"text-align: right;\">\n",
       "      <th></th>\n",
       "      <th>cell_type</th>\n",
       "    </tr>\n",
       "  </thead>\n",
       "  <tbody>\n",
       "    <tr>\n",
       "      <th>code</th>\n",
       "      <td>194982</td>\n",
       "    </tr>\n",
       "    <tr>\n",
       "      <th>markdown</th>\n",
       "      <td>92281</td>\n",
       "    </tr>\n",
       "    <tr>\n",
       "      <th>raw</th>\n",
       "      <td>1655</td>\n",
       "    </tr>\n",
       "    <tr>\n",
       "      <th>heading</th>\n",
       "      <td>1</td>\n",
       "    </tr>\n",
       "  </tbody>\n",
       "</table>\n",
       "</div>"
      ],
      "text/plain": [
       "          cell_type\n",
       "code         194982\n",
       "markdown      92281\n",
       "raw            1655\n",
       "heading           1"
      ]
     },
     "metadata": {},
     "output_type": "display_data"
    }
   ],
   "source": [
    "@calculate_auto(CONFIG)\n",
    "def fn(cells, prefix=\"\"):\n",
    "    display_counts(cells[\"cell_type\"].value_counts())"
   ]
  },
  {
   "cell_type": "code",
   "execution_count": 13,
   "metadata": {},
   "outputs": [],
   "source": [
    "calculate_auto(CONFIG, save_to=\"code_cells\", result=None, level=None)(\n",
    "    lambda cells, prefix=\"\": cells[cells[\"cell_type\"] == \"code\"]\n",
    ")\n",
    "calculate_auto(CONFIG, save_to=\"markdown_cells\", result=None, level=None)(\n",
    "    lambda cells, prefix=\"\": cells[cells[\"cell_type\"] == \"markdown\"]\n",
    ")\n",
    "calculate_auto(CONFIG, save_to=\"raw_cells\", result=None, level=None)(\n",
    "    lambda cells, prefix=\"\": cells[cells[\"cell_type\"] == \"raw\"]\n",
    ")\n",
    "calculate_auto(CONFIG, save_to=\"heading_cells\", result=None, level=None)(\n",
    "    lambda cells, prefix=\"\": cells[cells[\"cell_type\"] == \"heading\"]\n",
    ")\n",
    "calculate_auto(CONFIG, save_to=\"has_import_cells\", result=None, level=None)(\n",
    "    lambda cells, prefix=\"\": cells[cells[\"has_import\"] == 1]\n",
    ")"
   ]
  },
  {
   "cell_type": "markdown",
   "metadata": {},
   "source": [
    "## Number of Lines"
   ]
  },
  {
   "cell_type": "code",
   "execution_count": 14,
   "metadata": {},
   "outputs": [
    {
     "data": {
      "text/markdown": [
       "### Default"
      ],
      "text/plain": [
       "<IPython.core.display.Markdown object>"
      ]
     },
     "metadata": {},
     "output_type": "display_data"
    },
    {
     "name": "stdout",
     "output_type": "stream",
     "text": [
      "Distribution(min=1, q1=1.0, median=2.0, q3=7.0, max=6588)\n"
     ]
    },
    {
     "data": {
      "image/png": "[encoded data removed]",
      "text/plain": [
       "<Figure size 576x288 with 2 Axes>"
      ]
     },
     "metadata": {},
     "output_type": "display_data"
    },
    {
     "data": {
      "text/markdown": [
       "### Remove duplicates"
      ],
      "text/plain": [
       "<IPython.core.display.Markdown object>"
      ]
     },
     "metadata": {},
     "output_type": "display_data"
    },
    {
     "name": "stdout",
     "output_type": "stream",
     "text": [
      "Distribution(min=1, q1=1.0, median=2.0, q3=7.0, max=6588)\n"
     ]
    },
    {
     "data": {
      "image/png": "[encoded data removed]",
      "text/plain": [
       "<Figure size 576x288 with 2 Axes>"
      ]
     },
     "metadata": {},
     "output_type": "display_data"
    },
    {
     "data": {
      "text/markdown": [
       "### Remove duplicates and toy"
      ],
      "text/plain": [
       "<IPython.core.display.Markdown object>"
      ]
     },
     "metadata": {},
     "output_type": "display_data"
    },
    {
     "name": "stdout",
     "output_type": "stream",
     "text": [
      "Distribution(min=1, q1=1.0, median=2.0, q3=7.0, max=6588)\n"
     ]
    },
    {
     "data": {
      "image/png": "[encoded data removed]",
      "text/plain": [
       "<Figure size 576x288 with 2 Axes>"
      ]
     },
     "metadata": {},
     "output_type": "display_data"
    },
    {
     "data": {
      "text/markdown": [
       "### Remove duplicates and restricted toy"
      ],
      "text/plain": [
       "<IPython.core.display.Markdown object>"
      ]
     },
     "metadata": {},
     "output_type": "display_data"
    },
    {
     "name": "stdout",
     "output_type": "stream",
     "text": [
      "Distribution(min=1, q1=1.0, median=2.0, q3=7.0, max=6588)\n"
     ]
    },
    {
     "data": {
      "image/png": "[encoded data removed]",
      "text/plain": [
       "<Figure size 576x288 with 2 Axes>"
      ]
     },
     "metadata": {},
     "output_type": "display_data"
    }
   ],
   "source": [
    "@calculate_auto(CONFIG)\n",
    "@close_fig\n",
    "def fn(cells, prefix):\n",
    "    column = cells[\"lines\"]\n",
    "    distribution = distribution_with_boxplot(column, 0, 80, 5, \"Cells\", \"Lines\",  True)\n",
    "    print(distribution)\n",
    "    plt.gcf().set_size_inches(8, 4)"
   ]
  },
  {
   "cell_type": "markdown",
   "metadata": {},
   "source": [
    "### Number of lines in code cells"
   ]
  },
  {
   "cell_type": "code",
   "execution_count": 15,
   "metadata": {},
   "outputs": [
    {
     "data": {
      "text/markdown": [
       "### Default"
      ],
      "text/plain": [
       "<IPython.core.display.Markdown object>"
      ]
     },
     "metadata": {},
     "output_type": "display_data"
    },
    {
     "name": "stdout",
     "output_type": "stream",
     "text": [
      "Distribution(min=1, q1=1.0, median=3.0, q3=10.0, max=6588)\n"
     ]
    },
    {
     "data": {
      "image/png": "[encoded data removed]",
      "text/plain": [
       "<Figure size 576x288 with 2 Axes>"
      ]
     },
     "metadata": {},
     "output_type": "display_data"
    },
    {
     "data": {
      "text/markdown": [
       "### Remove duplicates"
      ],
      "text/plain": [
       "<IPython.core.display.Markdown object>"
      ]
     },
     "metadata": {},
     "output_type": "display_data"
    },
    {
     "name": "stdout",
     "output_type": "stream",
     "text": [
      "Distribution(min=1, q1=1.0, median=3.0, q3=10.0, max=6588)\n"
     ]
    },
    {
     "data": {
      "image/png": "[encoded data removed]",
      "text/plain": [
       "<Figure size 576x288 with 2 Axes>"
      ]
     },
     "metadata": {},
     "output_type": "display_data"
    },
    {
     "data": {
      "text/markdown": [
       "### Remove duplicates and toy"
      ],
      "text/plain": [
       "<IPython.core.display.Markdown object>"
      ]
     },
     "metadata": {},
     "output_type": "display_data"
    },
    {
     "name": "stdout",
     "output_type": "stream",
     "text": [
      "Distribution(min=1, q1=1.0, median=3.0, q3=10.0, max=6588)\n"
     ]
    },
    {
     "data": {
      "image/png": "[encoded data removed]",
      "text/plain": [
       "<Figure size 576x288 with 2 Axes>"
      ]
     },
     "metadata": {},
     "output_type": "display_data"
    },
    {
     "data": {
      "text/markdown": [
       "### Remove duplicates and restricted toy"
      ],
      "text/plain": [
       "<IPython.core.display.Markdown object>"
      ]
     },
     "metadata": {},
     "output_type": "display_data"
    },
    {
     "name": "stdout",
     "output_type": "stream",
     "text": [
      "Distribution(min=1, q1=1.0, median=3.0, q3=10.0, max=6588)\n"
     ]
    },
    {
     "data": {
      "image/png": "[encoded data removed]",
      "text/plain": [
       "<Figure size 576x288 with 2 Axes>"
      ]
     },
     "metadata": {},
     "output_type": "display_data"
    }
   ],
   "source": [
    "@calculate_auto(CONFIG)\n",
    "@close_fig\n",
    "def fn(code_cells, prefix):\n",
    "    column = code_cells[\"lines\"]\n",
    "    distribution = distribution_with_boxplot(column, 0, 80, 5, \"Code Cells\", \"Lines\",  True)\n",
    "    print(distribution)\n",
    "    plt.gcf().set_size_inches(8, 4)"
   ]
  },
  {
   "cell_type": "markdown",
   "metadata": {},
   "source": [
    "#### Python"
   ]
  },
  {
   "cell_type": "code",
   "execution_count": 16,
   "metadata": {},
   "outputs": [
    {
     "data": {
      "text/markdown": [
       "### Default"
      ],
      "text/plain": [
       "<IPython.core.display.Markdown object>"
      ]
     },
     "metadata": {},
     "output_type": "display_data"
    },
    {
     "name": "stdout",
     "output_type": "stream",
     "text": [
      "Distribution(min=1, q1=1.0, median=3.0, q3=10.0, max=6588)\n"
     ]
    },
    {
     "data": {
      "image/png": "[encoded data removed]",
      "text/plain": [
       "<Figure size 576x288 with 2 Axes>"
      ]
     },
     "metadata": {},
     "output_type": "display_data"
    },
    {
     "data": {
      "text/markdown": [
       "### Remove duplicates"
      ],
      "text/plain": [
       "<IPython.core.display.Markdown object>"
      ]
     },
     "metadata": {},
     "output_type": "display_data"
    },
    {
     "name": "stdout",
     "output_type": "stream",
     "text": [
      "Distribution(min=1, q1=1.0, median=3.0, q3=10.0, max=6588)\n"
     ]
    },
    {
     "data": {
      "image/png": "[encoded data removed]",
      "text/plain": [
       "<Figure size 576x288 with 2 Axes>"
      ]
     },
     "metadata": {},
     "output_type": "display_data"
    },
    {
     "data": {
      "text/markdown": [
       "### Remove duplicates and toy"
      ],
      "text/plain": [
       "<IPython.core.display.Markdown object>"
      ]
     },
     "metadata": {},
     "output_type": "display_data"
    },
    {
     "name": "stdout",
     "output_type": "stream",
     "text": [
      "Distribution(min=1, q1=1.0, median=3.0, q3=10.0, max=6588)\n"
     ]
    },
    {
     "data": {
      "image/png": "[encoded data removed]",
      "text/plain": [
       "<Figure size 576x288 with 2 Axes>"
      ]
     },
     "metadata": {},
     "output_type": "display_data"
    },
    {
     "data": {
      "text/markdown": [
       "### Remove duplicates and restricted toy"
      ],
      "text/plain": [
       "<IPython.core.display.Markdown object>"
      ]
     },
     "metadata": {},
     "output_type": "display_data"
    },
    {
     "name": "stdout",
     "output_type": "stream",
     "text": [
      "Distribution(min=1, q1=1.0, median=3.0, q3=10.0, max=6588)\n"
     ]
    },
    {
     "data": {
      "image/png": "[encoded data removed]",
      "text/plain": [
       "<Figure size 576x288 with 2 Axes>"
      ]
     },
     "metadata": {},
     "output_type": "display_data"
    }
   ],
   "source": [
    "@calculate_auto(CONFIG, save_to=\"python_cells\", result=None)\n",
    "@close_fig\n",
    "def fn(code_cells, prefix):\n",
    "    python_cells = code_cells[code_cells[\"language\"] == \"python\"]\n",
    "    column = python_cells[\"lines\"]\n",
    "    distribution = distribution_with_boxplot(column, 0, 80, 5, \"Python Cells\", \"Lines\",  True)\n",
    "    print(distribution)\n",
    "    plt.gcf().set_size_inches(8, 4)\n",
    "    return python_cells"
   ]
  },
  {
   "cell_type": "markdown",
   "metadata": {},
   "source": [
    "#### Julia"
   ]
  },
  {
   "cell_type": "code",
   "execution_count": 17,
   "metadata": {},
   "outputs": [
    {
     "data": {
      "text/markdown": [
       "### Default"
      ],
      "text/plain": [
       "<IPython.core.display.Markdown object>"
      ]
     },
     "metadata": {},
     "output_type": "display_data"
    },
    {
     "name": "stdout",
     "output_type": "stream",
     "text": [
      "Distribution(min=1, q1=2.0, median=4.0, q3=11.0, max=154)\n"
     ]
    },
    {
     "data": {
      "image/png": "[encoded data removed]",
      "text/plain": [
       "<Figure size 576x288 with 2 Axes>"
      ]
     },
     "metadata": {},
     "output_type": "display_data"
    },
    {
     "data": {
      "text/markdown": [
       "### Remove duplicates"
      ],
      "text/plain": [
       "<IPython.core.display.Markdown object>"
      ]
     },
     "metadata": {},
     "output_type": "display_data"
    },
    {
     "name": "stdout",
     "output_type": "stream",
     "text": [
      "Distribution(min=1, q1=2.0, median=4.0, q3=11.0, max=154)\n"
     ]
    },
    {
     "data": {
      "image/png": "[encoded data removed]",
      "text/plain": [
       "<Figure size 576x288 with 2 Axes>"
      ]
     },
     "metadata": {},
     "output_type": "display_data"
    },
    {
     "data": {
      "text/markdown": [
       "### Remove duplicates and toy"
      ],
      "text/plain": [
       "<IPython.core.display.Markdown object>"
      ]
     },
     "metadata": {},
     "output_type": "display_data"
    },
    {
     "name": "stdout",
     "output_type": "stream",
     "text": [
      "Distribution(min=1, q1=2.0, median=4.0, q3=11.0, max=154)\n"
     ]
    },
    {
     "data": {
      "image/png": "[encoded data removed]",
      "text/plain": [
       "<Figure size 576x288 with 2 Axes>"
      ]
     },
     "metadata": {},
     "output_type": "display_data"
    },
    {
     "data": {
      "text/markdown": [
       "### Remove duplicates and restricted toy"
      ],
      "text/plain": [
       "<IPython.core.display.Markdown object>"
      ]
     },
     "metadata": {},
     "output_type": "display_data"
    },
    {
     "name": "stdout",
     "output_type": "stream",
     "text": [
      "Distribution(min=1, q1=2.0, median=4.0, q3=11.0, max=154)\n"
     ]
    },
    {
     "data": {
      "image/png": "[encoded data removed]",
      "text/plain": [
       "<Figure size 576x288 with 2 Axes>"
      ]
     },
     "metadata": {},
     "output_type": "display_data"
    }
   ],
   "source": [
    "@calculate_auto(CONFIG, save_to=\"julia_cells\", result=None)\n",
    "@close_fig\n",
    "def fn(code_cells, prefix):\n",
    "    julia_cells = code_cells[code_cells[\"language\"] == \"julia\"]\n",
    "    column = julia_cells[\"lines\"]\n",
    "    distribution = distribution_with_boxplot(column, 0, 80, 5, \"Julia Cells\", \"Lines\",  True)\n",
    "    print(distribution)\n",
    "    plt.gcf().set_size_inches(8, 4)\n",
    "    return julia_cells"
   ]
  },
  {
   "cell_type": "markdown",
   "metadata": {},
   "source": [
    "#### R"
   ]
  },
  {
   "cell_type": "code",
   "execution_count": 18,
   "metadata": {},
   "outputs": [
    {
     "data": {
      "text/markdown": [
       "### Default"
      ],
      "text/plain": [
       "<IPython.core.display.Markdown object>"
      ]
     },
     "metadata": {},
     "output_type": "display_data"
    },
    {
     "name": "stdout",
     "output_type": "stream",
     "text": [
      "Distribution(min=1, q1=1.0, median=2.0, q3=7.0, max=442)\n"
     ]
    },
    {
     "data": {
      "image/png": "[encoded data removed]",
      "text/plain": [
       "<Figure size 576x288 with 2 Axes>"
      ]
     },
     "metadata": {},
     "output_type": "display_data"
    },
    {
     "data": {
      "text/markdown": [
       "### Remove duplicates"
      ],
      "text/plain": [
       "<IPython.core.display.Markdown object>"
      ]
     },
     "metadata": {},
     "output_type": "display_data"
    },
    {
     "name": "stdout",
     "output_type": "stream",
     "text": [
      "Distribution(min=1, q1=1.0, median=2.0, q3=7.0, max=442)\n"
     ]
    },
    {
     "data": {
      "image/png": "[encoded data removed]",
      "text/plain": [
       "<Figure size 576x288 with 2 Axes>"
      ]
     },
     "metadata": {},
     "output_type": "display_data"
    },
    {
     "data": {
      "text/markdown": [
       "### Remove duplicates and toy"
      ],
      "text/plain": [
       "<IPython.core.display.Markdown object>"
      ]
     },
     "metadata": {},
     "output_type": "display_data"
    },
    {
     "name": "stdout",
     "output_type": "stream",
     "text": [
      "Distribution(min=1, q1=1.0, median=2.0, q3=7.0, max=442)\n"
     ]
    },
    {
     "data": {
      "image/png": "[encoded data removed]",
      "text/plain": [
       "<Figure size 576x288 with 2 Axes>"
      ]
     },
     "metadata": {},
     "output_type": "display_data"
    },
    {
     "data": {
      "text/markdown": [
       "### Remove duplicates and restricted toy"
      ],
      "text/plain": [
       "<IPython.core.display.Markdown object>"
      ]
     },
     "metadata": {},
     "output_type": "display_data"
    },
    {
     "name": "stdout",
     "output_type": "stream",
     "text": [
      "Distribution(min=1, q1=1.0, median=2.0, q3=7.0, max=442)\n"
     ]
    },
    {
     "data": {
      "image/png": "[encoded data removed]",
      "text/plain": [
       "<Figure size 576x288 with 2 Axes>"
      ]
     },
     "metadata": {},
     "output_type": "display_data"
    }
   ],
   "source": [
    "@calculate_auto(CONFIG, save_to=\"r_cells\", result=None)\n",
    "@close_fig\n",
    "def fn(code_cells, prefix):\n",
    "    r_cells = code_cells[code_cells[\"language\"] == \"R\"]\n",
    "    column = r_cells[\"lines\"]\n",
    "    distribution = distribution_with_boxplot(column, 0, 80, 5, \"R Cells\", \"Lines\",  True)\n",
    "    print(distribution)\n",
    "    plt.gcf().set_size_inches(8, 4)\n",
    "    return r_cells"
   ]
  },
  {
   "cell_type": "markdown",
   "metadata": {},
   "source": [
    "### Number of lines in markdown cells"
   ]
  },
  {
   "cell_type": "code",
   "execution_count": 19,
   "metadata": {
    "scrolled": true
   },
   "outputs": [
    {
     "data": {
      "text/markdown": [
       "### Default"
      ],
      "text/plain": [
       "<IPython.core.display.Markdown object>"
      ]
     },
     "metadata": {},
     "output_type": "display_data"
    },
    {
     "name": "stdout",
     "output_type": "stream",
     "text": [
      "Distribution(min=1, q1=1.0, median=1.0, q3=3.0, max=662)\n"
     ]
    },
    {
     "data": {
      "image/png": "[encoded data removed]",
      "text/plain": [
       "<Figure size 576x288 with 2 Axes>"
      ]
     },
     "metadata": {},
     "output_type": "display_data"
    },
    {
     "data": {
      "text/markdown": [
       "### Remove duplicates"
      ],
      "text/plain": [
       "<IPython.core.display.Markdown object>"
      ]
     },
     "metadata": {},
     "output_type": "display_data"
    },
    {
     "name": "stdout",
     "output_type": "stream",
     "text": [
      "Distribution(min=1, q1=1.0, median=1.0, q3=3.0, max=662)\n"
     ]
    },
    {
     "data": {
      "image/png": "[encoded data removed]",
      "text/plain": [
       "<Figure size 576x288 with 2 Axes>"
      ]
     },
     "metadata": {},
     "output_type": "display_data"
    },
    {
     "data": {
      "text/markdown": [
       "### Remove duplicates and toy"
      ],
      "text/plain": [
       "<IPython.core.display.Markdown object>"
      ]
     },
     "metadata": {},
     "output_type": "display_data"
    },
    {
     "name": "stdout",
     "output_type": "stream",
     "text": [
      "Distribution(min=1, q1=1.0, median=1.0, q3=3.0, max=662)\n"
     ]
    },
    {
     "data": {
      "image/png": "[encoded data removed]",
      "text/plain": [
       "<Figure size 576x288 with 2 Axes>"
      ]
     },
     "metadata": {},
     "output_type": "display_data"
    },
    {
     "data": {
      "text/markdown": [
       "### Remove duplicates and restricted toy"
      ],
      "text/plain": [
       "<IPython.core.display.Markdown object>"
      ]
     },
     "metadata": {},
     "output_type": "display_data"
    },
    {
     "name": "stdout",
     "output_type": "stream",
     "text": [
      "Distribution(min=1, q1=1.0, median=1.0, q3=3.0, max=662)\n"
     ]
    },
    {
     "data": {
      "image/png": "[encoded data removed]",
      "text/plain": [
       "<Figure size 576x288 with 2 Axes>"
      ]
     },
     "metadata": {},
     "output_type": "display_data"
    }
   ],
   "source": [
    "@calculate_auto(CONFIG)\n",
    "@close_fig\n",
    "def fn(markdown_cells, prefix):\n",
    "    column = markdown_cells[\"lines\"]\n",
    "    distribution = distribution_with_boxplot(column, 0, 50, 5, \"Markdown Cells\", \"Lines\",  True)\n",
    "    print(distribution)\n",
    "    plt.gcf().set_size_inches(8, 4)"
   ]
  },
  {
   "cell_type": "markdown",
   "metadata": {},
   "source": [
    "### Number of lines in raw cells"
   ]
  },
  {
   "cell_type": "code",
   "execution_count": 20,
   "metadata": {},
   "outputs": [
    {
     "data": {
      "text/markdown": [
       "### Default"
      ],
      "text/plain": [
       "<IPython.core.display.Markdown object>"
      ]
     },
     "metadata": {},
     "output_type": "display_data"
    },
    {
     "name": "stdout",
     "output_type": "stream",
     "text": [
      "Distribution(min=1, q1=1.0, median=1.0, q3=6.0, max=531)\n"
     ]
    },
    {
     "data": {
      "image/png": "[encoded data removed]",
      "text/plain": [
       "<Figure size 576x288 with 2 Axes>"
      ]
     },
     "metadata": {},
     "output_type": "display_data"
    },
    {
     "data": {
      "text/markdown": [
       "### Remove duplicates"
      ],
      "text/plain": [
       "<IPython.core.display.Markdown object>"
      ]
     },
     "metadata": {},
     "output_type": "display_data"
    },
    {
     "name": "stdout",
     "output_type": "stream",
     "text": [
      "Distribution(min=1, q1=1.0, median=1.0, q3=6.0, max=531)\n"
     ]
    },
    {
     "data": {
      "image/png": "[encoded data removed]",
      "text/plain": [
       "<Figure size 576x288 with 2 Axes>"
      ]
     },
     "metadata": {},
     "output_type": "display_data"
    },
    {
     "data": {
      "text/markdown": [
       "### Remove duplicates and toy"
      ],
      "text/plain": [
       "<IPython.core.display.Markdown object>"
      ]
     },
     "metadata": {},
     "output_type": "display_data"
    },
    {
     "name": "stdout",
     "output_type": "stream",
     "text": [
      "Distribution(min=1, q1=1.0, median=1.0, q3=6.0, max=531)\n"
     ]
    },
    {
     "data": {
      "image/png": "[encoded data removed]",
      "text/plain": [
       "<Figure size 576x288 with 2 Axes>"
      ]
     },
     "metadata": {},
     "output_type": "display_data"
    },
    {
     "data": {
      "text/markdown": [
       "### Remove duplicates and restricted toy"
      ],
      "text/plain": [
       "<IPython.core.display.Markdown object>"
      ]
     },
     "metadata": {},
     "output_type": "display_data"
    },
    {
     "name": "stdout",
     "output_type": "stream",
     "text": [
      "Distribution(min=1, q1=1.0, median=1.0, q3=6.0, max=531)\n"
     ]
    },
    {
     "data": {
      "image/png": "[encoded data removed]",
      "text/plain": [
       "<Figure size 576x288 with 2 Axes>"
      ]
     },
     "metadata": {},
     "output_type": "display_data"
    }
   ],
   "source": [
    "@calculate_auto(CONFIG)\n",
    "@close_fig\n",
    "def fn(raw_cells, prefix):\n",
    "    column = raw_cells[\"lines\"]\n",
    "    distribution = distribution_with_boxplot(column, 0, 60, 5, \"Raw Cells\", \"Lines\",  True)\n",
    "    print(distribution)\n",
    "    plt.gcf().set_size_inches(8, 4)"
   ]
  },
  {
   "cell_type": "markdown",
   "metadata": {},
   "source": [
    "### Number of lines in heading cells"
   ]
  },
  {
   "cell_type": "code",
   "execution_count": 21,
   "metadata": {},
   "outputs": [
    {
     "data": {
      "text/markdown": [
       "### Default"
      ],
      "text/plain": [
       "<IPython.core.display.Markdown object>"
      ]
     },
     "metadata": {},
     "output_type": "display_data"
    },
    {
     "name": "stdout",
     "output_type": "stream",
     "text": [
      "Distribution(min=1, q1=1.0, median=1.0, q3=1.0, max=1)\n"
     ]
    },
    {
     "data": {
      "image/png": "[encoded data removed]",
      "text/plain": [
       "<Figure size 576x288 with 2 Axes>"
      ]
     },
     "metadata": {},
     "output_type": "display_data"
    },
    {
     "data": {
      "text/markdown": [
       "### Remove duplicates"
      ],
      "text/plain": [
       "<IPython.core.display.Markdown object>"
      ]
     },
     "metadata": {},
     "output_type": "display_data"
    },
    {
     "name": "stdout",
     "output_type": "stream",
     "text": [
      "Distribution(min=1, q1=1.0, median=1.0, q3=1.0, max=1)\n"
     ]
    },
    {
     "data": {
      "image/png": "[encoded data removed]",
      "text/plain": [
       "<Figure size 576x288 with 2 Axes>"
      ]
     },
     "metadata": {},
     "output_type": "display_data"
    },
    {
     "data": {
      "text/markdown": [
       "### Remove duplicates and toy"
      ],
      "text/plain": [
       "<IPython.core.display.Markdown object>"
      ]
     },
     "metadata": {},
     "output_type": "display_data"
    },
    {
     "name": "stdout",
     "output_type": "stream",
     "text": [
      "Distribution(min=1, q1=1.0, median=1.0, q3=1.0, max=1)\n"
     ]
    },
    {
     "data": {
      "image/png": "[encoded data removed]",
      "text/plain": [
       "<Figure size 576x288 with 2 Axes>"
      ]
     },
     "metadata": {},
     "output_type": "display_data"
    },
    {
     "data": {
      "text/markdown": [
       "### Remove duplicates and restricted toy"
      ],
      "text/plain": [
       "<IPython.core.display.Markdown object>"
      ]
     },
     "metadata": {},
     "output_type": "display_data"
    },
    {
     "name": "stdout",
     "output_type": "stream",
     "text": [
      "Distribution(min=1, q1=1.0, median=1.0, q3=1.0, max=1)\n"
     ]
    },
    {
     "data": {
      "image/png": "[encoded data removed]",
      "text/plain": [
       "<Figure size 576x288 with 2 Axes>"
      ]
     },
     "metadata": {},
     "output_type": "display_data"
    }
   ],
   "source": [
    "@calculate_auto(CONFIG)\n",
    "@close_fig\n",
    "def fn(heading_cells, prefix):\n",
    "    column = heading_cells[\"lines\"]\n",
    "    distribution = distribution_with_boxplot(column, 0, 60, 5, \"Heading Cells\", \"Lines\",  True)\n",
    "    print(distribution)\n",
    "    plt.gcf().set_size_inches(8, 4)"
   ]
  },
  {
   "cell_type": "markdown",
   "metadata": {},
   "source": [
    "## Output Formats"
   ]
  },
  {
   "cell_type": "code",
   "execution_count": 22,
   "metadata": {},
   "outputs": [],
   "source": [
    "JUPYTER_MIME = {\n",
    "    \"text/html\": \"HTML\",\n",
    "    \"application/javascript\": \"JavaScript\",\n",
    "    \"image/jpeg\": \"JPG\",\n",
    "    \"application/json\": \"JSON\",\n",
    "    \"text/latex\": \"\\latex\",\n",
    "    \"text/markdown\": \"Markdown\",\n",
    "    \"application/pdf\": \"PDF\",\n",
    "    \"image/png\": \"PNG\",\n",
    "    \"text/plain\": \"Text\",\n",
    "    \"error\": \"Error\",\n",
    "    \"image/svg+xml\": \"SVG\",\n",
    "    \"application/vnd.plotly.v1+json\": \"plotly\",\n",
    "    \"text/vnd.plotly.v1+html\": \"plotly\",\n",
    "    \"application/vnd.jupyter.widget-view+json\": \"widget\",\n",
    "    \"application/vnd.jupyter.widget\": \"widget\",\n",
    "    #\"application/vnd.bokehjs_load.v0+json\": \"bokeh\",\n",
    "    #\"application/vnd.bokehjs_exec.v0+json\": \"bokeh\",\n",
    "}\n",
    "JUPYTER_MIME = {\n",
    "    \"text/html\": \"HTML/JS\",\n",
    "    \"application/javascript\": \"HTML/JS\",\n",
    "    \"image/jpeg\": \"Image\",\n",
    "    \"application/json\": \"HTML/JS\",\n",
    "    \"text/latex\": \"Formatted\",\n",
    "    \"text/markdown\": \"Formatted\",\n",
    "    \"application/pdf\": \"PDF\",\n",
    "    \"image/png\": \"Image\",\n",
    "    \"text/plain\": \"Text\",\n",
    "    \"error\": \"Error\",\n",
    "    #\"application/vnd.bokehjs_load.v0+json\": \"bokeh\",\n",
    "    #\"application/vnd.bokehjs_exec.v0+json\": \"bokeh\",\n",
    "}"
   ]
  },
  {
   "cell_type": "markdown",
   "metadata": {},
   "source": [
    "### Cells with outputs"
   ]
  },
  {
   "cell_type": "code",
   "execution_count": 23,
   "metadata": {},
   "outputs": [
    {
     "data": {
      "text/markdown": [
       "### Default"
      ],
      "text/plain": [
       "<IPython.core.display.Markdown object>"
      ]
     },
     "metadata": {},
     "output_type": "display_data"
    },
    {
     "name": "stdout",
     "output_type": "stream",
     "text": [
      "62,216 (25.67%) of executed cells had output\n"
     ]
    },
    {
     "data": {
      "text/markdown": [
       "### Remove duplicates"
      ],
      "text/plain": [
       "<IPython.core.display.Markdown object>"
      ]
     },
     "metadata": {},
     "output_type": "display_data"
    },
    {
     "name": "stdout",
     "output_type": "stream",
     "text": [
      "62,216 (25.67%) of executed cells had output\n"
     ]
    },
    {
     "data": {
      "text/markdown": [
       "### Remove duplicates and toy"
      ],
      "text/plain": [
       "<IPython.core.display.Markdown object>"
      ]
     },
     "metadata": {},
     "output_type": "display_data"
    },
    {
     "name": "stdout",
     "output_type": "stream",
     "text": [
      "62,216 (25.67%) of executed cells had output\n"
     ]
    },
    {
     "data": {
      "text/markdown": [
       "### Remove duplicates and restricted toy"
      ],
      "text/plain": [
       "<IPython.core.display.Markdown object>"
      ]
     },
     "metadata": {},
     "output_type": "display_data"
    },
    {
     "name": "stdout",
     "output_type": "stream",
     "text": [
      "62,216 (25.67%) of executed cells had output\n"
     ]
    }
   ],
   "source": [
    "@calculate_auto(CONFIG, save_to=\"with_output\", result=None, level=None)\n",
    "def fn(code_cells, prefix):\n",
    "    with_output = code_cells[~code_cells[\"output_formats\"].isna()].compute()\n",
    "    return with_output\n",
    "\n",
    "@calculate_auto(CONFIG, save_to=\"total_with_output\", result=None)\n",
    "def fn(with_output, total_cells_from_executed_notebooks, prefix):\n",
    "    total_with_output = len(with_output)\n",
    "    print(\"{} of executed cells had output\".format(\n",
    "        relative_var(prefix + \"executed_cells_with_outputs\", total_with_output, total_cells_from_executed_notebooks)\n",
    "    ))\n",
    "    return total_with_output"
   ]
  },
  {
   "cell_type": "code",
   "execution_count": 24,
   "metadata": {},
   "outputs": [],
   "source": [
    "@calculate_auto(CONFIG, save_to=\"cell_counter\", result=None, level=None)\n",
    "def fn(with_output, prefix):\n",
    "    cell_counter = Counter()\n",
    "    for value in with_output[\"output_formats\"]:\n",
    "        cell_values = {JUPYTER_MIME.get(x, \"Extension\") for x in value.split(\";\")}\n",
    "        cell_counter.update(cell_values)\n",
    "    return cell_counter"
   ]
  },
  {
   "cell_type": "markdown",
   "metadata": {},
   "source": [
    "### Notebooks with outputs"
   ]
  },
  {
   "cell_type": "code",
   "execution_count": 25,
   "metadata": {},
   "outputs": [],
   "source": [
    "@calculate_auto(CONFIG, save_to=\"notebooks_with_outputs\", result=None, level=None)\n",
    "def fn(with_output, prefix):\n",
    "    with_output[\"output_formats2\"] = with_output[\"output_formats\"] + \";\"\n",
    "    notebooks_with_outputs = with_output.groupby(\"notebook_id\")['output_formats2'].agg('sum')\n",
    "    return notebooks_with_outputs"
   ]
  },
  {
   "cell_type": "code",
   "execution_count": 26,
   "metadata": {
    "code_folding": []
   },
   "outputs": [
    {
     "data": {
      "text/markdown": [
       "### Default"
      ],
      "text/plain": [
       "<IPython.core.display.Markdown object>"
      ]
     },
     "metadata": {},
     "output_type": "display_data"
    },
    {
     "data": {
      "text/markdown": [
       "### Remove duplicates"
      ],
      "text/plain": [
       "<IPython.core.display.Markdown object>"
      ]
     },
     "metadata": {},
     "output_type": "display_data"
    },
    {
     "data": {
      "text/markdown": [
       "### Remove duplicates and toy"
      ],
      "text/plain": [
       "<IPython.core.display.Markdown object>"
      ]
     },
     "metadata": {},
     "output_type": "display_data"
    },
    {
     "data": {
      "text/markdown": [
       "### Remove duplicates and restricted toy"
      ],
      "text/plain": [
       "<IPython.core.display.Markdown object>"
      ]
     },
     "metadata": {},
     "output_type": "display_data"
    }
   ],
   "source": [
    "@calculate_auto(CONFIG, save_to=\"total_notebooks_with_outputs\", result=None)\n",
    "def fn(notebooks_with_outputs, total_executed_notebooks, prefix):\n",
    "    total_notebooks_with_outputs = len(notebooks_with_outputs)\n",
    "    \"{} executed notebooks had output in at least one cell\".format(\n",
    "        relative_var(prefix + \"executed_notebooks_with_outputs\", total_notebooks_with_outputs, total_executed_notebooks)\n",
    "    )\n",
    "    return total_notebooks_with_outputs"
   ]
  },
  {
   "cell_type": "code",
   "execution_count": 27,
   "metadata": {},
   "outputs": [
    {
     "data": {
      "text/markdown": [
       "### Default"
      ],
      "text/plain": [
       "<IPython.core.display.Markdown object>"
      ]
     },
     "metadata": {},
     "output_type": "display_data"
    },
    {
     "name": "stdout",
     "output_type": "stream",
     "text": [
      "876 (11.36%) executed notebooks did not have outputs in any cells\n"
     ]
    },
    {
     "data": {
      "text/markdown": [
       "### Remove duplicates"
      ],
      "text/plain": [
       "<IPython.core.display.Markdown object>"
      ]
     },
     "metadata": {},
     "output_type": "display_data"
    },
    {
     "name": "stdout",
     "output_type": "stream",
     "text": [
      "876 (11.36%) executed notebooks did not have outputs in any cells\n"
     ]
    },
    {
     "data": {
      "text/markdown": [
       "### Remove duplicates and toy"
      ],
      "text/plain": [
       "<IPython.core.display.Markdown object>"
      ]
     },
     "metadata": {},
     "output_type": "display_data"
    },
    {
     "name": "stdout",
     "output_type": "stream",
     "text": [
      "876 (11.36%) executed notebooks did not have outputs in any cells\n"
     ]
    },
    {
     "data": {
      "text/markdown": [
       "### Remove duplicates and restricted toy"
      ],
      "text/plain": [
       "<IPython.core.display.Markdown object>"
      ]
     },
     "metadata": {},
     "output_type": "display_data"
    },
    {
     "name": "stdout",
     "output_type": "stream",
     "text": [
      "876 (11.36%) executed notebooks did not have outputs in any cells\n"
     ]
    }
   ],
   "source": [
    "@calculate_auto(CONFIG)\n",
    "def fn(total_executed_notebooks, total_notebooks_with_outputs, prefix):\n",
    "    return \"{} executed notebooks did not have outputs in any cells\".format(relative_var(\n",
    "        prefix + \"executed_notebooks_without_outputs\", \n",
    "        total_executed_notebooks - total_notebooks_with_outputs,\n",
    "        total_executed_notebooks\n",
    "    ))"
   ]
  },
  {
   "cell_type": "code",
   "execution_count": 28,
   "metadata": {},
   "outputs": [],
   "source": [
    "@calculate_auto(CONFIG, save_to=\"notebook_counter\", result=None, level=None)\n",
    "def fn(notebooks_with_outputs, prefix):\n",
    "    notebook_counter = Counter()\n",
    "    for value in notebooks_with_outputs.str[:-1]:\n",
    "        cell_values = {JUPYTER_MIME.get(x, \"Other\") for x in value.split(\";\")}\n",
    "        notebook_counter.update(cell_values)\n",
    "    return notebook_counter"
   ]
  },
  {
   "cell_type": "markdown",
   "metadata": {},
   "source": [
    "### Table"
   ]
  },
  {
   "cell_type": "code",
   "execution_count": 29,
   "metadata": {},
   "outputs": [
    {
     "data": {
      "text/markdown": [
       "### Default"
      ],
      "text/plain": [
       "<IPython.core.display.Markdown object>"
      ]
     },
     "metadata": {},
     "output_type": "display_data"
    },
    {
     "data": {
      "text/html": [
       "<style  type=\"text/css\" >\n",
       "</style><table id=\"T_bfcb2_\" ><thead>    <tr>        <th class=\"blank level0\" ></th>        <th class=\"col_heading level0 col0\" >Format</th>        <th class=\"col_heading level0 col1\" >% of cells with output</th>        <th class=\"col_heading level0 col2\" >% of executed notebooks</th>    </tr></thead><tbody>\n",
       "                <tr>\n",
       "                        <th id=\"T_bfcb2_level0_row0\" class=\"row_heading level0 row0\" >0</th>\n",
       "                        <td id=\"T_bfcb2_row0_col0\" class=\"data row0 col0\" >Text</td>\n",
       "                        <td id=\"T_bfcb2_row0_col1\" class=\"data row0 col1\" >95.67%</td>\n",
       "                        <td id=\"T_bfcb2_row0_col2\" class=\"data row0 col2\" >86.49%</td>\n",
       "            </tr>\n",
       "            <tr>\n",
       "                        <th id=\"T_bfcb2_level0_row1\" class=\"row_heading level0 row1\" >1</th>\n",
       "                        <td id=\"T_bfcb2_row1_col0\" class=\"data row1 col0\" >Image</td>\n",
       "                        <td id=\"T_bfcb2_row1_col1\" class=\"data row1 col1\" >42.26%</td>\n",
       "                        <td id=\"T_bfcb2_row1_col2\" class=\"data row1 col2\" >60.18%</td>\n",
       "            </tr>\n",
       "            <tr>\n",
       "                        <th id=\"T_bfcb2_level0_row2\" class=\"row_heading level0 row2\" >2</th>\n",
       "                        <td id=\"T_bfcb2_row2_col0\" class=\"data row2 col0\" >HTML/JS</td>\n",
       "                        <td id=\"T_bfcb2_row2_col1\" class=\"data row2 col1\" >26.91%</td>\n",
       "                        <td id=\"T_bfcb2_row2_col2\" class=\"data row2 col2\" >43.39%</td>\n",
       "            </tr>\n",
       "            <tr>\n",
       "                        <th id=\"T_bfcb2_level0_row3\" class=\"row_heading level0 row3\" >3</th>\n",
       "                        <td id=\"T_bfcb2_row3_col0\" class=\"data row3 col0\" >Formatted</td>\n",
       "                        <td id=\"T_bfcb2_row3_col1\" class=\"data row3 col1\" >5.86%</td>\n",
       "                        <td id=\"T_bfcb2_row3_col2\" class=\"data row3 col2\" >6.81%</td>\n",
       "            </tr>\n",
       "            <tr>\n",
       "                        <th id=\"T_bfcb2_level0_row4\" class=\"row_heading level0 row4\" >4</th>\n",
       "                        <td id=\"T_bfcb2_row4_col0\" class=\"data row4 col0\" >Extension</td>\n",
       "                        <td id=\"T_bfcb2_row4_col1\" class=\"data row4 col1\" >4.08%</td>\n",
       "                        <td id=\"T_bfcb2_row4_col2\" class=\"data row4 col2\" >0.00%</td>\n",
       "            </tr>\n",
       "            <tr>\n",
       "                        <th id=\"T_bfcb2_level0_row5\" class=\"row_heading level0 row5\" >5</th>\n",
       "                        <td id=\"T_bfcb2_row5_col0\" class=\"data row5 col0\" >Error</td>\n",
       "                        <td id=\"T_bfcb2_row5_col1\" class=\"data row5 col1\" >1.49%</td>\n",
       "                        <td id=\"T_bfcb2_row5_col2\" class=\"data row5 col2\" >7.57%</td>\n",
       "            </tr>\n",
       "            <tr>\n",
       "                        <th id=\"T_bfcb2_level0_row6\" class=\"row_heading level0 row6\" >6</th>\n",
       "                        <td id=\"T_bfcb2_row6_col0\" class=\"data row6 col0\" >PDF</td>\n",
       "                        <td id=\"T_bfcb2_row6_col1\" class=\"data row6 col1\" >0.00%</td>\n",
       "                        <td id=\"T_bfcb2_row6_col2\" class=\"data row6 col2\" >0.03%</td>\n",
       "            </tr>\n",
       "    </tbody></table>"
      ],
      "text/plain": [
       "<pandas.io.formats.style.Styler at 0x7f8ab735bb80>"
      ]
     },
     "metadata": {},
     "output_type": "display_data"
    },
    {
     "data": {
      "text/markdown": [
       "### Remove duplicates"
      ],
      "text/plain": [
       "<IPython.core.display.Markdown object>"
      ]
     },
     "metadata": {},
     "output_type": "display_data"
    },
    {
     "data": {
      "text/html": [
       "<style  type=\"text/css\" >\n",
       "</style><table id=\"T_370de_\" ><thead>    <tr>        <th class=\"blank level0\" ></th>        <th class=\"col_heading level0 col0\" >Format</th>        <th class=\"col_heading level0 col1\" >% of cells with output</th>        <th class=\"col_heading level0 col2\" >% of executed notebooks</th>    </tr></thead><tbody>\n",
       "                <tr>\n",
       "                        <th id=\"T_370de_level0_row0\" class=\"row_heading level0 row0\" >0</th>\n",
       "                        <td id=\"T_370de_row0_col0\" class=\"data row0 col0\" >Text</td>\n",
       "                        <td id=\"T_370de_row0_col1\" class=\"data row0 col1\" >95.67%</td>\n",
       "                        <td id=\"T_370de_row0_col2\" class=\"data row0 col2\" >86.49%</td>\n",
       "            </tr>\n",
       "            <tr>\n",
       "                        <th id=\"T_370de_level0_row1\" class=\"row_heading level0 row1\" >1</th>\n",
       "                        <td id=\"T_370de_row1_col0\" class=\"data row1 col0\" >Image</td>\n",
       "                        <td id=\"T_370de_row1_col1\" class=\"data row1 col1\" >42.26%</td>\n",
       "                        <td id=\"T_370de_row1_col2\" class=\"data row1 col2\" >60.18%</td>\n",
       "            </tr>\n",
       "            <tr>\n",
       "                        <th id=\"T_370de_level0_row2\" class=\"row_heading level0 row2\" >2</th>\n",
       "                        <td id=\"T_370de_row2_col0\" class=\"data row2 col0\" >HTML/JS</td>\n",
       "                        <td id=\"T_370de_row2_col1\" class=\"data row2 col1\" >26.91%</td>\n",
       "                        <td id=\"T_370de_row2_col2\" class=\"data row2 col2\" >43.39%</td>\n",
       "            </tr>\n",
       "            <tr>\n",
       "                        <th id=\"T_370de_level0_row3\" class=\"row_heading level0 row3\" >3</th>\n",
       "                        <td id=\"T_370de_row3_col0\" class=\"data row3 col0\" >Formatted</td>\n",
       "                        <td id=\"T_370de_row3_col1\" class=\"data row3 col1\" >5.86%</td>\n",
       "                        <td id=\"T_370de_row3_col2\" class=\"data row3 col2\" >6.81%</td>\n",
       "            </tr>\n",
       "            <tr>\n",
       "                        <th id=\"T_370de_level0_row4\" class=\"row_heading level0 row4\" >4</th>\n",
       "                        <td id=\"T_370de_row4_col0\" class=\"data row4 col0\" >Extension</td>\n",
       "                        <td id=\"T_370de_row4_col1\" class=\"data row4 col1\" >4.08%</td>\n",
       "                        <td id=\"T_370de_row4_col2\" class=\"data row4 col2\" >0.00%</td>\n",
       "            </tr>\n",
       "            <tr>\n",
       "                        <th id=\"T_370de_level0_row5\" class=\"row_heading level0 row5\" >5</th>\n",
       "                        <td id=\"T_370de_row5_col0\" class=\"data row5 col0\" >Error</td>\n",
       "                        <td id=\"T_370de_row5_col1\" class=\"data row5 col1\" >1.49%</td>\n",
       "                        <td id=\"T_370de_row5_col2\" class=\"data row5 col2\" >7.57%</td>\n",
       "            </tr>\n",
       "            <tr>\n",
       "                        <th id=\"T_370de_level0_row6\" class=\"row_heading level0 row6\" >6</th>\n",
       "                        <td id=\"T_370de_row6_col0\" class=\"data row6 col0\" >PDF</td>\n",
       "                        <td id=\"T_370de_row6_col1\" class=\"data row6 col1\" >0.00%</td>\n",
       "                        <td id=\"T_370de_row6_col2\" class=\"data row6 col2\" >0.03%</td>\n",
       "            </tr>\n",
       "    </tbody></table>"
      ],
      "text/plain": [
       "<pandas.io.formats.style.Styler at 0x7f8ab6621ca0>"
      ]
     },
     "metadata": {},
     "output_type": "display_data"
    },
    {
     "data": {
      "text/markdown": [
       "### Remove duplicates and toy"
      ],
      "text/plain": [
       "<IPython.core.display.Markdown object>"
      ]
     },
     "metadata": {},
     "output_type": "display_data"
    },
    {
     "data": {
      "text/html": [
       "<style  type=\"text/css\" >\n",
       "</style><table id=\"T_e9eac_\" ><thead>    <tr>        <th class=\"blank level0\" ></th>        <th class=\"col_heading level0 col0\" >Format</th>        <th class=\"col_heading level0 col1\" >% of cells with output</th>        <th class=\"col_heading level0 col2\" >% of executed notebooks</th>    </tr></thead><tbody>\n",
       "                <tr>\n",
       "                        <th id=\"T_e9eac_level0_row0\" class=\"row_heading level0 row0\" >0</th>\n",
       "                        <td id=\"T_e9eac_row0_col0\" class=\"data row0 col0\" >Text</td>\n",
       "                        <td id=\"T_e9eac_row0_col1\" class=\"data row0 col1\" >95.67%</td>\n",
       "                        <td id=\"T_e9eac_row0_col2\" class=\"data row0 col2\" >86.49%</td>\n",
       "            </tr>\n",
       "            <tr>\n",
       "                        <th id=\"T_e9eac_level0_row1\" class=\"row_heading level0 row1\" >1</th>\n",
       "                        <td id=\"T_e9eac_row1_col0\" class=\"data row1 col0\" >Image</td>\n",
       "                        <td id=\"T_e9eac_row1_col1\" class=\"data row1 col1\" >42.26%</td>\n",
       "                        <td id=\"T_e9eac_row1_col2\" class=\"data row1 col2\" >60.18%</td>\n",
       "            </tr>\n",
       "            <tr>\n",
       "                        <th id=\"T_e9eac_level0_row2\" class=\"row_heading level0 row2\" >2</th>\n",
       "                        <td id=\"T_e9eac_row2_col0\" class=\"data row2 col0\" >HTML/JS</td>\n",
       "                        <td id=\"T_e9eac_row2_col1\" class=\"data row2 col1\" >26.91%</td>\n",
       "                        <td id=\"T_e9eac_row2_col2\" class=\"data row2 col2\" >43.39%</td>\n",
       "            </tr>\n",
       "            <tr>\n",
       "                        <th id=\"T_e9eac_level0_row3\" class=\"row_heading level0 row3\" >3</th>\n",
       "                        <td id=\"T_e9eac_row3_col0\" class=\"data row3 col0\" >Formatted</td>\n",
       "                        <td id=\"T_e9eac_row3_col1\" class=\"data row3 col1\" >5.86%</td>\n",
       "                        <td id=\"T_e9eac_row3_col2\" class=\"data row3 col2\" >6.81%</td>\n",
       "            </tr>\n",
       "            <tr>\n",
       "                        <th id=\"T_e9eac_level0_row4\" class=\"row_heading level0 row4\" >4</th>\n",
       "                        <td id=\"T_e9eac_row4_col0\" class=\"data row4 col0\" >Extension</td>\n",
       "                        <td id=\"T_e9eac_row4_col1\" class=\"data row4 col1\" >4.08%</td>\n",
       "                        <td id=\"T_e9eac_row4_col2\" class=\"data row4 col2\" >0.00%</td>\n",
       "            </tr>\n",
       "            <tr>\n",
       "                        <th id=\"T_e9eac_level0_row5\" class=\"row_heading level0 row5\" >5</th>\n",
       "                        <td id=\"T_e9eac_row5_col0\" class=\"data row5 col0\" >Error</td>\n",
       "                        <td id=\"T_e9eac_row5_col1\" class=\"data row5 col1\" >1.49%</td>\n",
       "                        <td id=\"T_e9eac_row5_col2\" class=\"data row5 col2\" >7.57%</td>\n",
       "            </tr>\n",
       "            <tr>\n",
       "                        <th id=\"T_e9eac_level0_row6\" class=\"row_heading level0 row6\" >6</th>\n",
       "                        <td id=\"T_e9eac_row6_col0\" class=\"data row6 col0\" >PDF</td>\n",
       "                        <td id=\"T_e9eac_row6_col1\" class=\"data row6 col1\" >0.00%</td>\n",
       "                        <td id=\"T_e9eac_row6_col2\" class=\"data row6 col2\" >0.03%</td>\n",
       "            </tr>\n",
       "    </tbody></table>"
      ],
      "text/plain": [
       "<pandas.io.formats.style.Styler at 0x7f8ab66211f0>"
      ]
     },
     "metadata": {},
     "output_type": "display_data"
    },
    {
     "data": {
      "text/markdown": [
       "### Remove duplicates and restricted toy"
      ],
      "text/plain": [
       "<IPython.core.display.Markdown object>"
      ]
     },
     "metadata": {},
     "output_type": "display_data"
    },
    {
     "data": {
      "text/html": [
       "<style  type=\"text/css\" >\n",
       "</style><table id=\"T_077b4_\" ><thead>    <tr>        <th class=\"blank level0\" ></th>        <th class=\"col_heading level0 col0\" >Format</th>        <th class=\"col_heading level0 col1\" >% of cells with output</th>        <th class=\"col_heading level0 col2\" >% of executed notebooks</th>    </tr></thead><tbody>\n",
       "                <tr>\n",
       "                        <th id=\"T_077b4_level0_row0\" class=\"row_heading level0 row0\" >0</th>\n",
       "                        <td id=\"T_077b4_row0_col0\" class=\"data row0 col0\" >Text</td>\n",
       "                        <td id=\"T_077b4_row0_col1\" class=\"data row0 col1\" >95.67%</td>\n",
       "                        <td id=\"T_077b4_row0_col2\" class=\"data row0 col2\" >86.49%</td>\n",
       "            </tr>\n",
       "            <tr>\n",
       "                        <th id=\"T_077b4_level0_row1\" class=\"row_heading level0 row1\" >1</th>\n",
       "                        <td id=\"T_077b4_row1_col0\" class=\"data row1 col0\" >Image</td>\n",
       "                        <td id=\"T_077b4_row1_col1\" class=\"data row1 col1\" >42.26%</td>\n",
       "                        <td id=\"T_077b4_row1_col2\" class=\"data row1 col2\" >60.18%</td>\n",
       "            </tr>\n",
       "            <tr>\n",
       "                        <th id=\"T_077b4_level0_row2\" class=\"row_heading level0 row2\" >2</th>\n",
       "                        <td id=\"T_077b4_row2_col0\" class=\"data row2 col0\" >HTML/JS</td>\n",
       "                        <td id=\"T_077b4_row2_col1\" class=\"data row2 col1\" >26.91%</td>\n",
       "                        <td id=\"T_077b4_row2_col2\" class=\"data row2 col2\" >43.39%</td>\n",
       "            </tr>\n",
       "            <tr>\n",
       "                        <th id=\"T_077b4_level0_row3\" class=\"row_heading level0 row3\" >3</th>\n",
       "                        <td id=\"T_077b4_row3_col0\" class=\"data row3 col0\" >Formatted</td>\n",
       "                        <td id=\"T_077b4_row3_col1\" class=\"data row3 col1\" >5.86%</td>\n",
       "                        <td id=\"T_077b4_row3_col2\" class=\"data row3 col2\" >6.81%</td>\n",
       "            </tr>\n",
       "            <tr>\n",
       "                        <th id=\"T_077b4_level0_row4\" class=\"row_heading level0 row4\" >4</th>\n",
       "                        <td id=\"T_077b4_row4_col0\" class=\"data row4 col0\" >Extension</td>\n",
       "                        <td id=\"T_077b4_row4_col1\" class=\"data row4 col1\" >4.08%</td>\n",
       "                        <td id=\"T_077b4_row4_col2\" class=\"data row4 col2\" >0.00%</td>\n",
       "            </tr>\n",
       "            <tr>\n",
       "                        <th id=\"T_077b4_level0_row5\" class=\"row_heading level0 row5\" >5</th>\n",
       "                        <td id=\"T_077b4_row5_col0\" class=\"data row5 col0\" >Error</td>\n",
       "                        <td id=\"T_077b4_row5_col1\" class=\"data row5 col1\" >1.49%</td>\n",
       "                        <td id=\"T_077b4_row5_col2\" class=\"data row5 col2\" >7.57%</td>\n",
       "            </tr>\n",
       "            <tr>\n",
       "                        <th id=\"T_077b4_level0_row6\" class=\"row_heading level0 row6\" >6</th>\n",
       "                        <td id=\"T_077b4_row6_col0\" class=\"data row6 col0\" >PDF</td>\n",
       "                        <td id=\"T_077b4_row6_col1\" class=\"data row6 col1\" >0.00%</td>\n",
       "                        <td id=\"T_077b4_row6_col2\" class=\"data row6 col2\" >0.03%</td>\n",
       "            </tr>\n",
       "    </tbody></table>"
      ],
      "text/plain": [
       "<pandas.io.formats.style.Styler at 0x7f8ab6621850>"
      ]
     },
     "metadata": {},
     "output_type": "display_data"
    }
   ],
   "source": [
    "@calculate_auto(CONFIG, save_to=\"formats\", result=None)\n",
    "def fn(cell_counter, notebook_counter, total_with_output, total_executed_notebooks, prefix):\n",
    "    common = cell_counter.most_common()\n",
    "    formats = pd.DataFrame(\n",
    "        [(c/total_with_output, notebook_counter[n]/total_executed_notebooks) for n, c in common],\n",
    "        index=[n for n, c in common],\n",
    "        columns=[\"% of cells with output\", \"% of executed notebooks\"]\n",
    "    )\n",
    "    formats.index.name = 'Format'\n",
    "    formats.reset_index(level=0, inplace=True)\n",
    "    display(formats.style.format({\n",
    "        '% of cells with output': '{0:.2%}',\n",
    "        '% of executed notebooks': '{0:.2%}'\n",
    "    }))\n",
    "    return formats"
   ]
  },
  {
   "cell_type": "code",
   "execution_count": 30,
   "metadata": {},
   "outputs": [
    {
     "data": {
      "text/markdown": [
       "### Default"
      ],
      "text/plain": [
       "<IPython.core.display.Markdown object>"
      ]
     },
     "metadata": {},
     "output_type": "display_data"
    },
    {
     "name": "stdout",
     "output_type": "stream",
     "text": [
      "4,642 (60.18%)\n"
     ]
    },
    {
     "data": {
      "text/markdown": [
       "### Remove duplicates"
      ],
      "text/plain": [
       "<IPython.core.display.Markdown object>"
      ]
     },
     "metadata": {},
     "output_type": "display_data"
    },
    {
     "name": "stdout",
     "output_type": "stream",
     "text": [
      "4,642 (60.18%)\n"
     ]
    },
    {
     "data": {
      "text/markdown": [
       "### Remove duplicates and toy"
      ],
      "text/plain": [
       "<IPython.core.display.Markdown object>"
      ]
     },
     "metadata": {},
     "output_type": "display_data"
    },
    {
     "name": "stdout",
     "output_type": "stream",
     "text": [
      "4,642 (60.18%)\n"
     ]
    },
    {
     "data": {
      "text/markdown": [
       "### Remove duplicates and restricted toy"
      ],
      "text/plain": [
       "<IPython.core.display.Markdown object>"
      ]
     },
     "metadata": {},
     "output_type": "display_data"
    },
    {
     "name": "stdout",
     "output_type": "stream",
     "text": [
      "4,642 (60.18%)\n"
     ]
    }
   ],
   "source": [
    "@calculate_auto(CONFIG)\n",
    "def fn(formats, notebook_counter, total_executed_notebooks, prefix):\n",
    "    with open(\"outputs/{}output_table.tex\".format(prefix), \"w\") as fil:\n",
    "        fil.write(formats.to_latex(index=False, formatters={\n",
    "            '% of cells with output': '{0:.2%}'.format,\n",
    "            '% of executed notebooks': '{0:.2%}'.format\n",
    "        }))\n",
    "    return relative_var(prefix + \"notebooks_with_image\", notebook_counter[\"Image\"], total_executed_notebooks)"
   ]
  },
  {
   "cell_type": "markdown",
   "metadata": {},
   "source": [
    "## Lines in Notebooks"
   ]
  },
  {
   "cell_type": "code",
   "execution_count": 31,
   "metadata": {},
   "outputs": [
    {
     "data": {
      "text/markdown": [
       "### Default"
      ],
      "text/plain": [
       "<IPython.core.display.Markdown object>"
      ]
     },
     "metadata": {},
     "output_type": "display_data"
    },
    {
     "name": "stdout",
     "output_type": "stream",
     "text": [
      "Distribution(min=1, q1=63.0, median=135.0, q3=268.0, max=13026)\n"
     ]
    },
    {
     "data": {
      "image/png": "[encoded data removed]",
      "text/plain": [
       "<Figure size 576x288 with 2 Axes>"
      ]
     },
     "metadata": {},
     "output_type": "display_data"
    },
    {
     "data": {
      "text/markdown": [
       "### Remove duplicates"
      ],
      "text/plain": [
       "<IPython.core.display.Markdown object>"
      ]
     },
     "metadata": {},
     "output_type": "display_data"
    },
    {
     "name": "stdout",
     "output_type": "stream",
     "text": [
      "Distribution(min=1, q1=63.0, median=135.0, q3=268.0, max=13026)\n"
     ]
    },
    {
     "data": {
      "image/png": "[encoded data removed]",
      "text/plain": [
       "<Figure size 576x288 with 2 Axes>"
      ]
     },
     "metadata": {},
     "output_type": "display_data"
    },
    {
     "data": {
      "text/markdown": [
       "### Remove duplicates and toy"
      ],
      "text/plain": [
       "<IPython.core.display.Markdown object>"
      ]
     },
     "metadata": {},
     "output_type": "display_data"
    },
    {
     "name": "stdout",
     "output_type": "stream",
     "text": [
      "Distribution(min=1, q1=63.0, median=135.0, q3=268.0, max=13026)\n"
     ]
    },
    {
     "data": {
      "image/png": "[encoded data removed]",
      "text/plain": [
       "<Figure size 576x288 with 2 Axes>"
      ]
     },
     "metadata": {},
     "output_type": "display_data"
    },
    {
     "data": {
      "text/markdown": [
       "### Remove duplicates and restricted toy"
      ],
      "text/plain": [
       "<IPython.core.display.Markdown object>"
      ]
     },
     "metadata": {},
     "output_type": "display_data"
    },
    {
     "name": "stdout",
     "output_type": "stream",
     "text": [
      "Distribution(min=1, q1=63.0, median=135.0, q3=268.0, max=13026)\n"
     ]
    },
    {
     "data": {
      "image/png": "[encoded data removed]",
      "text/plain": [
       "<Figure size 576x288 with 2 Axes>"
      ]
     },
     "metadata": {},
     "output_type": "display_data"
    }
   ],
   "source": [
    "@calculate_auto(CONFIG)\n",
    "@close_fig\n",
    "def fn(cells, prefix):\n",
    "    column = cells.groupby(\"notebook_id\")['lines'].agg('sum')\n",
    "    distribution = distribution_with_boxplot(column, 0, 1500, 200, \"Notebooks\", \"Lines\",  True)\n",
    "    print(distribution)\n",
    "    plt.gcf().set_size_inches(8, 4)\n"
   ]
  },
  {
   "cell_type": "markdown",
   "metadata": {},
   "source": [
    "### Python cells"
   ]
  },
  {
   "cell_type": "code",
   "execution_count": 32,
   "metadata": {},
   "outputs": [
    {
     "data": {
      "text/markdown": [
       "### Default"
      ],
      "text/plain": [
       "<IPython.core.display.Markdown object>"
      ]
     },
     "metadata": {},
     "output_type": "display_data"
    },
    {
     "name": "stdout",
     "output_type": "stream",
     "text": [
      "Distribution(min=1, q1=48.25, median=107.0, q3=233.75, max=12933)\n"
     ]
    },
    {
     "data": {
      "image/png": "[encoded data removed]",
      "text/plain": [
       "<Figure size 576x288 with 2 Axes>"
      ]
     },
     "metadata": {},
     "output_type": "display_data"
    },
    {
     "data": {
      "text/markdown": [
       "### Remove duplicates"
      ],
      "text/plain": [
       "<IPython.core.display.Markdown object>"
      ]
     },
     "metadata": {},
     "output_type": "display_data"
    },
    {
     "name": "stdout",
     "output_type": "stream",
     "text": [
      "Distribution(min=1, q1=48.25, median=107.0, q3=233.75, max=12933)\n"
     ]
    },
    {
     "data": {
      "image/png": "[encoded data removed]",
      "text/plain": [
       "<Figure size 576x288 with 2 Axes>"
      ]
     },
     "metadata": {},
     "output_type": "display_data"
    },
    {
     "data": {
      "text/markdown": [
       "### Remove duplicates and toy"
      ],
      "text/plain": [
       "<IPython.core.display.Markdown object>"
      ]
     },
     "metadata": {},
     "output_type": "display_data"
    },
    {
     "name": "stdout",
     "output_type": "stream",
     "text": [
      "Distribution(min=1, q1=48.25, median=107.0, q3=233.75, max=12933)\n"
     ]
    },
    {
     "data": {
      "image/png": "[encoded data removed]",
      "text/plain": [
       "<Figure size 576x288 with 2 Axes>"
      ]
     },
     "metadata": {},
     "output_type": "display_data"
    },
    {
     "data": {
      "text/markdown": [
       "### Remove duplicates and restricted toy"
      ],
      "text/plain": [
       "<IPython.core.display.Markdown object>"
      ]
     },
     "metadata": {},
     "output_type": "display_data"
    },
    {
     "name": "stdout",
     "output_type": "stream",
     "text": [
      "Distribution(min=1, q1=48.25, median=107.0, q3=233.75, max=12933)\n"
     ]
    },
    {
     "data": {
      "image/png": "[encoded data removed]",
      "text/plain": [
       "<Figure size 576x288 with 2 Axes>"
      ]
     },
     "metadata": {},
     "output_type": "display_data"
    }
   ],
   "source": [
    "@calculate_auto(CONFIG)\n",
    "@close_fig\n",
    "def fn(python_cells, prefix):\n",
    "    column = python_cells.groupby(\"notebook_id\")['lines'].agg('sum')\n",
    "    distribution = distribution_with_boxplot(column, 0, 1000, 150, \"Notebooks\", \"Python Lines\",  True)\n",
    "    print(distribution)\n",
    "    plt.gcf().set_size_inches(8, 4)"
   ]
  },
  {
   "cell_type": "markdown",
   "metadata": {},
   "source": [
    "### Julia cells"
   ]
  },
  {
   "cell_type": "code",
   "execution_count": 33,
   "metadata": {},
   "outputs": [
    {
     "data": {
      "text/markdown": [
       "### Default"
      ],
      "text/plain": [
       "<IPython.core.display.Markdown object>"
      ]
     },
     "metadata": {},
     "output_type": "display_data"
    },
    {
     "name": "stdout",
     "output_type": "stream",
     "text": [
      "Distribution(min=3, q1=68.0, median=121.0, q3=162.0, max=941)\n"
     ]
    },
    {
     "data": {
      "image/png": "[encoded data removed]",
      "text/plain": [
       "<Figure size 576x288 with 2 Axes>"
      ]
     },
     "metadata": {},
     "output_type": "display_data"
    },
    {
     "data": {
      "text/markdown": [
       "### Remove duplicates"
      ],
      "text/plain": [
       "<IPython.core.display.Markdown object>"
      ]
     },
     "metadata": {},
     "output_type": "display_data"
    },
    {
     "name": "stdout",
     "output_type": "stream",
     "text": [
      "Distribution(min=3, q1=68.0, median=121.0, q3=162.0, max=941)\n"
     ]
    },
    {
     "data": {
      "image/png": "[encoded data removed]",
      "text/plain": [
       "<Figure size 576x288 with 2 Axes>"
      ]
     },
     "metadata": {},
     "output_type": "display_data"
    },
    {
     "data": {
      "text/markdown": [
       "### Remove duplicates and toy"
      ],
      "text/plain": [
       "<IPython.core.display.Markdown object>"
      ]
     },
     "metadata": {},
     "output_type": "display_data"
    },
    {
     "name": "stdout",
     "output_type": "stream",
     "text": [
      "Distribution(min=3, q1=68.0, median=121.0, q3=162.0, max=941)\n"
     ]
    },
    {
     "data": {
      "image/png": "[encoded data removed]",
      "text/plain": [
       "<Figure size 576x288 with 2 Axes>"
      ]
     },
     "metadata": {},
     "output_type": "display_data"
    },
    {
     "data": {
      "text/markdown": [
       "### Remove duplicates and restricted toy"
      ],
      "text/plain": [
       "<IPython.core.display.Markdown object>"
      ]
     },
     "metadata": {},
     "output_type": "display_data"
    },
    {
     "name": "stdout",
     "output_type": "stream",
     "text": [
      "Distribution(min=3, q1=68.0, median=121.0, q3=162.0, max=941)\n"
     ]
    },
    {
     "data": {
      "image/png": "[encoded data removed]",
      "text/plain": [
       "<Figure size 576x288 with 2 Axes>"
      ]
     },
     "metadata": {},
     "output_type": "display_data"
    }
   ],
   "source": [
    "@calculate_auto(CONFIG)\n",
    "@close_fig\n",
    "def fn(julia_cells, prefix):\n",
    "    column = julia_cells.groupby(\"notebook_id\")['lines'].agg('sum')\n",
    "    distribution = distribution_with_boxplot(column, 0, 1000, 150, \"Notebooks\", \"Julia Lines\",  True)\n",
    "    print(distribution)\n",
    "    plt.gcf().set_size_inches(8, 4)"
   ]
  },
  {
   "cell_type": "markdown",
   "metadata": {},
   "source": [
    "### R cells"
   ]
  },
  {
   "cell_type": "code",
   "execution_count": 34,
   "metadata": {},
   "outputs": [
    {
     "data": {
      "text/markdown": [
       "### Default"
      ],
      "text/plain": [
       "<IPython.core.display.Markdown object>"
      ]
     },
     "metadata": {},
     "output_type": "display_data"
    },
    {
     "name": "stdout",
     "output_type": "stream",
     "text": [
      "Distribution(min=1, q1=71.0, median=128.0, q3=265.0, max=2942)\n"
     ]
    },
    {
     "data": {
      "image/png": "[encoded data removed]",
      "text/plain": [
       "<Figure size 576x288 with 2 Axes>"
      ]
     },
     "metadata": {},
     "output_type": "display_data"
    },
    {
     "data": {
      "text/markdown": [
       "### Remove duplicates"
      ],
      "text/plain": [
       "<IPython.core.display.Markdown object>"
      ]
     },
     "metadata": {},
     "output_type": "display_data"
    },
    {
     "name": "stdout",
     "output_type": "stream",
     "text": [
      "Distribution(min=1, q1=71.0, median=128.0, q3=265.0, max=2942)\n"
     ]
    },
    {
     "data": {
      "image/png": "[encoded data removed]",
      "text/plain": [
       "<Figure size 576x288 with 2 Axes>"
      ]
     },
     "metadata": {},
     "output_type": "display_data"
    },
    {
     "data": {
      "text/markdown": [
       "### Remove duplicates and toy"
      ],
      "text/plain": [
       "<IPython.core.display.Markdown object>"
      ]
     },
     "metadata": {},
     "output_type": "display_data"
    },
    {
     "name": "stdout",
     "output_type": "stream",
     "text": [
      "Distribution(min=1, q1=71.0, median=128.0, q3=265.0, max=2942)\n"
     ]
    },
    {
     "data": {
      "image/png": "[encoded data removed]",
      "text/plain": [
       "<Figure size 576x288 with 2 Axes>"
      ]
     },
     "metadata": {},
     "output_type": "display_data"
    },
    {
     "data": {
      "text/markdown": [
       "### Remove duplicates and restricted toy"
      ],
      "text/plain": [
       "<IPython.core.display.Markdown object>"
      ]
     },
     "metadata": {},
     "output_type": "display_data"
    },
    {
     "name": "stdout",
     "output_type": "stream",
     "text": [
      "Distribution(min=1, q1=71.0, median=128.0, q3=265.0, max=2942)\n"
     ]
    },
    {
     "data": {
      "image/png": "[encoded data removed]",
      "text/plain": [
       "<Figure size 576x288 with 2 Axes>"
      ]
     },
     "metadata": {},
     "output_type": "display_data"
    }
   ],
   "source": [
    "@calculate_auto(CONFIG)\n",
    "@close_fig\n",
    "def fn(r_cells, prefix):\n",
    "    column = r_cells.groupby(\"notebook_id\")['lines'].agg('sum')\n",
    "    distribution = distribution_with_boxplot(column, 0, 1000, 150, \"Notebooks\", \"R Lines\",  True)\n",
    "    print(distribution)\n",
    "    plt.gcf().set_size_inches(8, 4)"
   ]
  },
  {
   "cell_type": "markdown",
   "metadata": {},
   "source": [
    "### Markdown cells"
   ]
  },
  {
   "cell_type": "code",
   "execution_count": null,
   "metadata": {},
   "outputs": [
    {
     "data": {
      "text/markdown": [
       "### Default"
      ],
      "text/plain": [
       "<IPython.core.display.Markdown object>"
      ]
     },
     "metadata": {},
     "output_type": "display_data"
    },
    {
     "name": "stdout",
     "output_type": "stream",
     "text": [
      "Distribution(min=1, q1=7.0, median=18.0, q3=42.0, max=1841)\n"
     ]
    },
    {
     "data": {
      "image/png": "[encoded data removed]",
      "text/plain": [
       "<Figure size 576x288 with 2 Axes>"
      ]
     },
     "metadata": {},
     "output_type": "display_data"
    },
    {
     "data": {
      "text/markdown": [
       "### Remove duplicates"
      ],
      "text/plain": [
       "<IPython.core.display.Markdown object>"
      ]
     },
     "metadata": {},
     "output_type": "display_data"
    }
   ],
   "source": [
    "@calculate_auto(CONFIG)\n",
    "@close_fig\n",
    "def fn(markdown_cells, prefix):\n",
    "    column = markdown_cells.groupby(\"notebook_id\")['lines'].agg('sum')\n",
    "    distribution = distribution_with_boxplot(column, 0, 1000, 150, \"Notebooks\", \"Markdown Lines\",  True)\n",
    "    print(distribution)\n",
    "    plt.gcf().set_size_inches(8, 4)"
   ]
  },
  {
   "cell_type": "markdown",
   "metadata": {},
   "source": [
    "## Distribution of Cells"
   ]
  },
  {
   "cell_type": "code",
   "execution_count": null,
   "metadata": {},
   "outputs": [],
   "source": [
    "bins = 1000\n",
    "def process_regions(df):\n",
    "    df[\"floor_index\"] = np.floor(df[\"index\"] / df[\"notebook_cells\"] * bins).astype(int)\n",
    "    df[\"ceil_index\"] = np.ceil((df[\"index\"] + 1) / df[\"notebook_cells\"] * bins).astype(int)\n",
    "    result = defaultdict(Counter)\n",
    "    for i, row in df.iterrows():\n",
    "        result[row[\"cell_type\"]].update(range(row[\"floor_index\"], row[\"ceil_index\"] + 1))\n",
    "        if row[\"max_execution_count\"] > -0 and row[\"cell_type\"] == \"code\":\n",
    "            if row[\"language\"] == \"python\" and row[\"processed\"] & 1 == 0:\n",
    "                if row[\"has_import\"]:\n",
    "                    result[\"has_import\"].update(range(row[\"floor_index\"], row[\"ceil_index\"] + 1))\n",
    "                else:\n",
    "                    result[\"does_not_have_import\"].update(range(row[\"floor_index\"], row[\"ceil_index\"] + 1))\n",
    "            if row[\"empty\"]:\n",
    "                result[\"exe_empty\"].update(range(row[\"floor_index\"], row[\"ceil_index\"] + 1))\n",
    "            if row[\"execution_count\"] == \"*\":\n",
    "                result[\"exe_middle\"].update(range(row[\"floor_index\"], row[\"ceil_index\"] + 1))\n",
    "            elif row[\"execution_count\"] == \"&nbsp;\":\n",
    "                result[\"exe_blank\"].update(range(row[\"floor_index\"], row[\"ceil_index\"] + 1))\n",
    "            elif isinstance(row[\"execution_count\"], float):\n",
    "                result[\"exe_blank\"].update(range(row[\"floor_index\"], row[\"ceil_index\"] + 1))\n",
    "            else:\n",
    "                try:\n",
    "                    prop = int(row[\"execution_count\"]) / row[\"max_execution_count\"] \n",
    "                    result[\"exe_executed\"].update(range(row[\"floor_index\"], row[\"ceil_index\"] + 1))\n",
    "                except Exception as e:\n",
    "                    print(e)\n",
    "            \n",
    "    return result\n",
    "\n",
    "@calculate_auto(CONFIG, save_to=\"regions\", result=None)\n",
    "def fn(cells, prefix):\n",
    "    regions = cells.map_partitions(process_regions).compute()\n",
    "    return regions"
   ]
  },
  {
   "cell_type": "code",
   "execution_count": null,
   "metadata": {},
   "outputs": [],
   "source": [
    "@calculate_auto(CONFIG, save_to=\"keys\", result=None, level=None)\n",
    "def fn(regions, prefix):\n",
    "    keys = {\n",
    "        key \n",
    "        for region in regions\n",
    "        for key in region\n",
    "    }\n",
    "    return keys"
   ]
  },
  {
   "cell_type": "code",
   "execution_count": null,
   "metadata": {},
   "outputs": [],
   "source": [
    "@calculate_auto(CONFIG, save_to=\"cell_type_bins\", result=None, level=None)\n",
    "def fn(keys, regions, prefix):\n",
    "    cell_type_bins = {\n",
    "        key: sum((region[key] for region in regions), Counter())\n",
    "        for key in keys\n",
    "    }\n",
    "    return cell_type_bins"
   ]
  },
  {
   "cell_type": "code",
   "execution_count": null,
   "metadata": {},
   "outputs": [],
   "source": [
    "@calculate_auto(CONFIG, save_to=\"cell_type_bins_arrays\", result=None)\n",
    "def fn(cell_type_bins, prefix):\n",
    "    cell_type_bins_arrays = {\n",
    "        key: np.array([counter[i] for i in range(bins + 1)])\n",
    "        for key, counter in cell_type_bins.items()\n",
    "    }\n",
    "    pprint(cell_type_bins_arrays)\n",
    "    return cell_type_bins_arrays"
   ]
  },
  {
   "cell_type": "markdown",
   "metadata": {},
   "source": [
    "### Markdown x Code"
   ]
  },
  {
   "cell_type": "code",
   "execution_count": null,
   "metadata": {},
   "outputs": [],
   "source": [
    "select = [\"code\", \"markdown\"] #, \"raw\", \"heading\"]\n",
    "\n",
    "@calculate_auto(CONFIG)\n",
    "@close_fig\n",
    "def fn(cell_type_bins_arrays, prefix):\n",
    "    with cell_distribution(prefix + \"celltype_distribution\", 6, 2, select, bins, cell_type_bins_arrays) as ax:\n",
    "        ax.annotate(\"markdown\", xy=(30, 80), color=\"white\", weight=\"bold\")\n",
    "        ax.annotate(\"code\", xy=(850, 20), color=\"white\", weight=\"bold\")"
   ]
  },
  {
   "cell_type": "markdown",
   "metadata": {},
   "source": [
    "### Import distribution"
   ]
  },
  {
   "cell_type": "code",
   "execution_count": null,
   "metadata": {},
   "outputs": [],
   "source": [
    "select = [\"has_import\", \"does_not_have_import\"]\n",
    "\n",
    "@calculate_auto(CONFIG)\n",
    "@close_fig\n",
    "def fn(cell_type_bins_arrays, prefix):\n",
    "    with cell_distribution(prefix + \"import_distribution\", 6, 2, select, bins, cell_type_bins_arrays) as ax:\n",
    "        ax.annotate(\"no-import\", xy=(730, 80), color=\"white\", weight=\"bold\")\n",
    "        ax.annotate(\"import\", xy=(30, 5), color=\"white\", weight=\"bold\")"
   ]
  },
  {
   "cell_type": "markdown",
   "metadata": {},
   "source": [
    "### Execution distribution"
   ]
  },
  {
   "cell_type": "code",
   "execution_count": null,
   "metadata": {},
   "outputs": [],
   "source": [
    "select = [\"exe_executed\", \"exe_blank\", \"exe_empty\"]\n",
    "@calculate_auto(CONFIG)\n",
    "@close_fig\n",
    "def fn(cell_type_bins_arrays, prefix):\n",
    "    with cell_distribution(prefix + \"execution_distribution\", 6, 2, select, bins, cell_type_bins_arrays) as ax:\n",
    "        ax.annotate(\"executed\", xy=(30, 20), color=\"white\", weight=\"bold\")\n",
    "        ax.annotate(\"no-exec\", xy=(800, 80), rotation=-30, color=\"white\", weight=\"bold\")\n",
    "        ax.annotate(\"empty\", xy=(850, 90), color=\"white\", weight=\"bold\")\n",
    "        ax.set_ylim(0, 100)"
   ]
  },
  {
   "cell_type": "markdown",
   "metadata": {},
   "source": [
    "## Status"
   ]
  },
  {
   "cell_type": "code",
   "execution_count": null,
   "metadata": {},
   "outputs": [],
   "source": [
    "@calculate_auto(CONFIG, save_to=\"series\", result=None)\n",
    "def fn(cells, prefix):\n",
    "    series = cells.groupby(\"processed\").size().compute()\n",
    "    print(series)\n",
    "    return series"
   ]
  },
  {
   "cell_type": "code",
   "execution_count": null,
   "metadata": {},
   "outputs": [],
   "source": [
    "@calculate_auto(CONFIG)\n",
    "@close_fig\n",
    "def fn(series, prefix):\n",
    "    series.plot(kind=\"bar\")"
   ]
  },
  {
   "cell_type": "code",
   "execution_count": null,
   "metadata": {},
   "outputs": [],
   "source": [
    "@calculate_auto(CONFIG, save_to=\"described\", result=None)\n",
    "def fn(series, prefix):\n",
    "    described = describe_processed(series, C_STATUSES, True)\n",
    "    print(described)\n",
    "    return described"
   ]
  },
  {
   "cell_type": "code",
   "execution_count": null,
   "metadata": {},
   "outputs": [],
   "source": [
    "@calculate_auto(CONFIG)\n",
    "@close_fig\n",
    "def fn(described, prefix):\n",
    "    described.plot(kind=\"bar\")"
   ]
  },
  {
   "cell_type": "markdown",
   "metadata": {},
   "source": [
    "* Note that we only process python code cells and markdown cells. All the others are ignored"
   ]
  }
 ],
 "metadata": {
  "kernelspec": {
   "display_name": "Python 3",
   "language": "python",
   "name": "python3"
  },
  "language_info": {
   "codemirror_mode": {
    "name": "ipython",
    "version": 3
   },
   "file_extension": ".py",
   "mimetype": "text/x-python",
   "name": "python",
   "nbconvert_exporter": "python",
   "pygments_lexer": "ipython3",
   "version": "3.8.8"
  },
  "notify_time": "5",
  "toc": {
   "base_numbering": 1,
   "nav_menu": {},
   "number_sections": true,
   "sideBar": true,
   "skip_h1_title": false,
   "title_cell": "Table of Contents",
   "title_sidebar": "Contents",
   "toc_cell": true,
   "toc_position": {
    "height": "1032px",
    "left": "0px",
    "right": "1132.89px",
    "top": "111px",
    "width": "220px"
   },
   "toc_section_display": true,
   "toc_window_display": true
  }
 },
 "nbformat": 4,
 "nbformat_minor": 4
}
