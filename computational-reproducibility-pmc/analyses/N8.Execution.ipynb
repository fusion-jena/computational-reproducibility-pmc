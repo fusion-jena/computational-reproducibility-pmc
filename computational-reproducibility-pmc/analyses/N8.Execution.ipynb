{
 "cells": [
  {
   "cell_type": "markdown",
   "metadata": {
    "toc": true
   },
   "source": [
    "<h1>Table of Contents<span class=\"tocSkip\"></span></h1>\n",
    "<div class=\"toc\"><ul class=\"toc-item\"><li><span><a href=\"#Executions\" data-toc-modified-id=\"Executions-1\"><span class=\"toc-item-num\">1&nbsp;&nbsp;</span>Executions</a></span><ul class=\"toc-item\"><li><span><a href=\"#Restrict-notebooks\" data-toc-modified-id=\"Restrict-notebooks-1.1\"><span class=\"toc-item-num\">1.1&nbsp;&nbsp;</span>Restrict notebooks</a></span></li><li><span><a href=\"#Skip-reason\" data-toc-modified-id=\"Skip-reason-1.2\"><span class=\"toc-item-num\">1.2&nbsp;&nbsp;</span>Skip reason</a></span></li></ul></li><li><span><a href=\"#Failed-dependencies\" data-toc-modified-id=\"Failed-dependencies-2\"><span class=\"toc-item-num\">2&nbsp;&nbsp;</span>Failed dependencies</a></span><ul class=\"toc-item\"><li><span><a href=\"#Problematic-dependency-files\" data-toc-modified-id=\"Problematic-dependency-files-2.1\"><span class=\"toc-item-num\">2.1&nbsp;&nbsp;</span>Problematic dependency files</a></span><ul class=\"toc-item\"><li><span><a href=\"#setup.py\" data-toc-modified-id=\"setup.py-2.1.1\"><span class=\"toc-item-num\">2.1.1&nbsp;&nbsp;</span>setup.py</a></span></li><li><span><a href=\"#requirements.txt\" data-toc-modified-id=\"requirements.txt-2.1.2\"><span class=\"toc-item-num\">2.1.2&nbsp;&nbsp;</span>requirements.txt</a></span></li><li><span><a href=\"#Pipfile\" data-toc-modified-id=\"Pipfile-2.1.3\"><span class=\"toc-item-num\">2.1.3&nbsp;&nbsp;</span>Pipfile</a></span></li></ul></li><li><span><a href=\"#Install-failures\" data-toc-modified-id=\"Install-failures-2.2\"><span class=\"toc-item-num\">2.2&nbsp;&nbsp;</span>Install failures</a></span><ul class=\"toc-item\"><li><span><a href=\"#Missing-file\" data-toc-modified-id=\"Missing-file-2.2.1\"><span class=\"toc-item-num\">2.2.1&nbsp;&nbsp;</span>Missing file</a></span></li><li><span><a href=\"#Malformed-files\" data-toc-modified-id=\"Malformed-files-2.2.2\"><span class=\"toc-item-num\">2.2.2&nbsp;&nbsp;</span>Malformed files</a></span></li><li><span><a href=\"#Python-dependency\" data-toc-modified-id=\"Python-dependency-2.2.3\"><span class=\"toc-item-num\">2.2.3&nbsp;&nbsp;</span>Python dependency</a></span></li><li><span><a href=\"#External-dependency\" data-toc-modified-id=\"External-dependency-2.2.4\"><span class=\"toc-item-num\">2.2.4&nbsp;&nbsp;</span>External dependency</a></span></li><li><span><a href=\"#System\" data-toc-modified-id=\"System-2.2.5\"><span class=\"toc-item-num\">2.2.5&nbsp;&nbsp;</span>System</a></span></li><li><span><a href=\"#Python-version\" data-toc-modified-id=\"Python-version-2.2.6\"><span class=\"toc-item-num\">2.2.6&nbsp;&nbsp;</span>Python version</a></span></li><li><span><a href=\"#Unknown\" data-toc-modified-id=\"Unknown-2.2.7\"><span class=\"toc-item-num\">2.2.7&nbsp;&nbsp;</span>Unknown</a></span></li></ul></li><li><span><a href=\"#Installed-dependencies\" data-toc-modified-id=\"Installed-dependencies-2.3\"><span class=\"toc-item-num\">2.3&nbsp;&nbsp;</span>Installed dependencies</a></span></li><li><span><a href=\"#Non-declared-dependencies\" data-toc-modified-id=\"Non-declared-dependencies-2.4\"><span class=\"toc-item-num\">2.4&nbsp;&nbsp;</span>Non-declared dependencies</a></span></li></ul></li><li><span><a href=\"#Reproducibility-study\" data-toc-modified-id=\"Reproducibility-study-3\"><span class=\"toc-item-num\">3&nbsp;&nbsp;</span>Reproducibility study</a></span><ul class=\"toc-item\"><li><span><a href=\"#Corrupted-files\" data-toc-modified-id=\"Corrupted-files-3.1\"><span class=\"toc-item-num\">3.1&nbsp;&nbsp;</span>Corrupted files</a></span></li><li><span><a href=\"#Exceptions\" data-toc-modified-id=\"Exceptions-3.2\"><span class=\"toc-item-num\">3.2&nbsp;&nbsp;</span>Exceptions</a></span><ul class=\"toc-item\"><li><span><a href=\"#Reason\" data-toc-modified-id=\"Reason-3.2.1\"><span class=\"toc-item-num\">3.2.1&nbsp;&nbsp;</span>Reason</a></span></li><li><span><a href=\"#ImportError-and-ModuleNotFoundError\" data-toc-modified-id=\"ImportError-and-ModuleNotFoundError-3.2.2\"><span class=\"toc-item-num\">3.2.2&nbsp;&nbsp;</span>ImportError and ModuleNotFoundError</a></span></li><li><span><a href=\"#NameError\" data-toc-modified-id=\"NameError-3.2.3\"><span class=\"toc-item-num\">3.2.3&nbsp;&nbsp;</span>NameError</a></span></li><li><span><a href=\"#FileNotFoundError-and-IOError\" data-toc-modified-id=\"FileNotFoundError-and-IOError-3.2.4\"><span class=\"toc-item-num\">3.2.4&nbsp;&nbsp;</span>FileNotFoundError and IOError</a></span></li><li><span><a href=\"#With-dependencies-exceptions\" data-toc-modified-id=\"With-dependencies-exceptions-3.2.5\"><span class=\"toc-item-num\">3.2.5&nbsp;&nbsp;</span>With dependencies exceptions</a></span></li></ul></li><li><span><a href=\"#Timeout\" data-toc-modified-id=\"Timeout-3.3\"><span class=\"toc-item-num\">3.3&nbsp;&nbsp;</span>Timeout</a></span></li><li><span><a href=\"#Finished-execution\" data-toc-modified-id=\"Finished-execution-3.4\"><span class=\"toc-item-num\">3.4&nbsp;&nbsp;</span>Finished execution</a></span></li><li><span><a href=\"#Different-results\" data-toc-modified-id=\"Different-results-3.5\"><span class=\"toc-item-num\">3.5&nbsp;&nbsp;</span>Different results</a></span></li><li><span><a href=\"#Mismatch-distribution\" data-toc-modified-id=\"Mismatch-distribution-3.6\"><span class=\"toc-item-num\">3.6&nbsp;&nbsp;</span>Mismatch distribution</a></span></li></ul></li><li><span><a href=\"#Processed\" data-toc-modified-id=\"Processed-4\"><span class=\"toc-item-num\">4&nbsp;&nbsp;</span>Processed</a></span></li></ul></div>"
   ]
  },
  {
   "cell_type": "markdown",
   "metadata": {},
   "source": [
    "# Executions\n",
    "\n",
    "Analyze executions: dependencies, failure reasons, mismatches, exceptions."
   ]
  },
  {
   "cell_type": "code",
   "execution_count": 1,
   "metadata": {},
   "outputs": [],
   "source": [
    "import sys\n",
    "\n",
    "sys.path.insert(0, \"../archaeology\")\n",
    "sys.path.insert(0, \"../analysis\")\n",
    "import importlib\n",
    "from collections import Counter, defaultdict\n",
    "from math import ceil, floor, isnan\n",
    "from pprint import pprint\n",
    "\n",
    "import matplotlib\n",
    "import matplotlib.ticker as ticker\n",
    "import numpy as np\n",
    "import pandas as pd\n",
    "from IPython.display import display\n",
    "from matplotlib import pyplot as plt\n",
    "\n",
    "from db import connect\n",
    "import analysis_helpers\n",
    "\n",
    "importlib.reload(analysis_helpers)\n",
    "from analysis_helpers import (calculate_auto, cell_distribution, close_fig,\n",
    "                              describe_processed, display_counts,\n",
    "                              distribution_with_boxplot, print_result,\n",
    "                              relative_var, savefig)\n",
    "\n",
    "%matplotlib inline"
   ]
  },
  {
   "cell_type": "code",
   "execution_count": 2,
   "metadata": {},
   "outputs": [
    {
     "name": "stdout",
     "output_type": "stream",
     "text": [
      "CPU times: user 62.5 ms, sys: 11.4 ms, total: 73.9 ms\n",
      "Wall time: 73 ms\n"
     ]
    }
   ],
   "source": [
    "%%time\n",
    "with connect() as session:\n",
    "    # print('Last query:', session.query(Query).all()[-1])\n",
    "    query = (\n",
    "        \"SELECT id, notebook_id, mode, reason, msg, diff, cell, count, diff_count, timeout, duration, processed, skip \"\n",
    "        \"FROM executions \"\n",
    "    )\n",
    "    raw_executions = pd.read_sql(query, session.connection())"
   ]
  },
  {
   "cell_type": "markdown",
   "metadata": {},
   "source": [
    "## Restrict notebooks"
   ]
  },
  {
   "cell_type": "code",
   "execution_count": 3,
   "metadata": {},
   "outputs": [],
   "source": [
    "SKIP_MAP = {\n",
    "    \"f_\": 1024 + 512,\n",
    "    \"d_\": 1024 + 512 + 128,\n",
    "    \"dt_\": 1024 + 512 + 128 + 32,\n",
    "    \"dr_\": 1024 + 512 + 128 + 64,\n",
    "    \"ft_\": 1024 + 512 + 32,\n",
    "    \"fr_\": 1024 + 512 + 64,\n",
    "}\n",
    "\n",
    "CONFIG = {\n",
    "    \"Default\": \"f_\",\n",
    "    \"Remove duplicates\": \"d_\",\n",
    "    \"Remove duplicates and toy\": \"dt_\",\n",
    "    \"Remove duplicates and restricted toy\": \"dr_\",\n",
    "    \"Remove toy\": \"ft_\",\n",
    "    \"Remove restricted toy\": \"fr_\",\n",
    "}"
   ]
  },
  {
   "cell_type": "code",
   "execution_count": 4,
   "metadata": {},
   "outputs": [],
   "source": [
    "@calculate_auto(CONFIG, save_to=\"executions\", level=None)\n",
    "def func(prefix=\"\"):\n",
    "    return raw_executions[\n",
    "        np.bitwise_and(raw_executions[\"skip\"], SKIP_MAP[prefix]) == 0\n",
    "    ].copy()"
   ]
  },
  {
   "cell_type": "code",
   "execution_count": 5,
   "metadata": {},
   "outputs": [],
   "source": [
    "@calculate_auto(CONFIG, save_to=\"total_notebooks\", result=None, level=None)\n",
    "def fn(prefix):\n",
    "    with connect() as session:\n",
    "        query = (\n",
    "            \"SELECT count(id) \"\n",
    "            \"FROM notebooks \"\n",
    "            \"WHERE NOT (kernel = 'no-kernel' AND nbformat = '0') \"\n",
    "            \"AND total_cells != 0 \"\n",
    "            \"AND skip & {} = 0\"\n",
    "        ).format(SKIP_MAP[prefix])\n",
    "\n",
    "        result = session.execute(query)\n",
    "        total_notebooks = result.scalar()\n",
    "        return total_notebooks\n",
    "\n",
    "\n",
    "@calculate_auto(CONFIG, save_to=\"notebooks_with_setup_py\", result=None, level=None)\n",
    "def fn(prefix):\n",
    "    with connect() as session:\n",
    "        query = (\n",
    "            \"SELECT id as notebook_id \"\n",
    "            \"FROM notebooks \"\n",
    "            \"WHERE repository_id IN ( \"\n",
    "            \"SELECT id FROM repositories \"\n",
    "            \"WHERE setups_count > 0 \"\n",
    "            \")\"\n",
    "            \"AND skip & {} = 0\"\n",
    "        ).format(SKIP_MAP[prefix])\n",
    "\n",
    "        notebooks_with_setup_py = pd.read_sql(query, session.connection())\n",
    "        return notebooks_with_setup_py\n",
    "\n",
    "\n",
    "@calculate_auto(\n",
    "    CONFIG, save_to=\"notebooks_with_requirement_txt\", result=None, level=None\n",
    ")\n",
    "def fn(prefix):\n",
    "    with connect() as session:\n",
    "        query = (\n",
    "            \"SELECT id as notebook_id \"\n",
    "            \"FROM notebooks \"\n",
    "            \"WHERE repository_id IN ( \"\n",
    "            \"SELECT id FROM repositories \"\n",
    "            \"WHERE requirements_count > 0 \"\n",
    "            \")\"\n",
    "            \"AND skip & {} = 0\"\n",
    "        ).format(SKIP_MAP[prefix])\n",
    "\n",
    "        notebooks_with_requirement_txt = pd.read_sql(query, session.connection())\n",
    "        return notebooks_with_requirement_txt\n",
    "\n",
    "\n",
    "@calculate_auto(CONFIG, save_to=\"notebooks_with_pipfile\", result=None, level=None)\n",
    "def fn(prefix):\n",
    "    with connect() as session:\n",
    "        query = (\n",
    "            \"SELECT id as notebook_id \"\n",
    "            \"FROM notebooks \"\n",
    "            \"WHERE repository_id IN ( \"\n",
    "            \"SELECT id FROM repositories \"\n",
    "            \"WHERE pipfiles_count > 0 \"\n",
    "            \"OR pipfile_locks_count > 0 \"\n",
    "            \")\"\n",
    "            \"AND skip & {} = 0\"\n",
    "        ).format(SKIP_MAP[prefix])\n",
    "\n",
    "        notebooks_with_pipfile = pd.read_sql(query, session.connection())\n",
    "        return notebooks_with_pipfile"
   ]
  },
  {
   "cell_type": "code",
   "execution_count": 6,
   "metadata": {},
   "outputs": [
    {
     "data": {
      "text/markdown": [
       "### Default"
      ],
      "text/plain": [
       "<IPython.core.display.Markdown object>"
      ]
     },
     "metadata": {},
     "output_type": "display_data"
    },
    {
     "name": "stdout",
     "output_type": "stream",
     "text": [
      "4673\n"
     ]
    },
    {
     "data": {
      "text/markdown": [
       "### Remove duplicates"
      ],
      "text/plain": [
       "<IPython.core.display.Markdown object>"
      ]
     },
     "metadata": {},
     "output_type": "display_data"
    },
    {
     "name": "stdout",
     "output_type": "stream",
     "text": [
      "4673\n"
     ]
    },
    {
     "data": {
      "text/markdown": [
       "### Remove duplicates and toy"
      ],
      "text/plain": [
       "<IPython.core.display.Markdown object>"
      ]
     },
     "metadata": {},
     "output_type": "display_data"
    },
    {
     "name": "stdout",
     "output_type": "stream",
     "text": [
      "4673\n"
     ]
    },
    {
     "data": {
      "text/markdown": [
       "### Remove duplicates and restricted toy"
      ],
      "text/plain": [
       "<IPython.core.display.Markdown object>"
      ]
     },
     "metadata": {},
     "output_type": "display_data"
    },
    {
     "name": "stdout",
     "output_type": "stream",
     "text": [
      "4673\n"
     ]
    },
    {
     "data": {
      "text/markdown": [
       "### Remove toy"
      ],
      "text/plain": [
       "<IPython.core.display.Markdown object>"
      ]
     },
     "metadata": {},
     "output_type": "display_data"
    },
    {
     "name": "stdout",
     "output_type": "stream",
     "text": [
      "4673\n"
     ]
    },
    {
     "data": {
      "text/markdown": [
       "### Remove restricted toy"
      ],
      "text/plain": [
       "<IPython.core.display.Markdown object>"
      ]
     },
     "metadata": {},
     "output_type": "display_data"
    },
    {
     "name": "stdout",
     "output_type": "stream",
     "text": [
      "4673\n"
     ]
    },
    {
     "data": {
      "text/markdown": [
       "### Default"
      ],
      "text/plain": [
       "<IPython.core.display.Markdown object>"
      ]
     },
     "metadata": {},
     "output_type": "display_data"
    },
    {
     "name": "stdout",
     "output_type": "stream",
     "text": [
      "Executions: 4,169 (43.45%)\n"
     ]
    },
    {
     "data": {
      "text/markdown": [
       "### Remove duplicates"
      ],
      "text/plain": [
       "<IPython.core.display.Markdown object>"
      ]
     },
     "metadata": {},
     "output_type": "display_data"
    },
    {
     "name": "stdout",
     "output_type": "stream",
     "text": [
      "Executions: 4,169 (43.45%)\n"
     ]
    },
    {
     "data": {
      "text/markdown": [
       "### Remove duplicates and toy"
      ],
      "text/plain": [
       "<IPython.core.display.Markdown object>"
      ]
     },
     "metadata": {},
     "output_type": "display_data"
    },
    {
     "name": "stdout",
     "output_type": "stream",
     "text": [
      "Executions: 4,169 (43.45%)\n"
     ]
    },
    {
     "data": {
      "text/markdown": [
       "### Remove duplicates and restricted toy"
      ],
      "text/plain": [
       "<IPython.core.display.Markdown object>"
      ]
     },
     "metadata": {},
     "output_type": "display_data"
    },
    {
     "name": "stdout",
     "output_type": "stream",
     "text": [
      "Executions: 4,169 (43.45%)\n"
     ]
    },
    {
     "data": {
      "text/markdown": [
       "### Remove toy"
      ],
      "text/plain": [
       "<IPython.core.display.Markdown object>"
      ]
     },
     "metadata": {},
     "output_type": "display_data"
    },
    {
     "name": "stdout",
     "output_type": "stream",
     "text": [
      "Executions: 4,169 (43.45%)\n"
     ]
    },
    {
     "data": {
      "text/markdown": [
       "### Remove restricted toy"
      ],
      "text/plain": [
       "<IPython.core.display.Markdown object>"
      ]
     },
     "metadata": {},
     "output_type": "display_data"
    },
    {
     "name": "stdout",
     "output_type": "stream",
     "text": [
      "Executions: 4,169 (43.45%)\n"
     ]
    }
   ],
   "source": [
    "@calculate_auto(CONFIG, save_to=\"executions_with_skipped\", result=None)\n",
    "def fn(executions, prefix):\n",
    "    executions_with_skipped = executions\n",
    "    print(len(executions_with_skipped))\n",
    "    return executions_with_skipped\n",
    "\n",
    "\n",
    "@calculate_auto(CONFIG, save_to=\"executions\", result=None, level=None)\n",
    "def fn(executions, prefix):\n",
    "    executions = executions[executions[\"reason\"] != \"<Skipping notebook>\"]\n",
    "    return executions\n",
    "\n",
    "\n",
    "@calculate_auto(CONFIG, save_to=\"attempted_executions_total\", result=None)\n",
    "def fn(executions, total_notebooks, prefix):\n",
    "    attempted_executions_total = len(executions)\n",
    "    print(\n",
    "        \"Executions:\",\n",
    "        relative_var(\n",
    "            prefix + \"attempted_executions\", attempted_executions_total, total_notebooks\n",
    "        ),\n",
    "    )\n",
    "    return attempted_executions_total"
   ]
  },
  {
   "cell_type": "markdown",
   "metadata": {},
   "source": [
    "## Skip reason"
   ]
  },
  {
   "cell_type": "code",
   "execution_count": 7,
   "metadata": {},
   "outputs": [
    {
     "data": {
      "text/markdown": [
       "### Default"
      ],
      "text/plain": [
       "<IPython.core.display.Markdown object>"
      ]
     },
     "metadata": {},
     "output_type": "display_data"
    },
    {
     "name": "stdout",
     "output_type": "stream",
     "text": [
      "504\n"
     ]
    },
    {
     "data": {
      "text/markdown": [
       "### Remove duplicates"
      ],
      "text/plain": [
       "<IPython.core.display.Markdown object>"
      ]
     },
     "metadata": {},
     "output_type": "display_data"
    },
    {
     "name": "stdout",
     "output_type": "stream",
     "text": [
      "504\n"
     ]
    },
    {
     "data": {
      "text/markdown": [
       "### Remove duplicates and toy"
      ],
      "text/plain": [
       "<IPython.core.display.Markdown object>"
      ]
     },
     "metadata": {},
     "output_type": "display_data"
    },
    {
     "name": "stdout",
     "output_type": "stream",
     "text": [
      "504\n"
     ]
    },
    {
     "data": {
      "text/markdown": [
       "### Remove duplicates and restricted toy"
      ],
      "text/plain": [
       "<IPython.core.display.Markdown object>"
      ]
     },
     "metadata": {},
     "output_type": "display_data"
    },
    {
     "name": "stdout",
     "output_type": "stream",
     "text": [
      "504\n"
     ]
    },
    {
     "data": {
      "text/markdown": [
       "### Remove toy"
      ],
      "text/plain": [
       "<IPython.core.display.Markdown object>"
      ]
     },
     "metadata": {},
     "output_type": "display_data"
    },
    {
     "name": "stdout",
     "output_type": "stream",
     "text": [
      "504\n"
     ]
    },
    {
     "data": {
      "text/markdown": [
       "### Remove restricted toy"
      ],
      "text/plain": [
       "<IPython.core.display.Markdown object>"
      ]
     },
     "metadata": {},
     "output_type": "display_data"
    },
    {
     "name": "stdout",
     "output_type": "stream",
     "text": [
      "504\n"
     ]
    }
   ],
   "source": [
    "@calculate_auto(CONFIG)\n",
    "def fn(executions_with_skipped, prefix):\n",
    "    e = executions_with_skipped\n",
    "    e = e[e[\"reason\"] == \"<Skipping notebook>\"]\n",
    "    return len(\n",
    "        e[((e[\"msg\"] == \"Repeated cell numbers\") | (e[\"msg\"] == \"No numbered cells\"))]\n",
    "    )"
   ]
  },
  {
   "cell_type": "markdown",
   "metadata": {},
   "source": [
    "# Failed dependencies"
   ]
  },
  {
   "cell_type": "code",
   "execution_count": 8,
   "metadata": {},
   "outputs": [
    {
     "data": {
      "text/markdown": [
       "### Default"
      ],
      "text/plain": [
       "<IPython.core.display.Markdown object>"
      ]
     },
     "metadata": {},
     "output_type": "display_data"
    },
    {
     "name": "stdout",
     "output_type": "stream",
     "text": [
      "2,279 (54.67%)\n"
     ]
    },
    {
     "data": {
      "text/markdown": [
       "### Remove duplicates"
      ],
      "text/plain": [
       "<IPython.core.display.Markdown object>"
      ]
     },
     "metadata": {},
     "output_type": "display_data"
    },
    {
     "name": "stdout",
     "output_type": "stream",
     "text": [
      "2,279 (54.67%)\n"
     ]
    },
    {
     "data": {
      "text/markdown": [
       "### Remove duplicates and toy"
      ],
      "text/plain": [
       "<IPython.core.display.Markdown object>"
      ]
     },
     "metadata": {},
     "output_type": "display_data"
    },
    {
     "name": "stdout",
     "output_type": "stream",
     "text": [
      "2,279 (54.67%)\n"
     ]
    },
    {
     "data": {
      "text/markdown": [
       "### Remove duplicates and restricted toy"
      ],
      "text/plain": [
       "<IPython.core.display.Markdown object>"
      ]
     },
     "metadata": {},
     "output_type": "display_data"
    },
    {
     "name": "stdout",
     "output_type": "stream",
     "text": [
      "2,279 (54.67%)\n"
     ]
    },
    {
     "data": {
      "text/markdown": [
       "### Remove toy"
      ],
      "text/plain": [
       "<IPython.core.display.Markdown object>"
      ]
     },
     "metadata": {},
     "output_type": "display_data"
    },
    {
     "name": "stdout",
     "output_type": "stream",
     "text": [
      "2,279 (54.67%)\n"
     ]
    },
    {
     "data": {
      "text/markdown": [
       "### Remove restricted toy"
      ],
      "text/plain": [
       "<IPython.core.display.Markdown object>"
      ]
     },
     "metadata": {},
     "output_type": "display_data"
    },
    {
     "name": "stdout",
     "output_type": "stream",
     "text": [
      "2,279 (54.67%)\n"
     ]
    }
   ],
   "source": [
    "@calculate_auto(CONFIG)\n",
    "def fn(executions, attempted_executions_total, prefix):\n",
    "    return relative_var(\n",
    "        prefix + \"attempted_installations\",\n",
    "        len(executions[executions[\"mode\"] == 3]),\n",
    "        attempted_executions_total,\n",
    "    )"
   ]
  },
  {
   "cell_type": "code",
   "execution_count": 9,
   "metadata": {},
   "outputs": [
    {
     "data": {
      "text/markdown": [
       "### Default"
      ],
      "text/plain": [
       "<IPython.core.display.Markdown object>"
      ]
     },
     "metadata": {},
     "output_type": "display_data"
    },
    {
     "name": "stdout",
     "output_type": "stream",
     "text": [
      "1,485 (35.62%)\n"
     ]
    },
    {
     "data": {
      "text/markdown": [
       "### Remove duplicates"
      ],
      "text/plain": [
       "<IPython.core.display.Markdown object>"
      ]
     },
     "metadata": {},
     "output_type": "display_data"
    },
    {
     "name": "stdout",
     "output_type": "stream",
     "text": [
      "1,485 (35.62%)\n"
     ]
    },
    {
     "data": {
      "text/markdown": [
       "### Remove duplicates and toy"
      ],
      "text/plain": [
       "<IPython.core.display.Markdown object>"
      ]
     },
     "metadata": {},
     "output_type": "display_data"
    },
    {
     "name": "stdout",
     "output_type": "stream",
     "text": [
      "1,485 (35.62%)\n"
     ]
    },
    {
     "data": {
      "text/markdown": [
       "### Remove duplicates and restricted toy"
      ],
      "text/plain": [
       "<IPython.core.display.Markdown object>"
      ]
     },
     "metadata": {},
     "output_type": "display_data"
    },
    {
     "name": "stdout",
     "output_type": "stream",
     "text": [
      "1,485 (35.62%)\n"
     ]
    },
    {
     "data": {
      "text/markdown": [
       "### Remove toy"
      ],
      "text/plain": [
       "<IPython.core.display.Markdown object>"
      ]
     },
     "metadata": {},
     "output_type": "display_data"
    },
    {
     "name": "stdout",
     "output_type": "stream",
     "text": [
      "1,485 (35.62%)\n"
     ]
    },
    {
     "data": {
      "text/markdown": [
       "### Remove restricted toy"
      ],
      "text/plain": [
       "<IPython.core.display.Markdown object>"
      ]
     },
     "metadata": {},
     "output_type": "display_data"
    },
    {
     "name": "stdout",
     "output_type": "stream",
     "text": [
      "1,485 (35.62%)\n"
     ]
    }
   ],
   "source": [
    "@calculate_auto(CONFIG, save_to=\"failed_installations\", result=None)\n",
    "def fn(executions, attempted_executions_total, prefix):\n",
    "    failed_installations = executions[executions[\"processed\"] == 0]\n",
    "    total = len(failed_installations)\n",
    "    print(\n",
    "        relative_var(prefix + \"failed_installations\", total, attempted_executions_total)\n",
    "    )\n",
    "    return failed_installations"
   ]
  },
  {
   "cell_type": "code",
   "execution_count": 10,
   "metadata": {},
   "outputs": [],
   "source": [
    "def interpret_msg(value):\n",
    "    it = iter(value)\n",
    "    first = next(it) + next(it)\n",
    "    result = {\n",
    "        \"setup.py\": 0,\n",
    "        \"requirements.txt\": 0,\n",
    "        \"Pipfile\": 0,\n",
    "        \"Pipfile.lock\": 0,\n",
    "        \"setup.py-output\": \"\",\n",
    "        \"requirements.txt-output\": \"\",\n",
    "        \"Pipfile-output\": \"\",\n",
    "        \"Pipfile.lock-output\": \"\",\n",
    "        \"setup.py-error\": \"\",\n",
    "        \"requirements.txt-error\": \"\",\n",
    "        \"Pipfile-error\": \"\",\n",
    "        \"Pipfile.lock-error\": \"\",\n",
    "    }\n",
    "    if first != \"\\\\x\":\n",
    "        return pd.Series(result)\n",
    "    values = \"\".join([chr(int(a + b, base=16)) for a, b in zip(it, it)]).split(\n",
    "        \"##<<>>##\"\n",
    "    )\n",
    "    ok = values.pop(0).strip(\"Ok: \").strip().split(\", \")\n",
    "    for v in ok:\n",
    "        result[v] = 1\n",
    "\n",
    "    failed = values.pop(0).strip(\"Failed: \").strip().split(\", \")\n",
    "    for v in failed:\n",
    "        result[v] = -1\n",
    "        temp = values.pop(0).split(\"##<>##\")\n",
    "        output = temp.pop(1).strip().strip(\"Output:\").strip()\n",
    "        error = temp.pop(1).strip().strip(\"Error:\").strip()\n",
    "        result[v + \"-output\"] = output\n",
    "        result[v + \"-error\"] = error\n",
    "\n",
    "    return pd.Series(result)\n",
    "\n",
    "\n",
    "@calculate_auto(CONFIG, save_to=\"df\", result=None, level=None)\n",
    "def fn(failed_installations, prefix):\n",
    "    return failed_installations[\"msg\"].apply(interpret_msg)"
   ]
  },
  {
   "cell_type": "markdown",
   "metadata": {},
   "source": [
    "## Problematic dependency files"
   ]
  },
  {
   "cell_type": "markdown",
   "metadata": {},
   "source": [
    "### setup.py"
   ]
  },
  {
   "cell_type": "code",
   "execution_count": 11,
   "metadata": {},
   "outputs": [
    {
     "data": {
      "text/markdown": [
       "### Default"
      ],
      "text/plain": [
       "<IPython.core.display.Markdown object>"
      ]
     },
     "metadata": {},
     "output_type": "display_data"
    },
    {
     "name": "stdout",
     "output_type": "stream",
     "text": [
      "0 (0.00%)\n"
     ]
    },
    {
     "data": {
      "text/markdown": [
       "### Remove duplicates"
      ],
      "text/plain": [
       "<IPython.core.display.Markdown object>"
      ]
     },
     "metadata": {},
     "output_type": "display_data"
    },
    {
     "name": "stdout",
     "output_type": "stream",
     "text": [
      "0 (0.00%)\n"
     ]
    },
    {
     "data": {
      "text/markdown": [
       "### Remove duplicates and toy"
      ],
      "text/plain": [
       "<IPython.core.display.Markdown object>"
      ]
     },
     "metadata": {},
     "output_type": "display_data"
    },
    {
     "name": "stdout",
     "output_type": "stream",
     "text": [
      "0 (0.00%)\n"
     ]
    },
    {
     "data": {
      "text/markdown": [
       "### Remove duplicates and restricted toy"
      ],
      "text/plain": [
       "<IPython.core.display.Markdown object>"
      ]
     },
     "metadata": {},
     "output_type": "display_data"
    },
    {
     "name": "stdout",
     "output_type": "stream",
     "text": [
      "0 (0.00%)\n"
     ]
    },
    {
     "data": {
      "text/markdown": [
       "### Remove toy"
      ],
      "text/plain": [
       "<IPython.core.display.Markdown object>"
      ]
     },
     "metadata": {},
     "output_type": "display_data"
    },
    {
     "name": "stdout",
     "output_type": "stream",
     "text": [
      "0 (0.00%)\n"
     ]
    },
    {
     "data": {
      "text/markdown": [
       "### Remove restricted toy"
      ],
      "text/plain": [
       "<IPython.core.display.Markdown object>"
      ]
     },
     "metadata": {},
     "output_type": "display_data"
    },
    {
     "name": "stdout",
     "output_type": "stream",
     "text": [
      "0 (0.00%)\n"
     ]
    }
   ],
   "source": [
    "@calculate_auto(CONFIG)\n",
    "def fn(executions, df, notebooks_with_setup_py, prefix):\n",
    "    total = len(\n",
    "        executions[\n",
    "            executions[\"notebook_id\"].isin(\n",
    "                set(notebooks_with_setup_py[\"notebook_id\"].tolist())\n",
    "            )\n",
    "        ]\n",
    "    )\n",
    "    failed = len(df[df[\"setup.py\"] == -1])\n",
    "    return relative_var(prefix + \"failed_setup_py\", failed, total)"
   ]
  },
  {
   "cell_type": "markdown",
   "metadata": {},
   "source": [
    "### requirements.txt"
   ]
  },
  {
   "cell_type": "code",
   "execution_count": 12,
   "metadata": {},
   "outputs": [
    {
     "data": {
      "text/markdown": [
       "### Default"
      ],
      "text/plain": [
       "<IPython.core.display.Markdown object>"
      ]
     },
     "metadata": {},
     "output_type": "display_data"
    },
    {
     "name": "stdout",
     "output_type": "stream",
     "text": [
      "0 (0.00%)\n"
     ]
    },
    {
     "data": {
      "text/markdown": [
       "### Remove duplicates"
      ],
      "text/plain": [
       "<IPython.core.display.Markdown object>"
      ]
     },
     "metadata": {},
     "output_type": "display_data"
    },
    {
     "name": "stdout",
     "output_type": "stream",
     "text": [
      "0 (0.00%)\n"
     ]
    },
    {
     "data": {
      "text/markdown": [
       "### Remove duplicates and toy"
      ],
      "text/plain": [
       "<IPython.core.display.Markdown object>"
      ]
     },
     "metadata": {},
     "output_type": "display_data"
    },
    {
     "name": "stdout",
     "output_type": "stream",
     "text": [
      "0 (0.00%)\n"
     ]
    },
    {
     "data": {
      "text/markdown": [
       "### Remove duplicates and restricted toy"
      ],
      "text/plain": [
       "<IPython.core.display.Markdown object>"
      ]
     },
     "metadata": {},
     "output_type": "display_data"
    },
    {
     "name": "stdout",
     "output_type": "stream",
     "text": [
      "0 (0.00%)\n"
     ]
    },
    {
     "data": {
      "text/markdown": [
       "### Remove toy"
      ],
      "text/plain": [
       "<IPython.core.display.Markdown object>"
      ]
     },
     "metadata": {},
     "output_type": "display_data"
    },
    {
     "name": "stdout",
     "output_type": "stream",
     "text": [
      "0 (0.00%)\n"
     ]
    },
    {
     "data": {
      "text/markdown": [
       "### Remove restricted toy"
      ],
      "text/plain": [
       "<IPython.core.display.Markdown object>"
      ]
     },
     "metadata": {},
     "output_type": "display_data"
    },
    {
     "name": "stdout",
     "output_type": "stream",
     "text": [
      "0 (0.00%)\n"
     ]
    }
   ],
   "source": [
    "@calculate_auto(CONFIG)\n",
    "def fn(executions, df, notebooks_with_requirement_txt, prefix):\n",
    "    total = len(\n",
    "        executions[\n",
    "            executions[\"notebook_id\"].isin(\n",
    "                set(notebooks_with_requirement_txt[\"notebook_id\"].tolist())\n",
    "            )\n",
    "        ]\n",
    "    )\n",
    "    failed = len(df[df[\"requirements.txt\"] == -1])\n",
    "    return relative_var(prefix + \"failed_requirements_txt\", failed, total)"
   ]
  },
  {
   "cell_type": "markdown",
   "metadata": {},
   "source": [
    "### Pipfile"
   ]
  },
  {
   "cell_type": "code",
   "execution_count": 13,
   "metadata": {},
   "outputs": [
    {
     "data": {
      "text/markdown": [
       "### Default"
      ],
      "text/plain": [
       "<IPython.core.display.Markdown object>"
      ]
     },
     "metadata": {},
     "output_type": "display_data"
    },
    {
     "name": "stdout",
     "output_type": "stream",
     "text": [
      "0 (0.00%)\n"
     ]
    },
    {
     "data": {
      "text/markdown": [
       "### Remove duplicates"
      ],
      "text/plain": [
       "<IPython.core.display.Markdown object>"
      ]
     },
     "metadata": {},
     "output_type": "display_data"
    },
    {
     "name": "stdout",
     "output_type": "stream",
     "text": [
      "0 (0.00%)\n"
     ]
    },
    {
     "data": {
      "text/markdown": [
       "### Remove duplicates and toy"
      ],
      "text/plain": [
       "<IPython.core.display.Markdown object>"
      ]
     },
     "metadata": {},
     "output_type": "display_data"
    },
    {
     "name": "stdout",
     "output_type": "stream",
     "text": [
      "0 (0.00%)\n"
     ]
    },
    {
     "data": {
      "text/markdown": [
       "### Remove duplicates and restricted toy"
      ],
      "text/plain": [
       "<IPython.core.display.Markdown object>"
      ]
     },
     "metadata": {},
     "output_type": "display_data"
    },
    {
     "name": "stdout",
     "output_type": "stream",
     "text": [
      "0 (0.00%)\n"
     ]
    },
    {
     "data": {
      "text/markdown": [
       "### Remove toy"
      ],
      "text/plain": [
       "<IPython.core.display.Markdown object>"
      ]
     },
     "metadata": {},
     "output_type": "display_data"
    },
    {
     "name": "stdout",
     "output_type": "stream",
     "text": [
      "0 (0.00%)\n"
     ]
    },
    {
     "data": {
      "text/markdown": [
       "### Remove restricted toy"
      ],
      "text/plain": [
       "<IPython.core.display.Markdown object>"
      ]
     },
     "metadata": {},
     "output_type": "display_data"
    },
    {
     "name": "stdout",
     "output_type": "stream",
     "text": [
      "0 (0.00%)\n"
     ]
    }
   ],
   "source": [
    "@calculate_auto(CONFIG)\n",
    "def fn(executions, df, notebooks_with_pipfile, prefix):\n",
    "    total = len(\n",
    "        executions[\n",
    "            executions[\"notebook_id\"].isin(\n",
    "                set(notebooks_with_pipfile[\"notebook_id\"].tolist())\n",
    "            )\n",
    "        ]\n",
    "    )\n",
    "    failed = len(df[(df[\"Pipfile\"] == -1) | (df[\"Pipfile.lock\"] == -1)])\n",
    "    return relative_var(prefix + \"failed_pipfile\", failed, total)"
   ]
  },
  {
   "cell_type": "markdown",
   "metadata": {},
   "source": [
    "## Install failures"
   ]
  },
  {
   "cell_type": "code",
   "execution_count": 14,
   "metadata": {},
   "outputs": [],
   "source": [
    "@calculate_auto(CONFIG, save_to=\"failure_reasons\", result=None, level=None)\n",
    "def fn(prefix):\n",
    "    return Counter()\n",
    "\n",
    "\n",
    "@calculate_auto(CONFIG, save_to=\"ndf\", result=None, level=None)\n",
    "def fn(df, prefix):\n",
    "    return df"
   ]
  },
  {
   "cell_type": "code",
   "execution_count": 15,
   "metadata": {
    "code_folding": []
   },
   "outputs": [
    {
     "data": {
      "text/markdown": [
       "### Default"
      ],
      "text/plain": [
       "<IPython.core.display.Markdown object>"
      ]
     },
     "metadata": {},
     "output_type": "display_data"
    },
    {
     "name": "stdout",
     "output_type": "stream",
     "text": [
      "0\n",
      "Counter({'unknown': 1485,\n",
      "         'malformed': 0,\n",
      "         'system': 0,\n",
      "         'missing': 0,\n",
      "         'access-error': 0,\n",
      "         'python-dependency': 0,\n",
      "         'external-dependency': 0,\n",
      "         'python-version': 0})\n"
     ]
    },
    {
     "data": {
      "text/markdown": [
       "### Remove duplicates"
      ],
      "text/plain": [
       "<IPython.core.display.Markdown object>"
      ]
     },
     "metadata": {},
     "output_type": "display_data"
    },
    {
     "name": "stdout",
     "output_type": "stream",
     "text": [
      "0\n",
      "Counter({'unknown': 1485,\n",
      "         'malformed': 0,\n",
      "         'system': 0,\n",
      "         'missing': 0,\n",
      "         'access-error': 0,\n",
      "         'python-dependency': 0,\n",
      "         'external-dependency': 0,\n",
      "         'python-version': 0})\n"
     ]
    },
    {
     "data": {
      "text/markdown": [
       "### Remove duplicates and toy"
      ],
      "text/plain": [
       "<IPython.core.display.Markdown object>"
      ]
     },
     "metadata": {},
     "output_type": "display_data"
    },
    {
     "name": "stdout",
     "output_type": "stream",
     "text": [
      "0\n",
      "Counter({'unknown': 1485,\n",
      "         'malformed': 0,\n",
      "         'system': 0,\n",
      "         'missing': 0,\n",
      "         'access-error': 0,\n",
      "         'python-dependency': 0,\n",
      "         'external-dependency': 0,\n",
      "         'python-version': 0})\n"
     ]
    },
    {
     "data": {
      "text/markdown": [
       "### Remove duplicates and restricted toy"
      ],
      "text/plain": [
       "<IPython.core.display.Markdown object>"
      ]
     },
     "metadata": {},
     "output_type": "display_data"
    },
    {
     "name": "stdout",
     "output_type": "stream",
     "text": [
      "0\n",
      "Counter({'unknown': 1485,\n",
      "         'malformed': 0,\n",
      "         'system': 0,\n",
      "         'missing': 0,\n",
      "         'access-error': 0,\n",
      "         'python-dependency': 0,\n",
      "         'external-dependency': 0,\n",
      "         'python-version': 0})\n"
     ]
    },
    {
     "data": {
      "text/markdown": [
       "### Remove toy"
      ],
      "text/plain": [
       "<IPython.core.display.Markdown object>"
      ]
     },
     "metadata": {},
     "output_type": "display_data"
    },
    {
     "name": "stdout",
     "output_type": "stream",
     "text": [
      "0\n",
      "Counter({'unknown': 1485,\n",
      "         'malformed': 0,\n",
      "         'system': 0,\n",
      "         'missing': 0,\n",
      "         'access-error': 0,\n",
      "         'python-dependency': 0,\n",
      "         'external-dependency': 0,\n",
      "         'python-version': 0})\n"
     ]
    },
    {
     "data": {
      "text/markdown": [
       "### Remove restricted toy"
      ],
      "text/plain": [
       "<IPython.core.display.Markdown object>"
      ]
     },
     "metadata": {},
     "output_type": "display_data"
    },
    {
     "name": "stdout",
     "output_type": "stream",
     "text": [
      "0\n",
      "Counter({'unknown': 1485,\n",
      "         'malformed': 0,\n",
      "         'system': 0,\n",
      "         'missing': 0,\n",
      "         'access-error': 0,\n",
      "         'python-dependency': 0,\n",
      "         'external-dependency': 0,\n",
      "         'python-version': 0})\n"
     ]
    }
   ],
   "source": [
    "output_messages = {\n",
    "    \"NameError: \": \"malformed\",\n",
    "    \"AttributeError: \": \"malformed\",\n",
    "    \"IndexError: \": \"malformed\",\n",
    "    \"TypeError: \": \"malformed\",\n",
    "    \"IOError: \": \"malformed\",\n",
    "    \"EOFError:\": \"malformed\",\n",
    "    \"RuntimeError: \": \"malformed\",\n",
    "    \"ValueError: \": \"malformed\",\n",
    "    \"IndentationError: \": \"malformed\",\n",
    "    \"SyntaxError: \": \"malformed\",\n",
    "    \"option --single-version-externally-managed not recognize\": \"malformed\",\n",
    "    \"USAGE IS setup.py\": \"malformed\",\n",
    "    \"Usage: setup.py install\": \"malformed\",\n",
    "    \"'extras_require' must be a dictionary whose values are strings or lists of strings containing valid project/version requirement specifiers\": \"malformed\",\n",
    "    \"should either be a path to a local project or a VCS url beginning with svn\": \"malformed\",\n",
    "    \"Invalid distribution name or version syntax\": \"malformed\",\n",
    "    \"EntryPoint must be in\": \"malformed\",\n",
    "    \"invalid choice: 'egg_info'\": \"malformed\",\n",
    "    \"Invalid requirement, parse error at\": \"malformed\",\n",
    "    \"Could not parse object\": \"malformed\",\n",
    "    \"Please set --dir\": \"malformed\",\n",
    "    \"was unable to detect version for\": \"malformed\",\n",
    "    \"error: unknown file type '.so'\": \"malformed\",\n",
    "    \"You probably meant to install and run\": \"malformed\",\n",
    "    \"Permission denied: '/usr/local/share/jupyter'\": \"malformed\",\n",
    "    \"OSError: \": \"system\",\n",
    "    \"Conda is only supported in\": \"system\",\n",
    "    \"Only supported on a Pynq-Z1 Board\": \"system\",\n",
    "    \"Could not detect if running on the Raspberry Pi or Beaglebone Black\": \"system\",\n",
    "    \"This distribution is only supported on MacOSX\": \"system\",\n",
    "    \"NotFoundError: \": \"missing\",\n",
    "    \"IsADirectoryError: \": \"missing\",\n",
    "    \"tarfile.ReadError:\": \"missing\",\n",
    "    \"/bin/sh: 1: pkg-config: not found\": \"missing\",\n",
    "    \"No such file or directory\": \"missing\",\n",
    "    \"does not exist\": \"missing\",\n",
    "    \"RuntimeError: Cannot find the files\": \"missing\",\n",
    "    \"did not match any file\": \"missing\",\n",
    "    \"does not name an existing file\": \"missing\",\n",
    "    \"\\\\[Errno 21\\\\] Is a directory\": \"missing\",\n",
    "    \"Couldn't find a setup script in\": \"missing\",\n",
    "    \"HTTPError: \": \"access-error\",\n",
    "    \"DistributionNotFound: \": \"access-error\",\n",
    "    \"Could not read from remote repository\": \"access-error\",\n",
    "    \"Server does not allow request for unadvertised object\": \"access-error\",\n",
    "    \"fatal: could not read Username\": \"access-error\",\n",
    "    \"Failed to connect to\": \"access-error\",\n",
    "    # \"No module named\": \"python-dependency\",\n",
    "    \"ImportError: \": \"python-dependency\",\n",
    "    \"requires numpy and cython\": \"python-dependency\",\n",
    "    \"This package requires NumPy\": \"python-dependency\",\n",
    "    \"You must install numpy\": \"python-dependency\",\n",
    "    \"Install requires numpy\": \"python-dependency\",\n",
    "    \"Please install numpy\": \"python-dependency\",\n",
    "    \"you will need numpy\": \"python-dependency\",\n",
    "    \"numpy is required during installation\": \"python-dependency\",\n",
    "    \"Need numpy for installation\": \"python-dependency\",\n",
    "    \"Numpy and its headers are required\": \"python-dependency\",\n",
    "    \"NumPy version is lower than needed\": \"python-dependency\",\n",
    "    \"You must have Cython\": \"python-dependency\",\n",
    "    \"No module named 'distutils.errors'\": \"python-dependency\",\n",
    "    \"Please install the `scikit-image` package\": \"python-dependency\",\n",
    "    \"install requires: 'numpy'.\": \"python-dependency\",\n",
    "    \"Please install the corresponding packages\": \"python-dependency\",\n",
    "    \"must be available and importable as a prerequisite\": \"python-dependency\",\n",
    "    \"This package currently requires numpy\": \"python-dependency\",\n",
    "    \"make sure you have Cython\": \"python-dependency\",\n",
    "    \"Cython is required\": \"python-dependency\",\n",
    "    \"Cython must be installed\": \"python-dependency\",\n",
    "    \"You need Cython\": \"python-dependency\",\n",
    "    \"Please upgrade to a newer Cython version\": \"python-dependency\",\n",
    "    \"requires a version of NumPy, even for setup\": \"python-dependency\",\n",
    "    \"subprocess.CalledProcessError: \": \"external-dependency\",\n",
    "    \"You need to install postgresql-server-dev\": \"external-dependency\",\n",
    "    \"CompileError: command 'gcc' failed with exit status\": \"external-dependency\",\n",
    "    \"Cannot find XGBoost Libarary in the candicate path\": \"external-dependency\",\n",
    "    \"The following required packages can not be built:\": \"external-dependency\",\n",
    "    \"OSError: Could not find library geos_c or load any of its variants\": \"external-dependency\",\n",
    "    \"no acceptable C compiler found in\": \"external-dependency\",\n",
    "    \"mysql_config not found\": \"external-dependency\",\n",
    "    \"Proj4 4.9.0 must be installed.\": \"external-dependency\",\n",
    "    \"gcc: command not found\": \"external-dependency\",\n",
    "    \"which is normally used to compile C extensions\": \"external-dependency\",\n",
    "    \"command 'gcc' failed with exit status\": \"external-dependency\",\n",
    "    \"Error: Tried to guess R's HOME but no command 'R' in the PATH\": \"external-dependency\",\n",
    "    \"HOME but no command \\(R\\) in the PATH\": \"external-dependency\",\n",
    "    \"Please install GCC\": \"external-dependency\",\n",
    "    'Could not find \"cmake\" executable': \"external-dependency\",\n",
    "    \"npm is required\": \"external-dependency\",\n",
    "    \"C library was not found.\": \"external-dependency\",\n",
    "    \"is required to install\": \"external-dependency\",\n",
    "    \"Cannot find XGBoost Library in the candidate path\": \"external-dependency\",\n",
    "    \"No Java/JDK could be found.\": \"external-dependency\",\n",
    "    \"is not supported on Python 3.\": \"external-dependency\",\n",
    "    \"No working compiler found\": \"external-dependency\",\n",
    "    \"You must have the Ogg Python bindings\": \"external-dependency\",\n",
    "    \"no Fortran compiler found\": \"external-dependency\",\n",
    "    \"Ops! We need the\": \"external-dependency\",\n",
    "    \"Could not find a local HDF5 installation\": \"external-dependency\",\n",
    "    \"no R command in the PATH\": \"external-dependency\",\n",
    "    \"command 'g\\+\\+' failed with exit status\": \"external-dependency\",\n",
    "    \"Can't find a local Berkeley DB installation.\": \"external-dependency\",\n",
    "    \"requires the xclip\": \"external-dependency\",\n",
    "    \"Please make sure a development version of SDL\": \"external-dependency\",\n",
    "    \"Cannot find boost_python library\": \"external-dependency\",\n",
    "    \"internal compiler error\": \"external-dependency\",\n",
    "    \"Please install swig\": \"external-dependency\",\n",
    "    \"error: command 'swig' failed with exit status 1\": \"external-dependency\",\n",
    "    \"Could not find cmake executable\": \"external-dependency\",\n",
    "    \"must set CPPTRAJHOME if there is no cpptraj in current folder\": \"external-dependency\",\n",
    "    \"g\\\\+\\\\+: not found\": \"external-dependency\",\n",
    "    \"g\\\\+\\\\+: command not found\": \"external-dependency\",\n",
    "    \"Make sure you have either g\\\\+\\\\+\": \"external-dependency\",\n",
    "    \"You need to run .* first.\": \"external-dependency\",\n",
    "    \"Please add the directory containing .* to the PATH\": \"external-dependency\",\n",
    "    \"no C\\+\\+ compiler found\": \"external-dependency\",\n",
    "    \"finding javahome on linux\": \"external-dependency\",\n",
    "    \"This backport is for Python 2.7 only.\": \"python-version\",\n",
    "    \"VersionConflict: \": \"python-version\",\n",
    "    \"This backport is for Python 2.x only\": \"python-version\",\n",
    "    \"IPython 6.0\\+ does not support Python\": \"python-version\",\n",
    "    \"is no longer written for Python 2.\": \"python-version\",\n",
    "    \"is no longer supporting Python < 3\": \"python-version\",\n",
    "    \"python3 repository on python2\": \"python-version\",\n",
    "    \"requires at least Python 3\": \"python-version\",\n",
    "    \"Python 3 required\": \"python-version\",\n",
    "    \"is only supported by Python 3\": \"python-version\",\n",
    "    \"only works on python 2\": \"python-version\",\n",
    "    \"Python version >= 3 required\": \"python-version\",\n",
    "    \"Sorry, Python < .* is not supported\": \"python-version\",\n",
    "    \"does not work on any version of Python 3\": \"python-version\",\n",
    "    \"can only be used with Python 3\": \"python-version\",\n",
    "    \"distutils.errors.CompileError: command 'cc' failed with exit status 1\": \"unknown\",\n",
    "    \"notebookarchaeology\": \"unknown\",\n",
    "}\n",
    "\n",
    "error_messages = {\n",
    "    \"is not a valid operator. Did you mean\": \"malformed\",\n",
    "    \"Double requirement given: \": \"malformed\",\n",
    "    \"/bin/sh: 1: Syntax error: \": \"malformed\",\n",
    "    \"Invalid requirement:\": \"malformed\",\n",
    "    \"is not installable.\": \"malformed\",\n",
    "    \"Could not detect requirement name\": \"malformed\",\n",
    "    \"no such option: \": \"malformed\",\n",
    "    \"UnicodeEncodeError: \": \"malformed\",\n",
    "    \"TypeError: \": \"malformed\",\n",
    "    \"ValueError: \": \"malformed\",\n",
    "    \"UnicodeDecodeError: \": \"malformed\",\n",
    "    \"TomlDecodeError: \": \"malformed\",\n",
    "    \"should either be a path to a local project or a VCS url beginning with svn\": \"malformed\",\n",
    "    \"This will just run build.py\": \"malformed\",\n",
    "    \"ImportError: \": \"malformed\",\n",
    "    \"There are incompatible versions in the resolved dependencies.\": \"malformed\",\n",
    "    \"Could not find a version that satisfies the requirement\": \"missing\",\n",
    "    \"It looks like a path. File\": \"missing\",\n",
    "    \"Could not open requirements file\": \"missing\",\n",
    "    \"No files/directories in \": \"missing\",\n",
    "    \"does not exist\": \"missing\",\n",
    "    \"tarfile.ReadError: \": \"missing\",\n",
    "    \"No such file or directory\": \"missing\",\n",
    "    \"Files/directories not found in\": \"missing\",\n",
    "    \"It is a distutils installed project and thus we cannot accurately determine which files belong to it which would lead to only a partial uninstall.\": \"system\",\n",
    "    \"is not a supported wheel on this platform.\": \"system\",\n",
    "    \" which is incompatible.\": \"system\",\n",
    "    \"EnvironmentError: \": \"system\",\n",
    "    \"HTTP error 404 while getting\": \"access-error\",\n",
    "    \"Could not read from remote repository\": \"access-error\",\n",
    "    \"Was https://github.com/.* reachable?\": \"access-error\",\n",
    "    \"Was https://pypi.org/ reachable?\": \"access-error\",\n",
    "    \"requires lxml, which is not installed.\": \"external-dependency\",\n",
    "    \"Cannot find command 'hg'\": \"external-dependency\",\n",
    "    \"Python .* was not found on your system\": \"external-dependency\",\n",
    "    \"but the running Python is 2.7\": \"python-version\",\n",
    "    \"prml requires Python '>=.*' but the running\": \"python-version\",\n",
    "    \"requires Python '>=.*' but the running\": \"python-version\",\n",
    "    \"notebookarchaeology\": \"unknown\",\n",
    "    'pipenv.patched.notpip._internal.exceptions.InstallationError: Command \"python setup.py egg_info\"': \"unknown\",\n",
    "}\n",
    "\n",
    "\n",
    "@calculate_auto(CONFIG, save_to=\"ndf\", result=None)\n",
    "def fn(ndf, failure_reasons, prefix):\n",
    "    for msg, category in output_messages.items():\n",
    "        cond = (\n",
    "            ndf[\"setup.py-output\"].str.contains(msg)\n",
    "            | ndf[\"requirements.txt-output\"].str.contains(msg)\n",
    "            | ndf[\"Pipfile-output\"].str.contains(msg)\n",
    "            | ndf[\"Pipfile.lock-output\"].str.contains(msg)\n",
    "        )\n",
    "        failure_reasons[category] += len(ndf[cond])\n",
    "        ndf = ndf[~cond]\n",
    "\n",
    "    for msg, category in error_messages.items():\n",
    "        cond = (\n",
    "            ndf[\"setup.py-error\"].str.contains(msg)\n",
    "            | ndf[\"requirements.txt-error\"].str.contains(msg)\n",
    "            | ndf[\"Pipfile-error\"].str.contains(msg)\n",
    "            | ndf[\"Pipfile.lock-error\"].str.contains(msg)\n",
    "        )\n",
    "        failure_reasons[category] += len(ndf[cond])\n",
    "        ndf = ndf[~cond]\n",
    "\n",
    "    cond = (\n",
    "        (ndf[\"setup.py\"] == 0)\n",
    "        & (ndf[\"requirements.txt\"] == 0)\n",
    "        & (ndf[\"Pipfile\"] == 0)\n",
    "        & (ndf[\"Pipfile.lock\"] == 0)\n",
    "    )\n",
    "    failure_reasons[\"unknown\"] += len(ndf[cond])\n",
    "    ndf = ndf[~cond]\n",
    "    print(len(ndf))\n",
    "    pprint(failure_reasons)\n",
    "    return ndf"
   ]
  },
  {
   "cell_type": "code",
   "execution_count": 16,
   "metadata": {
    "scrolled": true
   },
   "outputs": [
    {
     "data": {
      "text/markdown": [
       "### Default"
      ],
      "text/plain": [
       "<IPython.core.display.Markdown object>"
      ]
     },
     "metadata": {},
     "output_type": "display_data"
    },
    {
     "name": "stdout",
     "output_type": "stream",
     "text": [
      "Empty DataFrame\n",
      "Columns: [setup.py, requirements.txt, Pipfile, Pipfile.lock, setup.py-output, requirements.txt-output, Pipfile-output, Pipfile.lock-output, setup.py-error, requirements.txt-error, Pipfile-error, Pipfile.lock-error]\n",
      "Index: []\n"
     ]
    },
    {
     "data": {
      "text/markdown": [
       "### Remove duplicates"
      ],
      "text/plain": [
       "<IPython.core.display.Markdown object>"
      ]
     },
     "metadata": {},
     "output_type": "display_data"
    },
    {
     "name": "stdout",
     "output_type": "stream",
     "text": [
      "Empty DataFrame\n",
      "Columns: [setup.py, requirements.txt, Pipfile, Pipfile.lock, setup.py-output, requirements.txt-output, Pipfile-output, Pipfile.lock-output, setup.py-error, requirements.txt-error, Pipfile-error, Pipfile.lock-error]\n",
      "Index: []\n"
     ]
    },
    {
     "data": {
      "text/markdown": [
       "### Remove duplicates and toy"
      ],
      "text/plain": [
       "<IPython.core.display.Markdown object>"
      ]
     },
     "metadata": {},
     "output_type": "display_data"
    },
    {
     "name": "stdout",
     "output_type": "stream",
     "text": [
      "Empty DataFrame\n",
      "Columns: [setup.py, requirements.txt, Pipfile, Pipfile.lock, setup.py-output, requirements.txt-output, Pipfile-output, Pipfile.lock-output, setup.py-error, requirements.txt-error, Pipfile-error, Pipfile.lock-error]\n",
      "Index: []\n"
     ]
    },
    {
     "data": {
      "text/markdown": [
       "### Remove duplicates and restricted toy"
      ],
      "text/plain": [
       "<IPython.core.display.Markdown object>"
      ]
     },
     "metadata": {},
     "output_type": "display_data"
    },
    {
     "name": "stdout",
     "output_type": "stream",
     "text": [
      "Empty DataFrame\n",
      "Columns: [setup.py, requirements.txt, Pipfile, Pipfile.lock, setup.py-output, requirements.txt-output, Pipfile-output, Pipfile.lock-output, setup.py-error, requirements.txt-error, Pipfile-error, Pipfile.lock-error]\n",
      "Index: []\n"
     ]
    },
    {
     "data": {
      "text/markdown": [
       "### Remove toy"
      ],
      "text/plain": [
       "<IPython.core.display.Markdown object>"
      ]
     },
     "metadata": {},
     "output_type": "display_data"
    },
    {
     "name": "stdout",
     "output_type": "stream",
     "text": [
      "Empty DataFrame\n",
      "Columns: [setup.py, requirements.txt, Pipfile, Pipfile.lock, setup.py-output, requirements.txt-output, Pipfile-output, Pipfile.lock-output, setup.py-error, requirements.txt-error, Pipfile-error, Pipfile.lock-error]\n",
      "Index: []\n"
     ]
    },
    {
     "data": {
      "text/markdown": [
       "### Remove restricted toy"
      ],
      "text/plain": [
       "<IPython.core.display.Markdown object>"
      ]
     },
     "metadata": {},
     "output_type": "display_data"
    },
    {
     "name": "stdout",
     "output_type": "stream",
     "text": [
      "Empty DataFrame\n",
      "Columns: [setup.py, requirements.txt, Pipfile, Pipfile.lock, setup.py-output, requirements.txt-output, Pipfile-output, Pipfile.lock-output, setup.py-error, requirements.txt-error, Pipfile-error, Pipfile.lock-error]\n",
      "Index: []\n"
     ]
    }
   ],
   "source": [
    "pd.set_option(\"display.max_colwidth\", 70000)\n",
    "\n",
    "\n",
    "@calculate_auto(CONFIG)\n",
    "def fn(ndf, prefix):\n",
    "    return ndf"
   ]
  },
  {
   "cell_type": "code",
   "execution_count": 17,
   "metadata": {},
   "outputs": [],
   "source": [
    "\"\"\"\n",
    "\n",
    "msg = \"distutils.errors.CompileError: command 'cc' failed with exit status 1\"\n",
    "cond = (\n",
    "    ndf[\"setup.py-output\"].str.contains(msg)\n",
    "    | ndf[\"requirements.txt-output\"].str.contains(msg)\n",
    "    | ndf[\"Pipfile-output\"].str.contains(msg)\n",
    "    | ndf[\"Pipfile.lock-output\"].str.contains(msg)\n",
    ")\n",
    "\n",
    "cond = (\n",
    "    ndf[\"setup.py-error\"].str.contains(msg)\n",
    "    | ndf[\"requirements.txt-error\"].str.contains(msg)\n",
    "    | ndf[\"Pipfile-error\"].str.contains(msg)\n",
    "    | ndf[\"Pipfile.lock-error\"].str.contains(msg)\n",
    ")\n",
    "len(ndf[cond])\n",
    "\"\"\";"
   ]
  },
  {
   "cell_type": "code",
   "execution_count": 18,
   "metadata": {},
   "outputs": [
    {
     "data": {
      "text/plain": [
       "0"
      ]
     },
     "execution_count": 18,
     "metadata": {},
     "output_type": "execute_result"
    }
   ],
   "source": [
    "len(f_ndf)"
   ]
  },
  {
   "cell_type": "code",
   "execution_count": 19,
   "metadata": {},
   "outputs": [],
   "source": [
    "#''.join([hex(ord(l))[2:] for l in \"notebookarchaeology 0.1 requires matplotlib_venn, which is not installed\"])"
   ]
  },
  {
   "cell_type": "code",
   "execution_count": 20,
   "metadata": {},
   "outputs": [],
   "source": [
    "@calculate_auto(CONFIG, save_to=\"total_failed_installations\", result=None, level=None)\n",
    "def fn(failed_installations, prefix):\n",
    "    total_failed_installations = len(failed_installations)\n",
    "    return total_failed_installations"
   ]
  },
  {
   "cell_type": "markdown",
   "metadata": {},
   "source": [
    "### Missing file"
   ]
  },
  {
   "cell_type": "code",
   "execution_count": 21,
   "metadata": {},
   "outputs": [
    {
     "data": {
      "text/markdown": [
       "### Default"
      ],
      "text/plain": [
       "<IPython.core.display.Markdown object>"
      ]
     },
     "metadata": {},
     "output_type": "display_data"
    },
    {
     "name": "stdout",
     "output_type": "stream",
     "text": [
      "0 (0.00%)\n"
     ]
    },
    {
     "data": {
      "text/markdown": [
       "### Remove duplicates"
      ],
      "text/plain": [
       "<IPython.core.display.Markdown object>"
      ]
     },
     "metadata": {},
     "output_type": "display_data"
    },
    {
     "name": "stdout",
     "output_type": "stream",
     "text": [
      "0 (0.00%)\n"
     ]
    },
    {
     "data": {
      "text/markdown": [
       "### Remove duplicates and toy"
      ],
      "text/plain": [
       "<IPython.core.display.Markdown object>"
      ]
     },
     "metadata": {},
     "output_type": "display_data"
    },
    {
     "name": "stdout",
     "output_type": "stream",
     "text": [
      "0 (0.00%)\n"
     ]
    },
    {
     "data": {
      "text/markdown": [
       "### Remove duplicates and restricted toy"
      ],
      "text/plain": [
       "<IPython.core.display.Markdown object>"
      ]
     },
     "metadata": {},
     "output_type": "display_data"
    },
    {
     "name": "stdout",
     "output_type": "stream",
     "text": [
      "0 (0.00%)\n"
     ]
    },
    {
     "data": {
      "text/markdown": [
       "### Remove toy"
      ],
      "text/plain": [
       "<IPython.core.display.Markdown object>"
      ]
     },
     "metadata": {},
     "output_type": "display_data"
    },
    {
     "name": "stdout",
     "output_type": "stream",
     "text": [
      "0 (0.00%)\n"
     ]
    },
    {
     "data": {
      "text/markdown": [
       "### Remove restricted toy"
      ],
      "text/plain": [
       "<IPython.core.display.Markdown object>"
      ]
     },
     "metadata": {},
     "output_type": "display_data"
    },
    {
     "name": "stdout",
     "output_type": "stream",
     "text": [
      "0 (0.00%)\n"
     ]
    }
   ],
   "source": [
    "@calculate_auto(CONFIG)\n",
    "def fn(failure_reasons, total_failed_installations, prefix):\n",
    "    return relative_var(\n",
    "        prefix + \"repro_install_missing\",\n",
    "        failure_reasons[\"missing\"] + failure_reasons[\"access-error\"],\n",
    "        total_failed_installations,\n",
    "    )"
   ]
  },
  {
   "cell_type": "markdown",
   "metadata": {},
   "source": [
    "### Malformed files"
   ]
  },
  {
   "cell_type": "code",
   "execution_count": 22,
   "metadata": {},
   "outputs": [
    {
     "data": {
      "text/markdown": [
       "### Default"
      ],
      "text/plain": [
       "<IPython.core.display.Markdown object>"
      ]
     },
     "metadata": {},
     "output_type": "display_data"
    },
    {
     "name": "stdout",
     "output_type": "stream",
     "text": [
      "0 (0.00%)\n"
     ]
    },
    {
     "data": {
      "text/markdown": [
       "### Remove duplicates"
      ],
      "text/plain": [
       "<IPython.core.display.Markdown object>"
      ]
     },
     "metadata": {},
     "output_type": "display_data"
    },
    {
     "name": "stdout",
     "output_type": "stream",
     "text": [
      "0 (0.00%)\n"
     ]
    },
    {
     "data": {
      "text/markdown": [
       "### Remove duplicates and toy"
      ],
      "text/plain": [
       "<IPython.core.display.Markdown object>"
      ]
     },
     "metadata": {},
     "output_type": "display_data"
    },
    {
     "name": "stdout",
     "output_type": "stream",
     "text": [
      "0 (0.00%)\n"
     ]
    },
    {
     "data": {
      "text/markdown": [
       "### Remove duplicates and restricted toy"
      ],
      "text/plain": [
       "<IPython.core.display.Markdown object>"
      ]
     },
     "metadata": {},
     "output_type": "display_data"
    },
    {
     "name": "stdout",
     "output_type": "stream",
     "text": [
      "0 (0.00%)\n"
     ]
    },
    {
     "data": {
      "text/markdown": [
       "### Remove toy"
      ],
      "text/plain": [
       "<IPython.core.display.Markdown object>"
      ]
     },
     "metadata": {},
     "output_type": "display_data"
    },
    {
     "name": "stdout",
     "output_type": "stream",
     "text": [
      "0 (0.00%)\n"
     ]
    },
    {
     "data": {
      "text/markdown": [
       "### Remove restricted toy"
      ],
      "text/plain": [
       "<IPython.core.display.Markdown object>"
      ]
     },
     "metadata": {},
     "output_type": "display_data"
    },
    {
     "name": "stdout",
     "output_type": "stream",
     "text": [
      "0 (0.00%)\n"
     ]
    }
   ],
   "source": [
    "@calculate_auto(CONFIG)\n",
    "def fn(failure_reasons, total_failed_installations, prefix):\n",
    "    return relative_var(\n",
    "        prefix + \"repro_install_malformed\",\n",
    "        failure_reasons[\"malformed\"],\n",
    "        total_failed_installations,\n",
    "    )"
   ]
  },
  {
   "cell_type": "markdown",
   "metadata": {},
   "source": [
    "### Python dependency"
   ]
  },
  {
   "cell_type": "code",
   "execution_count": 23,
   "metadata": {},
   "outputs": [
    {
     "data": {
      "text/markdown": [
       "### Default"
      ],
      "text/plain": [
       "<IPython.core.display.Markdown object>"
      ]
     },
     "metadata": {},
     "output_type": "display_data"
    },
    {
     "name": "stdout",
     "output_type": "stream",
     "text": [
      "0 (0.00%)\n"
     ]
    },
    {
     "data": {
      "text/markdown": [
       "### Remove duplicates"
      ],
      "text/plain": [
       "<IPython.core.display.Markdown object>"
      ]
     },
     "metadata": {},
     "output_type": "display_data"
    },
    {
     "name": "stdout",
     "output_type": "stream",
     "text": [
      "0 (0.00%)\n"
     ]
    },
    {
     "data": {
      "text/markdown": [
       "### Remove duplicates and toy"
      ],
      "text/plain": [
       "<IPython.core.display.Markdown object>"
      ]
     },
     "metadata": {},
     "output_type": "display_data"
    },
    {
     "name": "stdout",
     "output_type": "stream",
     "text": [
      "0 (0.00%)\n"
     ]
    },
    {
     "data": {
      "text/markdown": [
       "### Remove duplicates and restricted toy"
      ],
      "text/plain": [
       "<IPython.core.display.Markdown object>"
      ]
     },
     "metadata": {},
     "output_type": "display_data"
    },
    {
     "name": "stdout",
     "output_type": "stream",
     "text": [
      "0 (0.00%)\n"
     ]
    },
    {
     "data": {
      "text/markdown": [
       "### Remove toy"
      ],
      "text/plain": [
       "<IPython.core.display.Markdown object>"
      ]
     },
     "metadata": {},
     "output_type": "display_data"
    },
    {
     "name": "stdout",
     "output_type": "stream",
     "text": [
      "0 (0.00%)\n"
     ]
    },
    {
     "data": {
      "text/markdown": [
       "### Remove restricted toy"
      ],
      "text/plain": [
       "<IPython.core.display.Markdown object>"
      ]
     },
     "metadata": {},
     "output_type": "display_data"
    },
    {
     "name": "stdout",
     "output_type": "stream",
     "text": [
      "0 (0.00%)\n"
     ]
    }
   ],
   "source": [
    "@calculate_auto(CONFIG)\n",
    "def fn(failure_reasons, total_failed_installations, prefix):\n",
    "    return relative_var(\n",
    "        prefix + \"repro_install_python_dependency\",\n",
    "        failure_reasons[\"python-dependency\"],\n",
    "        total_failed_installations,\n",
    "    )"
   ]
  },
  {
   "cell_type": "markdown",
   "metadata": {},
   "source": [
    "### External dependency"
   ]
  },
  {
   "cell_type": "code",
   "execution_count": 24,
   "metadata": {},
   "outputs": [
    {
     "data": {
      "text/markdown": [
       "### Default"
      ],
      "text/plain": [
       "<IPython.core.display.Markdown object>"
      ]
     },
     "metadata": {},
     "output_type": "display_data"
    },
    {
     "name": "stdout",
     "output_type": "stream",
     "text": [
      "0 (0.00%)\n"
     ]
    },
    {
     "data": {
      "text/markdown": [
       "### Remove duplicates"
      ],
      "text/plain": [
       "<IPython.core.display.Markdown object>"
      ]
     },
     "metadata": {},
     "output_type": "display_data"
    },
    {
     "name": "stdout",
     "output_type": "stream",
     "text": [
      "0 (0.00%)\n"
     ]
    },
    {
     "data": {
      "text/markdown": [
       "### Remove duplicates and toy"
      ],
      "text/plain": [
       "<IPython.core.display.Markdown object>"
      ]
     },
     "metadata": {},
     "output_type": "display_data"
    },
    {
     "name": "stdout",
     "output_type": "stream",
     "text": [
      "0 (0.00%)\n"
     ]
    },
    {
     "data": {
      "text/markdown": [
       "### Remove duplicates and restricted toy"
      ],
      "text/plain": [
       "<IPython.core.display.Markdown object>"
      ]
     },
     "metadata": {},
     "output_type": "display_data"
    },
    {
     "name": "stdout",
     "output_type": "stream",
     "text": [
      "0 (0.00%)\n"
     ]
    },
    {
     "data": {
      "text/markdown": [
       "### Remove toy"
      ],
      "text/plain": [
       "<IPython.core.display.Markdown object>"
      ]
     },
     "metadata": {},
     "output_type": "display_data"
    },
    {
     "name": "stdout",
     "output_type": "stream",
     "text": [
      "0 (0.00%)\n"
     ]
    },
    {
     "data": {
      "text/markdown": [
       "### Remove restricted toy"
      ],
      "text/plain": [
       "<IPython.core.display.Markdown object>"
      ]
     },
     "metadata": {},
     "output_type": "display_data"
    },
    {
     "name": "stdout",
     "output_type": "stream",
     "text": [
      "0 (0.00%)\n"
     ]
    }
   ],
   "source": [
    "@calculate_auto(CONFIG)\n",
    "def fn(failure_reasons, total_failed_installations, prefix):\n",
    "    return relative_var(\n",
    "        prefix + \"repro_install_external_dependency\",\n",
    "        failure_reasons[\"external-dependency\"],\n",
    "        total_failed_installations,\n",
    "    )"
   ]
  },
  {
   "cell_type": "markdown",
   "metadata": {},
   "source": [
    "### System"
   ]
  },
  {
   "cell_type": "code",
   "execution_count": 25,
   "metadata": {},
   "outputs": [
    {
     "data": {
      "text/markdown": [
       "### Default"
      ],
      "text/plain": [
       "<IPython.core.display.Markdown object>"
      ]
     },
     "metadata": {},
     "output_type": "display_data"
    },
    {
     "name": "stdout",
     "output_type": "stream",
     "text": [
      "0 (0.00%)\n"
     ]
    },
    {
     "data": {
      "text/markdown": [
       "### Remove duplicates"
      ],
      "text/plain": [
       "<IPython.core.display.Markdown object>"
      ]
     },
     "metadata": {},
     "output_type": "display_data"
    },
    {
     "name": "stdout",
     "output_type": "stream",
     "text": [
      "0 (0.00%)\n"
     ]
    },
    {
     "data": {
      "text/markdown": [
       "### Remove duplicates and toy"
      ],
      "text/plain": [
       "<IPython.core.display.Markdown object>"
      ]
     },
     "metadata": {},
     "output_type": "display_data"
    },
    {
     "name": "stdout",
     "output_type": "stream",
     "text": [
      "0 (0.00%)\n"
     ]
    },
    {
     "data": {
      "text/markdown": [
       "### Remove duplicates and restricted toy"
      ],
      "text/plain": [
       "<IPython.core.display.Markdown object>"
      ]
     },
     "metadata": {},
     "output_type": "display_data"
    },
    {
     "name": "stdout",
     "output_type": "stream",
     "text": [
      "0 (0.00%)\n"
     ]
    },
    {
     "data": {
      "text/markdown": [
       "### Remove toy"
      ],
      "text/plain": [
       "<IPython.core.display.Markdown object>"
      ]
     },
     "metadata": {},
     "output_type": "display_data"
    },
    {
     "name": "stdout",
     "output_type": "stream",
     "text": [
      "0 (0.00%)\n"
     ]
    },
    {
     "data": {
      "text/markdown": [
       "### Remove restricted toy"
      ],
      "text/plain": [
       "<IPython.core.display.Markdown object>"
      ]
     },
     "metadata": {},
     "output_type": "display_data"
    },
    {
     "name": "stdout",
     "output_type": "stream",
     "text": [
      "0 (0.00%)\n"
     ]
    }
   ],
   "source": [
    "@calculate_auto(CONFIG)\n",
    "def fn(failure_reasons, total_failed_installations, prefix):\n",
    "    return relative_var(\n",
    "        prefix + \"repro_install_system\",\n",
    "        failure_reasons[\"system\"],\n",
    "        total_failed_installations,\n",
    "    )"
   ]
  },
  {
   "cell_type": "markdown",
   "metadata": {},
   "source": [
    "### Python version"
   ]
  },
  {
   "cell_type": "code",
   "execution_count": 26,
   "metadata": {},
   "outputs": [
    {
     "data": {
      "text/markdown": [
       "### Default"
      ],
      "text/plain": [
       "<IPython.core.display.Markdown object>"
      ]
     },
     "metadata": {},
     "output_type": "display_data"
    },
    {
     "name": "stdout",
     "output_type": "stream",
     "text": [
      "0 (0.00%)\n"
     ]
    },
    {
     "data": {
      "text/markdown": [
       "### Remove duplicates"
      ],
      "text/plain": [
       "<IPython.core.display.Markdown object>"
      ]
     },
     "metadata": {},
     "output_type": "display_data"
    },
    {
     "name": "stdout",
     "output_type": "stream",
     "text": [
      "0 (0.00%)\n"
     ]
    },
    {
     "data": {
      "text/markdown": [
       "### Remove duplicates and toy"
      ],
      "text/plain": [
       "<IPython.core.display.Markdown object>"
      ]
     },
     "metadata": {},
     "output_type": "display_data"
    },
    {
     "name": "stdout",
     "output_type": "stream",
     "text": [
      "0 (0.00%)\n"
     ]
    },
    {
     "data": {
      "text/markdown": [
       "### Remove duplicates and restricted toy"
      ],
      "text/plain": [
       "<IPython.core.display.Markdown object>"
      ]
     },
     "metadata": {},
     "output_type": "display_data"
    },
    {
     "name": "stdout",
     "output_type": "stream",
     "text": [
      "0 (0.00%)\n"
     ]
    },
    {
     "data": {
      "text/markdown": [
       "### Remove toy"
      ],
      "text/plain": [
       "<IPython.core.display.Markdown object>"
      ]
     },
     "metadata": {},
     "output_type": "display_data"
    },
    {
     "name": "stdout",
     "output_type": "stream",
     "text": [
      "0 (0.00%)\n"
     ]
    },
    {
     "data": {
      "text/markdown": [
       "### Remove restricted toy"
      ],
      "text/plain": [
       "<IPython.core.display.Markdown object>"
      ]
     },
     "metadata": {},
     "output_type": "display_data"
    },
    {
     "name": "stdout",
     "output_type": "stream",
     "text": [
      "0 (0.00%)\n"
     ]
    }
   ],
   "source": [
    "@calculate_auto(CONFIG)\n",
    "def fn(failure_reasons, total_failed_installations, prefix):\n",
    "    return relative_var(\n",
    "        prefix + \"repro_install_python_version\",\n",
    "        failure_reasons[\"python-version\"],\n",
    "        total_failed_installations,\n",
    "    )"
   ]
  },
  {
   "cell_type": "markdown",
   "metadata": {},
   "source": [
    "### Unknown"
   ]
  },
  {
   "cell_type": "code",
   "execution_count": 27,
   "metadata": {},
   "outputs": [
    {
     "data": {
      "text/markdown": [
       "### Default"
      ],
      "text/plain": [
       "<IPython.core.display.Markdown object>"
      ]
     },
     "metadata": {},
     "output_type": "display_data"
    },
    {
     "name": "stdout",
     "output_type": "stream",
     "text": [
      "1,485 (100.00%)\n"
     ]
    },
    {
     "data": {
      "text/markdown": [
       "### Remove duplicates"
      ],
      "text/plain": [
       "<IPython.core.display.Markdown object>"
      ]
     },
     "metadata": {},
     "output_type": "display_data"
    },
    {
     "name": "stdout",
     "output_type": "stream",
     "text": [
      "1,485 (100.00%)\n"
     ]
    },
    {
     "data": {
      "text/markdown": [
       "### Remove duplicates and toy"
      ],
      "text/plain": [
       "<IPython.core.display.Markdown object>"
      ]
     },
     "metadata": {},
     "output_type": "display_data"
    },
    {
     "name": "stdout",
     "output_type": "stream",
     "text": [
      "1,485 (100.00%)\n"
     ]
    },
    {
     "data": {
      "text/markdown": [
       "### Remove duplicates and restricted toy"
      ],
      "text/plain": [
       "<IPython.core.display.Markdown object>"
      ]
     },
     "metadata": {},
     "output_type": "display_data"
    },
    {
     "name": "stdout",
     "output_type": "stream",
     "text": [
      "1,485 (100.00%)\n"
     ]
    },
    {
     "data": {
      "text/markdown": [
       "### Remove toy"
      ],
      "text/plain": [
       "<IPython.core.display.Markdown object>"
      ]
     },
     "metadata": {},
     "output_type": "display_data"
    },
    {
     "name": "stdout",
     "output_type": "stream",
     "text": [
      "1,485 (100.00%)\n"
     ]
    },
    {
     "data": {
      "text/markdown": [
       "### Remove restricted toy"
      ],
      "text/plain": [
       "<IPython.core.display.Markdown object>"
      ]
     },
     "metadata": {},
     "output_type": "display_data"
    },
    {
     "name": "stdout",
     "output_type": "stream",
     "text": [
      "1,485 (100.00%)\n"
     ]
    }
   ],
   "source": [
    "@calculate_auto(CONFIG)\n",
    "def fn(failure_reasons, total_failed_installations, prefix):\n",
    "    return relative_var(\n",
    "        prefix + \"repro_install_unknown\",\n",
    "        failure_reasons[\"unknown\"],\n",
    "        total_failed_installations,\n",
    "    )"
   ]
  },
  {
   "cell_type": "markdown",
   "metadata": {},
   "source": [
    "## Installed dependencies"
   ]
  },
  {
   "cell_type": "code",
   "execution_count": 28,
   "metadata": {},
   "outputs": [
    {
     "data": {
      "text/markdown": [
       "### Default"
      ],
      "text/plain": [
       "<IPython.core.display.Markdown object>"
      ]
     },
     "metadata": {},
     "output_type": "display_data"
    },
    {
     "name": "stdout",
     "output_type": "stream",
     "text": [
      "794 (19.05%)\n"
     ]
    },
    {
     "data": {
      "text/markdown": [
       "### Remove duplicates"
      ],
      "text/plain": [
       "<IPython.core.display.Markdown object>"
      ]
     },
     "metadata": {},
     "output_type": "display_data"
    },
    {
     "name": "stdout",
     "output_type": "stream",
     "text": [
      "794 (19.05%)\n"
     ]
    },
    {
     "data": {
      "text/markdown": [
       "### Remove duplicates and toy"
      ],
      "text/plain": [
       "<IPython.core.display.Markdown object>"
      ]
     },
     "metadata": {},
     "output_type": "display_data"
    },
    {
     "name": "stdout",
     "output_type": "stream",
     "text": [
      "794 (19.05%)\n"
     ]
    },
    {
     "data": {
      "text/markdown": [
       "### Remove duplicates and restricted toy"
      ],
      "text/plain": [
       "<IPython.core.display.Markdown object>"
      ]
     },
     "metadata": {},
     "output_type": "display_data"
    },
    {
     "name": "stdout",
     "output_type": "stream",
     "text": [
      "794 (19.05%)\n"
     ]
    },
    {
     "data": {
      "text/markdown": [
       "### Remove toy"
      ],
      "text/plain": [
       "<IPython.core.display.Markdown object>"
      ]
     },
     "metadata": {},
     "output_type": "display_data"
    },
    {
     "name": "stdout",
     "output_type": "stream",
     "text": [
      "794 (19.05%)\n"
     ]
    },
    {
     "data": {
      "text/markdown": [
       "### Remove restricted toy"
      ],
      "text/plain": [
       "<IPython.core.display.Markdown object>"
      ]
     },
     "metadata": {},
     "output_type": "display_data"
    },
    {
     "name": "stdout",
     "output_type": "stream",
     "text": [
      "794 (19.05%)\n"
     ]
    }
   ],
   "source": [
    "@calculate_auto(CONFIG, save_to=\"installed_dependencies\", result=None, level=None)\n",
    "def fn(executions, prefix):\n",
    "    installed_dependencies = executions[\n",
    "        (executions[\"processed\"] > 0) & (executions[\"mode\"] == 3)\n",
    "    ]\n",
    "    return installed_dependencies\n",
    "\n",
    "\n",
    "@calculate_auto(CONFIG, save_to=\"total_installed_dependencies\", result=None)\n",
    "def fn(installed_dependencies, attempted_executions_total, prefix):\n",
    "    total_installed_dependencies = len(installed_dependencies)\n",
    "    print(\n",
    "        relative_var(\n",
    "            prefix + \"installed_dependencies\",\n",
    "            total_installed_dependencies,\n",
    "            attempted_executions_total,\n",
    "        )\n",
    "    )\n",
    "    return total_installed_dependencies"
   ]
  },
  {
   "cell_type": "markdown",
   "metadata": {},
   "source": [
    "## Non-declared dependencies"
   ]
  },
  {
   "cell_type": "code",
   "execution_count": 29,
   "metadata": {},
   "outputs": [
    {
     "data": {
      "text/markdown": [
       "### Default"
      ],
      "text/plain": [
       "<IPython.core.display.Markdown object>"
      ]
     },
     "metadata": {},
     "output_type": "display_data"
    },
    {
     "name": "stdout",
     "output_type": "stream",
     "text": [
      "1,890 (45.33%)\n"
     ]
    },
    {
     "data": {
      "text/markdown": [
       "### Remove duplicates"
      ],
      "text/plain": [
       "<IPython.core.display.Markdown object>"
      ]
     },
     "metadata": {},
     "output_type": "display_data"
    },
    {
     "name": "stdout",
     "output_type": "stream",
     "text": [
      "1,890 (45.33%)\n"
     ]
    },
    {
     "data": {
      "text/markdown": [
       "### Remove duplicates and toy"
      ],
      "text/plain": [
       "<IPython.core.display.Markdown object>"
      ]
     },
     "metadata": {},
     "output_type": "display_data"
    },
    {
     "name": "stdout",
     "output_type": "stream",
     "text": [
      "1,890 (45.33%)\n"
     ]
    },
    {
     "data": {
      "text/markdown": [
       "### Remove duplicates and restricted toy"
      ],
      "text/plain": [
       "<IPython.core.display.Markdown object>"
      ]
     },
     "metadata": {},
     "output_type": "display_data"
    },
    {
     "name": "stdout",
     "output_type": "stream",
     "text": [
      "1,890 (45.33%)\n"
     ]
    },
    {
     "data": {
      "text/markdown": [
       "### Remove toy"
      ],
      "text/plain": [
       "<IPython.core.display.Markdown object>"
      ]
     },
     "metadata": {},
     "output_type": "display_data"
    },
    {
     "name": "stdout",
     "output_type": "stream",
     "text": [
      "1,890 (45.33%)\n"
     ]
    },
    {
     "data": {
      "text/markdown": [
       "### Remove restricted toy"
      ],
      "text/plain": [
       "<IPython.core.display.Markdown object>"
      ]
     },
     "metadata": {},
     "output_type": "display_data"
    },
    {
     "name": "stdout",
     "output_type": "stream",
     "text": [
      "1,890 (45.33%)\n"
     ]
    }
   ],
   "source": [
    "@calculate_auto(CONFIG, save_to=\"non_declared_dependencies\", result=None, level=None)\n",
    "def fn(executions, prefix):\n",
    "    non_declared_dependencies = executions[\n",
    "        (executions[\"processed\"] > 0) & (executions[\"mode\"] == 5)\n",
    "    ]\n",
    "    return non_declared_dependencies\n",
    "\n",
    "\n",
    "@calculate_auto(CONFIG, save_to=\"total_non_declared_dependencies\", result=None)\n",
    "def fn(non_declared_dependencies, attempted_executions_total, prefix):\n",
    "    total_non_declared_dependencies = len(non_declared_dependencies)\n",
    "    print(\n",
    "        relative_var(\n",
    "            prefix + \"non_declared_dependencies\",\n",
    "            total_non_declared_dependencies,\n",
    "            attempted_executions_total,\n",
    "        )\n",
    "    )\n",
    "    return total_non_declared_dependencies"
   ]
  },
  {
   "cell_type": "markdown",
   "metadata": {},
   "source": [
    "# Reproducibility study"
   ]
  },
  {
   "cell_type": "code",
   "execution_count": 30,
   "metadata": {},
   "outputs": [
    {
     "data": {
      "text/markdown": [
       "### Default"
      ],
      "text/plain": [
       "<IPython.core.display.Markdown object>"
      ]
     },
     "metadata": {},
     "output_type": "display_data"
    },
    {
     "name": "stdout",
     "output_type": "stream",
     "text": [
      "2,684 (64.38%)\n"
     ]
    },
    {
     "data": {
      "text/markdown": [
       "### Remove duplicates"
      ],
      "text/plain": [
       "<IPython.core.display.Markdown object>"
      ]
     },
     "metadata": {},
     "output_type": "display_data"
    },
    {
     "name": "stdout",
     "output_type": "stream",
     "text": [
      "2,684 (64.38%)\n"
     ]
    },
    {
     "data": {
      "text/markdown": [
       "### Remove duplicates and toy"
      ],
      "text/plain": [
       "<IPython.core.display.Markdown object>"
      ]
     },
     "metadata": {},
     "output_type": "display_data"
    },
    {
     "name": "stdout",
     "output_type": "stream",
     "text": [
      "2,684 (64.38%)\n"
     ]
    },
    {
     "data": {
      "text/markdown": [
       "### Remove duplicates and restricted toy"
      ],
      "text/plain": [
       "<IPython.core.display.Markdown object>"
      ]
     },
     "metadata": {},
     "output_type": "display_data"
    },
    {
     "name": "stdout",
     "output_type": "stream",
     "text": [
      "2,684 (64.38%)\n"
     ]
    },
    {
     "data": {
      "text/markdown": [
       "### Remove toy"
      ],
      "text/plain": [
       "<IPython.core.display.Markdown object>"
      ]
     },
     "metadata": {},
     "output_type": "display_data"
    },
    {
     "name": "stdout",
     "output_type": "stream",
     "text": [
      "2,684 (64.38%)\n"
     ]
    },
    {
     "data": {
      "text/markdown": [
       "### Remove restricted toy"
      ],
      "text/plain": [
       "<IPython.core.display.Markdown object>"
      ]
     },
     "metadata": {},
     "output_type": "display_data"
    },
    {
     "name": "stdout",
     "output_type": "stream",
     "text": [
      "2,684 (64.38%)\n"
     ]
    }
   ],
   "source": [
    "@calculate_auto(CONFIG, save_to=\"combined\", result=None, level=None)\n",
    "def fn(installed_dependencies, non_declared_dependencies, prefix):\n",
    "    combined = pd.concat([installed_dependencies, non_declared_dependencies])\n",
    "    return combined\n",
    "\n",
    "\n",
    "@calculate_auto(CONFIG, save_to=\"total_combined\", result=None)\n",
    "def fn(combined, attempted_executions_total, prefix):\n",
    "    total_combined = len(combined)\n",
    "    print(\n",
    "        relative_var(\n",
    "            prefix + \"repro_executed\", total_combined, attempted_executions_total\n",
    "        )\n",
    "    )\n",
    "    return total_combined"
   ]
  },
  {
   "cell_type": "markdown",
   "metadata": {},
   "source": [
    "## Corrupted files"
   ]
  },
  {
   "cell_type": "code",
   "execution_count": 31,
   "metadata": {},
   "outputs": [
    {
     "data": {
      "text/markdown": [
       "### Default"
      ],
      "text/plain": [
       "<IPython.core.display.Markdown object>"
      ]
     },
     "metadata": {},
     "output_type": "display_data"
    },
    {
     "name": "stdout",
     "output_type": "stream",
     "text": [
      "0 (0.00%)\n"
     ]
    },
    {
     "data": {
      "text/markdown": [
       "### Remove duplicates"
      ],
      "text/plain": [
       "<IPython.core.display.Markdown object>"
      ]
     },
     "metadata": {},
     "output_type": "display_data"
    },
    {
     "name": "stdout",
     "output_type": "stream",
     "text": [
      "0 (0.00%)\n"
     ]
    },
    {
     "data": {
      "text/markdown": [
       "### Remove duplicates and toy"
      ],
      "text/plain": [
       "<IPython.core.display.Markdown object>"
      ]
     },
     "metadata": {},
     "output_type": "display_data"
    },
    {
     "name": "stdout",
     "output_type": "stream",
     "text": [
      "0 (0.00%)\n"
     ]
    },
    {
     "data": {
      "text/markdown": [
       "### Remove duplicates and restricted toy"
      ],
      "text/plain": [
       "<IPython.core.display.Markdown object>"
      ]
     },
     "metadata": {},
     "output_type": "display_data"
    },
    {
     "name": "stdout",
     "output_type": "stream",
     "text": [
      "0 (0.00%)\n"
     ]
    },
    {
     "data": {
      "text/markdown": [
       "### Remove toy"
      ],
      "text/plain": [
       "<IPython.core.display.Markdown object>"
      ]
     },
     "metadata": {},
     "output_type": "display_data"
    },
    {
     "name": "stdout",
     "output_type": "stream",
     "text": [
      "0 (0.00%)\n"
     ]
    },
    {
     "data": {
      "text/markdown": [
       "### Remove restricted toy"
      ],
      "text/plain": [
       "<IPython.core.display.Markdown object>"
      ]
     },
     "metadata": {},
     "output_type": "display_data"
    },
    {
     "name": "stdout",
     "output_type": "stream",
     "text": [
      "0 (0.00%)\n"
     ]
    }
   ],
   "source": [
    "@calculate_auto(CONFIG)\n",
    "def fn(combined, total_combined, prefix):\n",
    "    total = len(combined[combined[\"reason\"] == \"<Read notebook error>\"])\n",
    "    return relative_var(prefix + \"repro_excluded_nbformat\", total, total_combined)"
   ]
  },
  {
   "cell_type": "code",
   "execution_count": 32,
   "metadata": {},
   "outputs": [],
   "source": [
    "@calculate_auto(CONFIG, save_to=\"combined\", result=None, level=None)\n",
    "def fn(combined, prefix):\n",
    "    combined = combined[combined[\"reason\"] != \"<Read notebook error>\"]\n",
    "    return combined"
   ]
  },
  {
   "cell_type": "markdown",
   "metadata": {},
   "source": [
    "## Exceptions"
   ]
  },
  {
   "cell_type": "code",
   "execution_count": 33,
   "metadata": {},
   "outputs": [
    {
     "data": {
      "text/markdown": [
       "### Default"
      ],
      "text/plain": [
       "<IPython.core.display.Markdown object>"
      ]
     },
     "metadata": {},
     "output_type": "display_data"
    },
    {
     "name": "stdout",
     "output_type": "stream",
     "text": [
      "2,265 (84.39%)\n"
     ]
    },
    {
     "data": {
      "text/markdown": [
       "### Remove duplicates"
      ],
      "text/plain": [
       "<IPython.core.display.Markdown object>"
      ]
     },
     "metadata": {},
     "output_type": "display_data"
    },
    {
     "name": "stdout",
     "output_type": "stream",
     "text": [
      "2,265 (84.39%)\n"
     ]
    },
    {
     "data": {
      "text/markdown": [
       "### Remove duplicates and toy"
      ],
      "text/plain": [
       "<IPython.core.display.Markdown object>"
      ]
     },
     "metadata": {},
     "output_type": "display_data"
    },
    {
     "name": "stdout",
     "output_type": "stream",
     "text": [
      "2,265 (84.39%)\n"
     ]
    },
    {
     "data": {
      "text/markdown": [
       "### Remove duplicates and restricted toy"
      ],
      "text/plain": [
       "<IPython.core.display.Markdown object>"
      ]
     },
     "metadata": {},
     "output_type": "display_data"
    },
    {
     "name": "stdout",
     "output_type": "stream",
     "text": [
      "2,265 (84.39%)\n"
     ]
    },
    {
     "data": {
      "text/markdown": [
       "### Remove toy"
      ],
      "text/plain": [
       "<IPython.core.display.Markdown object>"
      ]
     },
     "metadata": {},
     "output_type": "display_data"
    },
    {
     "name": "stdout",
     "output_type": "stream",
     "text": [
      "2,265 (84.39%)\n"
     ]
    },
    {
     "data": {
      "text/markdown": [
       "### Remove restricted toy"
      ],
      "text/plain": [
       "<IPython.core.display.Markdown object>"
      ]
     },
     "metadata": {},
     "output_type": "display_data"
    },
    {
     "name": "stdout",
     "output_type": "stream",
     "text": [
      "2,265 (84.39%)\n"
     ]
    }
   ],
   "source": [
    "@calculate_auto(CONFIG, save_to=\"with_exceptions\", result=None)\n",
    "def fn(combined, total_combined, prefix):\n",
    "    with_exceptions = combined[combined[\"processed\"] & 4 == 4]\n",
    "    total_exceptions = len(with_exceptions)\n",
    "    print(relative_var(prefix + \"repro_exceptions\", total_exceptions, total_combined))\n",
    "    return with_exceptions"
   ]
  },
  {
   "cell_type": "markdown",
   "metadata": {},
   "source": [
    "### Reason"
   ]
  },
  {
   "cell_type": "code",
   "execution_count": 34,
   "metadata": {},
   "outputs": [],
   "source": [
    "@calculate_auto(CONFIG, save_to=\"combined\", result=None, level=None)\n",
    "def fn(combined, prefix):\n",
    "    combined[\"new_reason\"] = combined[\"reason\"]\n",
    "    return combined"
   ]
  },
  {
   "cell_type": "code",
   "execution_count": 35,
   "metadata": {},
   "outputs": [],
   "source": [
    "@calculate_auto(CONFIG, level=None)\n",
    "def fn(combined, prefix):\n",
    "    combined.loc[\n",
    "        ~combined[\"reason\"].isna() & combined[\"reason\"].str.contains(\"IOError\"),\n",
    "        \"new_reason\",\n",
    "    ] = \"IOError\"\n",
    "    combined.loc[\n",
    "        ~combined[\"reason\"].isna() & combined[\"reason\"].str.contains(\"OSError\"),\n",
    "        \"new_reason\",\n",
    "    ] = \"OSError\"\n",
    "    combined.loc[\n",
    "        ~combined[\"reason\"].isna()\n",
    "        & combined[\"reason\"].str.contains(\"OperationalError\"),\n",
    "        \"new_reason\",\n",
    "    ] = \"OperationalError\"\n",
    "    combined.loc[\n",
    "        ~combined[\"reason\"].isna() & combined[\"reason\"].str.contains(\"TypeError\"),\n",
    "        \"new_reason\",\n",
    "    ] = \"TypeError\"\n",
    "    combined.loc[\n",
    "        ~combined[\"reason\"].isna() & combined[\"reason\"].str.contains(\"ValueError\"),\n",
    "        \"new_reason\",\n",
    "    ] = \"ValueError\"\n",
    "    combined.loc[\n",
    "        ~combined[\"reason\"].isna() & combined[\"reason\"].str.contains(\"HTTPError\"),\n",
    "        \"new_reason\",\n",
    "    ] = \"HTTPError\"\n",
    "    combined.loc[\n",
    "        ~combined[\"reason\"].isna() & combined[\"reason\"].str.contains(\"ImportError\"),\n",
    "        \"new_reason\",\n",
    "    ] = \"ImportError\"\n",
    "    combined.loc[\n",
    "        ~combined[\"reason\"].isna()\n",
    "        & combined[\"reason\"].str.contains(\"FileNotFoundError\"),\n",
    "        \"new_reason\",\n",
    "    ] = \"FileNotFoundError\""
   ]
  },
  {
   "cell_type": "code",
   "execution_count": 36,
   "metadata": {},
   "outputs": [
    {
     "data": {
      "text/markdown": [
       "### Default"
      ],
      "text/plain": [
       "<IPython.core.display.Markdown object>"
      ]
     },
     "metadata": {},
     "output_type": "display_data"
    },
    {
     "data": {
      "image/png": "[encoded data removed]",
      "text/plain": [
       "<Figure size 792x360 with 1 Axes>"
      ]
     },
     "metadata": {},
     "output_type": "display_data"
    },
    {
     "data": {
      "text/markdown": [
       "### Remove duplicates"
      ],
      "text/plain": [
       "<IPython.core.display.Markdown object>"
      ]
     },
     "metadata": {},
     "output_type": "display_data"
    },
    {
     "data": {
      "image/png": "[encoded data removed]",
      "text/plain": [
       "<Figure size 792x360 with 1 Axes>"
      ]
     },
     "metadata": {},
     "output_type": "display_data"
    },
    {
     "data": {
      "text/markdown": [
       "### Remove duplicates and toy"
      ],
      "text/plain": [
       "<IPython.core.display.Markdown object>"
      ]
     },
     "metadata": {},
     "output_type": "display_data"
    },
    {
     "data": {
      "image/png": "[encoded data removed]",
      "text/plain": [
       "<Figure size 792x360 with 1 Axes>"
      ]
     },
     "metadata": {},
     "output_type": "display_data"
    },
    {
     "data": {
      "text/markdown": [
       "### Remove duplicates and restricted toy"
      ],
      "text/plain": [
       "<IPython.core.display.Markdown object>"
      ]
     },
     "metadata": {},
     "output_type": "display_data"
    },
    {
     "data": {
      "image/png": "[encoded data removed]",
      "text/plain": [
       "<Figure size 792x360 with 1 Axes>"
      ]
     },
     "metadata": {},
     "output_type": "display_data"
    },
    {
     "data": {
      "text/markdown": [
       "### Remove toy"
      ],
      "text/plain": [
       "<IPython.core.display.Markdown object>"
      ]
     },
     "metadata": {},
     "output_type": "display_data"
    },
    {
     "data": {
      "image/png": "[encoded data removed]",
      "text/plain": [
       "<Figure size 792x360 with 1 Axes>"
      ]
     },
     "metadata": {},
     "output_type": "display_data"
    },
    {
     "data": {
      "text/markdown": [
       "### Remove restricted toy"
      ],
      "text/plain": [
       "<IPython.core.display.Markdown object>"
      ]
     },
     "metadata": {},
     "output_type": "display_data"
    },
    {
     "data": {
      "image/png": "[encoded data removed]",
      "text/plain": [
       "<Figure size 792x360 with 1 Axes>"
      ]
     },
     "metadata": {},
     "output_type": "display_data"
    }
   ],
   "source": [
    "@calculate_auto(CONFIG)\n",
    "@close_fig\n",
    "def fn(combined, prefix):\n",
    "    counts = combined[\"new_reason\"].value_counts()\n",
    "    with savefig(prefix + \"exception_reasons\", 11, 5):\n",
    "        fig, cnt = display_counts(\n",
    "            counts, show_values=True, plot=False, cut=slice(None, 10)\n",
    "        )\n",
    "        ax = plt.gca()\n",
    "        ax.set_yscale(\"linear\")\n",
    "\n",
    "        ax.get_yaxis().set_major_formatter(\n",
    "            matplotlib.ticker.FuncFormatter(lambda x, p: \"{0:,g}\".format(x))\n",
    "        )\n",
    "        ax.legend().set_visible(False)\n",
    "\n",
    "        ax.set_ylabel(\"Notebook Executions\")\n",
    "        ax.set_xlabel(\"Exception\")\n",
    "        ax.set_xticklabels(ax.get_xticklabels(), rotation=50, ha=\"right\")\n",
    "        ax.xaxis.labelpad = -15"
   ]
  },
  {
   "cell_type": "markdown",
   "metadata": {},
   "source": [
    "### ImportError and ModuleNotFoundError"
   ]
  },
  {
   "cell_type": "code",
   "execution_count": 37,
   "metadata": {},
   "outputs": [
    {
     "data": {
      "text/markdown": [
       "### Default"
      ],
      "text/plain": [
       "<IPython.core.display.Markdown object>"
      ]
     },
     "metadata": {},
     "output_type": "display_data"
    },
    {
     "name": "stdout",
     "output_type": "stream",
     "text": [
      "1,362 (32.67%)\n"
     ]
    },
    {
     "data": {
      "text/markdown": [
       "### Remove duplicates"
      ],
      "text/plain": [
       "<IPython.core.display.Markdown object>"
      ]
     },
     "metadata": {},
     "output_type": "display_data"
    },
    {
     "name": "stdout",
     "output_type": "stream",
     "text": [
      "1,362 (32.67%)\n"
     ]
    },
    {
     "data": {
      "text/markdown": [
       "### Remove duplicates and toy"
      ],
      "text/plain": [
       "<IPython.core.display.Markdown object>"
      ]
     },
     "metadata": {},
     "output_type": "display_data"
    },
    {
     "name": "stdout",
     "output_type": "stream",
     "text": [
      "1,362 (32.67%)\n"
     ]
    },
    {
     "data": {
      "text/markdown": [
       "### Remove duplicates and restricted toy"
      ],
      "text/plain": [
       "<IPython.core.display.Markdown object>"
      ]
     },
     "metadata": {},
     "output_type": "display_data"
    },
    {
     "name": "stdout",
     "output_type": "stream",
     "text": [
      "1,362 (32.67%)\n"
     ]
    },
    {
     "data": {
      "text/markdown": [
       "### Remove toy"
      ],
      "text/plain": [
       "<IPython.core.display.Markdown object>"
      ]
     },
     "metadata": {},
     "output_type": "display_data"
    },
    {
     "name": "stdout",
     "output_type": "stream",
     "text": [
      "1,362 (32.67%)\n"
     ]
    },
    {
     "data": {
      "text/markdown": [
       "### Remove restricted toy"
      ],
      "text/plain": [
       "<IPython.core.display.Markdown object>"
      ]
     },
     "metadata": {},
     "output_type": "display_data"
    },
    {
     "name": "stdout",
     "output_type": "stream",
     "text": [
      "1,362 (32.67%)\n"
     ]
    }
   ],
   "source": [
    "@calculate_auto(CONFIG)\n",
    "def fn(combined, attempted_executions_total, prefix):\n",
    "    return relative_var(\n",
    "        prefix + \"repro_missing_dependencies\",\n",
    "        len(\n",
    "            combined[\n",
    "                (combined[\"new_reason\"] == \"ImportError\")\n",
    "                | (combined[\"new_reason\"] == \"ModuleNotFoundError\")\n",
    "            ]\n",
    "        ),\n",
    "        attempted_executions_total,\n",
    "    )"
   ]
  },
  {
   "cell_type": "markdown",
   "metadata": {},
   "source": [
    "### NameError"
   ]
  },
  {
   "cell_type": "code",
   "execution_count": 38,
   "metadata": {},
   "outputs": [
    {
     "data": {
      "text/markdown": [
       "### Default"
      ],
      "text/plain": [
       "<IPython.core.display.Markdown object>"
      ]
     },
     "metadata": {},
     "output_type": "display_data"
    },
    {
     "name": "stdout",
     "output_type": "stream",
     "text": [
      "132 (3.17%)\n"
     ]
    },
    {
     "data": {
      "text/markdown": [
       "### Remove duplicates"
      ],
      "text/plain": [
       "<IPython.core.display.Markdown object>"
      ]
     },
     "metadata": {},
     "output_type": "display_data"
    },
    {
     "name": "stdout",
     "output_type": "stream",
     "text": [
      "132 (3.17%)\n"
     ]
    },
    {
     "data": {
      "text/markdown": [
       "### Remove duplicates and toy"
      ],
      "text/plain": [
       "<IPython.core.display.Markdown object>"
      ]
     },
     "metadata": {},
     "output_type": "display_data"
    },
    {
     "name": "stdout",
     "output_type": "stream",
     "text": [
      "132 (3.17%)\n"
     ]
    },
    {
     "data": {
      "text/markdown": [
       "### Remove duplicates and restricted toy"
      ],
      "text/plain": [
       "<IPython.core.display.Markdown object>"
      ]
     },
     "metadata": {},
     "output_type": "display_data"
    },
    {
     "name": "stdout",
     "output_type": "stream",
     "text": [
      "132 (3.17%)\n"
     ]
    },
    {
     "data": {
      "text/markdown": [
       "### Remove toy"
      ],
      "text/plain": [
       "<IPython.core.display.Markdown object>"
      ]
     },
     "metadata": {},
     "output_type": "display_data"
    },
    {
     "name": "stdout",
     "output_type": "stream",
     "text": [
      "132 (3.17%)\n"
     ]
    },
    {
     "data": {
      "text/markdown": [
       "### Remove restricted toy"
      ],
      "text/plain": [
       "<IPython.core.display.Markdown object>"
      ]
     },
     "metadata": {},
     "output_type": "display_data"
    },
    {
     "name": "stdout",
     "output_type": "stream",
     "text": [
      "132 (3.17%)\n"
     ]
    }
   ],
   "source": [
    "@calculate_auto(CONFIG)\n",
    "def fn(combined, attempted_executions_total, prefix):\n",
    "    return relative_var(\n",
    "        prefix + \"repro_name_error\",\n",
    "        len(combined[(combined[\"new_reason\"] == \"NameError\")]),\n",
    "        attempted_executions_total,\n",
    "    )"
   ]
  },
  {
   "cell_type": "markdown",
   "metadata": {},
   "source": [
    "### FileNotFoundError and IOError"
   ]
  },
  {
   "cell_type": "code",
   "execution_count": 39,
   "metadata": {},
   "outputs": [
    {
     "data": {
      "text/markdown": [
       "### Default"
      ],
      "text/plain": [
       "<IPython.core.display.Markdown object>"
      ]
     },
     "metadata": {},
     "output_type": "display_data"
    },
    {
     "name": "stdout",
     "output_type": "stream",
     "text": [
      "374 (8.97%)\n"
     ]
    },
    {
     "data": {
      "text/markdown": [
       "### Remove duplicates"
      ],
      "text/plain": [
       "<IPython.core.display.Markdown object>"
      ]
     },
     "metadata": {},
     "output_type": "display_data"
    },
    {
     "name": "stdout",
     "output_type": "stream",
     "text": [
      "374 (8.97%)\n"
     ]
    },
    {
     "data": {
      "text/markdown": [
       "### Remove duplicates and toy"
      ],
      "text/plain": [
       "<IPython.core.display.Markdown object>"
      ]
     },
     "metadata": {},
     "output_type": "display_data"
    },
    {
     "name": "stdout",
     "output_type": "stream",
     "text": [
      "374 (8.97%)\n"
     ]
    },
    {
     "data": {
      "text/markdown": [
       "### Remove duplicates and restricted toy"
      ],
      "text/plain": [
       "<IPython.core.display.Markdown object>"
      ]
     },
     "metadata": {},
     "output_type": "display_data"
    },
    {
     "name": "stdout",
     "output_type": "stream",
     "text": [
      "374 (8.97%)\n"
     ]
    },
    {
     "data": {
      "text/markdown": [
       "### Remove toy"
      ],
      "text/plain": [
       "<IPython.core.display.Markdown object>"
      ]
     },
     "metadata": {},
     "output_type": "display_data"
    },
    {
     "name": "stdout",
     "output_type": "stream",
     "text": [
      "374 (8.97%)\n"
     ]
    },
    {
     "data": {
      "text/markdown": [
       "### Remove restricted toy"
      ],
      "text/plain": [
       "<IPython.core.display.Markdown object>"
      ]
     },
     "metadata": {},
     "output_type": "display_data"
    },
    {
     "name": "stdout",
     "output_type": "stream",
     "text": [
      "374 (8.97%)\n"
     ]
    }
   ],
   "source": [
    "@calculate_auto(CONFIG)\n",
    "def fn(combined, attempted_executions_total, prefix):\n",
    "    return relative_var(\n",
    "        prefix + \"repro_missing_files\",\n",
    "        len(\n",
    "            combined[\n",
    "                (combined[\"new_reason\"] == \"FileNotFoundError\")\n",
    "                | (combined[\"new_reason\"] == \"IOError\")\n",
    "            ]\n",
    "        ),\n",
    "        attempted_executions_total,\n",
    "    )"
   ]
  },
  {
   "cell_type": "markdown",
   "metadata": {},
   "source": [
    "### With dependencies exceptions"
   ]
  },
  {
   "cell_type": "code",
   "execution_count": 40,
   "metadata": {},
   "outputs": [
    {
     "data": {
      "text/markdown": [
       "### Default"
      ],
      "text/plain": [
       "<IPython.core.display.Markdown object>"
      ]
     },
     "metadata": {},
     "output_type": "display_data"
    },
    {
     "name": "stdout",
     "output_type": "stream",
     "text": [
      "1362\n"
     ]
    },
    {
     "data": {
      "text/markdown": [
       "### Remove duplicates"
      ],
      "text/plain": [
       "<IPython.core.display.Markdown object>"
      ]
     },
     "metadata": {},
     "output_type": "display_data"
    },
    {
     "name": "stdout",
     "output_type": "stream",
     "text": [
      "1362\n"
     ]
    },
    {
     "data": {
      "text/markdown": [
       "### Remove duplicates and toy"
      ],
      "text/plain": [
       "<IPython.core.display.Markdown object>"
      ]
     },
     "metadata": {},
     "output_type": "display_data"
    },
    {
     "name": "stdout",
     "output_type": "stream",
     "text": [
      "1362\n"
     ]
    },
    {
     "data": {
      "text/markdown": [
       "### Remove duplicates and restricted toy"
      ],
      "text/plain": [
       "<IPython.core.display.Markdown object>"
      ]
     },
     "metadata": {},
     "output_type": "display_data"
    },
    {
     "name": "stdout",
     "output_type": "stream",
     "text": [
      "1362\n"
     ]
    },
    {
     "data": {
      "text/markdown": [
       "### Remove toy"
      ],
      "text/plain": [
       "<IPython.core.display.Markdown object>"
      ]
     },
     "metadata": {},
     "output_type": "display_data"
    },
    {
     "name": "stdout",
     "output_type": "stream",
     "text": [
      "1362\n"
     ]
    },
    {
     "data": {
      "text/markdown": [
       "### Remove restricted toy"
      ],
      "text/plain": [
       "<IPython.core.display.Markdown object>"
      ]
     },
     "metadata": {},
     "output_type": "display_data"
    },
    {
     "name": "stdout",
     "output_type": "stream",
     "text": [
      "1362\n"
     ]
    }
   ],
   "source": [
    "@calculate_auto(CONFIG, save_to=\"with_dependencies_exceptions\", result=None)\n",
    "def fn(combined, prefix):\n",
    "    with_dependencies_exceptions = combined[\n",
    "        (combined[\"new_reason\"] == \"ImportError\")\n",
    "        | (combined[\"new_reason\"] == \"ModuleNotFoundError\")\n",
    "    ]\n",
    "    total_with_dependencies_exceptions = len(with_dependencies_exceptions)\n",
    "    print(total_with_dependencies_exceptions)\n",
    "    return with_dependencies_exceptions"
   ]
  },
  {
   "cell_type": "code",
   "execution_count": 41,
   "metadata": {},
   "outputs": [
    {
     "data": {
      "text/markdown": [
       "### Default"
      ],
      "text/plain": [
       "<IPython.core.display.Markdown object>"
      ]
     },
     "metadata": {},
     "output_type": "display_data"
    },
    {
     "name": "stdout",
     "output_type": "stream",
     "text": [
      "315 (39.67%)\n"
     ]
    },
    {
     "data": {
      "text/markdown": [
       "### Remove duplicates"
      ],
      "text/plain": [
       "<IPython.core.display.Markdown object>"
      ]
     },
     "metadata": {},
     "output_type": "display_data"
    },
    {
     "name": "stdout",
     "output_type": "stream",
     "text": [
      "315 (39.67%)\n"
     ]
    },
    {
     "data": {
      "text/markdown": [
       "### Remove duplicates and toy"
      ],
      "text/plain": [
       "<IPython.core.display.Markdown object>"
      ]
     },
     "metadata": {},
     "output_type": "display_data"
    },
    {
     "name": "stdout",
     "output_type": "stream",
     "text": [
      "315 (39.67%)\n"
     ]
    },
    {
     "data": {
      "text/markdown": [
       "### Remove duplicates and restricted toy"
      ],
      "text/plain": [
       "<IPython.core.display.Markdown object>"
      ]
     },
     "metadata": {},
     "output_type": "display_data"
    },
    {
     "name": "stdout",
     "output_type": "stream",
     "text": [
      "315 (39.67%)\n"
     ]
    },
    {
     "data": {
      "text/markdown": [
       "### Remove toy"
      ],
      "text/plain": [
       "<IPython.core.display.Markdown object>"
      ]
     },
     "metadata": {},
     "output_type": "display_data"
    },
    {
     "name": "stdout",
     "output_type": "stream",
     "text": [
      "315 (39.67%)\n"
     ]
    },
    {
     "data": {
      "text/markdown": [
       "### Remove restricted toy"
      ],
      "text/plain": [
       "<IPython.core.display.Markdown object>"
      ]
     },
     "metadata": {},
     "output_type": "display_data"
    },
    {
     "name": "stdout",
     "output_type": "stream",
     "text": [
      "315 (39.67%)\n"
     ]
    }
   ],
   "source": [
    "@calculate_auto(CONFIG)\n",
    "def fn(with_dependencies_exceptions, total_installed_dependencies, prefix):\n",
    "    installed_with_dependencies_exceptions = with_dependencies_exceptions[\n",
    "        with_dependencies_exceptions[\"mode\"] == 3\n",
    "    ]\n",
    "    total = len(installed_with_dependencies_exceptions)\n",
    "    return relative_var(\n",
    "        prefix + \"module_exception_in_installed\", total, total_installed_dependencies\n",
    "    )"
   ]
  },
  {
   "cell_type": "code",
   "execution_count": 42,
   "metadata": {},
   "outputs": [
    {
     "data": {
      "text/markdown": [
       "### Default"
      ],
      "text/plain": [
       "<IPython.core.display.Markdown object>"
      ]
     },
     "metadata": {},
     "output_type": "display_data"
    },
    {
     "name": "stdout",
     "output_type": "stream",
     "text": [
      "1,047 (55.40%)\n"
     ]
    },
    {
     "data": {
      "text/markdown": [
       "### Remove duplicates"
      ],
      "text/plain": [
       "<IPython.core.display.Markdown object>"
      ]
     },
     "metadata": {},
     "output_type": "display_data"
    },
    {
     "name": "stdout",
     "output_type": "stream",
     "text": [
      "1,047 (55.40%)\n"
     ]
    },
    {
     "data": {
      "text/markdown": [
       "### Remove duplicates and toy"
      ],
      "text/plain": [
       "<IPython.core.display.Markdown object>"
      ]
     },
     "metadata": {},
     "output_type": "display_data"
    },
    {
     "name": "stdout",
     "output_type": "stream",
     "text": [
      "1,047 (55.40%)\n"
     ]
    },
    {
     "data": {
      "text/markdown": [
       "### Remove duplicates and restricted toy"
      ],
      "text/plain": [
       "<IPython.core.display.Markdown object>"
      ]
     },
     "metadata": {},
     "output_type": "display_data"
    },
    {
     "name": "stdout",
     "output_type": "stream",
     "text": [
      "1,047 (55.40%)\n"
     ]
    },
    {
     "data": {
      "text/markdown": [
       "### Remove toy"
      ],
      "text/plain": [
       "<IPython.core.display.Markdown object>"
      ]
     },
     "metadata": {},
     "output_type": "display_data"
    },
    {
     "name": "stdout",
     "output_type": "stream",
     "text": [
      "1,047 (55.40%)\n"
     ]
    },
    {
     "data": {
      "text/markdown": [
       "### Remove restricted toy"
      ],
      "text/plain": [
       "<IPython.core.display.Markdown object>"
      ]
     },
     "metadata": {},
     "output_type": "display_data"
    },
    {
     "name": "stdout",
     "output_type": "stream",
     "text": [
      "1,047 (55.40%)\n"
     ]
    }
   ],
   "source": [
    "@calculate_auto(CONFIG)\n",
    "def fn(with_dependencies_exceptions, total_non_declared_dependencies, prefix):\n",
    "    non_installed_with_dependencies_exceptions = with_dependencies_exceptions[\n",
    "        with_dependencies_exceptions[\"mode\"] == 5\n",
    "    ]\n",
    "    total = len(non_installed_with_dependencies_exceptions)\n",
    "    return relative_var(\n",
    "        prefix + \"module_exception_in_non_installed\",\n",
    "        total,\n",
    "        total_non_declared_dependencies,\n",
    "    )"
   ]
  },
  {
   "cell_type": "markdown",
   "metadata": {},
   "source": [
    "## Timeout\n",
    "\n",
    "\n"
   ]
  },
  {
   "cell_type": "code",
   "execution_count": 43,
   "metadata": {},
   "outputs": [
    {
     "data": {
      "text/markdown": [
       "### Default"
      ],
      "text/plain": [
       "<IPython.core.display.Markdown object>"
      ]
     },
     "metadata": {},
     "output_type": "display_data"
    },
    {
     "name": "stdout",
     "output_type": "stream",
     "text": [
      "23 (0.55%)\n"
     ]
    },
    {
     "data": {
      "text/markdown": [
       "### Remove duplicates"
      ],
      "text/plain": [
       "<IPython.core.display.Markdown object>"
      ]
     },
     "metadata": {},
     "output_type": "display_data"
    },
    {
     "name": "stdout",
     "output_type": "stream",
     "text": [
      "23 (0.55%)\n"
     ]
    },
    {
     "data": {
      "text/markdown": [
       "### Remove duplicates and toy"
      ],
      "text/plain": [
       "<IPython.core.display.Markdown object>"
      ]
     },
     "metadata": {},
     "output_type": "display_data"
    },
    {
     "name": "stdout",
     "output_type": "stream",
     "text": [
      "23 (0.55%)\n"
     ]
    },
    {
     "data": {
      "text/markdown": [
       "### Remove duplicates and restricted toy"
      ],
      "text/plain": [
       "<IPython.core.display.Markdown object>"
      ]
     },
     "metadata": {},
     "output_type": "display_data"
    },
    {
     "name": "stdout",
     "output_type": "stream",
     "text": [
      "23 (0.55%)\n"
     ]
    },
    {
     "data": {
      "text/markdown": [
       "### Remove toy"
      ],
      "text/plain": [
       "<IPython.core.display.Markdown object>"
      ]
     },
     "metadata": {},
     "output_type": "display_data"
    },
    {
     "name": "stdout",
     "output_type": "stream",
     "text": [
      "23 (0.55%)\n"
     ]
    },
    {
     "data": {
      "text/markdown": [
       "### Remove restricted toy"
      ],
      "text/plain": [
       "<IPython.core.display.Markdown object>"
      ]
     },
     "metadata": {},
     "output_type": "display_data"
    },
    {
     "name": "stdout",
     "output_type": "stream",
     "text": [
      "23 (0.55%)\n"
     ]
    }
   ],
   "source": [
    "@calculate_auto(CONFIG)\n",
    "def fn(combined, attempted_executions_total, prefix):\n",
    "    total = len(combined[combined[\"processed\"] & 8 == 8])\n",
    "    return relative_var(prefix + \"repro_timeout\", total, attempted_executions_total)"
   ]
  },
  {
   "cell_type": "markdown",
   "metadata": {},
   "source": [
    "## Finished execution"
   ]
  },
  {
   "cell_type": "code",
   "execution_count": 44,
   "metadata": {},
   "outputs": [
    {
     "data": {
      "text/markdown": [
       "### Default"
      ],
      "text/plain": [
       "<IPython.core.display.Markdown object>"
      ]
     },
     "metadata": {},
     "output_type": "display_data"
    },
    {
     "name": "stdout",
     "output_type": "stream",
     "text": [
      "396 (9.50%)\n"
     ]
    },
    {
     "data": {
      "text/markdown": [
       "### Remove duplicates"
      ],
      "text/plain": [
       "<IPython.core.display.Markdown object>"
      ]
     },
     "metadata": {},
     "output_type": "display_data"
    },
    {
     "name": "stdout",
     "output_type": "stream",
     "text": [
      "396 (9.50%)\n"
     ]
    },
    {
     "data": {
      "text/markdown": [
       "### Remove duplicates and toy"
      ],
      "text/plain": [
       "<IPython.core.display.Markdown object>"
      ]
     },
     "metadata": {},
     "output_type": "display_data"
    },
    {
     "name": "stdout",
     "output_type": "stream",
     "text": [
      "396 (9.50%)\n"
     ]
    },
    {
     "data": {
      "text/markdown": [
       "### Remove duplicates and restricted toy"
      ],
      "text/plain": [
       "<IPython.core.display.Markdown object>"
      ]
     },
     "metadata": {},
     "output_type": "display_data"
    },
    {
     "name": "stdout",
     "output_type": "stream",
     "text": [
      "396 (9.50%)\n"
     ]
    },
    {
     "data": {
      "text/markdown": [
       "### Remove toy"
      ],
      "text/plain": [
       "<IPython.core.display.Markdown object>"
      ]
     },
     "metadata": {},
     "output_type": "display_data"
    },
    {
     "name": "stdout",
     "output_type": "stream",
     "text": [
      "396 (9.50%)\n"
     ]
    },
    {
     "data": {
      "text/markdown": [
       "### Remove restricted toy"
      ],
      "text/plain": [
       "<IPython.core.display.Markdown object>"
      ]
     },
     "metadata": {},
     "output_type": "display_data"
    },
    {
     "name": "stdout",
     "output_type": "stream",
     "text": [
      "396 (9.50%)\n"
     ]
    }
   ],
   "source": [
    "@calculate_auto(CONFIG, save_to=\"finished\", result=None)\n",
    "def fn(executions, attempted_executions_total, prefix):\n",
    "    finished = executions[np.bitwise_and(executions[\"processed\"], 32 + 8 + 4) == 32]\n",
    "    total = len(finished)\n",
    "    print(relative_var(prefix + \"repro_finished\", total, attempted_executions_total))\n",
    "    return finished"
   ]
  },
  {
   "cell_type": "markdown",
   "metadata": {},
   "source": [
    "## Different results"
   ]
  },
  {
   "cell_type": "code",
   "execution_count": 45,
   "metadata": {},
   "outputs": [
    {
     "data": {
      "text/markdown": [
       "### Default"
      ],
      "text/plain": [
       "<IPython.core.display.Markdown object>"
      ]
     },
     "metadata": {},
     "output_type": "display_data"
    },
    {
     "name": "stdout",
     "output_type": "stream",
     "text": [
      "151 (3.62%)\n"
     ]
    },
    {
     "data": {
      "text/markdown": [
       "### Remove duplicates"
      ],
      "text/plain": [
       "<IPython.core.display.Markdown object>"
      ]
     },
     "metadata": {},
     "output_type": "display_data"
    },
    {
     "name": "stdout",
     "output_type": "stream",
     "text": [
      "151 (3.62%)\n"
     ]
    },
    {
     "data": {
      "text/markdown": [
       "### Remove duplicates and toy"
      ],
      "text/plain": [
       "<IPython.core.display.Markdown object>"
      ]
     },
     "metadata": {},
     "output_type": "display_data"
    },
    {
     "name": "stdout",
     "output_type": "stream",
     "text": [
      "151 (3.62%)\n"
     ]
    },
    {
     "data": {
      "text/markdown": [
       "### Remove duplicates and restricted toy"
      ],
      "text/plain": [
       "<IPython.core.display.Markdown object>"
      ]
     },
     "metadata": {},
     "output_type": "display_data"
    },
    {
     "name": "stdout",
     "output_type": "stream",
     "text": [
      "151 (3.62%)\n"
     ]
    },
    {
     "data": {
      "text/markdown": [
       "### Remove toy"
      ],
      "text/plain": [
       "<IPython.core.display.Markdown object>"
      ]
     },
     "metadata": {},
     "output_type": "display_data"
    },
    {
     "name": "stdout",
     "output_type": "stream",
     "text": [
      "151 (3.62%)\n"
     ]
    },
    {
     "data": {
      "text/markdown": [
       "### Remove restricted toy"
      ],
      "text/plain": [
       "<IPython.core.display.Markdown object>"
      ]
     },
     "metadata": {},
     "output_type": "display_data"
    },
    {
     "name": "stdout",
     "output_type": "stream",
     "text": [
      "151 (3.62%)\n"
     ]
    }
   ],
   "source": [
    "@calculate_auto(CONFIG, save_to=\"distinct_value\", result=None)\n",
    "def fn(finished, attempted_executions_total, prefix):\n",
    "    distinct_value = finished[np.bitwise_and(finished[\"processed\"], 16) == 0]\n",
    "    total = len(distinct_value)\n",
    "    print(relative_var(prefix + \"repro_distinct\", total, attempted_executions_total))\n",
    "    return distinct_value"
   ]
  },
  {
   "cell_type": "code",
   "execution_count": 46,
   "metadata": {},
   "outputs": [
    {
     "data": {
      "text/markdown": [
       "### Default"
      ],
      "text/plain": [
       "<IPython.core.display.Markdown object>"
      ]
     },
     "metadata": {},
     "output_type": "display_data"
    },
    {
     "name": "stdout",
     "output_type": "stream",
     "text": [
      "245 (5.88%)\n"
     ]
    },
    {
     "data": {
      "text/markdown": [
       "### Remove duplicates"
      ],
      "text/plain": [
       "<IPython.core.display.Markdown object>"
      ]
     },
     "metadata": {},
     "output_type": "display_data"
    },
    {
     "name": "stdout",
     "output_type": "stream",
     "text": [
      "245 (5.88%)\n"
     ]
    },
    {
     "data": {
      "text/markdown": [
       "### Remove duplicates and toy"
      ],
      "text/plain": [
       "<IPython.core.display.Markdown object>"
      ]
     },
     "metadata": {},
     "output_type": "display_data"
    },
    {
     "name": "stdout",
     "output_type": "stream",
     "text": [
      "245 (5.88%)\n"
     ]
    },
    {
     "data": {
      "text/markdown": [
       "### Remove duplicates and restricted toy"
      ],
      "text/plain": [
       "<IPython.core.display.Markdown object>"
      ]
     },
     "metadata": {},
     "output_type": "display_data"
    },
    {
     "name": "stdout",
     "output_type": "stream",
     "text": [
      "245 (5.88%)\n"
     ]
    },
    {
     "data": {
      "text/markdown": [
       "### Remove toy"
      ],
      "text/plain": [
       "<IPython.core.display.Markdown object>"
      ]
     },
     "metadata": {},
     "output_type": "display_data"
    },
    {
     "name": "stdout",
     "output_type": "stream",
     "text": [
      "245 (5.88%)\n"
     ]
    },
    {
     "data": {
      "text/markdown": [
       "### Remove restricted toy"
      ],
      "text/plain": [
       "<IPython.core.display.Markdown object>"
      ]
     },
     "metadata": {},
     "output_type": "display_data"
    },
    {
     "name": "stdout",
     "output_type": "stream",
     "text": [
      "245 (5.88%)\n"
     ]
    }
   ],
   "source": [
    "@calculate_auto(CONFIG, save_to=\"same_value\", result=None)\n",
    "def fn(finished, attempted_executions_total, prefix):\n",
    "    same_value = finished[np.bitwise_and(finished[\"processed\"], 16) == 16]\n",
    "    total = len(same_value)\n",
    "    print(relative_var(prefix + \"repro_same\", total, attempted_executions_total))\n",
    "    return same_value"
   ]
  },
  {
   "cell_type": "markdown",
   "metadata": {},
   "source": [
    "## Mismatch distribution"
   ]
  },
  {
   "cell_type": "code",
   "execution_count": 47,
   "metadata": {},
   "outputs": [
    {
     "data": {
      "text/html": [
       "<div>\n",
       "<style scoped>\n",
       "    .dataframe tbody tr th:only-of-type {\n",
       "        vertical-align: middle;\n",
       "    }\n",
       "\n",
       "    .dataframe tbody tr th {\n",
       "        vertical-align: top;\n",
       "    }\n",
       "\n",
       "    .dataframe thead th {\n",
       "        text-align: right;\n",
       "    }\n",
       "</style>\n",
       "<table border=\"1\" class=\"dataframe\">\n",
       "  <thead>\n",
       "    <tr style=\"text-align: right;\">\n",
       "      <th></th>\n",
       "      <th>id</th>\n",
       "      <th>notebook_id</th>\n",
       "      <th>mode</th>\n",
       "      <th>reason</th>\n",
       "      <th>msg</th>\n",
       "      <th>diff</th>\n",
       "      <th>cell</th>\n",
       "      <th>count</th>\n",
       "      <th>diff_count</th>\n",
       "      <th>timeout</th>\n",
       "      <th>duration</th>\n",
       "      <th>processed</th>\n",
       "      <th>skip</th>\n",
       "    </tr>\n",
       "  </thead>\n",
       "  <tbody>\n",
       "    <tr>\n",
       "      <th>23</th>\n",
       "      <td>24</td>\n",
       "      <td>9190</td>\n",
       "      <td>5</td>\n",
       "      <td>None</td>\n",
       "      <td>None</td>\n",
       "      <td>1,3,5,6,9</td>\n",
       "      <td>9.0</td>\n",
       "      <td>6.0</td>\n",
       "      <td>5.0</td>\n",
       "      <td>300.0</td>\n",
       "      <td>15.810185</td>\n",
       "      <td>35</td>\n",
       "      <td>0</td>\n",
       "    </tr>\n",
       "    <tr>\n",
       "      <th>24</th>\n",
       "      <td>25</td>\n",
       "      <td>9191</td>\n",
       "      <td>5</td>\n",
       "      <td>None</td>\n",
       "      <td>None</td>\n",
       "      <td>7,8,9,10,11,12,13,14,15,16,19,1,5,25,26,23,24,27,28</td>\n",
       "      <td>28.0</td>\n",
       "      <td>24.0</td>\n",
       "      <td>19.0</td>\n",
       "      <td>300.0</td>\n",
       "      <td>4.404037</td>\n",
       "      <td>35</td>\n",
       "      <td>0</td>\n",
       "    </tr>\n",
       "    <tr>\n",
       "      <th>25</th>\n",
       "      <td>26</td>\n",
       "      <td>9192</td>\n",
       "      <td>5</td>\n",
       "      <td>None</td>\n",
       "      <td>None</td>\n",
       "      <td>1</td>\n",
       "      <td>1.0</td>\n",
       "      <td>1.0</td>\n",
       "      <td>1.0</td>\n",
       "      <td>300.0</td>\n",
       "      <td>2.856677</td>\n",
       "      <td>35</td>\n",
       "      <td>0</td>\n",
       "    </tr>\n",
       "    <tr>\n",
       "      <th>26</th>\n",
       "      <td>27</td>\n",
       "      <td>9195</td>\n",
       "      <td>5</td>\n",
       "      <td>None</td>\n",
       "      <td>None</td>\n",
       "      <td>8,10,11,29,3,5,9,22,13,14,15,18,19,23,24,25</td>\n",
       "      <td>27.0</td>\n",
       "      <td>20.0</td>\n",
       "      <td>16.0</td>\n",
       "      <td>300.0</td>\n",
       "      <td>10.655334</td>\n",
       "      <td>35</td>\n",
       "      <td>0</td>\n",
       "    </tr>\n",
       "    <tr>\n",
       "      <th>27</th>\n",
       "      <td>28</td>\n",
       "      <td>9199</td>\n",
       "      <td>5</td>\n",
       "      <td>None</td>\n",
       "      <td>None</td>\n",
       "      <td>1,3,10,11,14,15,17,19,20,23,25,26,28,29,30</td>\n",
       "      <td>32.0</td>\n",
       "      <td>23.0</td>\n",
       "      <td>15.0</td>\n",
       "      <td>300.0</td>\n",
       "      <td>3.455488</td>\n",
       "      <td>35</td>\n",
       "      <td>0</td>\n",
       "    </tr>\n",
       "  </tbody>\n",
       "</table>\n",
       "</div>"
      ],
      "text/plain": [
       "    id  notebook_id  mode reason   msg  \\\n",
       "23  24         9190     5   None  None   \n",
       "24  25         9191     5   None  None   \n",
       "25  26         9192     5   None  None   \n",
       "26  27         9195     5   None  None   \n",
       "27  28         9199     5   None  None   \n",
       "\n",
       "                                                   diff  cell  count  \\\n",
       "23                                            1,3,5,6,9   9.0    6.0   \n",
       "24  7,8,9,10,11,12,13,14,15,16,19,1,5,25,26,23,24,27,28  28.0   24.0   \n",
       "25                                                    1   1.0    1.0   \n",
       "26          8,10,11,29,3,5,9,22,13,14,15,18,19,23,24,25  27.0   20.0   \n",
       "27           1,3,10,11,14,15,17,19,20,23,25,26,28,29,30  32.0   23.0   \n",
       "\n",
       "    diff_count  timeout   duration  processed  skip  \n",
       "23         5.0    300.0  15.810185         35     0  \n",
       "24        19.0    300.0   4.404037         35     0  \n",
       "25         1.0    300.0   2.856677         35     0  \n",
       "26        16.0    300.0  10.655334         35     0  \n",
       "27        15.0    300.0   3.455488         35     0  "
      ]
     },
     "execution_count": 47,
     "metadata": {},
     "output_type": "execute_result"
    }
   ],
   "source": [
    "f_finished.head(5)"
   ]
  },
  {
   "cell_type": "code",
   "execution_count": 48,
   "metadata": {},
   "outputs": [
    {
     "data": {
      "text/plain": [
       "' %%time\\nwith connect() as session:\\n    query = (\\n        \\'SELECT c.notebook_id, array_agg(c.index ORDER BY c.execution_count::int ASC) as indexes \\'\\n        \\'FROM cells as c \\'\\n        \"WHERE trim(both from regexp_replace(c.source, E\\'[\\\\n\\\\r]+\\', \\' \\', \\'g\\' )) != \\'\\' \"\\n        \"AND c.cell_type = \\'code\\' \"\\n        \"AND c.execution_count ~ \\'^[0-9\\\\.]+$\\' = true \"\\n        \\'GROUP BY c.notebook_id \\'\\n    )\\n    executed_indexes = pd.read_sql(query, session.connection())\\n    \\nexecuted_indexes '"
      ]
     },
     "execution_count": 48,
     "metadata": {},
     "output_type": "execute_result"
    }
   ],
   "source": [
    "\"\"\" %%time\n",
    "with connect() as session:\n",
    "    query = (\n",
    "        'SELECT c.notebook_id, array_agg(c.index ORDER BY c.execution_count::int ASC) as indexes '\n",
    "        'FROM cells as c '\n",
    "        \"WHERE trim(both from regexp_replace(c.source, E'[\\\\n\\\\r]+', ' ', 'g' )) != '' \"\n",
    "        \"AND c.cell_type = 'code' \"\n",
    "        \"AND c.execution_count ~ '^[0-9\\.]+$' = true \"\n",
    "        'GROUP BY c.notebook_id '\n",
    "    )\n",
    "    executed_indexes = pd.read_sql(query, session.connection())\n",
    "    \n",
    "executed_indexes \"\"\""
   ]
  },
  {
   "cell_type": "code",
   "execution_count": 49,
   "metadata": {},
   "outputs": [],
   "source": [
    "# len(executed_indexes)"
   ]
  },
  {
   "cell_type": "code",
   "execution_count": 50,
   "metadata": {},
   "outputs": [
    {
     "data": {
      "text/plain": [
       "' @calculate_auto(CONFIG, save_to=\"merged\", result=None, level=None)\\ndef fn(finished, prefix):\\n    merged = finished.set_index(\"notebook_id\").join(executed_indexes.set_index(\"notebook_id\"))\\n    return merged '"
      ]
     },
     "execution_count": 50,
     "metadata": {},
     "output_type": "execute_result"
    }
   ],
   "source": [
    "\"\"\" @calculate_auto(CONFIG, save_to=\"merged\", result=None, level=None)\n",
    "def fn(finished, prefix):\n",
    "    merged = finished.set_index(\"notebook_id\").join(executed_indexes.set_index(\"notebook_id\"))\n",
    "    return merged \"\"\""
   ]
  },
  {
   "cell_type": "code",
   "execution_count": 51,
   "metadata": {},
   "outputs": [
    {
     "data": {
      "text/plain": [
       "' bins = 1000\\ndef process_regions(df):\\n    result = defaultdict(Counter)\\n    for _, row in df.iterrows():\\n        indexes = [\\n            int(x)\\n            for x in (\\n                row[\"indexes\"] \\n                if isinstance(row[\"indexes\"], list) \\n                else [row[\"indexes\"]]\\n            )\\n            if not isnan(x)\\n        ]\\n        diff = {int(x) for x in row[\"diff\"].split(\",\") if x}\\n        last = int(row[\"cell\"])\\n        total = len(indexes)\\n        add_executed = True\\n        key = \"\"\\n        for i, index in enumerate(indexes):\\n            #if index == last:\\n            #    add_executed = False\\n            #    key = \"stop\"\\n            #    if index in diff:\\n            #        key = \"diff-stop\"\\n            if add_executed:\\n                key = \"same\"\\n                if index in diff:\\n                    key = \"diff\"\\n            elif key != \"stop\" and key != \"diff-stop\":\\n                key = \"non-executed\"\\n                if index in diff:\\n                    print(\"???\", row)\\n            result[key].update(range(floor(i / total * bins), ceil((i + 1) / total * bins) + 1))\\n                \\n    return result\\n\\n@calculate_auto(CONFIG, save_to=\"regions\", result=None, level=None)\\ndef fn(merged, prefix):\\n    regions = process_regions(merged)\\n    return regions '"
      ]
     },
     "execution_count": 51,
     "metadata": {},
     "output_type": "execute_result"
    }
   ],
   "source": [
    "\"\"\" bins = 1000\n",
    "def process_regions(df):\n",
    "    result = defaultdict(Counter)\n",
    "    for _, row in df.iterrows():\n",
    "        indexes = [\n",
    "            int(x)\n",
    "            for x in (\n",
    "                row[\"indexes\"] \n",
    "                if isinstance(row[\"indexes\"], list) \n",
    "                else [row[\"indexes\"]]\n",
    "            )\n",
    "            if not isnan(x)\n",
    "        ]\n",
    "        diff = {int(x) for x in row[\"diff\"].split(\",\") if x}\n",
    "        last = int(row[\"cell\"])\n",
    "        total = len(indexes)\n",
    "        add_executed = True\n",
    "        key = \"\"\n",
    "        for i, index in enumerate(indexes):\n",
    "            #if index == last:\n",
    "            #    add_executed = False\n",
    "            #    key = \"stop\"\n",
    "            #    if index in diff:\n",
    "            #        key = \"diff-stop\"\n",
    "            if add_executed:\n",
    "                key = \"same\"\n",
    "                if index in diff:\n",
    "                    key = \"diff\"\n",
    "            elif key != \"stop\" and key != \"diff-stop\":\n",
    "                key = \"non-executed\"\n",
    "                if index in diff:\n",
    "                    print(\"???\", row)\n",
    "            result[key].update(range(floor(i / total * bins), ceil((i + 1) / total * bins) + 1))\n",
    "                \n",
    "    return result\n",
    "\n",
    "@calculate_auto(CONFIG, save_to=\"regions\", result=None, level=None)\n",
    "def fn(merged, prefix):\n",
    "    regions = process_regions(merged)\n",
    "    return regions \"\"\""
   ]
  },
  {
   "cell_type": "code",
   "execution_count": 52,
   "metadata": {
    "code_folding": []
   },
   "outputs": [
    {
     "data": {
      "text/plain": [
       "' @calculate_auto(CONFIG, save_to=\"cell_type_bins_arrays\", result=None)\\n@print_result\\ndef fn(regions, prefix):\\n    cell_type_bins_arrays = {\\n        key: np.array([counter[i] for i in range(bins + 1)])\\n        for key, counter in regions.items()\\n    }\\n    return cell_type_bins_arrays '"
      ]
     },
     "execution_count": 52,
     "metadata": {},
     "output_type": "execute_result"
    }
   ],
   "source": [
    "\"\"\" @calculate_auto(CONFIG, save_to=\"cell_type_bins_arrays\", result=None)\n",
    "@print_result\n",
    "def fn(regions, prefix):\n",
    "    cell_type_bins_arrays = {\n",
    "        key: np.array([counter[i] for i in range(bins + 1)])\n",
    "        for key, counter in regions.items()\n",
    "    }\n",
    "    return cell_type_bins_arrays \"\"\""
   ]
  },
  {
   "cell_type": "code",
   "execution_count": 53,
   "metadata": {},
   "outputs": [
    {
     "data": {
      "text/plain": [
       "' select = [\"same\", \"diff\"]\\n\\ncolors = {\\n    \\'same\\': \\'#2ca02c\\',\\n    \\'stop\\': \\'#1f77b4\\',\\n    \\'diff\\': \\'#ff7f0e\\',\\n    \\'diff-stop\\': \\'#d62728\\',\\n}\\n\\n@calculate_auto(CONFIG)\\n@close_fig\\ndef fn(cell_type_bins_arrays, prefix):\\n    with cell_distribution(prefix + \"repro_diff_comparison\", 6, 2, select, bins, cell_type_bins_arrays) as ax:\\n        ax.annotate(\"different result\", xy=(610, 75), color=\"white\", weight=\"bold\")\\n        ax.annotate(\"same result\", xy=(30, 20), color=\"white\", weight=\"bold\")\\n        #ax.set_xticklabels([\"First\", \"Middle\", \"Last\"])\\n        ax.set_xlabel(\"Execution Counter Order\") '"
      ]
     },
     "execution_count": 53,
     "metadata": {},
     "output_type": "execute_result"
    }
   ],
   "source": [
    "\"\"\" select = [\"same\", \"diff\"]\n",
    "\n",
    "colors = {\n",
    "    'same': '#2ca02c',\n",
    "    'stop': '#1f77b4',\n",
    "    'diff': '#ff7f0e',\n",
    "    'diff-stop': '#d62728',\n",
    "}\n",
    "\n",
    "@calculate_auto(CONFIG)\n",
    "@close_fig\n",
    "def fn(cell_type_bins_arrays, prefix):\n",
    "    with cell_distribution(prefix + \"repro_diff_comparison\", 6, 2, select, bins, cell_type_bins_arrays) as ax:\n",
    "        ax.annotate(\"different result\", xy=(610, 75), color=\"white\", weight=\"bold\")\n",
    "        ax.annotate(\"same result\", xy=(30, 20), color=\"white\", weight=\"bold\")\n",
    "        #ax.set_xticklabels([\"First\", \"Middle\", \"Last\"])\n",
    "        ax.set_xlabel(\"Execution Counter Order\") \"\"\""
   ]
  },
  {
   "cell_type": "code",
   "execution_count": 54,
   "metadata": {},
   "outputs": [
    {
     "data": {
      "text/plain": [
       "' @calculate_auto(CONFIG)\\n@close_fig\\ndef fn(distinct_value, prefix):\\n    column = distinct_value[\"diff_count\"] / distinct_value[\"count\"]\\n    with savefig(prefix + \"repro_mismatch\", 10, 6):\\n        distribution = distribution_with_boxplot(\\n            column, 0, 1, 0.1, \"Notebooks\", \"Different outputs (%)\",  True, bins=20, template_x=\"{:.0%}\")\\n        print(distribution)\\n        var(prefix + \"repro_mismatch_median\", distribution.median, \"{:.0%}\")\\n        ax = plt.gca()\\n        ax.get_xaxis().set_major_formatter(\\n            matplotlib.ticker.FuncFormatter(lambda x, p: \"{0:.0%}\".format(x))) '"
      ]
     },
     "execution_count": 54,
     "metadata": {},
     "output_type": "execute_result"
    }
   ],
   "source": [
    "\"\"\" @calculate_auto(CONFIG)\n",
    "@close_fig\n",
    "def fn(distinct_value, prefix):\n",
    "    column = distinct_value[\"diff_count\"] / distinct_value[\"count\"]\n",
    "    with savefig(prefix + \"repro_mismatch\", 10, 6):\n",
    "        distribution = distribution_with_boxplot(\n",
    "            column, 0, 1, 0.1, \"Notebooks\", \"Different outputs (%)\",  True, bins=20, template_x=\"{:.0%}\")\n",
    "        print(distribution)\n",
    "        var(prefix + \"repro_mismatch_median\", distribution.median, \"{:.0%}\")\n",
    "        ax = plt.gca()\n",
    "        ax.get_xaxis().set_major_formatter(\n",
    "            matplotlib.ticker.FuncFormatter(lambda x, p: \"{0:.0%}\".format(x))) \"\"\""
   ]
  },
  {
   "cell_type": "markdown",
   "metadata": {},
   "source": [
    "# Processed"
   ]
  },
  {
   "cell_type": "code",
   "execution_count": 55,
   "metadata": {},
   "outputs": [
    {
     "data": {
      "text/markdown": [
       "### Default"
      ],
      "text/plain": [
       "<IPython.core.display.Markdown object>"
      ]
     },
     "metadata": {},
     "output_type": "display_data"
    },
    {
     "name": "stdout",
     "output_type": "stream",
     "text": [
      "processed\n",
      "0     1485\n",
      "35     151\n",
      "39    1244\n",
      "43       4\n",
      "51     245\n",
      "55    1021\n",
      "59      19\n",
      "dtype: int64\n"
     ]
    },
    {
     "data": {
      "text/markdown": [
       "### Remove duplicates"
      ],
      "text/plain": [
       "<IPython.core.display.Markdown object>"
      ]
     },
     "metadata": {},
     "output_type": "display_data"
    },
    {
     "name": "stdout",
     "output_type": "stream",
     "text": [
      "processed\n",
      "0     1485\n",
      "35     151\n",
      "39    1244\n",
      "43       4\n",
      "51     245\n",
      "55    1021\n",
      "59      19\n",
      "dtype: int64\n"
     ]
    },
    {
     "data": {
      "text/markdown": [
       "### Remove duplicates and toy"
      ],
      "text/plain": [
       "<IPython.core.display.Markdown object>"
      ]
     },
     "metadata": {},
     "output_type": "display_data"
    },
    {
     "name": "stdout",
     "output_type": "stream",
     "text": [
      "processed\n",
      "0     1485\n",
      "35     151\n",
      "39    1244\n",
      "43       4\n",
      "51     245\n",
      "55    1021\n",
      "59      19\n",
      "dtype: int64\n"
     ]
    },
    {
     "data": {
      "text/markdown": [
       "### Remove duplicates and restricted toy"
      ],
      "text/plain": [
       "<IPython.core.display.Markdown object>"
      ]
     },
     "metadata": {},
     "output_type": "display_data"
    },
    {
     "name": "stdout",
     "output_type": "stream",
     "text": [
      "processed\n",
      "0     1485\n",
      "35     151\n",
      "39    1244\n",
      "43       4\n",
      "51     245\n",
      "55    1021\n",
      "59      19\n",
      "dtype: int64\n"
     ]
    },
    {
     "data": {
      "text/markdown": [
       "### Remove toy"
      ],
      "text/plain": [
       "<IPython.core.display.Markdown object>"
      ]
     },
     "metadata": {},
     "output_type": "display_data"
    },
    {
     "name": "stdout",
     "output_type": "stream",
     "text": [
      "processed\n",
      "0     1485\n",
      "35     151\n",
      "39    1244\n",
      "43       4\n",
      "51     245\n",
      "55    1021\n",
      "59      19\n",
      "dtype: int64\n"
     ]
    },
    {
     "data": {
      "text/markdown": [
       "### Remove restricted toy"
      ],
      "text/plain": [
       "<IPython.core.display.Markdown object>"
      ]
     },
     "metadata": {},
     "output_type": "display_data"
    },
    {
     "name": "stdout",
     "output_type": "stream",
     "text": [
      "processed\n",
      "0     1485\n",
      "35     151\n",
      "39    1244\n",
      "43       4\n",
      "51     245\n",
      "55    1021\n",
      "59      19\n",
      "dtype: int64\n"
     ]
    }
   ],
   "source": [
    "@calculate_auto(CONFIG, save_to=\"series\", result=None)\n",
    "@print_result\n",
    "def fn(executions, prefix):\n",
    "    return executions.groupby(\"processed\").size()"
   ]
  },
  {
   "cell_type": "code",
   "execution_count": 56,
   "metadata": {},
   "outputs": [
    {
     "data": {
      "text/markdown": [
       "### Default"
      ],
      "text/plain": [
       "<IPython.core.display.Markdown object>"
      ]
     },
     "metadata": {},
     "output_type": "display_data"
    },
    {
     "data": {
      "image/png": "[encoded data removed]",
      "text/plain": [
       "<Figure size 432x288 with 1 Axes>"
      ]
     },
     "metadata": {},
     "output_type": "display_data"
    },
    {
     "data": {
      "text/markdown": [
       "### Remove duplicates"
      ],
      "text/plain": [
       "<IPython.core.display.Markdown object>"
      ]
     },
     "metadata": {},
     "output_type": "display_data"
    },
    {
     "data": {
      "image/png": "[encoded data removed]",
      "text/plain": [
       "<Figure size 432x288 with 1 Axes>"
      ]
     },
     "metadata": {},
     "output_type": "display_data"
    },
    {
     "data": {
      "text/markdown": [
       "### Remove duplicates and toy"
      ],
      "text/plain": [
       "<IPython.core.display.Markdown object>"
      ]
     },
     "metadata": {},
     "output_type": "display_data"
    },
    {
     "data": {
      "image/png": "[encoded data removed]",
      "text/plain": [
       "<Figure size 432x288 with 1 Axes>"
      ]
     },
     "metadata": {},
     "output_type": "display_data"
    },
    {
     "data": {
      "text/markdown": [
       "### Remove duplicates and restricted toy"
      ],
      "text/plain": [
       "<IPython.core.display.Markdown object>"
      ]
     },
     "metadata": {},
     "output_type": "display_data"
    },
    {
     "data": {
      "image/png": "[encoded data removed]",
      "text/plain": [
       "<Figure size 432x288 with 1 Axes>"
      ]
     },
     "metadata": {},
     "output_type": "display_data"
    },
    {
     "data": {
      "text/markdown": [
       "### Remove toy"
      ],
      "text/plain": [
       "<IPython.core.display.Markdown object>"
      ]
     },
     "metadata": {},
     "output_type": "display_data"
    },
    {
     "data": {
      "image/png": "[encoded data removed]",
      "text/plain": [
       "<Figure size 432x288 with 1 Axes>"
      ]
     },
     "metadata": {},
     "output_type": "display_data"
    },
    {
     "data": {
      "text/markdown": [
       "### Remove restricted toy"
      ],
      "text/plain": [
       "<IPython.core.display.Markdown object>"
      ]
     },
     "metadata": {},
     "output_type": "display_data"
    },
    {
     "data": {
      "image/png": "[encoded data removed]",
      "text/plain": [
       "<Figure size 432x288 with 1 Axes>"
      ]
     },
     "metadata": {},
     "output_type": "display_data"
    }
   ],
   "source": [
    "@calculate_auto(CONFIG)\n",
    "@close_fig\n",
    "def fn(series, prefix):\n",
    "    series.plot(kind=\"bar\")"
   ]
  },
  {
   "cell_type": "code",
   "execution_count": 57,
   "metadata": {},
   "outputs": [
    {
     "data": {
      "text/markdown": [
       "### Default"
      ],
      "text/plain": [
       "<IPython.core.display.Markdown object>"
      ]
     },
     "metadata": {},
     "output_type": "display_data"
    },
    {
     "name": "stdout",
     "output_type": "stream",
     "text": [
      "failed to install    1485\n",
      "installed            2684\n",
      "loaded               2684\n",
      "ok                   2684\n",
      "exception            2265\n",
      "timeout                23\n",
      "same results         1285\n",
      "dtype: int64\n"
     ]
    },
    {
     "data": {
      "text/markdown": [
       "### Remove duplicates"
      ],
      "text/plain": [
       "<IPython.core.display.Markdown object>"
      ]
     },
     "metadata": {},
     "output_type": "display_data"
    },
    {
     "name": "stdout",
     "output_type": "stream",
     "text": [
      "failed to install    1485\n",
      "installed            2684\n",
      "loaded               2684\n",
      "ok                   2684\n",
      "exception            2265\n",
      "timeout                23\n",
      "same results         1285\n",
      "dtype: int64\n"
     ]
    },
    {
     "data": {
      "text/markdown": [
       "### Remove duplicates and toy"
      ],
      "text/plain": [
       "<IPython.core.display.Markdown object>"
      ]
     },
     "metadata": {},
     "output_type": "display_data"
    },
    {
     "name": "stdout",
     "output_type": "stream",
     "text": [
      "failed to install    1485\n",
      "installed            2684\n",
      "loaded               2684\n",
      "ok                   2684\n",
      "exception            2265\n",
      "timeout                23\n",
      "same results         1285\n",
      "dtype: int64\n"
     ]
    },
    {
     "data": {
      "text/markdown": [
       "### Remove duplicates and restricted toy"
      ],
      "text/plain": [
       "<IPython.core.display.Markdown object>"
      ]
     },
     "metadata": {},
     "output_type": "display_data"
    },
    {
     "name": "stdout",
     "output_type": "stream",
     "text": [
      "failed to install    1485\n",
      "installed            2684\n",
      "loaded               2684\n",
      "ok                   2684\n",
      "exception            2265\n",
      "timeout                23\n",
      "same results         1285\n",
      "dtype: int64\n"
     ]
    },
    {
     "data": {
      "text/markdown": [
       "### Remove toy"
      ],
      "text/plain": [
       "<IPython.core.display.Markdown object>"
      ]
     },
     "metadata": {},
     "output_type": "display_data"
    },
    {
     "name": "stdout",
     "output_type": "stream",
     "text": [
      "failed to install    1485\n",
      "installed            2684\n",
      "loaded               2684\n",
      "ok                   2684\n",
      "exception            2265\n",
      "timeout                23\n",
      "same results         1285\n",
      "dtype: int64\n"
     ]
    },
    {
     "data": {
      "text/markdown": [
       "### Remove restricted toy"
      ],
      "text/plain": [
       "<IPython.core.display.Markdown object>"
      ]
     },
     "metadata": {},
     "output_type": "display_data"
    },
    {
     "name": "stdout",
     "output_type": "stream",
     "text": [
      "failed to install    1485\n",
      "installed            2684\n",
      "loaded               2684\n",
      "ok                   2684\n",
      "exception            2265\n",
      "timeout                23\n",
      "same results         1285\n",
      "dtype: int64\n"
     ]
    }
   ],
   "source": [
    "statuses = {\n",
    "    0: \"failed to install\",\n",
    "    1: \"installed\",\n",
    "    2: \"loaded\",\n",
    "    4: \"exception\",\n",
    "    8: \"timeout\",\n",
    "    16: \"same results\",\n",
    "    32: \"ok\",\n",
    "}\n",
    "\n",
    "\n",
    "@calculate_auto(CONFIG, save_to=\"described\", result=None)\n",
    "@print_result\n",
    "def fn(series, prefix):\n",
    "    return describe_processed(series, statuses)"
   ]
  },
  {
   "cell_type": "code",
   "execution_count": 58,
   "metadata": {},
   "outputs": [
    {
     "data": {
      "text/markdown": [
       "### Default"
      ],
      "text/plain": [
       "<IPython.core.display.Markdown object>"
      ]
     },
     "metadata": {},
     "output_type": "display_data"
    },
    {
     "data": {
      "text/html": [
       "<div>\n",
       "<style scoped>\n",
       "    .dataframe tbody tr th:only-of-type {\n",
       "        vertical-align: middle;\n",
       "    }\n",
       "\n",
       "    .dataframe tbody tr th {\n",
       "        vertical-align: top;\n",
       "    }\n",
       "\n",
       "    .dataframe thead th {\n",
       "        text-align: right;\n",
       "    }\n",
       "</style>\n",
       "<table border=\"1\" class=\"dataframe\">\n",
       "  <thead>\n",
       "    <tr style=\"text-align: right;\">\n",
       "      <th></th>\n",
       "      <th>0</th>\n",
       "    </tr>\n",
       "  </thead>\n",
       "  <tbody>\n",
       "    <tr>\n",
       "      <th>failed to install</th>\n",
       "      <td>1485</td>\n",
       "    </tr>\n",
       "    <tr>\n",
       "      <th>installed</th>\n",
       "      <td>2684</td>\n",
       "    </tr>\n",
       "    <tr>\n",
       "      <th>loaded</th>\n",
       "      <td>2684</td>\n",
       "    </tr>\n",
       "    <tr>\n",
       "      <th>ok</th>\n",
       "      <td>2684</td>\n",
       "    </tr>\n",
       "    <tr>\n",
       "      <th>exception</th>\n",
       "      <td>2265</td>\n",
       "    </tr>\n",
       "    <tr>\n",
       "      <th>timeout</th>\n",
       "      <td>23</td>\n",
       "    </tr>\n",
       "    <tr>\n",
       "      <th>same results</th>\n",
       "      <td>1285</td>\n",
       "    </tr>\n",
       "  </tbody>\n",
       "</table>\n",
       "</div>"
      ],
      "text/plain": [
       "                      0\n",
       "failed to install  1485\n",
       "installed          2684\n",
       "loaded             2684\n",
       "ok                 2684\n",
       "exception          2265\n",
       "timeout              23\n",
       "same results       1285"
      ]
     },
     "metadata": {},
     "output_type": "display_data"
    },
    {
     "data": {
      "image/png": "[encoded data removed]",
      "text/plain": [
       "<Figure size 432x288 with 1 Axes>"
      ]
     },
     "metadata": {},
     "output_type": "display_data"
    },
    {
     "data": {
      "text/markdown": [
       "### Remove duplicates"
      ],
      "text/plain": [
       "<IPython.core.display.Markdown object>"
      ]
     },
     "metadata": {},
     "output_type": "display_data"
    },
    {
     "data": {
      "text/html": [
       "<div>\n",
       "<style scoped>\n",
       "    .dataframe tbody tr th:only-of-type {\n",
       "        vertical-align: middle;\n",
       "    }\n",
       "\n",
       "    .dataframe tbody tr th {\n",
       "        vertical-align: top;\n",
       "    }\n",
       "\n",
       "    .dataframe thead th {\n",
       "        text-align: right;\n",
       "    }\n",
       "</style>\n",
       "<table border=\"1\" class=\"dataframe\">\n",
       "  <thead>\n",
       "    <tr style=\"text-align: right;\">\n",
       "      <th></th>\n",
       "      <th>0</th>\n",
       "    </tr>\n",
       "  </thead>\n",
       "  <tbody>\n",
       "    <tr>\n",
       "      <th>failed to install</th>\n",
       "      <td>1485</td>\n",
       "    </tr>\n",
       "    <tr>\n",
       "      <th>installed</th>\n",
       "      <td>2684</td>\n",
       "    </tr>\n",
       "    <tr>\n",
       "      <th>loaded</th>\n",
       "      <td>2684</td>\n",
       "    </tr>\n",
       "    <tr>\n",
       "      <th>ok</th>\n",
       "      <td>2684</td>\n",
       "    </tr>\n",
       "    <tr>\n",
       "      <th>exception</th>\n",
       "      <td>2265</td>\n",
       "    </tr>\n",
       "    <tr>\n",
       "      <th>timeout</th>\n",
       "      <td>23</td>\n",
       "    </tr>\n",
       "    <tr>\n",
       "      <th>same results</th>\n",
       "      <td>1285</td>\n",
       "    </tr>\n",
       "  </tbody>\n",
       "</table>\n",
       "</div>"
      ],
      "text/plain": [
       "                      0\n",
       "failed to install  1485\n",
       "installed          2684\n",
       "loaded             2684\n",
       "ok                 2684\n",
       "exception          2265\n",
       "timeout              23\n",
       "same results       1285"
      ]
     },
     "metadata": {},
     "output_type": "display_data"
    },
    {
     "data": {
      "image/png": "[encoded data removed]",
      "text/plain": [
       "<Figure size 432x288 with 1 Axes>"
      ]
     },
     "metadata": {},
     "output_type": "display_data"
    },
    {
     "data": {
      "text/markdown": [
       "### Remove duplicates and toy"
      ],
      "text/plain": [
       "<IPython.core.display.Markdown object>"
      ]
     },
     "metadata": {},
     "output_type": "display_data"
    },
    {
     "data": {
      "text/html": [
       "<div>\n",
       "<style scoped>\n",
       "    .dataframe tbody tr th:only-of-type {\n",
       "        vertical-align: middle;\n",
       "    }\n",
       "\n",
       "    .dataframe tbody tr th {\n",
       "        vertical-align: top;\n",
       "    }\n",
       "\n",
       "    .dataframe thead th {\n",
       "        text-align: right;\n",
       "    }\n",
       "</style>\n",
       "<table border=\"1\" class=\"dataframe\">\n",
       "  <thead>\n",
       "    <tr style=\"text-align: right;\">\n",
       "      <th></th>\n",
       "      <th>0</th>\n",
       "    </tr>\n",
       "  </thead>\n",
       "  <tbody>\n",
       "    <tr>\n",
       "      <th>failed to install</th>\n",
       "      <td>1485</td>\n",
       "    </tr>\n",
       "    <tr>\n",
       "      <th>installed</th>\n",
       "      <td>2684</td>\n",
       "    </tr>\n",
       "    <tr>\n",
       "      <th>loaded</th>\n",
       "      <td>2684</td>\n",
       "    </tr>\n",
       "    <tr>\n",
       "      <th>ok</th>\n",
       "      <td>2684</td>\n",
       "    </tr>\n",
       "    <tr>\n",
       "      <th>exception</th>\n",
       "      <td>2265</td>\n",
       "    </tr>\n",
       "    <tr>\n",
       "      <th>timeout</th>\n",
       "      <td>23</td>\n",
       "    </tr>\n",
       "    <tr>\n",
       "      <th>same results</th>\n",
       "      <td>1285</td>\n",
       "    </tr>\n",
       "  </tbody>\n",
       "</table>\n",
       "</div>"
      ],
      "text/plain": [
       "                      0\n",
       "failed to install  1485\n",
       "installed          2684\n",
       "loaded             2684\n",
       "ok                 2684\n",
       "exception          2265\n",
       "timeout              23\n",
       "same results       1285"
      ]
     },
     "metadata": {},
     "output_type": "display_data"
    },
    {
     "data": {
      "image/png": "[encoded data removed]",
      "text/plain": [
       "<Figure size 432x288 with 1 Axes>"
      ]
     },
     "metadata": {},
     "output_type": "display_data"
    },
    {
     "data": {
      "text/markdown": [
       "### Remove duplicates and restricted toy"
      ],
      "text/plain": [
       "<IPython.core.display.Markdown object>"
      ]
     },
     "metadata": {},
     "output_type": "display_data"
    },
    {
     "data": {
      "text/html": [
       "<div>\n",
       "<style scoped>\n",
       "    .dataframe tbody tr th:only-of-type {\n",
       "        vertical-align: middle;\n",
       "    }\n",
       "\n",
       "    .dataframe tbody tr th {\n",
       "        vertical-align: top;\n",
       "    }\n",
       "\n",
       "    .dataframe thead th {\n",
       "        text-align: right;\n",
       "    }\n",
       "</style>\n",
       "<table border=\"1\" class=\"dataframe\">\n",
       "  <thead>\n",
       "    <tr style=\"text-align: right;\">\n",
       "      <th></th>\n",
       "      <th>0</th>\n",
       "    </tr>\n",
       "  </thead>\n",
       "  <tbody>\n",
       "    <tr>\n",
       "      <th>failed to install</th>\n",
       "      <td>1485</td>\n",
       "    </tr>\n",
       "    <tr>\n",
       "      <th>installed</th>\n",
       "      <td>2684</td>\n",
       "    </tr>\n",
       "    <tr>\n",
       "      <th>loaded</th>\n",
       "      <td>2684</td>\n",
       "    </tr>\n",
       "    <tr>\n",
       "      <th>ok</th>\n",
       "      <td>2684</td>\n",
       "    </tr>\n",
       "    <tr>\n",
       "      <th>exception</th>\n",
       "      <td>2265</td>\n",
       "    </tr>\n",
       "    <tr>\n",
       "      <th>timeout</th>\n",
       "      <td>23</td>\n",
       "    </tr>\n",
       "    <tr>\n",
       "      <th>same results</th>\n",
       "      <td>1285</td>\n",
       "    </tr>\n",
       "  </tbody>\n",
       "</table>\n",
       "</div>"
      ],
      "text/plain": [
       "                      0\n",
       "failed to install  1485\n",
       "installed          2684\n",
       "loaded             2684\n",
       "ok                 2684\n",
       "exception          2265\n",
       "timeout              23\n",
       "same results       1285"
      ]
     },
     "metadata": {},
     "output_type": "display_data"
    },
    {
     "data": {
      "image/png": "[encoded data removed]",
      "text/plain": [
       "<Figure size 432x288 with 1 Axes>"
      ]
     },
     "metadata": {},
     "output_type": "display_data"
    },
    {
     "data": {
      "text/markdown": [
       "### Remove toy"
      ],
      "text/plain": [
       "<IPython.core.display.Markdown object>"
      ]
     },
     "metadata": {},
     "output_type": "display_data"
    },
    {
     "data": {
      "text/html": [
       "<div>\n",
       "<style scoped>\n",
       "    .dataframe tbody tr th:only-of-type {\n",
       "        vertical-align: middle;\n",
       "    }\n",
       "\n",
       "    .dataframe tbody tr th {\n",
       "        vertical-align: top;\n",
       "    }\n",
       "\n",
       "    .dataframe thead th {\n",
       "        text-align: right;\n",
       "    }\n",
       "</style>\n",
       "<table border=\"1\" class=\"dataframe\">\n",
       "  <thead>\n",
       "    <tr style=\"text-align: right;\">\n",
       "      <th></th>\n",
       "      <th>0</th>\n",
       "    </tr>\n",
       "  </thead>\n",
       "  <tbody>\n",
       "    <tr>\n",
       "      <th>failed to install</th>\n",
       "      <td>1485</td>\n",
       "    </tr>\n",
       "    <tr>\n",
       "      <th>installed</th>\n",
       "      <td>2684</td>\n",
       "    </tr>\n",
       "    <tr>\n",
       "      <th>loaded</th>\n",
       "      <td>2684</td>\n",
       "    </tr>\n",
       "    <tr>\n",
       "      <th>ok</th>\n",
       "      <td>2684</td>\n",
       "    </tr>\n",
       "    <tr>\n",
       "      <th>exception</th>\n",
       "      <td>2265</td>\n",
       "    </tr>\n",
       "    <tr>\n",
       "      <th>timeout</th>\n",
       "      <td>23</td>\n",
       "    </tr>\n",
       "    <tr>\n",
       "      <th>same results</th>\n",
       "      <td>1285</td>\n",
       "    </tr>\n",
       "  </tbody>\n",
       "</table>\n",
       "</div>"
      ],
      "text/plain": [
       "                      0\n",
       "failed to install  1485\n",
       "installed          2684\n",
       "loaded             2684\n",
       "ok                 2684\n",
       "exception          2265\n",
       "timeout              23\n",
       "same results       1285"
      ]
     },
     "metadata": {},
     "output_type": "display_data"
    },
    {
     "data": {
      "image/png": "[encoded data removed]",
      "text/plain": [
       "<Figure size 432x288 with 1 Axes>"
      ]
     },
     "metadata": {},
     "output_type": "display_data"
    },
    {
     "data": {
      "text/markdown": [
       "### Remove restricted toy"
      ],
      "text/plain": [
       "<IPython.core.display.Markdown object>"
      ]
     },
     "metadata": {},
     "output_type": "display_data"
    },
    {
     "data": {
      "text/html": [
       "<div>\n",
       "<style scoped>\n",
       "    .dataframe tbody tr th:only-of-type {\n",
       "        vertical-align: middle;\n",
       "    }\n",
       "\n",
       "    .dataframe tbody tr th {\n",
       "        vertical-align: top;\n",
       "    }\n",
       "\n",
       "    .dataframe thead th {\n",
       "        text-align: right;\n",
       "    }\n",
       "</style>\n",
       "<table border=\"1\" class=\"dataframe\">\n",
       "  <thead>\n",
       "    <tr style=\"text-align: right;\">\n",
       "      <th></th>\n",
       "      <th>0</th>\n",
       "    </tr>\n",
       "  </thead>\n",
       "  <tbody>\n",
       "    <tr>\n",
       "      <th>failed to install</th>\n",
       "      <td>1485</td>\n",
       "    </tr>\n",
       "    <tr>\n",
       "      <th>installed</th>\n",
       "      <td>2684</td>\n",
       "    </tr>\n",
       "    <tr>\n",
       "      <th>loaded</th>\n",
       "      <td>2684</td>\n",
       "    </tr>\n",
       "    <tr>\n",
       "      <th>ok</th>\n",
       "      <td>2684</td>\n",
       "    </tr>\n",
       "    <tr>\n",
       "      <th>exception</th>\n",
       "      <td>2265</td>\n",
       "    </tr>\n",
       "    <tr>\n",
       "      <th>timeout</th>\n",
       "      <td>23</td>\n",
       "    </tr>\n",
       "    <tr>\n",
       "      <th>same results</th>\n",
       "      <td>1285</td>\n",
       "    </tr>\n",
       "  </tbody>\n",
       "</table>\n",
       "</div>"
      ],
      "text/plain": [
       "                      0\n",
       "failed to install  1485\n",
       "installed          2684\n",
       "loaded             2684\n",
       "ok                 2684\n",
       "exception          2265\n",
       "timeout              23\n",
       "same results       1285"
      ]
     },
     "metadata": {},
     "output_type": "display_data"
    },
    {
     "data": {
      "image/png": "[encoded data removed]",
      "text/plain": [
       "<Figure size 432x288 with 1 Axes>"
      ]
     },
     "metadata": {},
     "output_type": "display_data"
    }
   ],
   "source": [
    "@calculate_auto(CONFIG)\n",
    "@close_fig\n",
    "def fn(described, prefix):\n",
    "    fig, cnt = display_counts(described, show_values=True, plot=False)\n",
    "    display(cnt)\n",
    "    fig = plt.gcf()\n",
    "    fig.set_size_inches(6, 4)\n",
    "    ax = plt.gca()\n",
    "    ax.legend().set_visible(False)\n",
    "    ax = plt.gca()\n",
    "    ax.set_ylabel(\"Notebook Executions\")\n",
    "    ax.set_xlabel(\"Status (with intersection)\")"
   ]
  },
  {
   "cell_type": "code",
   "execution_count": null,
   "metadata": {},
   "outputs": [],
   "source": []
  }
 ],
 "metadata": {
  "kernelspec": {
   "display_name": "Python 3",
   "language": "python",
   "name": "python3"
  },
  "language_info": {
   "codemirror_mode": {
    "name": "ipython",
    "version": 3
   },
   "file_extension": ".py",
   "mimetype": "text/x-python",
   "name": "python",
   "nbconvert_exporter": "python",
   "pygments_lexer": "ipython3",
   "version": "3.8.5"
  },
  "notify_time": "5",
  "toc": {
   "base_numbering": 1,
   "nav_menu": {},
   "number_sections": true,
   "sideBar": true,
   "skip_h1_title": false,
   "title_cell": "Table of Contents",
   "title_sidebar": "Contents",
   "toc_cell": true,
   "toc_position": {
    "height": "calc(100% - 180px)",
    "left": "10px",
    "top": "150px",
    "width": "165px"
   },
   "toc_section_display": true,
   "toc_window_display": true
  }
 },
 "nbformat": 4,
 "nbformat_minor": 4
}
