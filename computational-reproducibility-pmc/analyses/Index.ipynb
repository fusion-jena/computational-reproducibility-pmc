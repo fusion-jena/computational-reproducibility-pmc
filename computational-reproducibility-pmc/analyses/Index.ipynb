{
 "cells": [
  {
   "cell_type": "markdown",
   "metadata": {},
   "source": [
    "# Index\n",
    "\n",
    "The following notebooks analyze the data from the database:\n",
    "\n",
    "1. [General Statistics of the Study](PMC1.GeneralInfo.ipynb)\n",
    "1. [Programming Languages](PMC2.ProgrammingLanguages.ipynb)\n",
    "1. [Reproducibility Study](PMC3.ReproducibilityStudy.ipynb)\n",
    "1. [Decay Rate: Replication Success over Repository Age](PMC4.DecayRate.ipynb)\n",
    "1. [Analysis by research field](PMC5.AnalysisResearchField.ipynb)\n",
    "1. [Correlation of notebook metrics](PMC6.MetricsCorrelation.ipynb)\n",
    "1. [Analysis on notebook exceptions](PMC7.ExceptionAnalysis.ipynb)\n",
    "1. [Repositories](N1.Repository.ipynb)\n",
    "1. [Skip Notebooks](N1.Skip.Notebook.ipynb)\n",
    "1. [Notebooks](N2.Notebook.ipynb)\n",
    "1. [Cells](N3.Cell.ipynb)\n",
    "1. [IPython Features](N4.Features.ipynb)\n",
    "1. [Modules](N5.Modules.ipynb)\n",
    "1. [AST](N6.AST.ipynb)\n",
    "1. [Names](N7.Name.ipynb)\n",
    "1. [Executions](N8.Execution.ipynb)\n",
    "1. [Cell Execution Order](N9.Cell.Execution.Order.ipynb)\n",
    "1. [Markdown](N10.Markdown.ipynb)\n",
    "\n"
   ]
  },
  {
   "cell_type": "code",
   "execution_count": null,
   "metadata": {},
   "outputs": [],
   "source": []
  }
 ],
 "metadata": {
  "kernelspec": {
   "display_name": "Python 3 (ipykernel)",
   "language": "python",
   "name": "python3"
  },
  "language_info": {
   "codemirror_mode": {
    "name": "ipython",
    "version": 3
   },
   "file_extension": ".py",
   "mimetype": "text/x-python",
   "name": "python",
   "nbconvert_exporter": "python",
   "pygments_lexer": "ipython3",
   "version": "3.8.8"
  },
  "toc": {
   "base_numbering": 1,
   "nav_menu": {
    "height": "12px",
    "width": "252px"
   },
   "number_sections": true,
   "sideBar": true,
   "skip_h1_title": false,
   "title_cell": "Table of Contents",
   "title_sidebar": "Contents",
   "toc_cell": false,
   "toc_position": {},
   "toc_section_display": "block",
   "toc_window_display": false
  }
 },
 "nbformat": 4,
 "nbformat_minor": 4
}
