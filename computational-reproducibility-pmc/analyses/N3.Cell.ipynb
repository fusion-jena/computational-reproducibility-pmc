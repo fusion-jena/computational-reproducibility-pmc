{
 "cells": [
  {
   "cell_type": "markdown",
   "metadata": {
    "toc": true
   },
   "source": [
    "<h1>Table of Contents<span class=\"tocSkip\"></span></h1>\n",
    "<div class=\"toc\"><ul class=\"toc-item\"><li><span><a href=\"#Cells\" data-toc-modified-id=\"Cells-1\"><span class=\"toc-item-num\">1&nbsp;&nbsp;</span>Cells</a></span><ul class=\"toc-item\"><li><span><a href=\"#Restrict-notebooks\" data-toc-modified-id=\"Restrict-notebooks-1.1\"><span class=\"toc-item-num\">1.1&nbsp;&nbsp;</span>Restrict notebooks</a></span></li><li><span><a href=\"#Number-of-cells\" data-toc-modified-id=\"Number-of-cells-1.2\"><span class=\"toc-item-num\">1.2&nbsp;&nbsp;</span>Number of cells</a></span></li><li><span><a href=\"#Cells-from-executed-notebooks\" data-toc-modified-id=\"Cells-from-executed-notebooks-1.3\"><span class=\"toc-item-num\">1.3&nbsp;&nbsp;</span>Cells from executed notebooks</a></span></li><li><span><a href=\"#Number-of-notebooks\" data-toc-modified-id=\"Number-of-notebooks-1.4\"><span class=\"toc-item-num\">1.4&nbsp;&nbsp;</span>Number of notebooks</a></span></li><li><span><a href=\"#Number-of-executed-notebooks\" data-toc-modified-id=\"Number-of-executed-notebooks-1.5\"><span class=\"toc-item-num\">1.5&nbsp;&nbsp;</span>Number of executed notebooks</a></span></li><li><span><a href=\"#Number-of-executed-python-notebooks\" data-toc-modified-id=\"Number-of-executed-python-notebooks-1.6\"><span class=\"toc-item-num\">1.6&nbsp;&nbsp;</span>Number of executed python notebooks</a></span></li><li><span><a href=\"#Cell-Types\" data-toc-modified-id=\"Cell-Types-1.7\"><span class=\"toc-item-num\">1.7&nbsp;&nbsp;</span>Cell Types</a></span></li><li><span><a href=\"#Number-of-Lines\" data-toc-modified-id=\"Number-of-Lines-1.8\"><span class=\"toc-item-num\">1.8&nbsp;&nbsp;</span>Number of Lines</a></span><ul class=\"toc-item\"><li><span><a href=\"#Number-of-lines-in-code-cells\" data-toc-modified-id=\"Number-of-lines-in-code-cells-1.8.1\"><span class=\"toc-item-num\">1.8.1&nbsp;&nbsp;</span>Number of lines in code cells</a></span><ul class=\"toc-item\"><li><span><a href=\"#Python\" data-toc-modified-id=\"Python-1.8.1.1\"><span class=\"toc-item-num\">1.8.1.1&nbsp;&nbsp;</span>Python</a></span></li><li><span><a href=\"#Julia\" data-toc-modified-id=\"Julia-1.8.1.2\"><span class=\"toc-item-num\">1.8.1.2&nbsp;&nbsp;</span>Julia</a></span></li><li><span><a href=\"#R\" data-toc-modified-id=\"R-1.8.1.3\"><span class=\"toc-item-num\">1.8.1.3&nbsp;&nbsp;</span>R</a></span></li></ul></li><li><span><a href=\"#Number-of-lines-in-markdown-cells\" data-toc-modified-id=\"Number-of-lines-in-markdown-cells-1.8.2\"><span class=\"toc-item-num\">1.8.2&nbsp;&nbsp;</span>Number of lines in markdown cells</a></span></li><li><span><a href=\"#Number-of-lines-in-raw-cells\" data-toc-modified-id=\"Number-of-lines-in-raw-cells-1.8.3\"><span class=\"toc-item-num\">1.8.3&nbsp;&nbsp;</span>Number of lines in raw cells</a></span></li><li><span><a href=\"#Number-of-lines-in-heading-cells\" data-toc-modified-id=\"Number-of-lines-in-heading-cells-1.8.4\"><span class=\"toc-item-num\">1.8.4&nbsp;&nbsp;</span>Number of lines in heading cells</a></span></li></ul></li><li><span><a href=\"#Output-Formats\" data-toc-modified-id=\"Output-Formats-1.9\"><span class=\"toc-item-num\">1.9&nbsp;&nbsp;</span>Output Formats</a></span><ul class=\"toc-item\"><li><span><a href=\"#Cells-with-outputs\" data-toc-modified-id=\"Cells-with-outputs-1.9.1\"><span class=\"toc-item-num\">1.9.1&nbsp;&nbsp;</span>Cells with outputs</a></span></li><li><span><a href=\"#Notebooks-with-outputs\" data-toc-modified-id=\"Notebooks-with-outputs-1.9.2\"><span class=\"toc-item-num\">1.9.2&nbsp;&nbsp;</span>Notebooks with outputs</a></span></li><li><span><a href=\"#Table\" data-toc-modified-id=\"Table-1.9.3\"><span class=\"toc-item-num\">1.9.3&nbsp;&nbsp;</span>Table</a></span></li></ul></li><li><span><a href=\"#Lines-in-Notebooks\" data-toc-modified-id=\"Lines-in-Notebooks-1.10\"><span class=\"toc-item-num\">1.10&nbsp;&nbsp;</span>Lines in Notebooks</a></span><ul class=\"toc-item\"><li><span><a href=\"#Python-cells\" data-toc-modified-id=\"Python-cells-1.10.1\"><span class=\"toc-item-num\">1.10.1&nbsp;&nbsp;</span>Python cells</a></span></li><li><span><a href=\"#Julia-cells\" data-toc-modified-id=\"Julia-cells-1.10.2\"><span class=\"toc-item-num\">1.10.2&nbsp;&nbsp;</span>Julia cells</a></span></li><li><span><a href=\"#R-cells\" data-toc-modified-id=\"R-cells-1.10.3\"><span class=\"toc-item-num\">1.10.3&nbsp;&nbsp;</span>R cells</a></span></li><li><span><a href=\"#Markdown-cells\" data-toc-modified-id=\"Markdown-cells-1.10.4\"><span class=\"toc-item-num\">1.10.4&nbsp;&nbsp;</span>Markdown cells</a></span></li></ul></li><li><span><a href=\"#Distribution-of-Cells\" data-toc-modified-id=\"Distribution-of-Cells-1.11\"><span class=\"toc-item-num\">1.11&nbsp;&nbsp;</span>Distribution of Cells</a></span><ul class=\"toc-item\"><li><span><a href=\"#Markdown-x-Code\" data-toc-modified-id=\"Markdown-x-Code-1.11.1\"><span class=\"toc-item-num\">1.11.1&nbsp;&nbsp;</span>Markdown x Code</a></span></li><li><span><a href=\"#Import-distribution\" data-toc-modified-id=\"Import-distribution-1.11.2\"><span class=\"toc-item-num\">1.11.2&nbsp;&nbsp;</span>Import distribution</a></span></li><li><span><a href=\"#Execution-distribution\" data-toc-modified-id=\"Execution-distribution-1.11.3\"><span class=\"toc-item-num\">1.11.3&nbsp;&nbsp;</span>Execution distribution</a></span></li></ul></li><li><span><a href=\"#Status\" data-toc-modified-id=\"Status-1.12\"><span class=\"toc-item-num\">1.12&nbsp;&nbsp;</span>Status</a></span></li></ul></li></ul></div>"
   ]
  },
  {
   "cell_type": "markdown",
   "metadata": {},
   "source": [
    "# Cells\n",
    "\n",
    "Analyze cells: number of lines by language/cell type, output formats, distribution of cell types, imports, and execution."
   ]
  },
  {
   "cell_type": "code",
   "execution_count": 2,
   "metadata": {},
   "outputs": [],
   "source": [
    "import sys\n",
    "\n",
    "sys.path.insert(0, \"../archaeology\")\n",
    "sys.path.insert(0, \"../analysis\")\n",
    "# sys.path.insert(0, '..')\n",
    "%matplotlib inline\n",
    "import csv\n",
    "import importlib\n",
    "from collections import Counter, defaultdict\n",
    "from pprint import pprint\n",
    "\n",
    "import dask.dataframe as dd\n",
    "import matplotlib\n",
    "import numpy as np\n",
    "import pandas as pd\n",
    "from matplotlib import pyplot as plt\n",
    "from sqlalchemy import func\n",
    "from dask.distributed import Client\n",
    "\n",
    "from consts import C_STATUSES\n",
    "from db import connect\n",
    "import analysis_helpers\n",
    "\n",
    "# matplotlib.rc('xtick', labelsize=20)\n",
    "# matplotlib.rc('ytick', labelsize=20)\n",
    "\n",
    "importlib.reload(analysis_helpers)\n",
    "from analysis_helpers import (\n",
    "    calculate_auto,\n",
    "    cell_distribution,\n",
    "    close_fig,\n",
    "    describe_processed,\n",
    "    display_counts,\n",
    "    distribution_with_boxplot,\n",
    "    relative_var,\n",
    "    var,\n",
    ")\n",
    "\n",
    "\n",
    "def fetchgenerator(cursor, arraysize=1000):\n",
    "    \"An iterator that uses fetchmany to keep memory usage down\"\n",
    "    while True:\n",
    "        results = cursor.fetchmany(arraysize)\n",
    "        if not results:\n",
    "            break\n",
    "        yield from results"
   ]
  },
  {
   "cell_type": "code",
   "execution_count": 3,
   "metadata": {},
   "outputs": [
    {
     "data": {
      "text/html": [
       "<table style=\"border: 2px solid white;\">\n",
       "<tr>\n",
       "<td style=\"vertical-align: top; border: 0px solid white\">\n",
       "<h3 style=\"text-align: left;\">Client</h3>\n",
       "<ul style=\"text-align: left; list-style: none; margin: 0; padding: 0;\">\n",
       "  <li><b>Scheduler: </b>tcp://127.0.0.1:36401</li>\n",
       "  <li><b>Dashboard: </b><a href='http://127.0.0.1:8787/status' target='_blank'>http://127.0.0.1:8787/status</a></li>\n",
       "</ul>\n",
       "</td>\n",
       "<td style=\"vertical-align: top; border: 0px solid white\">\n",
       "<h3 style=\"text-align: left;\">Cluster</h3>\n",
       "<ul style=\"text-align: left; list-style:none; margin: 0; padding: 0;\">\n",
       "  <li><b>Workers: </b>4</li>\n",
       "  <li><b>Cores: </b>8</li>\n",
       "  <li><b>Memory: </b>46.29 GiB</li>\n",
       "</ul>\n",
       "</td>\n",
       "</tr>\n",
       "</table>"
      ],
      "text/plain": [
       "<Client: 'tcp://127.0.0.1:36401' processes=4 threads=8, memory=46.29 GiB>"
      ]
     },
     "execution_count": 3,
     "metadata": {},
     "output_type": "execute_result"
    }
   ],
   "source": [
    "client = Client()\n",
    "client"
   ]
  },
  {
   "cell_type": "code",
   "execution_count": 4,
   "metadata": {},
   "outputs": [
    {
     "name": "stdout",
     "output_type": "stream",
     "text": [
      "Dask DataFrame Structure:\n",
      "              repository_id language notebook_id  index cell_type  lines output_formats processed has_import notebook_cells execution_count max_execution_count   skip\n",
      "npartitions=1                                                                                                                                                         \n",
      "                      int64   object       int64  int64    object  int64         object     int64      int64          int64          object               int64  int64\n",
      "                        ...      ...         ...    ...       ...    ...            ...       ...        ...            ...             ...                 ...    ...\n",
      "Dask Name: read-csv, 1 tasks\n",
      "Cells: 890,096\n",
      "CPU times: user 3.39 s, sys: 347 ms, total: 3.73 s\n",
      "Wall time: 5.5 s\n"
     ]
    }
   ],
   "source": [
    "%%time\n",
    "with connect() as session:\n",
    "    # print('Last query:', session.query(Query).all()[-1])\n",
    "    # Dask does not support reading table from SQL yet.\n",
    "    # We must write a csv file before\n",
    "\n",
    "    #     query = (\n",
    "    #         'SELECT n.repository_id, n.language, '\n",
    "    #         'c.notebook_id, c.\"index\", c.cell_type, c.lines, '\n",
    "    #         'c.output_formats, c.processed, '\n",
    "    #         'c.source LIKE \\'%import %\\' as has_import, '\n",
    "    #         'n.total_cells as notebook_cells, '\n",
    "    #         'c.execution_count, n.max_execution_count, n.skip, '\n",
    "    #         \"trim(both from regexp_replace(c.source, E'[\\\\n\\\\r]+', ' ', 'g' )) = '' as empty \"\n",
    "    #         'FROM cells as c, notebooks as n '\n",
    "    #         'WHERE c.notebook_id = n.id '\n",
    "    #         \"AND NOT (n.kernel = 'no-kernel' AND n.nbformat = '0') \"\n",
    "    #     )\n",
    "    query = (\n",
    "        \"SELECT n.repository_id, n.language, \"\n",
    "        'c.notebook_id, c.\"index\", c.cell_type, c.lines, '\n",
    "        \"c.output_formats, c.processed, \"\n",
    "        \"c.source LIKE '%import %' as has_import, \"\n",
    "        \"n.total_cells as notebook_cells, \"\n",
    "        \"c.execution_count, n.max_execution_count, n.skip \"\n",
    "        \"FROM cells as c, notebooks as n \"\n",
    "        \"WHERE c.notebook_id = n.id \"\n",
    "        \"AND NOT (n.kernel = 'no-kernel' AND n.nbformat = '0') \"\n",
    "    )\n",
    "    q = session.execute(query)\n",
    "\n",
    "    with open(\"cells.csv\", \"w\") as outfile:\n",
    "        outcsv = csv.writer(outfile)\n",
    "        outcsv.writerow(x[0] for x in q.cursor.description)\n",
    "        outcsv.writerows(fetchgenerator(q.cursor))\n",
    "    \"\"\"\n",
    "    \"\"\"\n",
    "\n",
    "    raw_cells = dd.read_csv(\"cells.csv\", dtype={\"execution_count\": \"str\"})\n",
    "    print(raw_cells)\n",
    "    raw_total_cells = len(raw_cells)\n",
    "    print(\"Cells: {:,}\".format(raw_total_cells))"
   ]
  },
  {
   "cell_type": "markdown",
   "metadata": {},
   "source": [
    "## Restrict notebooks"
   ]
  },
  {
   "cell_type": "code",
   "execution_count": 5,
   "metadata": {},
   "outputs": [],
   "source": [
    "SKIP_MAP = {\n",
    "    \"f_\": 1024 + 512,\n",
    "    \"d_\": 1024 + 512 + 128,\n",
    "    \"dt_\": 1024 + 512 + 128 + 32,\n",
    "    \"dr_\": 1024 + 512 + 128 + 64,\n",
    "}\n",
    "\n",
    "CONFIG = {\n",
    "    \"Default\": \"f_\",\n",
    "    \"Remove duplicates\": \"d_\",\n",
    "    \"Remove duplicates and toy\": \"dt_\",\n",
    "    \"Remove duplicates and restricted toy\": \"dr_\",\n",
    "}"
   ]
  },
  {
   "cell_type": "code",
   "execution_count": 6,
   "metadata": {},
   "outputs": [],
   "source": [
    "@calculate_auto(CONFIG, save_to=\"cells\", level=None)\n",
    "def func(prefix=\"\"):\n",
    "    return raw_cells[np.bitwise_and(raw_cells[\"skip\"], SKIP_MAP[prefix]) == 0].copy()"
   ]
  },
  {
   "cell_type": "markdown",
   "metadata": {},
   "source": [
    "## Number of cells"
   ]
  },
  {
   "cell_type": "code",
   "execution_count": 7,
   "metadata": {},
   "outputs": [
    {
     "data": {
      "text/markdown": [
       "### Default"
      ],
      "text/plain": [
       "<IPython.core.display.Markdown object>"
      ]
     },
     "metadata": {},
     "output_type": "display_data"
    },
    {
     "name": "stdout",
     "output_type": "stream",
     "text": [
      "890,096\n"
     ]
    },
    {
     "data": {
      "text/markdown": [
       "### Remove duplicates"
      ],
      "text/plain": [
       "<IPython.core.display.Markdown object>"
      ]
     },
     "metadata": {},
     "output_type": "display_data"
    },
    {
     "name": "stdout",
     "output_type": "stream",
     "text": [
      "890,096\n"
     ]
    },
    {
     "data": {
      "text/markdown": [
       "### Remove duplicates and toy"
      ],
      "text/plain": [
       "<IPython.core.display.Markdown object>"
      ]
     },
     "metadata": {},
     "output_type": "display_data"
    },
    {
     "name": "stdout",
     "output_type": "stream",
     "text": [
      "890,096\n"
     ]
    },
    {
     "data": {
      "text/markdown": [
       "### Remove duplicates and restricted toy"
      ],
      "text/plain": [
       "<IPython.core.display.Markdown object>"
      ]
     },
     "metadata": {},
     "output_type": "display_data"
    },
    {
     "name": "stdout",
     "output_type": "stream",
     "text": [
      "890,096\n"
     ]
    }
   ],
   "source": [
    "@calculate_auto(CONFIG, save_to=\"total_cells\")\n",
    "def total(cells, prefix=\"\"):\n",
    "    result = var(prefix + \"cells\", len(cells), \"{:,}\")\n",
    "    print(result)\n",
    "    return len(cells)"
   ]
  },
  {
   "cell_type": "markdown",
   "metadata": {},
   "source": [
    "## Cells from executed notebooks"
   ]
  },
  {
   "cell_type": "code",
   "execution_count": 8,
   "metadata": {},
   "outputs": [
    {
     "data": {
      "text/markdown": [
       "### Default"
      ],
      "text/plain": [
       "<IPython.core.display.Markdown object>"
      ]
     },
     "metadata": {},
     "output_type": "display_data"
    },
    {
     "name": "stdout",
     "output_type": "stream",
     "text": [
      "668,811 (75.14%)\n"
     ]
    },
    {
     "data": {
      "text/markdown": [
       "### Remove duplicates"
      ],
      "text/plain": [
       "<IPython.core.display.Markdown object>"
      ]
     },
     "metadata": {},
     "output_type": "display_data"
    },
    {
     "name": "stdout",
     "output_type": "stream",
     "text": [
      "668,811 (75.14%)\n"
     ]
    },
    {
     "data": {
      "text/markdown": [
       "### Remove duplicates and toy"
      ],
      "text/plain": [
       "<IPython.core.display.Markdown object>"
      ]
     },
     "metadata": {},
     "output_type": "display_data"
    },
    {
     "name": "stdout",
     "output_type": "stream",
     "text": [
      "668,811 (75.14%)\n"
     ]
    },
    {
     "data": {
      "text/markdown": [
       "### Remove duplicates and restricted toy"
      ],
      "text/plain": [
       "<IPython.core.display.Markdown object>"
      ]
     },
     "metadata": {},
     "output_type": "display_data"
    },
    {
     "name": "stdout",
     "output_type": "stream",
     "text": [
      "668,811 (75.14%)\n"
     ]
    }
   ],
   "source": [
    "@calculate_auto(CONFIG, save_to=\"total_cells_from_executed_notebooks\", result=None)\n",
    "def func(cells, total_cells, prefix=\"\"):\n",
    "    total_cells_from_executed_notebooks = len(cells[cells[\"max_execution_count\"] > -0])\n",
    "    print(\n",
    "        relative_var(\n",
    "            prefix + \"cells_from_executed_notebooks\",\n",
    "            total_cells_from_executed_notebooks,\n",
    "            total_cells,\n",
    "        )\n",
    "    )\n",
    "    return total_cells_from_executed_notebooks"
   ]
  },
  {
   "cell_type": "markdown",
   "metadata": {},
   "source": [
    "## Number of notebooks"
   ]
  },
  {
   "cell_type": "code",
   "execution_count": 9,
   "metadata": {},
   "outputs": [
    {
     "data": {
      "text/markdown": [
       "### Default"
      ],
      "text/plain": [
       "<IPython.core.display.Markdown object>"
      ]
     },
     "metadata": {},
     "output_type": "display_data"
    },
    {
     "name": "stdout",
     "output_type": "stream",
     "text": [
      "27200\n"
     ]
    },
    {
     "data": {
      "text/markdown": [
       "### Remove duplicates"
      ],
      "text/plain": [
       "<IPython.core.display.Markdown object>"
      ]
     },
     "metadata": {},
     "output_type": "display_data"
    },
    {
     "name": "stdout",
     "output_type": "stream",
     "text": [
      "27200\n"
     ]
    },
    {
     "data": {
      "text/markdown": [
       "### Remove duplicates and toy"
      ],
      "text/plain": [
       "<IPython.core.display.Markdown object>"
      ]
     },
     "metadata": {},
     "output_type": "display_data"
    },
    {
     "name": "stdout",
     "output_type": "stream",
     "text": [
      "27200\n"
     ]
    },
    {
     "data": {
      "text/markdown": [
       "### Remove duplicates and restricted toy"
      ],
      "text/plain": [
       "<IPython.core.display.Markdown object>"
      ]
     },
     "metadata": {},
     "output_type": "display_data"
    },
    {
     "name": "stdout",
     "output_type": "stream",
     "text": [
      "27200\n"
     ]
    }
   ],
   "source": [
    "@calculate_auto(CONFIG, save_to=\"total_notebooks\", result=None)\n",
    "def func(prefix=\"\"):\n",
    "    with connect() as session:\n",
    "        query = (\n",
    "            \"SELECT count(id) \"\n",
    "            \"FROM notebooks \"\n",
    "            \"WHERE NOT (kernel = 'no-kernel' AND nbformat = '0') \"\n",
    "            \"AND total_cells != 0 \"\n",
    "            \"AND skip & {} = 0 \"\n",
    "        ).format(SKIP_MAP[prefix])\n",
    "        result = session.execute(query)\n",
    "        total_notebooks = result.scalar()\n",
    "        print(total_notebooks)\n",
    "        return total_notebooks"
   ]
  },
  {
   "cell_type": "markdown",
   "metadata": {},
   "source": [
    "## Number of executed notebooks"
   ]
  },
  {
   "cell_type": "code",
   "execution_count": 10,
   "metadata": {},
   "outputs": [
    {
     "data": {
      "text/markdown": [
       "### Default"
      ],
      "text/plain": [
       "<IPython.core.display.Markdown object>"
      ]
     },
     "metadata": {},
     "output_type": "display_data"
    },
    {
     "name": "stdout",
     "output_type": "stream",
     "text": [
      "Executed Notebooks: 20,316 (74.69%)\n"
     ]
    },
    {
     "data": {
      "text/markdown": [
       "### Remove duplicates"
      ],
      "text/plain": [
       "<IPython.core.display.Markdown object>"
      ]
     },
     "metadata": {},
     "output_type": "display_data"
    },
    {
     "name": "stdout",
     "output_type": "stream",
     "text": [
      "Executed Notebooks: 20,316 (74.69%)\n"
     ]
    },
    {
     "data": {
      "text/markdown": [
       "### Remove duplicates and toy"
      ],
      "text/plain": [
       "<IPython.core.display.Markdown object>"
      ]
     },
     "metadata": {},
     "output_type": "display_data"
    },
    {
     "name": "stdout",
     "output_type": "stream",
     "text": [
      "Executed Notebooks: 20,316 (74.69%)\n"
     ]
    },
    {
     "data": {
      "text/markdown": [
       "### Remove duplicates and restricted toy"
      ],
      "text/plain": [
       "<IPython.core.display.Markdown object>"
      ]
     },
     "metadata": {},
     "output_type": "display_data"
    },
    {
     "name": "stdout",
     "output_type": "stream",
     "text": [
      "Executed Notebooks: 20,316 (74.69%)\n"
     ]
    }
   ],
   "source": [
    "@calculate_auto(CONFIG, save_to=\"total_executed_notebooks\", result=None)\n",
    "def func(total_notebooks, prefix=\"\"):\n",
    "    with connect() as session:\n",
    "        query = (\n",
    "            \"SELECT count(id) \"\n",
    "            \"FROM notebooks \"\n",
    "            \"WHERE NOT (kernel = 'no-kernel' AND nbformat = '0') \"\n",
    "            \"AND max_execution_count > -0 \"\n",
    "            \"AND total_cells != 0 \"\n",
    "            \"AND skip & {} = 0 \"\n",
    "        ).format(SKIP_MAP[prefix])\n",
    "        result = session.execute(query)\n",
    "        total_executed_notebooks = result.scalar()\n",
    "        print(\n",
    "            \"Executed Notebooks: {}\".format(\n",
    "                relative_var(\n",
    "                    prefix + \"executed_notebooks\",\n",
    "                    total_executed_notebooks,\n",
    "                    total_notebooks,\n",
    "                )\n",
    "            )\n",
    "        )\n",
    "        return total_executed_notebooks"
   ]
  },
  {
   "cell_type": "markdown",
   "metadata": {},
   "source": [
    "## Number of executed python notebooks"
   ]
  },
  {
   "cell_type": "code",
   "execution_count": 11,
   "metadata": {},
   "outputs": [
    {
     "data": {
      "text/markdown": [
       "### Default"
      ],
      "text/plain": [
       "<IPython.core.display.Markdown object>"
      ]
     },
     "metadata": {},
     "output_type": "display_data"
    },
    {
     "name": "stdout",
     "output_type": "stream",
     "text": [
      "Executed Python Notebooks: 18,185 (66.86%)\n"
     ]
    },
    {
     "data": {
      "text/markdown": [
       "### Remove duplicates"
      ],
      "text/plain": [
       "<IPython.core.display.Markdown object>"
      ]
     },
     "metadata": {},
     "output_type": "display_data"
    },
    {
     "name": "stdout",
     "output_type": "stream",
     "text": [
      "Executed Python Notebooks: 18,185 (66.86%)\n"
     ]
    },
    {
     "data": {
      "text/markdown": [
       "### Remove duplicates and toy"
      ],
      "text/plain": [
       "<IPython.core.display.Markdown object>"
      ]
     },
     "metadata": {},
     "output_type": "display_data"
    },
    {
     "name": "stdout",
     "output_type": "stream",
     "text": [
      "Executed Python Notebooks: 18,185 (66.86%)\n"
     ]
    },
    {
     "data": {
      "text/markdown": [
       "### Remove duplicates and restricted toy"
      ],
      "text/plain": [
       "<IPython.core.display.Markdown object>"
      ]
     },
     "metadata": {},
     "output_type": "display_data"
    },
    {
     "name": "stdout",
     "output_type": "stream",
     "text": [
      "Executed Python Notebooks: 18,185 (66.86%)\n"
     ]
    }
   ],
   "source": [
    "@calculate_auto(CONFIG, save_to=\"total_executed_python_notebooks\", result=None)\n",
    "def func(total_notebooks, prefix=\"\"):\n",
    "    with connect() as session:\n",
    "        query = (\n",
    "            \"SELECT count(id) \"\n",
    "            \"FROM notebooks \"\n",
    "            \"WHERE NOT (kernel = 'no-kernel' AND nbformat = '0') \"\n",
    "            \"AND max_execution_count > -0 \"\n",
    "            \"AND language = 'python' \"\n",
    "            \"AND total_cells != 0 \"\n",
    "            \"AND skip & {} = 0 \"\n",
    "        ).format(SKIP_MAP[prefix])\n",
    "        result = session.execute(query)\n",
    "        total_executed_python_notebooks = result.scalar()\n",
    "        print(\n",
    "            \"Executed Python Notebooks: {}\".format(\n",
    "                relative_var(\n",
    "                    prefix + \"executed_python_notebooks\",\n",
    "                    total_executed_python_notebooks,\n",
    "                    total_notebooks,\n",
    "                )\n",
    "            )\n",
    "        )\n",
    "        return total_executed_python_notebooks"
   ]
  },
  {
   "cell_type": "code",
   "execution_count": 12,
   "metadata": {},
   "outputs": [
    {
     "data": {
      "text/html": [
       "<div>\n",
       "<style scoped>\n",
       "    .dataframe tbody tr th:only-of-type {\n",
       "        vertical-align: middle;\n",
       "    }\n",
       "\n",
       "    .dataframe tbody tr th {\n",
       "        vertical-align: top;\n",
       "    }\n",
       "\n",
       "    .dataframe thead th {\n",
       "        text-align: right;\n",
       "    }\n",
       "</style>\n",
       "<table border=\"1\" class=\"dataframe\">\n",
       "  <thead>\n",
       "    <tr style=\"text-align: right;\">\n",
       "      <th></th>\n",
       "      <th>repository_id</th>\n",
       "      <th>language</th>\n",
       "      <th>notebook_id</th>\n",
       "      <th>index</th>\n",
       "      <th>cell_type</th>\n",
       "      <th>lines</th>\n",
       "      <th>output_formats</th>\n",
       "      <th>processed</th>\n",
       "      <th>has_import</th>\n",
       "      <th>notebook_cells</th>\n",
       "      <th>execution_count</th>\n",
       "      <th>max_execution_count</th>\n",
       "      <th>skip</th>\n",
       "    </tr>\n",
       "  </thead>\n",
       "  <tbody>\n",
       "    <tr>\n",
       "      <th>0</th>\n",
       "      <td>3</td>\n",
       "      <td>python</td>\n",
       "      <td>1</td>\n",
       "      <td>0</td>\n",
       "      <td>markdown</td>\n",
       "      <td>8</td>\n",
       "      <td>NaN</td>\n",
       "      <td>4</td>\n",
       "      <td>0</td>\n",
       "      <td>46</td>\n",
       "      <td>NaN</td>\n",
       "      <td>98</td>\n",
       "      <td>0</td>\n",
       "    </tr>\n",
       "    <tr>\n",
       "      <th>1</th>\n",
       "      <td>3</td>\n",
       "      <td>python</td>\n",
       "      <td>1</td>\n",
       "      <td>1</td>\n",
       "      <td>markdown</td>\n",
       "      <td>2</td>\n",
       "      <td>NaN</td>\n",
       "      <td>4</td>\n",
       "      <td>0</td>\n",
       "      <td>46</td>\n",
       "      <td>NaN</td>\n",
       "      <td>98</td>\n",
       "      <td>0</td>\n",
       "    </tr>\n",
       "    <tr>\n",
       "      <th>2</th>\n",
       "      <td>3</td>\n",
       "      <td>python</td>\n",
       "      <td>1</td>\n",
       "      <td>2</td>\n",
       "      <td>code</td>\n",
       "      <td>7</td>\n",
       "      <td>NaN</td>\n",
       "      <td>4</td>\n",
       "      <td>1</td>\n",
       "      <td>46</td>\n",
       "      <td>1</td>\n",
       "      <td>98</td>\n",
       "      <td>0</td>\n",
       "    </tr>\n",
       "  </tbody>\n",
       "</table>\n",
       "</div>"
      ],
      "text/plain": [
       "   repository_id language  notebook_id  index cell_type  lines output_formats  \\\n",
       "0              3   python            1      0  markdown      8            NaN   \n",
       "1              3   python            1      1  markdown      2            NaN   \n",
       "2              3   python            1      2      code      7            NaN   \n",
       "\n",
       "   processed  has_import  notebook_cells execution_count  max_execution_count  \\\n",
       "0          4           0              46             NaN                   98   \n",
       "1          4           0              46             NaN                   98   \n",
       "2          4           1              46               1                   98   \n",
       "\n",
       "   skip  \n",
       "0     0  \n",
       "1     0  \n",
       "2     0  "
      ]
     },
     "execution_count": 12,
     "metadata": {},
     "output_type": "execute_result"
    }
   ],
   "source": [
    "f_cells.head(3)"
   ]
  },
  {
   "cell_type": "markdown",
   "metadata": {},
   "source": [
    "## Cell Types\n",
    "\n",
    "* code - cell with code\n",
    "* markdown - cell with markdown\n",
    "* raw - cell with raw output\n",
    "* heading - cell with headings\n",
    "* plaintext - cell with plaintext"
   ]
  },
  {
   "cell_type": "code",
   "execution_count": 13,
   "metadata": {},
   "outputs": [
    {
     "data": {
      "text/markdown": [
       "### Default"
      ],
      "text/plain": [
       "<IPython.core.display.Markdown object>"
      ]
     },
     "metadata": {},
     "output_type": "display_data"
    },
    {
     "data": {
      "image/png": "[encoded data removed]",
      "text/plain": [
       "<Figure size 1440x135 with 1 Axes>"
      ]
     },
     "metadata": {
      "needs_background": "light"
     },
     "output_type": "display_data"
    },
    {
     "data": {
      "text/html": [
       "<div>\n",
       "<style scoped>\n",
       "    .dataframe tbody tr th:only-of-type {\n",
       "        vertical-align: middle;\n",
       "    }\n",
       "\n",
       "    .dataframe tbody tr th {\n",
       "        vertical-align: top;\n",
       "    }\n",
       "\n",
       "    .dataframe thead th {\n",
       "        text-align: right;\n",
       "    }\n",
       "</style>\n",
       "<table border=\"1\" class=\"dataframe\">\n",
       "  <thead>\n",
       "    <tr style=\"text-align: right;\">\n",
       "      <th></th>\n",
       "      <th>cell_type</th>\n",
       "    </tr>\n",
       "  </thead>\n",
       "  <tbody>\n",
       "    <tr>\n",
       "      <th>code</th>\n",
       "      <td>596254</td>\n",
       "    </tr>\n",
       "    <tr>\n",
       "      <th>markdown</th>\n",
       "      <td>290865</td>\n",
       "    </tr>\n",
       "    <tr>\n",
       "      <th>raw</th>\n",
       "      <td>2974</td>\n",
       "    </tr>\n",
       "    <tr>\n",
       "      <th>heading</th>\n",
       "      <td>3</td>\n",
       "    </tr>\n",
       "  </tbody>\n",
       "</table>\n",
       "</div>"
      ],
      "text/plain": [
       "          cell_type\n",
       "code         596254\n",
       "markdown     290865\n",
       "raw            2974\n",
       "heading           3"
      ]
     },
     "metadata": {},
     "output_type": "display_data"
    },
    {
     "data": {
      "text/markdown": [
       "### Remove duplicates"
      ],
      "text/plain": [
       "<IPython.core.display.Markdown object>"
      ]
     },
     "metadata": {},
     "output_type": "display_data"
    },
    {
     "data": {
      "image/png": "[encoded data removed]",
      "text/plain": [
       "<Figure size 1440x135 with 1 Axes>"
      ]
     },
     "metadata": {
      "needs_background": "light"
     },
     "output_type": "display_data"
    },
    {
     "data": {
      "text/html": [
       "<div>\n",
       "<style scoped>\n",
       "    .dataframe tbody tr th:only-of-type {\n",
       "        vertical-align: middle;\n",
       "    }\n",
       "\n",
       "    .dataframe tbody tr th {\n",
       "        vertical-align: top;\n",
       "    }\n",
       "\n",
       "    .dataframe thead th {\n",
       "        text-align: right;\n",
       "    }\n",
       "</style>\n",
       "<table border=\"1\" class=\"dataframe\">\n",
       "  <thead>\n",
       "    <tr style=\"text-align: right;\">\n",
       "      <th></th>\n",
       "      <th>cell_type</th>\n",
       "    </tr>\n",
       "  </thead>\n",
       "  <tbody>\n",
       "    <tr>\n",
       "      <th>code</th>\n",
       "      <td>596254</td>\n",
       "    </tr>\n",
       "    <tr>\n",
       "      <th>markdown</th>\n",
       "      <td>290865</td>\n",
       "    </tr>\n",
       "    <tr>\n",
       "      <th>raw</th>\n",
       "      <td>2974</td>\n",
       "    </tr>\n",
       "    <tr>\n",
       "      <th>heading</th>\n",
       "      <td>3</td>\n",
       "    </tr>\n",
       "  </tbody>\n",
       "</table>\n",
       "</div>"
      ],
      "text/plain": [
       "          cell_type\n",
       "code         596254\n",
       "markdown     290865\n",
       "raw            2974\n",
       "heading           3"
      ]
     },
     "metadata": {},
     "output_type": "display_data"
    },
    {
     "data": {
      "text/markdown": [
       "### Remove duplicates and toy"
      ],
      "text/plain": [
       "<IPython.core.display.Markdown object>"
      ]
     },
     "metadata": {},
     "output_type": "display_data"
    },
    {
     "data": {
      "image/png": "[encoded data removed]",
      "text/plain": [
       "<Figure size 1440x135 with 1 Axes>"
      ]
     },
     "metadata": {
      "needs_background": "light"
     },
     "output_type": "display_data"
    },
    {
     "data": {
      "text/html": [
       "<div>\n",
       "<style scoped>\n",
       "    .dataframe tbody tr th:only-of-type {\n",
       "        vertical-align: middle;\n",
       "    }\n",
       "\n",
       "    .dataframe tbody tr th {\n",
       "        vertical-align: top;\n",
       "    }\n",
       "\n",
       "    .dataframe thead th {\n",
       "        text-align: right;\n",
       "    }\n",
       "</style>\n",
       "<table border=\"1\" class=\"dataframe\">\n",
       "  <thead>\n",
       "    <tr style=\"text-align: right;\">\n",
       "      <th></th>\n",
       "      <th>cell_type</th>\n",
       "    </tr>\n",
       "  </thead>\n",
       "  <tbody>\n",
       "    <tr>\n",
       "      <th>code</th>\n",
       "      <td>596254</td>\n",
       "    </tr>\n",
       "    <tr>\n",
       "      <th>markdown</th>\n",
       "      <td>290865</td>\n",
       "    </tr>\n",
       "    <tr>\n",
       "      <th>raw</th>\n",
       "      <td>2974</td>\n",
       "    </tr>\n",
       "    <tr>\n",
       "      <th>heading</th>\n",
       "      <td>3</td>\n",
       "    </tr>\n",
       "  </tbody>\n",
       "</table>\n",
       "</div>"
      ],
      "text/plain": [
       "          cell_type\n",
       "code         596254\n",
       "markdown     290865\n",
       "raw            2974\n",
       "heading           3"
      ]
     },
     "metadata": {},
     "output_type": "display_data"
    },
    {
     "data": {
      "text/markdown": [
       "### Remove duplicates and restricted toy"
      ],
      "text/plain": [
       "<IPython.core.display.Markdown object>"
      ]
     },
     "metadata": {},
     "output_type": "display_data"
    },
    {
     "data": {
      "image/png": "[encoded data removed]",
      "text/plain": [
       "<Figure size 1440x135 with 1 Axes>"
      ]
     },
     "metadata": {
      "needs_background": "light"
     },
     "output_type": "display_data"
    },
    {
     "data": {
      "text/html": [
       "<div>\n",
       "<style scoped>\n",
       "    .dataframe tbody tr th:only-of-type {\n",
       "        vertical-align: middle;\n",
       "    }\n",
       "\n",
       "    .dataframe tbody tr th {\n",
       "        vertical-align: top;\n",
       "    }\n",
       "\n",
       "    .dataframe thead th {\n",
       "        text-align: right;\n",
       "    }\n",
       "</style>\n",
       "<table border=\"1\" class=\"dataframe\">\n",
       "  <thead>\n",
       "    <tr style=\"text-align: right;\">\n",
       "      <th></th>\n",
       "      <th>cell_type</th>\n",
       "    </tr>\n",
       "  </thead>\n",
       "  <tbody>\n",
       "    <tr>\n",
       "      <th>code</th>\n",
       "      <td>596254</td>\n",
       "    </tr>\n",
       "    <tr>\n",
       "      <th>markdown</th>\n",
       "      <td>290865</td>\n",
       "    </tr>\n",
       "    <tr>\n",
       "      <th>raw</th>\n",
       "      <td>2974</td>\n",
       "    </tr>\n",
       "    <tr>\n",
       "      <th>heading</th>\n",
       "      <td>3</td>\n",
       "    </tr>\n",
       "  </tbody>\n",
       "</table>\n",
       "</div>"
      ],
      "text/plain": [
       "          cell_type\n",
       "code         596254\n",
       "markdown     290865\n",
       "raw            2974\n",
       "heading           3"
      ]
     },
     "metadata": {},
     "output_type": "display_data"
    }
   ],
   "source": [
    "@calculate_auto(CONFIG)\n",
    "def fn(cells, prefix=\"\"):\n",
    "    display_counts(cells[\"cell_type\"].value_counts())"
   ]
  },
  {
   "cell_type": "code",
   "execution_count": 14,
   "metadata": {},
   "outputs": [],
   "source": [
    "calculate_auto(CONFIG, save_to=\"code_cells\", result=None, level=None)(\n",
    "    lambda cells, prefix=\"\": cells[cells[\"cell_type\"] == \"code\"]\n",
    ")\n",
    "calculate_auto(CONFIG, save_to=\"markdown_cells\", result=None, level=None)(\n",
    "    lambda cells, prefix=\"\": cells[cells[\"cell_type\"] == \"markdown\"]\n",
    ")\n",
    "calculate_auto(CONFIG, save_to=\"raw_cells\", result=None, level=None)(\n",
    "    lambda cells, prefix=\"\": cells[cells[\"cell_type\"] == \"raw\"]\n",
    ")\n",
    "calculate_auto(CONFIG, save_to=\"heading_cells\", result=None, level=None)(\n",
    "    lambda cells, prefix=\"\": cells[cells[\"cell_type\"] == \"heading\"]\n",
    ")\n",
    "calculate_auto(CONFIG, save_to=\"has_import_cells\", result=None, level=None)(\n",
    "    lambda cells, prefix=\"\": cells[cells[\"has_import\"] == 1]\n",
    ")"
   ]
  },
  {
   "cell_type": "markdown",
   "metadata": {},
   "source": [
    "## Number of Lines"
   ]
  },
  {
   "cell_type": "code",
   "execution_count": 15,
   "metadata": {},
   "outputs": [
    {
     "data": {
      "text/markdown": [
       "### Default"
      ],
      "text/plain": [
       "<IPython.core.display.Markdown object>"
      ]
     },
     "metadata": {},
     "output_type": "display_data"
    },
    {
     "name": "stdout",
     "output_type": "stream",
     "text": [
      "Distribution(min=1, q1=1.0, median=2.0, q3=7.0, max=6588)\n"
     ]
    },
    {
     "data": {
      "image/png": "[encoded data removed]",
      "text/plain": [
       "<Figure size 576x288 with 2 Axes>"
      ]
     },
     "metadata": {},
     "output_type": "display_data"
    },
    {
     "data": {
      "text/markdown": [
       "### Remove duplicates"
      ],
      "text/plain": [
       "<IPython.core.display.Markdown object>"
      ]
     },
     "metadata": {},
     "output_type": "display_data"
    },
    {
     "name": "stdout",
     "output_type": "stream",
     "text": [
      "Distribution(min=1, q1=1.0, median=2.0, q3=7.0, max=6588)\n"
     ]
    },
    {
     "data": {
      "image/png": "[encoded data removed]",
      "text/plain": [
       "<Figure size 576x288 with 2 Axes>"
      ]
     },
     "metadata": {},
     "output_type": "display_data"
    },
    {
     "data": {
      "text/markdown": [
       "### Remove duplicates and toy"
      ],
      "text/plain": [
       "<IPython.core.display.Markdown object>"
      ]
     },
     "metadata": {},
     "output_type": "display_data"
    },
    {
     "name": "stdout",
     "output_type": "stream",
     "text": [
      "Distribution(min=1, q1=1.0, median=2.0, q3=7.0, max=6588)\n"
     ]
    },
    {
     "data": {
      "image/png": "[encoded data removed]",
      "text/plain": [
       "<Figure size 576x288 with 2 Axes>"
      ]
     },
     "metadata": {},
     "output_type": "display_data"
    },
    {
     "data": {
      "text/markdown": [
       "### Remove duplicates and restricted toy"
      ],
      "text/plain": [
       "<IPython.core.display.Markdown object>"
      ]
     },
     "metadata": {},
     "output_type": "display_data"
    },
    {
     "name": "stdout",
     "output_type": "stream",
     "text": [
      "Distribution(min=1, q1=1.0, median=2.0, q3=7.0, max=6588)\n"
     ]
    },
    {
     "data": {
      "image/png": "[encoded data removed]",
      "text/plain": [
       "<Figure size 576x288 with 2 Axes>"
      ]
     },
     "metadata": {},
     "output_type": "display_data"
    }
   ],
   "source": [
    "@calculate_auto(CONFIG)\n",
    "@close_fig\n",
    "def fn(cells, prefix):\n",
    "    column = cells[\"lines\"]\n",
    "    distribution = distribution_with_boxplot(column, 0, 80, 5, \"Cells\", \"Lines\", True)\n",
    "    print(distribution)\n",
    "    plt.gcf().set_size_inches(8, 4)"
   ]
  },
  {
   "cell_type": "markdown",
   "metadata": {},
   "source": [
    "### Number of lines in code cells"
   ]
  },
  {
   "cell_type": "code",
   "execution_count": 16,
   "metadata": {},
   "outputs": [
    {
     "data": {
      "text/markdown": [
       "### Default"
      ],
      "text/plain": [
       "<IPython.core.display.Markdown object>"
      ]
     },
     "metadata": {},
     "output_type": "display_data"
    },
    {
     "name": "stdout",
     "output_type": "stream",
     "text": [
      "Distribution(min=1, q1=1.0, median=3.0, q3=9.0, max=6588)\n"
     ]
    },
    {
     "data": {
      "image/png": "[encoded data removed]",
      "text/plain": [
       "<Figure size 576x288 with 2 Axes>"
      ]
     },
     "metadata": {},
     "output_type": "display_data"
    },
    {
     "data": {
      "text/markdown": [
       "### Remove duplicates"
      ],
      "text/plain": [
       "<IPython.core.display.Markdown object>"
      ]
     },
     "metadata": {},
     "output_type": "display_data"
    },
    {
     "name": "stdout",
     "output_type": "stream",
     "text": [
      "Distribution(min=1, q1=1.0, median=3.0, q3=9.0, max=6588)\n"
     ]
    },
    {
     "data": {
      "image/png": "[encoded data removed]",
      "text/plain": [
       "<Figure size 576x288 with 2 Axes>"
      ]
     },
     "metadata": {},
     "output_type": "display_data"
    },
    {
     "data": {
      "text/markdown": [
       "### Remove duplicates and toy"
      ],
      "text/plain": [
       "<IPython.core.display.Markdown object>"
      ]
     },
     "metadata": {},
     "output_type": "display_data"
    },
    {
     "name": "stdout",
     "output_type": "stream",
     "text": [
      "Distribution(min=1, q1=1.0, median=3.0, q3=9.0, max=6588)\n"
     ]
    },
    {
     "data": {
      "image/png": "[encoded data removed]",
      "text/plain": [
       "<Figure size 576x288 with 2 Axes>"
      ]
     },
     "metadata": {},
     "output_type": "display_data"
    },
    {
     "data": {
      "text/markdown": [
       "### Remove duplicates and restricted toy"
      ],
      "text/plain": [
       "<IPython.core.display.Markdown object>"
      ]
     },
     "metadata": {},
     "output_type": "display_data"
    },
    {
     "name": "stdout",
     "output_type": "stream",
     "text": [
      "Distribution(min=1, q1=1.0, median=3.0, q3=9.0, max=6588)\n"
     ]
    },
    {
     "data": {
      "image/png": "[encoded data removed]",
      "text/plain": [
       "<Figure size 576x288 with 2 Axes>"
      ]
     },
     "metadata": {},
     "output_type": "display_data"
    }
   ],
   "source": [
    "@calculate_auto(CONFIG)\n",
    "@close_fig\n",
    "def fn(code_cells, prefix):\n",
    "    column = code_cells[\"lines\"]\n",
    "    distribution = distribution_with_boxplot(\n",
    "        column, 0, 80, 5, \"Code Cells\", \"Lines\", True\n",
    "    )\n",
    "    print(distribution)\n",
    "    plt.gcf().set_size_inches(8, 4)"
   ]
  },
  {
   "cell_type": "markdown",
   "metadata": {},
   "source": [
    "#### Python"
   ]
  },
  {
   "cell_type": "code",
   "execution_count": 17,
   "metadata": {},
   "outputs": [
    {
     "data": {
      "text/markdown": [
       "### Default"
      ],
      "text/plain": [
       "<IPython.core.display.Markdown object>"
      ]
     },
     "metadata": {},
     "output_type": "display_data"
    },
    {
     "name": "stdout",
     "output_type": "stream",
     "text": [
      "Distribution(min=1, q1=1.0, median=3.0, q3=9.0, max=6588)\n"
     ]
    },
    {
     "data": {
      "image/png": "[encoded data removed]",
      "text/plain": [
       "<Figure size 576x288 with 2 Axes>"
      ]
     },
     "metadata": {},
     "output_type": "display_data"
    },
    {
     "data": {
      "text/markdown": [
       "### Remove duplicates"
      ],
      "text/plain": [
       "<IPython.core.display.Markdown object>"
      ]
     },
     "metadata": {},
     "output_type": "display_data"
    },
    {
     "name": "stdout",
     "output_type": "stream",
     "text": [
      "Distribution(min=1, q1=1.0, median=3.0, q3=9.0, max=6588)\n"
     ]
    },
    {
     "data": {
      "image/png": "[encoded data removed]",
      "text/plain": [
       "<Figure size 576x288 with 2 Axes>"
      ]
     },
     "metadata": {},
     "output_type": "display_data"
    },
    {
     "data": {
      "text/markdown": [
       "### Remove duplicates and toy"
      ],
      "text/plain": [
       "<IPython.core.display.Markdown object>"
      ]
     },
     "metadata": {},
     "output_type": "display_data"
    },
    {
     "name": "stdout",
     "output_type": "stream",
     "text": [
      "Distribution(min=1, q1=1.0, median=3.0, q3=9.0, max=6588)\n"
     ]
    },
    {
     "data": {
      "image/png": "[encoded data removed]",
      "text/plain": [
       "<Figure size 576x288 with 2 Axes>"
      ]
     },
     "metadata": {},
     "output_type": "display_data"
    },
    {
     "data": {
      "text/markdown": [
       "### Remove duplicates and restricted toy"
      ],
      "text/plain": [
       "<IPython.core.display.Markdown object>"
      ]
     },
     "metadata": {},
     "output_type": "display_data"
    },
    {
     "name": "stdout",
     "output_type": "stream",
     "text": [
      "Distribution(min=1, q1=1.0, median=3.0, q3=9.0, max=6588)\n"
     ]
    },
    {
     "data": {
      "image/png": "[encoded data removed]",
      "text/plain": [
       "<Figure size 576x288 with 2 Axes>"
      ]
     },
     "metadata": {},
     "output_type": "display_data"
    }
   ],
   "source": [
    "@calculate_auto(CONFIG, save_to=\"python_cells\", result=None)\n",
    "@close_fig\n",
    "def fn(code_cells, prefix):\n",
    "    python_cells = code_cells[code_cells[\"language\"] == \"python\"]\n",
    "    column = python_cells[\"lines\"]\n",
    "    distribution = distribution_with_boxplot(\n",
    "        column, 0, 80, 5, \"Python Cells\", \"Lines\", True\n",
    "    )\n",
    "    print(distribution)\n",
    "    plt.gcf().set_size_inches(8, 4)\n",
    "    return python_cells"
   ]
  },
  {
   "cell_type": "markdown",
   "metadata": {},
   "source": [
    "#### Julia"
   ]
  },
  {
   "cell_type": "code",
   "execution_count": 18,
   "metadata": {},
   "outputs": [
    {
     "data": {
      "text/markdown": [
       "### Default"
      ],
      "text/plain": [
       "<IPython.core.display.Markdown object>"
      ]
     },
     "metadata": {},
     "output_type": "display_data"
    },
    {
     "name": "stdout",
     "output_type": "stream",
     "text": [
      "Distribution(min=1, q1=1.0, median=3.0, q3=9.0, max=535)\n"
     ]
    },
    {
     "data": {
      "image/png": "[encoded data removed]",
      "text/plain": [
       "<Figure size 576x288 with 2 Axes>"
      ]
     },
     "metadata": {},
     "output_type": "display_data"
    },
    {
     "data": {
      "text/markdown": [
       "### Remove duplicates"
      ],
      "text/plain": [
       "<IPython.core.display.Markdown object>"
      ]
     },
     "metadata": {},
     "output_type": "display_data"
    },
    {
     "name": "stdout",
     "output_type": "stream",
     "text": [
      "Distribution(min=1, q1=1.0, median=3.0, q3=9.0, max=535)\n"
     ]
    },
    {
     "data": {
      "image/png": "[encoded data removed]",
      "text/plain": [
       "<Figure size 576x288 with 2 Axes>"
      ]
     },
     "metadata": {},
     "output_type": "display_data"
    },
    {
     "data": {
      "text/markdown": [
       "### Remove duplicates and toy"
      ],
      "text/plain": [
       "<IPython.core.display.Markdown object>"
      ]
     },
     "metadata": {},
     "output_type": "display_data"
    },
    {
     "name": "stdout",
     "output_type": "stream",
     "text": [
      "Distribution(min=1, q1=1.0, median=3.0, q3=9.0, max=535)\n"
     ]
    },
    {
     "data": {
      "image/png": "[encoded data removed]",
      "text/plain": [
       "<Figure size 576x288 with 2 Axes>"
      ]
     },
     "metadata": {},
     "output_type": "display_data"
    },
    {
     "data": {
      "text/markdown": [
       "### Remove duplicates and restricted toy"
      ],
      "text/plain": [
       "<IPython.core.display.Markdown object>"
      ]
     },
     "metadata": {},
     "output_type": "display_data"
    },
    {
     "name": "stdout",
     "output_type": "stream",
     "text": [
      "Distribution(min=1, q1=1.0, median=3.0, q3=9.0, max=535)\n"
     ]
    },
    {
     "data": {
      "image/png": "[encoded data removed]",
      "text/plain": [
       "<Figure size 576x288 with 2 Axes>"
      ]
     },
     "metadata": {},
     "output_type": "display_data"
    }
   ],
   "source": [
    "@calculate_auto(CONFIG, save_to=\"julia_cells\", result=None)\n",
    "@close_fig\n",
    "def fn(code_cells, prefix):\n",
    "    julia_cells = code_cells[code_cells[\"language\"] == \"julia\"]\n",
    "    column = julia_cells[\"lines\"]\n",
    "    distribution = distribution_with_boxplot(\n",
    "        column, 0, 80, 5, \"Julia Cells\", \"Lines\", True\n",
    "    )\n",
    "    print(distribution)\n",
    "    plt.gcf().set_size_inches(8, 4)\n",
    "    return julia_cells"
   ]
  },
  {
   "cell_type": "markdown",
   "metadata": {},
   "source": [
    "#### R"
   ]
  },
  {
   "cell_type": "code",
   "execution_count": 19,
   "metadata": {},
   "outputs": [
    {
     "data": {
      "text/markdown": [
       "### Default"
      ],
      "text/plain": [
       "<IPython.core.display.Markdown object>"
      ]
     },
     "metadata": {},
     "output_type": "display_data"
    },
    {
     "name": "stdout",
     "output_type": "stream",
     "text": [
      "Distribution(min=1, q1=1.0, median=3.0, q3=8.0, max=958)\n"
     ]
    },
    {
     "data": {
      "image/png": "[encoded data removed]",
      "text/plain": [
       "<Figure size 576x288 with 2 Axes>"
      ]
     },
     "metadata": {},
     "output_type": "display_data"
    },
    {
     "data": {
      "text/markdown": [
       "### Remove duplicates"
      ],
      "text/plain": [
       "<IPython.core.display.Markdown object>"
      ]
     },
     "metadata": {},
     "output_type": "display_data"
    },
    {
     "name": "stdout",
     "output_type": "stream",
     "text": [
      "Distribution(min=1, q1=1.0, median=3.0, q3=8.0, max=958)\n"
     ]
    },
    {
     "data": {
      "image/png": "[encoded data removed]",
      "text/plain": [
       "<Figure size 576x288 with 2 Axes>"
      ]
     },
     "metadata": {},
     "output_type": "display_data"
    },
    {
     "data": {
      "text/markdown": [
       "### Remove duplicates and toy"
      ],
      "text/plain": [
       "<IPython.core.display.Markdown object>"
      ]
     },
     "metadata": {},
     "output_type": "display_data"
    },
    {
     "name": "stdout",
     "output_type": "stream",
     "text": [
      "Distribution(min=1, q1=1.0, median=3.0, q3=8.0, max=958)\n"
     ]
    },
    {
     "data": {
      "image/png": "[encoded data removed]",
      "text/plain": [
       "<Figure size 576x288 with 2 Axes>"
      ]
     },
     "metadata": {},
     "output_type": "display_data"
    },
    {
     "data": {
      "text/markdown": [
       "### Remove duplicates and restricted toy"
      ],
      "text/plain": [
       "<IPython.core.display.Markdown object>"
      ]
     },
     "metadata": {},
     "output_type": "display_data"
    },
    {
     "name": "stdout",
     "output_type": "stream",
     "text": [
      "Distribution(min=1, q1=1.0, median=3.0, q3=8.0, max=958)\n"
     ]
    },
    {
     "data": {
      "image/png": "[encoded data removed]",
      "text/plain": [
       "<Figure size 576x288 with 2 Axes>"
      ]
     },
     "metadata": {},
     "output_type": "display_data"
    }
   ],
   "source": [
    "@calculate_auto(CONFIG, save_to=\"r_cells\", result=None)\n",
    "@close_fig\n",
    "def fn(code_cells, prefix):\n",
    "    r_cells = code_cells[code_cells[\"language\"] == \"R\"]\n",
    "    column = r_cells[\"lines\"]\n",
    "    distribution = distribution_with_boxplot(column, 0, 80, 5, \"R Cells\", \"Lines\", True)\n",
    "    print(distribution)\n",
    "    plt.gcf().set_size_inches(8, 4)\n",
    "    return r_cells"
   ]
  },
  {
   "cell_type": "markdown",
   "metadata": {},
   "source": [
    "### Number of lines in markdown cells"
   ]
  },
  {
   "cell_type": "code",
   "execution_count": 20,
   "metadata": {
    "scrolled": true
   },
   "outputs": [
    {
     "data": {
      "text/markdown": [
       "### Default"
      ],
      "text/plain": [
       "<IPython.core.display.Markdown object>"
      ]
     },
     "metadata": {},
     "output_type": "display_data"
    },
    {
     "name": "stdout",
     "output_type": "stream",
     "text": [
      "Distribution(min=1, q1=1.0, median=1.0, q3=3.0, max=829)\n"
     ]
    },
    {
     "data": {
      "image/png": "[encoded data removed]",
      "text/plain": [
       "<Figure size 576x288 with 2 Axes>"
      ]
     },
     "metadata": {},
     "output_type": "display_data"
    },
    {
     "data": {
      "text/markdown": [
       "### Remove duplicates"
      ],
      "text/plain": [
       "<IPython.core.display.Markdown object>"
      ]
     },
     "metadata": {},
     "output_type": "display_data"
    },
    {
     "name": "stdout",
     "output_type": "stream",
     "text": [
      "Distribution(min=1, q1=1.0, median=1.0, q3=3.0, max=829)\n"
     ]
    },
    {
     "data": {
      "image/png": "[encoded data removed]",
      "text/plain": [
       "<Figure size 576x288 with 2 Axes>"
      ]
     },
     "metadata": {},
     "output_type": "display_data"
    },
    {
     "data": {
      "text/markdown": [
       "### Remove duplicates and toy"
      ],
      "text/plain": [
       "<IPython.core.display.Markdown object>"
      ]
     },
     "metadata": {},
     "output_type": "display_data"
    },
    {
     "name": "stdout",
     "output_type": "stream",
     "text": [
      "Distribution(min=1, q1=1.0, median=1.0, q3=3.0, max=829)\n"
     ]
    },
    {
     "data": {
      "image/png": "[encoded data removed]",
      "text/plain": [
       "<Figure size 576x288 with 2 Axes>"
      ]
     },
     "metadata": {},
     "output_type": "display_data"
    },
    {
     "data": {
      "text/markdown": [
       "### Remove duplicates and restricted toy"
      ],
      "text/plain": [
       "<IPython.core.display.Markdown object>"
      ]
     },
     "metadata": {},
     "output_type": "display_data"
    },
    {
     "name": "stdout",
     "output_type": "stream",
     "text": [
      "Distribution(min=1, q1=1.0, median=1.0, q3=3.0, max=829)\n"
     ]
    },
    {
     "data": {
      "image/png": "[encoded data removed]",
      "text/plain": [
       "<Figure size 576x288 with 2 Axes>"
      ]
     },
     "metadata": {},
     "output_type": "display_data"
    }
   ],
   "source": [
    "@calculate_auto(CONFIG)\n",
    "@close_fig\n",
    "def fn(markdown_cells, prefix):\n",
    "    column = markdown_cells[\"lines\"]\n",
    "    distribution = distribution_with_boxplot(\n",
    "        column, 0, 50, 5, \"Markdown Cells\", \"Lines\", True\n",
    "    )\n",
    "    print(distribution)\n",
    "    plt.gcf().set_size_inches(8, 4)"
   ]
  },
  {
   "cell_type": "markdown",
   "metadata": {},
   "source": [
    "### Number of lines in raw cells"
   ]
  },
  {
   "cell_type": "code",
   "execution_count": 21,
   "metadata": {},
   "outputs": [
    {
     "data": {
      "text/markdown": [
       "### Default"
      ],
      "text/plain": [
       "<IPython.core.display.Markdown object>"
      ]
     },
     "metadata": {},
     "output_type": "display_data"
    },
    {
     "name": "stdout",
     "output_type": "stream",
     "text": [
      "Distribution(min=1, q1=1.0, median=2.0, q3=5.0, max=544)\n"
     ]
    },
    {
     "data": {
      "image/png": "[encoded data removed]",
      "text/plain": [
       "<Figure size 576x288 with 2 Axes>"
      ]
     },
     "metadata": {},
     "output_type": "display_data"
    },
    {
     "data": {
      "text/markdown": [
       "### Remove duplicates"
      ],
      "text/plain": [
       "<IPython.core.display.Markdown object>"
      ]
     },
     "metadata": {},
     "output_type": "display_data"
    },
    {
     "name": "stdout",
     "output_type": "stream",
     "text": [
      "Distribution(min=1, q1=1.0, median=2.0, q3=5.0, max=544)\n"
     ]
    },
    {
     "data": {
      "image/png": "[encoded data removed]",
      "text/plain": [
       "<Figure size 576x288 with 2 Axes>"
      ]
     },
     "metadata": {},
     "output_type": "display_data"
    },
    {
     "data": {
      "text/markdown": [
       "### Remove duplicates and toy"
      ],
      "text/plain": [
       "<IPython.core.display.Markdown object>"
      ]
     },
     "metadata": {},
     "output_type": "display_data"
    },
    {
     "name": "stdout",
     "output_type": "stream",
     "text": [
      "Distribution(min=1, q1=1.0, median=2.0, q3=5.0, max=544)\n"
     ]
    },
    {
     "data": {
      "image/png": "[encoded data removed]",
      "text/plain": [
       "<Figure size 576x288 with 2 Axes>"
      ]
     },
     "metadata": {},
     "output_type": "display_data"
    },
    {
     "data": {
      "text/markdown": [
       "### Remove duplicates and restricted toy"
      ],
      "text/plain": [
       "<IPython.core.display.Markdown object>"
      ]
     },
     "metadata": {},
     "output_type": "display_data"
    },
    {
     "name": "stdout",
     "output_type": "stream",
     "text": [
      "Distribution(min=1, q1=1.0, median=2.0, q3=5.0, max=544)\n"
     ]
    },
    {
     "data": {
      "image/png": "[encoded data removed]",
      "text/plain": [
       "<Figure size 576x288 with 2 Axes>"
      ]
     },
     "metadata": {},
     "output_type": "display_data"
    }
   ],
   "source": [
    "@calculate_auto(CONFIG)\n",
    "@close_fig\n",
    "def fn(raw_cells, prefix):\n",
    "    column = raw_cells[\"lines\"]\n",
    "    distribution = distribution_with_boxplot(\n",
    "        column, 0, 60, 5, \"Raw Cells\", \"Lines\", True\n",
    "    )\n",
    "    print(distribution)\n",
    "    plt.gcf().set_size_inches(8, 4)"
   ]
  },
  {
   "cell_type": "markdown",
   "metadata": {},
   "source": [
    "### Number of lines in heading cells"
   ]
  },
  {
   "cell_type": "code",
   "execution_count": 22,
   "metadata": {},
   "outputs": [
    {
     "data": {
      "text/markdown": [
       "### Default"
      ],
      "text/plain": [
       "<IPython.core.display.Markdown object>"
      ]
     },
     "metadata": {},
     "output_type": "display_data"
    },
    {
     "name": "stdout",
     "output_type": "stream",
     "text": [
      "Distribution(min=1, q1=1.0, median=1.0, q3=1.0, max=1)\n"
     ]
    },
    {
     "data": {
      "image/png": "[encoded data removed]",
      "text/plain": [
       "<Figure size 576x288 with 2 Axes>"
      ]
     },
     "metadata": {},
     "output_type": "display_data"
    },
    {
     "data": {
      "text/markdown": [
       "### Remove duplicates"
      ],
      "text/plain": [
       "<IPython.core.display.Markdown object>"
      ]
     },
     "metadata": {},
     "output_type": "display_data"
    },
    {
     "name": "stdout",
     "output_type": "stream",
     "text": [
      "Distribution(min=1, q1=1.0, median=1.0, q3=1.0, max=1)\n"
     ]
    },
    {
     "data": {
      "image/png": "[encoded data removed]",
      "text/plain": [
       "<Figure size 576x288 with 2 Axes>"
      ]
     },
     "metadata": {},
     "output_type": "display_data"
    },
    {
     "data": {
      "text/markdown": [
       "### Remove duplicates and toy"
      ],
      "text/plain": [
       "<IPython.core.display.Markdown object>"
      ]
     },
     "metadata": {},
     "output_type": "display_data"
    },
    {
     "name": "stdout",
     "output_type": "stream",
     "text": [
      "Distribution(min=1, q1=1.0, median=1.0, q3=1.0, max=1)\n"
     ]
    },
    {
     "data": {
      "image/png": "[encoded data removed]",
      "text/plain": [
       "<Figure size 576x288 with 2 Axes>"
      ]
     },
     "metadata": {},
     "output_type": "display_data"
    },
    {
     "data": {
      "text/markdown": [
       "### Remove duplicates and restricted toy"
      ],
      "text/plain": [
       "<IPython.core.display.Markdown object>"
      ]
     },
     "metadata": {},
     "output_type": "display_data"
    },
    {
     "name": "stdout",
     "output_type": "stream",
     "text": [
      "Distribution(min=1, q1=1.0, median=1.0, q3=1.0, max=1)\n"
     ]
    },
    {
     "data": {
      "image/png": "[encoded data removed]",
      "text/plain": [
       "<Figure size 576x288 with 2 Axes>"
      ]
     },
     "metadata": {},
     "output_type": "display_data"
    }
   ],
   "source": [
    "@calculate_auto(CONFIG)\n",
    "@close_fig\n",
    "def fn(heading_cells, prefix):\n",
    "    column = heading_cells[\"lines\"]\n",
    "    distribution = distribution_with_boxplot(\n",
    "        column, 0, 60, 5, \"Heading Cells\", \"Lines\", True\n",
    "    )\n",
    "    print(distribution)\n",
    "    plt.gcf().set_size_inches(8, 4)"
   ]
  },
  {
   "cell_type": "markdown",
   "metadata": {},
   "source": [
    "## Output Formats"
   ]
  },
  {
   "cell_type": "code",
   "execution_count": 23,
   "metadata": {},
   "outputs": [],
   "source": [
    "JUPYTER_MIME = {\n",
    "    \"text/html\": \"HTML\",\n",
    "    \"application/javascript\": \"JavaScript\",\n",
    "    \"image/jpeg\": \"JPG\",\n",
    "    \"application/json\": \"JSON\",\n",
    "    \"text/latex\": \"\\latex\",\n",
    "    \"text/markdown\": \"Markdown\",\n",
    "    \"application/pdf\": \"PDF\",\n",
    "    \"image/png\": \"PNG\",\n",
    "    \"text/plain\": \"Text\",\n",
    "    \"error\": \"Error\",\n",
    "    \"image/svg+xml\": \"SVG\",\n",
    "    \"application/vnd.plotly.v1+json\": \"plotly\",\n",
    "    \"text/vnd.plotly.v1+html\": \"plotly\",\n",
    "    \"application/vnd.jupyter.widget-view+json\": \"widget\",\n",
    "    \"application/vnd.jupyter.widget\": \"widget\",\n",
    "    # \"application/vnd.bokehjs_load.v0+json\": \"bokeh\",\n",
    "    # \"application/vnd.bokehjs_exec.v0+json\": \"bokeh\",\n",
    "}\n",
    "JUPYTER_MIME = {\n",
    "    \"text/html\": \"HTML/JS\",\n",
    "    \"application/javascript\": \"HTML/JS\",\n",
    "    \"image/jpeg\": \"Image\",\n",
    "    \"application/json\": \"HTML/JS\",\n",
    "    \"text/latex\": \"Formatted\",\n",
    "    \"text/markdown\": \"Formatted\",\n",
    "    \"application/pdf\": \"PDF\",\n",
    "    \"image/png\": \"Image\",\n",
    "    \"text/plain\": \"Text\",\n",
    "    \"error\": \"Error\",\n",
    "    # \"application/vnd.bokehjs_load.v0+json\": \"bokeh\",\n",
    "    # \"application/vnd.bokehjs_exec.v0+json\": \"bokeh\",\n",
    "}"
   ]
  },
  {
   "cell_type": "markdown",
   "metadata": {},
   "source": [
    "### Cells with outputs"
   ]
  },
  {
   "cell_type": "code",
   "execution_count": 24,
   "metadata": {},
   "outputs": [
    {
     "data": {
      "text/markdown": [
       "### Default"
      ],
      "text/plain": [
       "<IPython.core.display.Markdown object>"
      ]
     },
     "metadata": {},
     "output_type": "display_data"
    },
    {
     "name": "stdout",
     "output_type": "stream",
     "text": [
      "177,584 (26.55%) of executed cells had output\n"
     ]
    },
    {
     "data": {
      "text/markdown": [
       "### Remove duplicates"
      ],
      "text/plain": [
       "<IPython.core.display.Markdown object>"
      ]
     },
     "metadata": {},
     "output_type": "display_data"
    },
    {
     "name": "stdout",
     "output_type": "stream",
     "text": [
      "177,584 (26.55%) of executed cells had output\n"
     ]
    },
    {
     "data": {
      "text/markdown": [
       "### Remove duplicates and toy"
      ],
      "text/plain": [
       "<IPython.core.display.Markdown object>"
      ]
     },
     "metadata": {},
     "output_type": "display_data"
    },
    {
     "name": "stdout",
     "output_type": "stream",
     "text": [
      "177,584 (26.55%) of executed cells had output\n"
     ]
    },
    {
     "data": {
      "text/markdown": [
       "### Remove duplicates and restricted toy"
      ],
      "text/plain": [
       "<IPython.core.display.Markdown object>"
      ]
     },
     "metadata": {},
     "output_type": "display_data"
    },
    {
     "name": "stdout",
     "output_type": "stream",
     "text": [
      "177,584 (26.55%) of executed cells had output\n"
     ]
    }
   ],
   "source": [
    "@calculate_auto(CONFIG, save_to=\"with_output\", result=None, level=None)\n",
    "def fn(code_cells, prefix):\n",
    "    with_output = code_cells[~code_cells[\"output_formats\"].isna()].compute()\n",
    "    return with_output\n",
    "\n",
    "\n",
    "@calculate_auto(CONFIG, save_to=\"total_with_output\", result=None)\n",
    "def fn(with_output, total_cells_from_executed_notebooks, prefix):\n",
    "    total_with_output = len(with_output)\n",
    "    print(\n",
    "        \"{} of executed cells had output\".format(\n",
    "            relative_var(\n",
    "                prefix + \"executed_cells_with_outputs\",\n",
    "                total_with_output,\n",
    "                total_cells_from_executed_notebooks,\n",
    "            )\n",
    "        )\n",
    "    )\n",
    "    return total_with_output"
   ]
  },
  {
   "cell_type": "code",
   "execution_count": 25,
   "metadata": {},
   "outputs": [],
   "source": [
    "@calculate_auto(CONFIG, save_to=\"cell_counter\", result=None, level=None)\n",
    "def fn(with_output, prefix):\n",
    "    cell_counter = Counter()\n",
    "    for value in with_output[\"output_formats\"]:\n",
    "        cell_values = {JUPYTER_MIME.get(x, \"Extension\") for x in value.split(\";\")}\n",
    "        cell_counter.update(cell_values)\n",
    "    return cell_counter"
   ]
  },
  {
   "cell_type": "markdown",
   "metadata": {},
   "source": [
    "### Notebooks with outputs"
   ]
  },
  {
   "cell_type": "code",
   "execution_count": 26,
   "metadata": {},
   "outputs": [],
   "source": [
    "@calculate_auto(CONFIG, save_to=\"notebooks_with_outputs\", result=None, level=None)\n",
    "def fn(with_output, prefix):\n",
    "    with_output[\"output_formats2\"] = with_output[\"output_formats\"] + \";\"\n",
    "    notebooks_with_outputs = with_output.groupby(\"notebook_id\")[\"output_formats2\"].agg(\n",
    "        \"sum\"\n",
    "    )\n",
    "    return notebooks_with_outputs"
   ]
  },
  {
   "cell_type": "code",
   "execution_count": 27,
   "metadata": {
    "code_folding": []
   },
   "outputs": [
    {
     "data": {
      "text/markdown": [
       "### Default"
      ],
      "text/plain": [
       "<IPython.core.display.Markdown object>"
      ]
     },
     "metadata": {},
     "output_type": "display_data"
    },
    {
     "data": {
      "text/markdown": [
       "### Remove duplicates"
      ],
      "text/plain": [
       "<IPython.core.display.Markdown object>"
      ]
     },
     "metadata": {},
     "output_type": "display_data"
    },
    {
     "data": {
      "text/markdown": [
       "### Remove duplicates and toy"
      ],
      "text/plain": [
       "<IPython.core.display.Markdown object>"
      ]
     },
     "metadata": {},
     "output_type": "display_data"
    },
    {
     "data": {
      "text/markdown": [
       "### Remove duplicates and restricted toy"
      ],
      "text/plain": [
       "<IPython.core.display.Markdown object>"
      ]
     },
     "metadata": {},
     "output_type": "display_data"
    }
   ],
   "source": [
    "@calculate_auto(CONFIG, save_to=\"total_notebooks_with_outputs\", result=None)\n",
    "def fn(notebooks_with_outputs, total_executed_notebooks, prefix):\n",
    "    total_notebooks_with_outputs = len(notebooks_with_outputs)\n",
    "    \"{} executed notebooks had output in at least one cell\".format(\n",
    "        relative_var(\n",
    "            prefix + \"executed_notebooks_with_outputs\",\n",
    "            total_notebooks_with_outputs,\n",
    "            total_executed_notebooks,\n",
    "        )\n",
    "    )\n",
    "    return total_notebooks_with_outputs"
   ]
  },
  {
   "cell_type": "code",
   "execution_count": 28,
   "metadata": {},
   "outputs": [
    {
     "data": {
      "text/markdown": [
       "### Default"
      ],
      "text/plain": [
       "<IPython.core.display.Markdown object>"
      ]
     },
     "metadata": {},
     "output_type": "display_data"
    },
    {
     "name": "stdout",
     "output_type": "stream",
     "text": [
      "1,294 (6.37%) executed notebooks did not have outputs in any cells\n"
     ]
    },
    {
     "data": {
      "text/markdown": [
       "### Remove duplicates"
      ],
      "text/plain": [
       "<IPython.core.display.Markdown object>"
      ]
     },
     "metadata": {},
     "output_type": "display_data"
    },
    {
     "name": "stdout",
     "output_type": "stream",
     "text": [
      "1,294 (6.37%) executed notebooks did not have outputs in any cells\n"
     ]
    },
    {
     "data": {
      "text/markdown": [
       "### Remove duplicates and toy"
      ],
      "text/plain": [
       "<IPython.core.display.Markdown object>"
      ]
     },
     "metadata": {},
     "output_type": "display_data"
    },
    {
     "name": "stdout",
     "output_type": "stream",
     "text": [
      "1,294 (6.37%) executed notebooks did not have outputs in any cells\n"
     ]
    },
    {
     "data": {
      "text/markdown": [
       "### Remove duplicates and restricted toy"
      ],
      "text/plain": [
       "<IPython.core.display.Markdown object>"
      ]
     },
     "metadata": {},
     "output_type": "display_data"
    },
    {
     "name": "stdout",
     "output_type": "stream",
     "text": [
      "1,294 (6.37%) executed notebooks did not have outputs in any cells\n"
     ]
    }
   ],
   "source": [
    "@calculate_auto(CONFIG)\n",
    "def fn(total_executed_notebooks, total_notebooks_with_outputs, prefix):\n",
    "    return \"{} executed notebooks did not have outputs in any cells\".format(\n",
    "        relative_var(\n",
    "            prefix + \"executed_notebooks_without_outputs\",\n",
    "            total_executed_notebooks - total_notebooks_with_outputs,\n",
    "            total_executed_notebooks,\n",
    "        )\n",
    "    )"
   ]
  },
  {
   "cell_type": "code",
   "execution_count": 29,
   "metadata": {},
   "outputs": [],
   "source": [
    "@calculate_auto(CONFIG, save_to=\"notebook_counter\", result=None, level=None)\n",
    "def fn(notebooks_with_outputs, prefix):\n",
    "    notebook_counter = Counter()\n",
    "    for value in notebooks_with_outputs.str[:-1]:\n",
    "        cell_values = {JUPYTER_MIME.get(x, \"Other\") for x in value.split(\";\")}\n",
    "        notebook_counter.update(cell_values)\n",
    "    return notebook_counter"
   ]
  },
  {
   "cell_type": "markdown",
   "metadata": {},
   "source": [
    "### Table"
   ]
  },
  {
   "cell_type": "code",
   "execution_count": 30,
   "metadata": {},
   "outputs": [
    {
     "data": {
      "text/markdown": [
       "### Default"
      ],
      "text/plain": [
       "<IPython.core.display.Markdown object>"
      ]
     },
     "metadata": {},
     "output_type": "display_data"
    },
    {
     "data": {
      "text/html": [
       "<style  type=\"text/css\" >\n",
       "</style><table id=\"T_eac17_\" ><thead>    <tr>        <th class=\"blank level0\" ></th>        <th class=\"col_heading level0 col0\" >Format</th>        <th class=\"col_heading level0 col1\" >% of cells with output</th>        <th class=\"col_heading level0 col2\" >% of executed notebooks</th>    </tr></thead><tbody>\n",
       "                <tr>\n",
       "                        <th id=\"T_eac17_level0_row0\" class=\"row_heading level0 row0\" >0</th>\n",
       "                        <td id=\"T_eac17_row0_col0\" class=\"data row0 col0\" >Text</td>\n",
       "                        <td id=\"T_eac17_row0_col1\" class=\"data row0 col1\" >95.84%</td>\n",
       "                        <td id=\"T_eac17_row0_col2\" class=\"data row0 col2\" >91.50%</td>\n",
       "            </tr>\n",
       "            <tr>\n",
       "                        <th id=\"T_eac17_level0_row1\" class=\"row_heading level0 row1\" >1</th>\n",
       "                        <td id=\"T_eac17_row1_col0\" class=\"data row1 col0\" >Image</td>\n",
       "                        <td id=\"T_eac17_row1_col1\" class=\"data row1 col1\" >42.22%</td>\n",
       "                        <td id=\"T_eac17_row1_col2\" class=\"data row1 col2\" >63.76%</td>\n",
       "            </tr>\n",
       "            <tr>\n",
       "                        <th id=\"T_eac17_level0_row2\" class=\"row_heading level0 row2\" >2</th>\n",
       "                        <td id=\"T_eac17_row2_col0\" class=\"data row2 col0\" >HTML/JS</td>\n",
       "                        <td id=\"T_eac17_row2_col1\" class=\"data row2 col1\" >24.20%</td>\n",
       "                        <td id=\"T_eac17_row2_col2\" class=\"data row2 col2\" >45.16%</td>\n",
       "            </tr>\n",
       "            <tr>\n",
       "                        <th id=\"T_eac17_level0_row3\" class=\"row_heading level0 row3\" >3</th>\n",
       "                        <td id=\"T_eac17_row3_col0\" class=\"data row3 col0\" >Extension</td>\n",
       "                        <td id=\"T_eac17_row3_col1\" class=\"data row3 col1\" >5.28%</td>\n",
       "                        <td id=\"T_eac17_row3_col2\" class=\"data row3 col2\" >0.00%</td>\n",
       "            </tr>\n",
       "            <tr>\n",
       "                        <th id=\"T_eac17_level0_row4\" class=\"row_heading level0 row4\" >4</th>\n",
       "                        <td id=\"T_eac17_row4_col0\" class=\"data row4 col0\" >Formatted</td>\n",
       "                        <td id=\"T_eac17_row4_col1\" class=\"data row4 col1\" >3.78%</td>\n",
       "                        <td id=\"T_eac17_row4_col2\" class=\"data row4 col2\" >4.80%</td>\n",
       "            </tr>\n",
       "            <tr>\n",
       "                        <th id=\"T_eac17_level0_row5\" class=\"row_heading level0 row5\" >5</th>\n",
       "                        <td id=\"T_eac17_row5_col0\" class=\"data row5 col0\" >Error</td>\n",
       "                        <td id=\"T_eac17_row5_col1\" class=\"data row5 col1\" >1.46%</td>\n",
       "                        <td id=\"T_eac17_row5_col2\" class=\"data row5 col2\" >7.71%</td>\n",
       "            </tr>\n",
       "            <tr>\n",
       "                        <th id=\"T_eac17_level0_row6\" class=\"row_heading level0 row6\" >6</th>\n",
       "                        <td id=\"T_eac17_row6_col0\" class=\"data row6 col0\" >PDF</td>\n",
       "                        <td id=\"T_eac17_row6_col1\" class=\"data row6 col1\" >0.02%</td>\n",
       "                        <td id=\"T_eac17_row6_col2\" class=\"data row6 col2\" >0.05%</td>\n",
       "            </tr>\n",
       "    </tbody></table>"
      ],
      "text/plain": [
       "<pandas.io.formats.style.Styler at 0x7f6ad85d2700>"
      ]
     },
     "metadata": {},
     "output_type": "display_data"
    },
    {
     "data": {
      "text/markdown": [
       "### Remove duplicates"
      ],
      "text/plain": [
       "<IPython.core.display.Markdown object>"
      ]
     },
     "metadata": {},
     "output_type": "display_data"
    },
    {
     "data": {
      "text/html": [
       "<style  type=\"text/css\" >\n",
       "</style><table id=\"T_7aae9_\" ><thead>    <tr>        <th class=\"blank level0\" ></th>        <th class=\"col_heading level0 col0\" >Format</th>        <th class=\"col_heading level0 col1\" >% of cells with output</th>        <th class=\"col_heading level0 col2\" >% of executed notebooks</th>    </tr></thead><tbody>\n",
       "                <tr>\n",
       "                        <th id=\"T_7aae9_level0_row0\" class=\"row_heading level0 row0\" >0</th>\n",
       "                        <td id=\"T_7aae9_row0_col0\" class=\"data row0 col0\" >Text</td>\n",
       "                        <td id=\"T_7aae9_row0_col1\" class=\"data row0 col1\" >95.84%</td>\n",
       "                        <td id=\"T_7aae9_row0_col2\" class=\"data row0 col2\" >91.50%</td>\n",
       "            </tr>\n",
       "            <tr>\n",
       "                        <th id=\"T_7aae9_level0_row1\" class=\"row_heading level0 row1\" >1</th>\n",
       "                        <td id=\"T_7aae9_row1_col0\" class=\"data row1 col0\" >Image</td>\n",
       "                        <td id=\"T_7aae9_row1_col1\" class=\"data row1 col1\" >42.22%</td>\n",
       "                        <td id=\"T_7aae9_row1_col2\" class=\"data row1 col2\" >63.76%</td>\n",
       "            </tr>\n",
       "            <tr>\n",
       "                        <th id=\"T_7aae9_level0_row2\" class=\"row_heading level0 row2\" >2</th>\n",
       "                        <td id=\"T_7aae9_row2_col0\" class=\"data row2 col0\" >HTML/JS</td>\n",
       "                        <td id=\"T_7aae9_row2_col1\" class=\"data row2 col1\" >24.20%</td>\n",
       "                        <td id=\"T_7aae9_row2_col2\" class=\"data row2 col2\" >45.16%</td>\n",
       "            </tr>\n",
       "            <tr>\n",
       "                        <th id=\"T_7aae9_level0_row3\" class=\"row_heading level0 row3\" >3</th>\n",
       "                        <td id=\"T_7aae9_row3_col0\" class=\"data row3 col0\" >Extension</td>\n",
       "                        <td id=\"T_7aae9_row3_col1\" class=\"data row3 col1\" >5.28%</td>\n",
       "                        <td id=\"T_7aae9_row3_col2\" class=\"data row3 col2\" >0.00%</td>\n",
       "            </tr>\n",
       "            <tr>\n",
       "                        <th id=\"T_7aae9_level0_row4\" class=\"row_heading level0 row4\" >4</th>\n",
       "                        <td id=\"T_7aae9_row4_col0\" class=\"data row4 col0\" >Formatted</td>\n",
       "                        <td id=\"T_7aae9_row4_col1\" class=\"data row4 col1\" >3.78%</td>\n",
       "                        <td id=\"T_7aae9_row4_col2\" class=\"data row4 col2\" >4.80%</td>\n",
       "            </tr>\n",
       "            <tr>\n",
       "                        <th id=\"T_7aae9_level0_row5\" class=\"row_heading level0 row5\" >5</th>\n",
       "                        <td id=\"T_7aae9_row5_col0\" class=\"data row5 col0\" >Error</td>\n",
       "                        <td id=\"T_7aae9_row5_col1\" class=\"data row5 col1\" >1.46%</td>\n",
       "                        <td id=\"T_7aae9_row5_col2\" class=\"data row5 col2\" >7.71%</td>\n",
       "            </tr>\n",
       "            <tr>\n",
       "                        <th id=\"T_7aae9_level0_row6\" class=\"row_heading level0 row6\" >6</th>\n",
       "                        <td id=\"T_7aae9_row6_col0\" class=\"data row6 col0\" >PDF</td>\n",
       "                        <td id=\"T_7aae9_row6_col1\" class=\"data row6 col1\" >0.02%</td>\n",
       "                        <td id=\"T_7aae9_row6_col2\" class=\"data row6 col2\" >0.05%</td>\n",
       "            </tr>\n",
       "    </tbody></table>"
      ],
      "text/plain": [
       "<pandas.io.formats.style.Styler at 0x7f6a4191d880>"
      ]
     },
     "metadata": {},
     "output_type": "display_data"
    },
    {
     "data": {
      "text/markdown": [
       "### Remove duplicates and toy"
      ],
      "text/plain": [
       "<IPython.core.display.Markdown object>"
      ]
     },
     "metadata": {},
     "output_type": "display_data"
    },
    {
     "data": {
      "text/html": [
       "<style  type=\"text/css\" >\n",
       "</style><table id=\"T_86d95_\" ><thead>    <tr>        <th class=\"blank level0\" ></th>        <th class=\"col_heading level0 col0\" >Format</th>        <th class=\"col_heading level0 col1\" >% of cells with output</th>        <th class=\"col_heading level0 col2\" >% of executed notebooks</th>    </tr></thead><tbody>\n",
       "                <tr>\n",
       "                        <th id=\"T_86d95_level0_row0\" class=\"row_heading level0 row0\" >0</th>\n",
       "                        <td id=\"T_86d95_row0_col0\" class=\"data row0 col0\" >Text</td>\n",
       "                        <td id=\"T_86d95_row0_col1\" class=\"data row0 col1\" >95.84%</td>\n",
       "                        <td id=\"T_86d95_row0_col2\" class=\"data row0 col2\" >91.50%</td>\n",
       "            </tr>\n",
       "            <tr>\n",
       "                        <th id=\"T_86d95_level0_row1\" class=\"row_heading level0 row1\" >1</th>\n",
       "                        <td id=\"T_86d95_row1_col0\" class=\"data row1 col0\" >Image</td>\n",
       "                        <td id=\"T_86d95_row1_col1\" class=\"data row1 col1\" >42.22%</td>\n",
       "                        <td id=\"T_86d95_row1_col2\" class=\"data row1 col2\" >63.76%</td>\n",
       "            </tr>\n",
       "            <tr>\n",
       "                        <th id=\"T_86d95_level0_row2\" class=\"row_heading level0 row2\" >2</th>\n",
       "                        <td id=\"T_86d95_row2_col0\" class=\"data row2 col0\" >HTML/JS</td>\n",
       "                        <td id=\"T_86d95_row2_col1\" class=\"data row2 col1\" >24.20%</td>\n",
       "                        <td id=\"T_86d95_row2_col2\" class=\"data row2 col2\" >45.16%</td>\n",
       "            </tr>\n",
       "            <tr>\n",
       "                        <th id=\"T_86d95_level0_row3\" class=\"row_heading level0 row3\" >3</th>\n",
       "                        <td id=\"T_86d95_row3_col0\" class=\"data row3 col0\" >Extension</td>\n",
       "                        <td id=\"T_86d95_row3_col1\" class=\"data row3 col1\" >5.28%</td>\n",
       "                        <td id=\"T_86d95_row3_col2\" class=\"data row3 col2\" >0.00%</td>\n",
       "            </tr>\n",
       "            <tr>\n",
       "                        <th id=\"T_86d95_level0_row4\" class=\"row_heading level0 row4\" >4</th>\n",
       "                        <td id=\"T_86d95_row4_col0\" class=\"data row4 col0\" >Formatted</td>\n",
       "                        <td id=\"T_86d95_row4_col1\" class=\"data row4 col1\" >3.78%</td>\n",
       "                        <td id=\"T_86d95_row4_col2\" class=\"data row4 col2\" >4.80%</td>\n",
       "            </tr>\n",
       "            <tr>\n",
       "                        <th id=\"T_86d95_level0_row5\" class=\"row_heading level0 row5\" >5</th>\n",
       "                        <td id=\"T_86d95_row5_col0\" class=\"data row5 col0\" >Error</td>\n",
       "                        <td id=\"T_86d95_row5_col1\" class=\"data row5 col1\" >1.46%</td>\n",
       "                        <td id=\"T_86d95_row5_col2\" class=\"data row5 col2\" >7.71%</td>\n",
       "            </tr>\n",
       "            <tr>\n",
       "                        <th id=\"T_86d95_level0_row6\" class=\"row_heading level0 row6\" >6</th>\n",
       "                        <td id=\"T_86d95_row6_col0\" class=\"data row6 col0\" >PDF</td>\n",
       "                        <td id=\"T_86d95_row6_col1\" class=\"data row6 col1\" >0.02%</td>\n",
       "                        <td id=\"T_86d95_row6_col2\" class=\"data row6 col2\" >0.05%</td>\n",
       "            </tr>\n",
       "    </tbody></table>"
      ],
      "text/plain": [
       "<pandas.io.formats.style.Styler at 0x7f6a4191d070>"
      ]
     },
     "metadata": {},
     "output_type": "display_data"
    },
    {
     "data": {
      "text/markdown": [
       "### Remove duplicates and restricted toy"
      ],
      "text/plain": [
       "<IPython.core.display.Markdown object>"
      ]
     },
     "metadata": {},
     "output_type": "display_data"
    },
    {
     "data": {
      "text/html": [
       "<style  type=\"text/css\" >\n",
       "</style><table id=\"T_a089d_\" ><thead>    <tr>        <th class=\"blank level0\" ></th>        <th class=\"col_heading level0 col0\" >Format</th>        <th class=\"col_heading level0 col1\" >% of cells with output</th>        <th class=\"col_heading level0 col2\" >% of executed notebooks</th>    </tr></thead><tbody>\n",
       "                <tr>\n",
       "                        <th id=\"T_a089d_level0_row0\" class=\"row_heading level0 row0\" >0</th>\n",
       "                        <td id=\"T_a089d_row0_col0\" class=\"data row0 col0\" >Text</td>\n",
       "                        <td id=\"T_a089d_row0_col1\" class=\"data row0 col1\" >95.84%</td>\n",
       "                        <td id=\"T_a089d_row0_col2\" class=\"data row0 col2\" >91.50%</td>\n",
       "            </tr>\n",
       "            <tr>\n",
       "                        <th id=\"T_a089d_level0_row1\" class=\"row_heading level0 row1\" >1</th>\n",
       "                        <td id=\"T_a089d_row1_col0\" class=\"data row1 col0\" >Image</td>\n",
       "                        <td id=\"T_a089d_row1_col1\" class=\"data row1 col1\" >42.22%</td>\n",
       "                        <td id=\"T_a089d_row1_col2\" class=\"data row1 col2\" >63.76%</td>\n",
       "            </tr>\n",
       "            <tr>\n",
       "                        <th id=\"T_a089d_level0_row2\" class=\"row_heading level0 row2\" >2</th>\n",
       "                        <td id=\"T_a089d_row2_col0\" class=\"data row2 col0\" >HTML/JS</td>\n",
       "                        <td id=\"T_a089d_row2_col1\" class=\"data row2 col1\" >24.20%</td>\n",
       "                        <td id=\"T_a089d_row2_col2\" class=\"data row2 col2\" >45.16%</td>\n",
       "            </tr>\n",
       "            <tr>\n",
       "                        <th id=\"T_a089d_level0_row3\" class=\"row_heading level0 row3\" >3</th>\n",
       "                        <td id=\"T_a089d_row3_col0\" class=\"data row3 col0\" >Extension</td>\n",
       "                        <td id=\"T_a089d_row3_col1\" class=\"data row3 col1\" >5.28%</td>\n",
       "                        <td id=\"T_a089d_row3_col2\" class=\"data row3 col2\" >0.00%</td>\n",
       "            </tr>\n",
       "            <tr>\n",
       "                        <th id=\"T_a089d_level0_row4\" class=\"row_heading level0 row4\" >4</th>\n",
       "                        <td id=\"T_a089d_row4_col0\" class=\"data row4 col0\" >Formatted</td>\n",
       "                        <td id=\"T_a089d_row4_col1\" class=\"data row4 col1\" >3.78%</td>\n",
       "                        <td id=\"T_a089d_row4_col2\" class=\"data row4 col2\" >4.80%</td>\n",
       "            </tr>\n",
       "            <tr>\n",
       "                        <th id=\"T_a089d_level0_row5\" class=\"row_heading level0 row5\" >5</th>\n",
       "                        <td id=\"T_a089d_row5_col0\" class=\"data row5 col0\" >Error</td>\n",
       "                        <td id=\"T_a089d_row5_col1\" class=\"data row5 col1\" >1.46%</td>\n",
       "                        <td id=\"T_a089d_row5_col2\" class=\"data row5 col2\" >7.71%</td>\n",
       "            </tr>\n",
       "            <tr>\n",
       "                        <th id=\"T_a089d_level0_row6\" class=\"row_heading level0 row6\" >6</th>\n",
       "                        <td id=\"T_a089d_row6_col0\" class=\"data row6 col0\" >PDF</td>\n",
       "                        <td id=\"T_a089d_row6_col1\" class=\"data row6 col1\" >0.02%</td>\n",
       "                        <td id=\"T_a089d_row6_col2\" class=\"data row6 col2\" >0.05%</td>\n",
       "            </tr>\n",
       "    </tbody></table>"
      ],
      "text/plain": [
       "<pandas.io.formats.style.Styler at 0x7f6a4191df10>"
      ]
     },
     "metadata": {},
     "output_type": "display_data"
    }
   ],
   "source": [
    "@calculate_auto(CONFIG, save_to=\"formats\", result=None)\n",
    "def fn(\n",
    "    cell_counter, notebook_counter, total_with_output, total_executed_notebooks, prefix\n",
    "):\n",
    "    common = cell_counter.most_common()\n",
    "    formats = pd.DataFrame(\n",
    "        [\n",
    "            (c / total_with_output, notebook_counter[n] / total_executed_notebooks)\n",
    "            for n, c in common\n",
    "        ],\n",
    "        index=[n for n, c in common],\n",
    "        columns=[\"% of cells with output\", \"% of executed notebooks\"],\n",
    "    )\n",
    "    formats.index.name = \"Format\"\n",
    "    formats.reset_index(level=0, inplace=True)\n",
    "    display(\n",
    "        formats.style.format(\n",
    "            {\"% of cells with output\": \"{0:.2%}\", \"% of executed notebooks\": \"{0:.2%}\"}\n",
    "        )\n",
    "    )\n",
    "    return formats"
   ]
  },
  {
   "cell_type": "code",
   "execution_count": 31,
   "metadata": {},
   "outputs": [
    {
     "data": {
      "text/markdown": [
       "### Default"
      ],
      "text/plain": [
       "<IPython.core.display.Markdown object>"
      ]
     },
     "metadata": {},
     "output_type": "display_data"
    },
    {
     "name": "stdout",
     "output_type": "stream",
     "text": [
      "12,954 (63.76%)\n"
     ]
    },
    {
     "data": {
      "text/markdown": [
       "### Remove duplicates"
      ],
      "text/plain": [
       "<IPython.core.display.Markdown object>"
      ]
     },
     "metadata": {},
     "output_type": "display_data"
    },
    {
     "name": "stdout",
     "output_type": "stream",
     "text": [
      "12,954 (63.76%)\n"
     ]
    },
    {
     "data": {
      "text/markdown": [
       "### Remove duplicates and toy"
      ],
      "text/plain": [
       "<IPython.core.display.Markdown object>"
      ]
     },
     "metadata": {},
     "output_type": "display_data"
    },
    {
     "name": "stdout",
     "output_type": "stream",
     "text": [
      "12,954 (63.76%)\n"
     ]
    },
    {
     "data": {
      "text/markdown": [
       "### Remove duplicates and restricted toy"
      ],
      "text/plain": [
       "<IPython.core.display.Markdown object>"
      ]
     },
     "metadata": {},
     "output_type": "display_data"
    },
    {
     "name": "stdout",
     "output_type": "stream",
     "text": [
      "12,954 (63.76%)\n"
     ]
    }
   ],
   "source": [
    "@calculate_auto(CONFIG)\n",
    "def fn(formats, notebook_counter, total_executed_notebooks, prefix):\n",
    "    with open(\"outputs/{}output_table.tex\".format(prefix), \"w\") as fil:\n",
    "        fil.write(\n",
    "            formats.to_latex(\n",
    "                index=False,\n",
    "                formatters={\n",
    "                    \"% of cells with output\": \"{0:.2%}\".format,\n",
    "                    \"% of executed notebooks\": \"{0:.2%}\".format,\n",
    "                },\n",
    "            )\n",
    "        )\n",
    "    return relative_var(\n",
    "        prefix + \"notebooks_with_image\",\n",
    "        notebook_counter[\"Image\"],\n",
    "        total_executed_notebooks,\n",
    "    )"
   ]
  },
  {
   "cell_type": "markdown",
   "metadata": {},
   "source": [
    "## Lines in Notebooks"
   ]
  },
  {
   "cell_type": "code",
   "execution_count": 32,
   "metadata": {},
   "outputs": [
    {
     "data": {
      "text/markdown": [
       "### Default"
      ],
      "text/plain": [
       "<IPython.core.display.Markdown object>"
      ]
     },
     "metadata": {},
     "output_type": "display_data"
    },
    {
     "name": "stdout",
     "output_type": "stream",
     "text": [
      "Distribution(min=1, q1=75.0, median=154.0, q3=285.0, max=13026)\n"
     ]
    },
    {
     "data": {
      "image/png": "[encoded data removed]",
      "text/plain": [
       "<Figure size 576x288 with 2 Axes>"
      ]
     },
     "metadata": {},
     "output_type": "display_data"
    },
    {
     "data": {
      "text/markdown": [
       "### Remove duplicates"
      ],
      "text/plain": [
       "<IPython.core.display.Markdown object>"
      ]
     },
     "metadata": {},
     "output_type": "display_data"
    },
    {
     "name": "stdout",
     "output_type": "stream",
     "text": [
      "Distribution(min=1, q1=75.0, median=154.0, q3=285.0, max=13026)\n"
     ]
    },
    {
     "data": {
      "image/png": "[encoded data removed]",
      "text/plain": [
       "<Figure size 576x288 with 2 Axes>"
      ]
     },
     "metadata": {},
     "output_type": "display_data"
    },
    {
     "data": {
      "text/markdown": [
       "### Remove duplicates and toy"
      ],
      "text/plain": [
       "<IPython.core.display.Markdown object>"
      ]
     },
     "metadata": {},
     "output_type": "display_data"
    },
    {
     "name": "stdout",
     "output_type": "stream",
     "text": [
      "Distribution(min=1, q1=75.0, median=154.0, q3=285.0, max=13026)\n"
     ]
    },
    {
     "data": {
      "image/png": "[encoded data removed]",
      "text/plain": [
       "<Figure size 576x288 with 2 Axes>"
      ]
     },
     "metadata": {},
     "output_type": "display_data"
    },
    {
     "data": {
      "text/markdown": [
       "### Remove duplicates and restricted toy"
      ],
      "text/plain": [
       "<IPython.core.display.Markdown object>"
      ]
     },
     "metadata": {},
     "output_type": "display_data"
    },
    {
     "name": "stdout",
     "output_type": "stream",
     "text": [
      "Distribution(min=1, q1=75.0, median=154.0, q3=285.0, max=13026)\n"
     ]
    },
    {
     "data": {
      "image/png": "[encoded data removed]",
      "text/plain": [
       "<Figure size 576x288 with 2 Axes>"
      ]
     },
     "metadata": {},
     "output_type": "display_data"
    }
   ],
   "source": [
    "@calculate_auto(CONFIG)\n",
    "@close_fig\n",
    "def fn(cells, prefix):\n",
    "    column = cells.groupby(\"notebook_id\")[\"lines\"].agg(\"sum\")\n",
    "    distribution = distribution_with_boxplot(\n",
    "        column, 0, 1500, 200, \"Notebooks\", \"Lines\", True\n",
    "    )\n",
    "    print(distribution)\n",
    "    plt.gcf().set_size_inches(8, 4)"
   ]
  },
  {
   "cell_type": "markdown",
   "metadata": {},
   "source": [
    "### Python cells"
   ]
  },
  {
   "cell_type": "code",
   "execution_count": 33,
   "metadata": {},
   "outputs": [
    {
     "data": {
      "text/markdown": [
       "### Default"
      ],
      "text/plain": [
       "<IPython.core.display.Markdown object>"
      ]
     },
     "metadata": {},
     "output_type": "display_data"
    },
    {
     "name": "stdout",
     "output_type": "stream",
     "text": [
      "Distribution(min=1, q1=56.0, median=120.0, q3=232.0, max=12933)\n"
     ]
    },
    {
     "data": {
      "image/png": "[encoded data removed]",
      "text/plain": [
       "<Figure size 576x288 with 2 Axes>"
      ]
     },
     "metadata": {},
     "output_type": "display_data"
    },
    {
     "data": {
      "text/markdown": [
       "### Remove duplicates"
      ],
      "text/plain": [
       "<IPython.core.display.Markdown object>"
      ]
     },
     "metadata": {},
     "output_type": "display_data"
    },
    {
     "name": "stdout",
     "output_type": "stream",
     "text": [
      "Distribution(min=1, q1=56.0, median=120.0, q3=232.0, max=12933)\n"
     ]
    },
    {
     "data": {
      "image/png": "[encoded data removed]",
      "text/plain": [
       "<Figure size 576x288 with 2 Axes>"
      ]
     },
     "metadata": {},
     "output_type": "display_data"
    },
    {
     "data": {
      "text/markdown": [
       "### Remove duplicates and toy"
      ],
      "text/plain": [
       "<IPython.core.display.Markdown object>"
      ]
     },
     "metadata": {},
     "output_type": "display_data"
    },
    {
     "name": "stdout",
     "output_type": "stream",
     "text": [
      "Distribution(min=1, q1=56.0, median=120.0, q3=232.0, max=12933)\n"
     ]
    },
    {
     "data": {
      "image/png": "[encoded data removed]",
      "text/plain": [
       "<Figure size 576x288 with 2 Axes>"
      ]
     },
     "metadata": {},
     "output_type": "display_data"
    },
    {
     "data": {
      "text/markdown": [
       "### Remove duplicates and restricted toy"
      ],
      "text/plain": [
       "<IPython.core.display.Markdown object>"
      ]
     },
     "metadata": {},
     "output_type": "display_data"
    },
    {
     "name": "stdout",
     "output_type": "stream",
     "text": [
      "Distribution(min=1, q1=56.0, median=120.0, q3=232.0, max=12933)\n"
     ]
    },
    {
     "data": {
      "image/png": "[encoded data removed]",
      "text/plain": [
       "<Figure size 576x288 with 2 Axes>"
      ]
     },
     "metadata": {},
     "output_type": "display_data"
    }
   ],
   "source": [
    "@calculate_auto(CONFIG)\n",
    "@close_fig\n",
    "def fn(python_cells, prefix):\n",
    "    column = python_cells.groupby(\"notebook_id\")['lines'].agg('sum')\n",
    "    distribution = distribution_https://jobundkarriere.tu-ilmenau.de/jobposting/9f384d6da7a22fdb5da9aada4c49820e61b3a1690?ref=homepagewith_boxplot(column, 0, 1000, 150, \"Notebooks\", \"Python Lines\",  True)\n",
    "    print(distribution)\n",
    "    plt.gcf().set_size_inches(8, 4)"
   ]
  },
  {
   "cell_type": "markdown",
   "metadata": {},
   "source": [
    "### Julia cells"
   ]
  },
  {
   "cell_type": "code",
   "execution_count": 34,
   "metadata": {},
   "outputs": [
    {
     "data": {
      "text/markdown": [
       "### Default"
      ],
      "text/plain": [
       "<IPython.core.display.Markdown object>"
      ]
     },
     "metadata": {},
     "output_type": "display_data"
    },
    {
     "name": "stdout",
     "output_type": "stream",
     "text": [
      "Distribution(min=1, q1=74.25, median=105.0, q3=184.0, max=3215)\n"
     ]
    },
    {
     "data": {
      "image/png": "[encoded data removed]",
      "text/plain": [
       "<Figure size 576x288 with 2 Axes>"
      ]
     },
     "metadata": {},
     "output_type": "display_data"
    },
    {
     "data": {
      "text/markdown": [
       "### Remove duplicates"
      ],
      "text/plain": [
       "<IPython.core.display.Markdown object>"
      ]
     },
     "metadata": {},
     "output_type": "display_data"
    },
    {
     "name": "stdout",
     "output_type": "stream",
     "text": [
      "Distribution(min=1, q1=74.25, median=105.0, q3=184.0, max=3215)\n"
     ]
    },
    {
     "data": {
      "image/png": "[encoded data removed]",
      "text/plain": [
       "<Figure size 576x288 with 2 Axes>"
      ]
     },
     "metadata": {},
     "output_type": "display_data"
    },
    {
     "data": {
      "text/markdown": [
       "### Remove duplicates and toy"
      ],
      "text/plain": [
       "<IPython.core.display.Markdown object>"
      ]
     },
     "metadata": {},
     "output_type": "display_data"
    },
    {
     "name": "stdout",
     "output_type": "stream",
     "text": [
      "Distribution(min=1, q1=74.25, median=105.0, q3=184.0, max=3215)\n"
     ]
    },
    {
     "data": {
      "image/png": "[encoded data removed]",
      "text/plain": [
       "<Figure size 576x288 with 2 Axes>"
      ]
     },
     "metadata": {},
     "output_type": "display_data"
    },
    {
     "data": {
      "text/markdown": [
       "### Remove duplicates and restricted toy"
      ],
      "text/plain": [
       "<IPython.core.display.Markdown object>"
      ]
     },
     "metadata": {},
     "output_type": "display_data"
    },
    {
     "name": "stdout",
     "output_type": "stream",
     "text": [
      "Distribution(min=1, q1=74.25, median=105.0, q3=184.0, max=3215)\n"
     ]
    },
    {
     "data": {
      "image/png": "[encoded data removed]",
      "text/plain": [
       "<Figure size 576x288 with 2 Axes>"
      ]
     },
     "metadata": {},
     "output_type": "display_data"
    }
   ],
   "source": [
    "@calculate_auto(CONFIG)\n",
    "@close_fig\n",
    "def fn(julia_cells, prefix):\n",
    "    column = julia_cells.groupby(\"notebook_id\")[\"lines\"].agg(\"sum\")\n",
    "    distribution = distribution_with_boxplot(\n",
    "        column, 0, 1000, 150, \"Notebooks\", \"Julia Lines\", True\n",
    "    )\n",
    "    print(distribution)\n",
    "    plt.gcf().set_size_inches(8, 4)"
   ]
  },
  {
   "cell_type": "markdown",
   "metadata": {},
   "source": [
    "### R cells"
   ]
  },
  {
   "cell_type": "code",
   "execution_count": 35,
   "metadata": {},
   "outputs": [
    {
     "data": {
      "text/markdown": [
       "### Default"
      ],
      "text/plain": [
       "<IPython.core.display.Markdown object>"
      ]
     },
     "metadata": {},
     "output_type": "display_data"
    },
    {
     "name": "stdout",
     "output_type": "stream",
     "text": [
      "Distribution(min=1, q1=63.0, median=121.0, q3=270.0, max=2963)\n"
     ]
    },
    {
     "data": {
      "image/png": "[encoded data removed]",
      "text/plain": [
       "<Figure size 576x288 with 2 Axes>"
      ]
     },
     "metadata": {},
     "output_type": "display_data"
    },
    {
     "data": {
      "text/markdown": [
       "### Remove duplicates"
      ],
      "text/plain": [
       "<IPython.core.display.Markdown object>"
      ]
     },
     "metadata": {},
     "output_type": "display_data"
    },
    {
     "name": "stdout",
     "output_type": "stream",
     "text": [
      "Distribution(min=1, q1=63.0, median=121.0, q3=270.0, max=2963)\n"
     ]
    },
    {
     "data": {
      "image/png": "[encoded data removed]",
      "text/plain": [
       "<Figure size 576x288 with 2 Axes>"
      ]
     },
     "metadata": {},
     "output_type": "display_data"
    },
    {
     "data": {
      "text/markdown": [
       "### Remove duplicates and toy"
      ],
      "text/plain": [
       "<IPython.core.display.Markdown object>"
      ]
     },
     "metadata": {},
     "output_type": "display_data"
    },
    {
     "name": "stdout",
     "output_type": "stream",
     "text": [
      "Distribution(min=1, q1=63.0, median=121.0, q3=270.0, max=2963)\n"
     ]
    },
    {
     "data": {
      "image/png": "[encoded data removed]",
      "text/plain": [
       "<Figure size 576x288 with 2 Axes>"
      ]
     },
     "metadata": {},
     "output_type": "display_data"
    },
    {
     "data": {
      "text/markdown": [
       "### Remove duplicates and restricted toy"
      ],
      "text/plain": [
       "<IPython.core.display.Markdown object>"
      ]
     },
     "metadata": {},
     "output_type": "display_data"
    },
    {
     "name": "stdout",
     "output_type": "stream",
     "text": [
      "Distribution(min=1, q1=63.0, median=121.0, q3=270.0, max=2963)\n"
     ]
    },
    {
     "data": {
      "image/png": "[encoded data removed]",
      "text/plain": [
       "<Figure size 576x288 with 2 Axes>"
      ]
     },
     "metadata": {},
     "output_type": "display_data"
    }
   ],
   "source": [
    "@calculate_auto(CONFIG)\n",
    "@close_fig\n",
    "def fn(r_cells, prefix):\n",
    "    column = r_cells.groupby(\"notebook_id\")[\"lines\"].agg(\"sum\")\n",
    "    distribution = distribution_with_boxplot(\n",
    "        column, 0, 1000, 150, \"Notebooks\", \"R Lines\", True\n",
    "    )\n",
    "    print(distribution)\n",
    "    plt.gcf().set_size_inches(8, 4)"
   ]
  },
  {
   "cell_type": "markdown",
   "metadata": {},
   "source": [
    "### Markdown cells"
   ]
  },
  {
   "cell_type": "code",
   "execution_count": 36,
   "metadata": {},
   "outputs": [
    {
     "data": {
      "text/markdown": [
       "### Default"
      ],
      "text/plain": [
       "<IPython.core.display.Markdown object>"
      ]
     },
     "metadata": {},
     "output_type": "display_data"
    },
    {
     "name": "stdout",
     "output_type": "stream",
     "text": [
      "Distribution(min=1, q1=7.0, median=19.0, q3=48.0, max=1841)\n"
     ]
    },
    {
     "data": {
      "image/png": "[encoded data removed]",
      "text/plain": [
       "<Figure size 576x288 with 2 Axes>"
      ]
     },
     "metadata": {},
     "output_type": "display_data"
    },
    {
     "data": {
      "text/markdown": [
       "### Remove duplicates"
      ],
      "text/plain": [
       "<IPython.core.display.Markdown object>"
      ]
     },
     "metadata": {},
     "output_type": "display_data"
    },
    {
     "name": "stdout",
     "output_type": "stream",
     "text": [
      "Distribution(min=1, q1=7.0, median=19.0, q3=48.0, max=1841)\n"
     ]
    },
    {
     "data": {
      "image/png": "[encoded data removed]",
      "text/plain": [
       "<Figure size 576x288 with 2 Axes>"
      ]
     },
     "metadata": {},
     "output_type": "display_data"
    },
    {
     "data": {
      "text/markdown": [
       "### Remove duplicates and toy"
      ],
      "text/plain": [
       "<IPython.core.display.Markdown object>"
      ]
     },
     "metadata": {},
     "output_type": "display_data"
    },
    {
     "name": "stdout",
     "output_type": "stream",
     "text": [
      "Distribution(min=1, q1=7.0, median=19.0, q3=48.0, max=1841)\n"
     ]
    },
    {
     "data": {
      "image/png": "[encoded data removed]",
      "text/plain": [
       "<Figure size 576x288 with 2 Axes>"
      ]
     },
     "metadata": {},
     "output_type": "display_data"
    },
    {
     "data": {
      "text/markdown": [
       "### Remove duplicates and restricted toy"
      ],
      "text/plain": [
       "<IPython.core.display.Markdown object>"
      ]
     },
     "metadata": {},
     "output_type": "display_data"
    },
    {
     "name": "stdout",
     "output_type": "stream",
     "text": [
      "Distribution(min=1, q1=7.0, median=19.0, q3=48.0, max=1841)\n"
     ]
    },
    {
     "data": {
      "image/png": "[encoded data removed]",
      "text/plain": [
       "<Figure size 576x288 with 2 Axes>"
      ]
     },
     "metadata": {},
     "output_type": "display_data"
    }
   ],
   "source": [
    "@calculate_auto(CONFIG)\n",
    "@close_fig\n",
    "def fn(markdown_cells, prefix):\n",
    "    column = markdown_cells.groupby(\"notebook_id\")[\"lines\"].agg(\"sum\")\n",
    "    distribution = distribution_with_boxplot(\n",
    "        column, 0, 1000, 150, \"Notebooks\", \"Markdown Lines\", True\n",
    "    )\n",
    "    print(distribution)\n",
    "    plt.gcf().set_size_inches(8, 4)"
   ]
  },
  {
   "cell_type": "markdown",
   "metadata": {},
   "source": [
    "## Distribution of Cells"
   ]
  },
  {
   "cell_type": "code",
   "execution_count": 37,
   "metadata": {},
   "outputs": [
    {
     "data": {
      "text/markdown": [
       "### Default"
      ],
      "text/plain": [
       "<IPython.core.display.Markdown object>"
      ]
     },
     "metadata": {},
     "output_type": "display_data"
    },
    {
     "name": "stderr",
     "output_type": "stream",
     "text": [
      "distributed.worker - WARNING - Compute Failed\n",
      "Function:  execute_task\n",
      "args:      ((subgraph_callable, 'getitem-2e17bf56a3668604e0bc040c1322d5d1', (<function pandas_read_text at 0x7f6316cc3040>, <function read_csv at 0x7f63197fd310>, (<function read_block_from_file at 0x7f6316ccdf70>, <OpenFile '/home/sheeba/20_04_2023/computational-reproducibility-pmc/analyses/cells.csv'>, 0, 64000000, b'\\n'), b'repository_id,language,notebook_id,index,cell_type,lines,output_formats,processed,has_import,notebook_cells,execution_count,max_execution_count,skip\\r\\n', {'dtype': {'execution_count': 'str'}}, {'repository_id': dtype('int64'), 'language': dtype('O'), 'notebook_id': dtype('int64'), 'index': dtype('int64'), 'cell_type': dtype('O'), 'lines': dtype('int64'), 'output_formats': dtype('O'), 'processed': dtype('int64'), 'has_import': dtype('int64'), 'notebook_cells': dtype('int64'), 'execution_count': dtype('O'), 'max_execution_count': dtype('int64'), 'skip': dtype('int64')}, ['repository_id', 'language', 'notebook_id', 'index', 'cell_type', 'lines', 'output_formats', 'processed',\n",
      "kwargs:    {}\n",
      "Exception: KeyError('empty')\n",
      "\n"
     ]
    },
    {
     "ename": "KeyError",
     "evalue": "'empty'",
     "output_type": "error",
     "traceback": [
      "\u001b[0;31m---------------------------------------------------------------------------\u001b[0m",
      "\u001b[0;31mKeyError\u001b[0m                                  Traceback (most recent call last)",
      "\u001b[0;32m~/anaconda3/envs/raw38/lib/python3.8/site-packages/pandas/core/indexes/base.py\u001b[0m in \u001b[0;36mget_loc\u001b[0;34m()\u001b[0m\n\u001b[1;32m   3079\u001b[0m             \u001b[0;32mtry\u001b[0m\u001b[0;34m:\u001b[0m\u001b[0;34m\u001b[0m\u001b[0;34m\u001b[0m\u001b[0m\n\u001b[0;32m-> 3080\u001b[0;31m                 \u001b[0;32mreturn\u001b[0m \u001b[0mself\u001b[0m\u001b[0;34m.\u001b[0m\u001b[0m_engine\u001b[0m\u001b[0;34m.\u001b[0m\u001b[0mget_loc\u001b[0m\u001b[0;34m(\u001b[0m\u001b[0mcasted_key\u001b[0m\u001b[0;34m)\u001b[0m\u001b[0;34m\u001b[0m\u001b[0;34m\u001b[0m\u001b[0m\n\u001b[0m\u001b[1;32m   3081\u001b[0m             \u001b[0;32mexcept\u001b[0m \u001b[0mKeyError\u001b[0m \u001b[0;32mas\u001b[0m \u001b[0merr\u001b[0m\u001b[0;34m:\u001b[0m\u001b[0;34m\u001b[0m\u001b[0;34m\u001b[0m\u001b[0m\n",
      "\u001b[0;32mpandas/_libs/index.pyx\u001b[0m in \u001b[0;36mpandas._libs.index.IndexEngine.get_loc\u001b[0;34m()\u001b[0m\n",
      "\u001b[0;32mpandas/_libs/index.pyx\u001b[0m in \u001b[0;36mpandas._libs.index.IndexEngine.get_loc\u001b[0;34m()\u001b[0m\n",
      "\u001b[0;32mpandas/_libs/hashtable_class_helper.pxi\u001b[0m in \u001b[0;36mpandas._libs.hashtable.PyObjectHashTable.get_item\u001b[0;34m()\u001b[0m\n",
      "\u001b[0;32mpandas/_libs/hashtable_class_helper.pxi\u001b[0m in \u001b[0;36mpandas._libs.hashtable.PyObjectHashTable.get_item\u001b[0;34m()\u001b[0m\n",
      "\u001b[0;31mKeyError\u001b[0m: 'empty'",
      "\nThe above exception was the direct cause of the following exception:\n",
      "\u001b[0;31mKeyError\u001b[0m                                  Traceback (most recent call last)",
      "\u001b[0;32m/tmp/ipykernel_2931682/416571489.py\u001b[0m in \u001b[0;36m<module>\u001b[0;34m\u001b[0m\n\u001b[1;32m     30\u001b[0m \u001b[0;34m\u001b[0m\u001b[0m\n\u001b[1;32m     31\u001b[0m \u001b[0;34m@\u001b[0m\u001b[0mcalculate_auto\u001b[0m\u001b[0;34m(\u001b[0m\u001b[0mCONFIG\u001b[0m\u001b[0;34m,\u001b[0m \u001b[0msave_to\u001b[0m\u001b[0;34m=\u001b[0m\u001b[0;34m\"regions\"\u001b[0m\u001b[0;34m,\u001b[0m \u001b[0mresult\u001b[0m\u001b[0;34m=\u001b[0m\u001b[0;32mNone\u001b[0m\u001b[0;34m)\u001b[0m\u001b[0;34m\u001b[0m\u001b[0;34m\u001b[0m\u001b[0m\n\u001b[0;32m---> 32\u001b[0;31m \u001b[0;32mdef\u001b[0m \u001b[0mfn\u001b[0m\u001b[0;34m(\u001b[0m\u001b[0mcells\u001b[0m\u001b[0;34m,\u001b[0m \u001b[0mprefix\u001b[0m\u001b[0;34m)\u001b[0m\u001b[0;34m:\u001b[0m\u001b[0;34m\u001b[0m\u001b[0;34m\u001b[0m\u001b[0m\n\u001b[0m\u001b[1;32m     33\u001b[0m     \u001b[0mregions\u001b[0m \u001b[0;34m=\u001b[0m \u001b[0mcells\u001b[0m\u001b[0;34m.\u001b[0m\u001b[0mmap_partitions\u001b[0m\u001b[0;34m(\u001b[0m\u001b[0mprocess_regions\u001b[0m\u001b[0;34m)\u001b[0m\u001b[0;34m.\u001b[0m\u001b[0mcompute\u001b[0m\u001b[0;34m(\u001b[0m\u001b[0;34m)\u001b[0m\u001b[0;34m\u001b[0m\u001b[0;34m\u001b[0m\u001b[0m\n\u001b[1;32m     34\u001b[0m     \u001b[0;32mreturn\u001b[0m \u001b[0mregions\u001b[0m\u001b[0;34m\u001b[0m\u001b[0;34m\u001b[0m\u001b[0m\n",
      "\u001b[0;32m~/20_04_2023/computational-reproducibility-pmc/analyses/analysis_helpers.py\u001b[0m in \u001b[0;36mdec\u001b[0;34m(f)\u001b[0m\n\u001b[1;32m    347\u001b[0m              \u001b[0;32mif\u001b[0m \u001b[0mx\u001b[0m\u001b[0;34m.\u001b[0m\u001b[0mname\u001b[0m \u001b[0;34m!=\u001b[0m \u001b[0;34m'prefix'\u001b[0m\u001b[0;34m\u001b[0m\u001b[0;34m\u001b[0m\u001b[0m\n\u001b[1;32m    348\u001b[0m         ]\n\u001b[0;32m--> 349\u001b[0;31m         \u001b[0;32mreturn\u001b[0m \u001b[0mcalculate_all\u001b[0m\u001b[0;34m(\u001b[0m\u001b[0mconfig\u001b[0m\u001b[0;34m,\u001b[0m \u001b[0margs\u001b[0m\u001b[0;34m,\u001b[0m \u001b[0mf\u001b[0m\u001b[0;34m,\u001b[0m \u001b[0msave_to\u001b[0m\u001b[0;34m=\u001b[0m\u001b[0msave_to\u001b[0m\u001b[0;34m,\u001b[0m \u001b[0mresult\u001b[0m\u001b[0;34m=\u001b[0m\u001b[0mresult\u001b[0m\u001b[0;34m,\u001b[0m \u001b[0mlevel\u001b[0m\u001b[0;34m=\u001b[0m\u001b[0mlevel\u001b[0m\u001b[0;34m)\u001b[0m\u001b[0;34m\u001b[0m\u001b[0;34m\u001b[0m\u001b[0m\n\u001b[0m\u001b[1;32m    350\u001b[0m     \u001b[0;32mreturn\u001b[0m \u001b[0mdec\u001b[0m\u001b[0;34m\u001b[0m\u001b[0;34m\u001b[0m\u001b[0m\n\u001b[1;32m    351\u001b[0m \u001b[0;34m\u001b[0m\u001b[0m\n",
      "\u001b[0;32m~/20_04_2023/computational-reproducibility-pmc/analyses/analysis_helpers.py\u001b[0m in \u001b[0;36mcalculate_all\u001b[0;34m(config, args, function, result, save_to, level)\u001b[0m\n\u001b[1;32m    332\u001b[0m         \u001b[0;32mif\u001b[0m \u001b[0mlevel\u001b[0m \u001b[0;32mis\u001b[0m \u001b[0;32mnot\u001b[0m \u001b[0;32mNone\u001b[0m\u001b[0;34m:\u001b[0m\u001b[0;34m\u001b[0m\u001b[0;34m\u001b[0m\u001b[0m\n\u001b[1;32m    333\u001b[0m             \u001b[0mdisplay\u001b[0m\u001b[0;34m(\u001b[0m\u001b[0mMarkdown\u001b[0m\u001b[0;34m(\u001b[0m\u001b[0;34m\"#\"\u001b[0m \u001b[0;34m*\u001b[0m \u001b[0mlevel\u001b[0m \u001b[0;34m+\u001b[0m \u001b[0;34m\" \"\u001b[0m \u001b[0;34m+\u001b[0m \u001b[0mname\u001b[0m\u001b[0;34m)\u001b[0m\u001b[0;34m)\u001b[0m\u001b[0;34m\u001b[0m\u001b[0;34m\u001b[0m\u001b[0m\n\u001b[0;32m--> 334\u001b[0;31m         \u001b[0mvalue\u001b[0m \u001b[0;34m=\u001b[0m \u001b[0mfunction\u001b[0m\u001b[0;34m(\u001b[0m\u001b[0;34m*\u001b[0m\u001b[0;34m[\u001b[0m\u001b[0mip\u001b[0m\u001b[0;34m.\u001b[0m\u001b[0mns_table\u001b[0m\u001b[0;34m[\u001b[0m\u001b[0;34m\"user_global\"\u001b[0m\u001b[0;34m]\u001b[0m\u001b[0;34m[\u001b[0m\u001b[0mprefix\u001b[0m \u001b[0;34m+\u001b[0m \u001b[0marg\u001b[0m\u001b[0;34m]\u001b[0m \u001b[0;32mfor\u001b[0m \u001b[0marg\u001b[0m \u001b[0;32min\u001b[0m \u001b[0margs\u001b[0m\u001b[0;34m]\u001b[0m\u001b[0;34m,\u001b[0m \u001b[0mprefix\u001b[0m\u001b[0;34m=\u001b[0m\u001b[0mprefix\u001b[0m\u001b[0;34m)\u001b[0m\u001b[0;34m\u001b[0m\u001b[0;34m\u001b[0m\u001b[0m\n\u001b[0m\u001b[1;32m    335\u001b[0m         \u001b[0;32mif\u001b[0m \u001b[0mname\u001b[0m \u001b[0;34m==\u001b[0m \u001b[0mresult\u001b[0m\u001b[0;34m:\u001b[0m\u001b[0;34m\u001b[0m\u001b[0;34m\u001b[0m\u001b[0m\n\u001b[1;32m    336\u001b[0m             \u001b[0mret\u001b[0m \u001b[0;34m=\u001b[0m \u001b[0mvalue\u001b[0m\u001b[0;34m\u001b[0m\u001b[0;34m\u001b[0m\u001b[0m\n",
      "\u001b[0;32m/tmp/ipykernel_2931682/416571489.py\u001b[0m in \u001b[0;36mfn\u001b[0;34m(cells, prefix)\u001b[0m\n\u001b[1;32m     31\u001b[0m \u001b[0;34m@\u001b[0m\u001b[0mcalculate_auto\u001b[0m\u001b[0;34m(\u001b[0m\u001b[0mCONFIG\u001b[0m\u001b[0;34m,\u001b[0m \u001b[0msave_to\u001b[0m\u001b[0;34m=\u001b[0m\u001b[0;34m\"regions\"\u001b[0m\u001b[0;34m,\u001b[0m \u001b[0mresult\u001b[0m\u001b[0;34m=\u001b[0m\u001b[0;32mNone\u001b[0m\u001b[0;34m)\u001b[0m\u001b[0;34m\u001b[0m\u001b[0;34m\u001b[0m\u001b[0m\n\u001b[1;32m     32\u001b[0m \u001b[0;32mdef\u001b[0m \u001b[0mfn\u001b[0m\u001b[0;34m(\u001b[0m\u001b[0mcells\u001b[0m\u001b[0;34m,\u001b[0m \u001b[0mprefix\u001b[0m\u001b[0;34m)\u001b[0m\u001b[0;34m:\u001b[0m\u001b[0;34m\u001b[0m\u001b[0;34m\u001b[0m\u001b[0m\n\u001b[0;32m---> 33\u001b[0;31m     \u001b[0mregions\u001b[0m \u001b[0;34m=\u001b[0m \u001b[0mcells\u001b[0m\u001b[0;34m.\u001b[0m\u001b[0mmap_partitions\u001b[0m\u001b[0;34m(\u001b[0m\u001b[0mprocess_regions\u001b[0m\u001b[0;34m)\u001b[0m\u001b[0;34m.\u001b[0m\u001b[0mcompute\u001b[0m\u001b[0;34m(\u001b[0m\u001b[0;34m)\u001b[0m\u001b[0;34m\u001b[0m\u001b[0;34m\u001b[0m\u001b[0m\n\u001b[0m\u001b[1;32m     34\u001b[0m     \u001b[0;32mreturn\u001b[0m \u001b[0mregions\u001b[0m\u001b[0;34m\u001b[0m\u001b[0;34m\u001b[0m\u001b[0m\n",
      "\u001b[0;32m~/anaconda3/envs/raw38/lib/python3.8/site-packages/dask/base.py\u001b[0m in \u001b[0;36mcompute\u001b[0;34m(self, **kwargs)\u001b[0m\n\u001b[1;32m    282\u001b[0m         \u001b[0mdask\u001b[0m\u001b[0;34m.\u001b[0m\u001b[0mbase\u001b[0m\u001b[0;34m.\u001b[0m\u001b[0mcompute\u001b[0m\u001b[0;34m\u001b[0m\u001b[0;34m\u001b[0m\u001b[0m\n\u001b[1;32m    283\u001b[0m         \"\"\"\n\u001b[0;32m--> 284\u001b[0;31m         \u001b[0;34m(\u001b[0m\u001b[0mresult\u001b[0m\u001b[0;34m,\u001b[0m\u001b[0;34m)\u001b[0m \u001b[0;34m=\u001b[0m \u001b[0mcompute\u001b[0m\u001b[0;34m(\u001b[0m\u001b[0mself\u001b[0m\u001b[0;34m,\u001b[0m \u001b[0mtraverse\u001b[0m\u001b[0;34m=\u001b[0m\u001b[0;32mFalse\u001b[0m\u001b[0;34m,\u001b[0m \u001b[0;34m**\u001b[0m\u001b[0mkwargs\u001b[0m\u001b[0;34m)\u001b[0m\u001b[0;34m\u001b[0m\u001b[0;34m\u001b[0m\u001b[0m\n\u001b[0m\u001b[1;32m    285\u001b[0m         \u001b[0;32mreturn\u001b[0m \u001b[0mresult\u001b[0m\u001b[0;34m\u001b[0m\u001b[0;34m\u001b[0m\u001b[0m\n\u001b[1;32m    286\u001b[0m \u001b[0;34m\u001b[0m\u001b[0m\n",
      "\u001b[0;32m~/anaconda3/envs/raw38/lib/python3.8/site-packages/dask/base.py\u001b[0m in \u001b[0;36mcompute\u001b[0;34m(*args, **kwargs)\u001b[0m\n\u001b[1;32m    564\u001b[0m         \u001b[0mpostcomputes\u001b[0m\u001b[0;34m.\u001b[0m\u001b[0mappend\u001b[0m\u001b[0;34m(\u001b[0m\u001b[0mx\u001b[0m\u001b[0;34m.\u001b[0m\u001b[0m__dask_postcompute__\u001b[0m\u001b[0;34m(\u001b[0m\u001b[0;34m)\u001b[0m\u001b[0;34m)\u001b[0m\u001b[0;34m\u001b[0m\u001b[0;34m\u001b[0m\u001b[0m\n\u001b[1;32m    565\u001b[0m \u001b[0;34m\u001b[0m\u001b[0m\n\u001b[0;32m--> 566\u001b[0;31m     \u001b[0mresults\u001b[0m \u001b[0;34m=\u001b[0m \u001b[0mschedule\u001b[0m\u001b[0;34m(\u001b[0m\u001b[0mdsk\u001b[0m\u001b[0;34m,\u001b[0m \u001b[0mkeys\u001b[0m\u001b[0;34m,\u001b[0m \u001b[0;34m**\u001b[0m\u001b[0mkwargs\u001b[0m\u001b[0;34m)\u001b[0m\u001b[0;34m\u001b[0m\u001b[0;34m\u001b[0m\u001b[0m\n\u001b[0m\u001b[1;32m    567\u001b[0m     \u001b[0;32mreturn\u001b[0m \u001b[0mrepack\u001b[0m\u001b[0;34m(\u001b[0m\u001b[0;34m[\u001b[0m\u001b[0mf\u001b[0m\u001b[0;34m(\u001b[0m\u001b[0mr\u001b[0m\u001b[0;34m,\u001b[0m \u001b[0;34m*\u001b[0m\u001b[0ma\u001b[0m\u001b[0;34m)\u001b[0m \u001b[0;32mfor\u001b[0m \u001b[0mr\u001b[0m\u001b[0;34m,\u001b[0m \u001b[0;34m(\u001b[0m\u001b[0mf\u001b[0m\u001b[0;34m,\u001b[0m \u001b[0ma\u001b[0m\u001b[0;34m)\u001b[0m \u001b[0;32min\u001b[0m \u001b[0mzip\u001b[0m\u001b[0;34m(\u001b[0m\u001b[0mresults\u001b[0m\u001b[0;34m,\u001b[0m \u001b[0mpostcomputes\u001b[0m\u001b[0;34m)\u001b[0m\u001b[0;34m]\u001b[0m\u001b[0;34m)\u001b[0m\u001b[0;34m\u001b[0m\u001b[0;34m\u001b[0m\u001b[0m\n\u001b[1;32m    568\u001b[0m \u001b[0;34m\u001b[0m\u001b[0m\n",
      "\u001b[0;32m~/anaconda3/envs/raw38/lib/python3.8/site-packages/distributed/client.py\u001b[0m in \u001b[0;36mget\u001b[0;34m(self, dsk, keys, workers, allow_other_workers, resources, sync, asynchronous, direct, retries, priority, fifo_timeout, actors, **kwargs)\u001b[0m\n\u001b[1;32m   2664\u001b[0m                     \u001b[0mshould_rejoin\u001b[0m \u001b[0;34m=\u001b[0m \u001b[0;32mFalse\u001b[0m\u001b[0;34m\u001b[0m\u001b[0;34m\u001b[0m\u001b[0m\n\u001b[1;32m   2665\u001b[0m             \u001b[0;32mtry\u001b[0m\u001b[0;34m:\u001b[0m\u001b[0;34m\u001b[0m\u001b[0;34m\u001b[0m\u001b[0m\n\u001b[0;32m-> 2666\u001b[0;31m                 \u001b[0mresults\u001b[0m \u001b[0;34m=\u001b[0m \u001b[0mself\u001b[0m\u001b[0;34m.\u001b[0m\u001b[0mgather\u001b[0m\u001b[0;34m(\u001b[0m\u001b[0mpacked\u001b[0m\u001b[0;34m,\u001b[0m \u001b[0masynchronous\u001b[0m\u001b[0;34m=\u001b[0m\u001b[0masynchronous\u001b[0m\u001b[0;34m,\u001b[0m \u001b[0mdirect\u001b[0m\u001b[0;34m=\u001b[0m\u001b[0mdirect\u001b[0m\u001b[0;34m)\u001b[0m\u001b[0;34m\u001b[0m\u001b[0;34m\u001b[0m\u001b[0m\n\u001b[0m\u001b[1;32m   2667\u001b[0m             \u001b[0;32mfinally\u001b[0m\u001b[0;34m:\u001b[0m\u001b[0;34m\u001b[0m\u001b[0;34m\u001b[0m\u001b[0m\n\u001b[1;32m   2668\u001b[0m                 \u001b[0;32mfor\u001b[0m \u001b[0mf\u001b[0m \u001b[0;32min\u001b[0m \u001b[0mfutures\u001b[0m\u001b[0;34m.\u001b[0m\u001b[0mvalues\u001b[0m\u001b[0;34m(\u001b[0m\u001b[0;34m)\u001b[0m\u001b[0;34m:\u001b[0m\u001b[0;34m\u001b[0m\u001b[0;34m\u001b[0m\u001b[0m\n",
      "\u001b[0;32m~/anaconda3/envs/raw38/lib/python3.8/site-packages/distributed/client.py\u001b[0m in \u001b[0;36mgather\u001b[0;34m(self, futures, errors, direct, asynchronous)\u001b[0m\n\u001b[1;32m   1973\u001b[0m             \u001b[0;32melse\u001b[0m\u001b[0;34m:\u001b[0m\u001b[0;34m\u001b[0m\u001b[0;34m\u001b[0m\u001b[0m\n\u001b[1;32m   1974\u001b[0m                 \u001b[0mlocal_worker\u001b[0m \u001b[0;34m=\u001b[0m \u001b[0;32mNone\u001b[0m\u001b[0;34m\u001b[0m\u001b[0;34m\u001b[0m\u001b[0m\n\u001b[0;32m-> 1975\u001b[0;31m             return self.sync(\n\u001b[0m\u001b[1;32m   1976\u001b[0m                 \u001b[0mself\u001b[0m\u001b[0;34m.\u001b[0m\u001b[0m_gather\u001b[0m\u001b[0;34m,\u001b[0m\u001b[0;34m\u001b[0m\u001b[0;34m\u001b[0m\u001b[0m\n\u001b[1;32m   1977\u001b[0m                 \u001b[0mfutures\u001b[0m\u001b[0;34m,\u001b[0m\u001b[0;34m\u001b[0m\u001b[0;34m\u001b[0m\u001b[0m\n",
      "\u001b[0;32m~/anaconda3/envs/raw38/lib/python3.8/site-packages/distributed/client.py\u001b[0m in \u001b[0;36msync\u001b[0;34m(self, func, asynchronous, callback_timeout, *args, **kwargs)\u001b[0m\n\u001b[1;32m    841\u001b[0m             \u001b[0;32mreturn\u001b[0m \u001b[0mfuture\u001b[0m\u001b[0;34m\u001b[0m\u001b[0;34m\u001b[0m\u001b[0m\n\u001b[1;32m    842\u001b[0m         \u001b[0;32melse\u001b[0m\u001b[0;34m:\u001b[0m\u001b[0;34m\u001b[0m\u001b[0;34m\u001b[0m\u001b[0m\n\u001b[0;32m--> 843\u001b[0;31m             return sync(\n\u001b[0m\u001b[1;32m    844\u001b[0m                 \u001b[0mself\u001b[0m\u001b[0;34m.\u001b[0m\u001b[0mloop\u001b[0m\u001b[0;34m,\u001b[0m \u001b[0mfunc\u001b[0m\u001b[0;34m,\u001b[0m \u001b[0;34m*\u001b[0m\u001b[0margs\u001b[0m\u001b[0;34m,\u001b[0m \u001b[0mcallback_timeout\u001b[0m\u001b[0;34m=\u001b[0m\u001b[0mcallback_timeout\u001b[0m\u001b[0;34m,\u001b[0m \u001b[0;34m**\u001b[0m\u001b[0mkwargs\u001b[0m\u001b[0;34m\u001b[0m\u001b[0;34m\u001b[0m\u001b[0m\n\u001b[1;32m    845\u001b[0m             )\n",
      "\u001b[0;32m~/anaconda3/envs/raw38/lib/python3.8/site-packages/distributed/utils.py\u001b[0m in \u001b[0;36msync\u001b[0;34m(loop, func, callback_timeout, *args, **kwargs)\u001b[0m\n\u001b[1;32m    351\u001b[0m     \u001b[0;32mif\u001b[0m \u001b[0merror\u001b[0m\u001b[0;34m[\u001b[0m\u001b[0;36m0\u001b[0m\u001b[0;34m]\u001b[0m\u001b[0;34m:\u001b[0m\u001b[0;34m\u001b[0m\u001b[0;34m\u001b[0m\u001b[0m\n\u001b[1;32m    352\u001b[0m         \u001b[0mtyp\u001b[0m\u001b[0;34m,\u001b[0m \u001b[0mexc\u001b[0m\u001b[0;34m,\u001b[0m \u001b[0mtb\u001b[0m \u001b[0;34m=\u001b[0m \u001b[0merror\u001b[0m\u001b[0;34m[\u001b[0m\u001b[0;36m0\u001b[0m\u001b[0;34m]\u001b[0m\u001b[0;34m\u001b[0m\u001b[0;34m\u001b[0m\u001b[0m\n\u001b[0;32m--> 353\u001b[0;31m         \u001b[0;32mraise\u001b[0m \u001b[0mexc\u001b[0m\u001b[0;34m.\u001b[0m\u001b[0mwith_traceback\u001b[0m\u001b[0;34m(\u001b[0m\u001b[0mtb\u001b[0m\u001b[0;34m)\u001b[0m\u001b[0;34m\u001b[0m\u001b[0;34m\u001b[0m\u001b[0m\n\u001b[0m\u001b[1;32m    354\u001b[0m     \u001b[0;32melse\u001b[0m\u001b[0;34m:\u001b[0m\u001b[0;34m\u001b[0m\u001b[0;34m\u001b[0m\u001b[0m\n\u001b[1;32m    355\u001b[0m         \u001b[0;32mreturn\u001b[0m \u001b[0mresult\u001b[0m\u001b[0;34m[\u001b[0m\u001b[0;36m0\u001b[0m\u001b[0;34m]\u001b[0m\u001b[0;34m\u001b[0m\u001b[0;34m\u001b[0m\u001b[0m\n",
      "\u001b[0;32m~/anaconda3/envs/raw38/lib/python3.8/site-packages/distributed/utils.py\u001b[0m in \u001b[0;36mf\u001b[0;34m()\u001b[0m\n\u001b[1;32m    334\u001b[0m             \u001b[0;32mif\u001b[0m \u001b[0mcallback_timeout\u001b[0m \u001b[0;32mis\u001b[0m \u001b[0;32mnot\u001b[0m \u001b[0;32mNone\u001b[0m\u001b[0;34m:\u001b[0m\u001b[0;34m\u001b[0m\u001b[0;34m\u001b[0m\u001b[0m\n\u001b[1;32m    335\u001b[0m                 \u001b[0mfuture\u001b[0m \u001b[0;34m=\u001b[0m \u001b[0masyncio\u001b[0m\u001b[0;34m.\u001b[0m\u001b[0mwait_for\u001b[0m\u001b[0;34m(\u001b[0m\u001b[0mfuture\u001b[0m\u001b[0;34m,\u001b[0m \u001b[0mcallback_timeout\u001b[0m\u001b[0;34m)\u001b[0m\u001b[0;34m\u001b[0m\u001b[0;34m\u001b[0m\u001b[0m\n\u001b[0;32m--> 336\u001b[0;31m             \u001b[0mresult\u001b[0m\u001b[0;34m[\u001b[0m\u001b[0;36m0\u001b[0m\u001b[0;34m]\u001b[0m \u001b[0;34m=\u001b[0m \u001b[0;32myield\u001b[0m \u001b[0mfuture\u001b[0m\u001b[0;34m\u001b[0m\u001b[0;34m\u001b[0m\u001b[0m\n\u001b[0m\u001b[1;32m    337\u001b[0m         \u001b[0;32mexcept\u001b[0m \u001b[0mException\u001b[0m \u001b[0;32mas\u001b[0m \u001b[0mexc\u001b[0m\u001b[0;34m:\u001b[0m\u001b[0;34m\u001b[0m\u001b[0;34m\u001b[0m\u001b[0m\n\u001b[1;32m    338\u001b[0m             \u001b[0merror\u001b[0m\u001b[0;34m[\u001b[0m\u001b[0;36m0\u001b[0m\u001b[0;34m]\u001b[0m \u001b[0;34m=\u001b[0m \u001b[0msys\u001b[0m\u001b[0;34m.\u001b[0m\u001b[0mexc_info\u001b[0m\u001b[0;34m(\u001b[0m\u001b[0;34m)\u001b[0m\u001b[0;34m\u001b[0m\u001b[0;34m\u001b[0m\u001b[0m\n",
      "\u001b[0;32m~/anaconda3/envs/raw38/lib/python3.8/site-packages/tornado/gen.py\u001b[0m in \u001b[0;36mrun\u001b[0;34m(self)\u001b[0m\n\u001b[1;32m    760\u001b[0m \u001b[0;34m\u001b[0m\u001b[0m\n\u001b[1;32m    761\u001b[0m                     \u001b[0;32mtry\u001b[0m\u001b[0;34m:\u001b[0m\u001b[0;34m\u001b[0m\u001b[0;34m\u001b[0m\u001b[0m\n\u001b[0;32m--> 762\u001b[0;31m                         \u001b[0mvalue\u001b[0m \u001b[0;34m=\u001b[0m \u001b[0mfuture\u001b[0m\u001b[0;34m.\u001b[0m\u001b[0mresult\u001b[0m\u001b[0;34m(\u001b[0m\u001b[0;34m)\u001b[0m\u001b[0;34m\u001b[0m\u001b[0;34m\u001b[0m\u001b[0m\n\u001b[0m\u001b[1;32m    763\u001b[0m                     \u001b[0;32mexcept\u001b[0m \u001b[0mException\u001b[0m\u001b[0;34m:\u001b[0m\u001b[0;34m\u001b[0m\u001b[0;34m\u001b[0m\u001b[0m\n\u001b[1;32m    764\u001b[0m                         \u001b[0mexc_info\u001b[0m \u001b[0;34m=\u001b[0m \u001b[0msys\u001b[0m\u001b[0;34m.\u001b[0m\u001b[0mexc_info\u001b[0m\u001b[0;34m(\u001b[0m\u001b[0;34m)\u001b[0m\u001b[0;34m\u001b[0m\u001b[0;34m\u001b[0m\u001b[0m\n",
      "\u001b[0;32m~/anaconda3/envs/raw38/lib/python3.8/site-packages/distributed/client.py\u001b[0m in \u001b[0;36m_gather\u001b[0;34m(self, futures, errors, direct, local_worker)\u001b[0m\n\u001b[1;32m   1838\u001b[0m                             \u001b[0mexc\u001b[0m \u001b[0;34m=\u001b[0m \u001b[0mCancelledError\u001b[0m\u001b[0;34m(\u001b[0m\u001b[0mkey\u001b[0m\u001b[0;34m)\u001b[0m\u001b[0;34m\u001b[0m\u001b[0;34m\u001b[0m\u001b[0m\n\u001b[1;32m   1839\u001b[0m                         \u001b[0;32melse\u001b[0m\u001b[0;34m:\u001b[0m\u001b[0;34m\u001b[0m\u001b[0;34m\u001b[0m\u001b[0m\n\u001b[0;32m-> 1840\u001b[0;31m                             \u001b[0;32mraise\u001b[0m \u001b[0mexception\u001b[0m\u001b[0;34m.\u001b[0m\u001b[0mwith_traceback\u001b[0m\u001b[0;34m(\u001b[0m\u001b[0mtraceback\u001b[0m\u001b[0;34m)\u001b[0m\u001b[0;34m\u001b[0m\u001b[0;34m\u001b[0m\u001b[0m\n\u001b[0m\u001b[1;32m   1841\u001b[0m                         \u001b[0;32mraise\u001b[0m \u001b[0mexc\u001b[0m\u001b[0;34m\u001b[0m\u001b[0;34m\u001b[0m\u001b[0m\n\u001b[1;32m   1842\u001b[0m                     \u001b[0;32mif\u001b[0m \u001b[0merrors\u001b[0m \u001b[0;34m==\u001b[0m \u001b[0;34m\"skip\"\u001b[0m\u001b[0;34m:\u001b[0m\u001b[0;34m\u001b[0m\u001b[0;34m\u001b[0m\u001b[0m\n",
      "\u001b[0;32m~/anaconda3/envs/raw38/lib/python3.8/site-packages/dask/optimization.py\u001b[0m in \u001b[0;36m__call__\u001b[0;34m()\u001b[0m\n\u001b[1;32m    961\u001b[0m         \u001b[0;32mif\u001b[0m \u001b[0;32mnot\u001b[0m \u001b[0mlen\u001b[0m\u001b[0;34m(\u001b[0m\u001b[0margs\u001b[0m\u001b[0;34m)\u001b[0m \u001b[0;34m==\u001b[0m \u001b[0mlen\u001b[0m\u001b[0;34m(\u001b[0m\u001b[0mself\u001b[0m\u001b[0;34m.\u001b[0m\u001b[0minkeys\u001b[0m\u001b[0;34m)\u001b[0m\u001b[0;34m:\u001b[0m\u001b[0;34m\u001b[0m\u001b[0;34m\u001b[0m\u001b[0m\n\u001b[1;32m    962\u001b[0m             \u001b[0;32mraise\u001b[0m \u001b[0mValueError\u001b[0m\u001b[0;34m(\u001b[0m\u001b[0;34m\"Expected %d args, got %d\"\u001b[0m \u001b[0;34m%\u001b[0m \u001b[0;34m(\u001b[0m\u001b[0mlen\u001b[0m\u001b[0;34m(\u001b[0m\u001b[0mself\u001b[0m\u001b[0;34m.\u001b[0m\u001b[0minkeys\u001b[0m\u001b[0;34m)\u001b[0m\u001b[0;34m,\u001b[0m \u001b[0mlen\u001b[0m\u001b[0;34m(\u001b[0m\u001b[0margs\u001b[0m\u001b[0;34m)\u001b[0m\u001b[0;34m)\u001b[0m\u001b[0;34m)\u001b[0m\u001b[0;34m\u001b[0m\u001b[0;34m\u001b[0m\u001b[0m\n\u001b[0;32m--> 963\u001b[0;31m         \u001b[0;32mreturn\u001b[0m \u001b[0mcore\u001b[0m\u001b[0;34m.\u001b[0m\u001b[0mget\u001b[0m\u001b[0;34m(\u001b[0m\u001b[0mself\u001b[0m\u001b[0;34m.\u001b[0m\u001b[0mdsk\u001b[0m\u001b[0;34m,\u001b[0m \u001b[0mself\u001b[0m\u001b[0;34m.\u001b[0m\u001b[0moutkey\u001b[0m\u001b[0;34m,\u001b[0m \u001b[0mdict\u001b[0m\u001b[0;34m(\u001b[0m\u001b[0mzip\u001b[0m\u001b[0;34m(\u001b[0m\u001b[0mself\u001b[0m\u001b[0;34m.\u001b[0m\u001b[0minkeys\u001b[0m\u001b[0;34m,\u001b[0m \u001b[0margs\u001b[0m\u001b[0;34m)\u001b[0m\u001b[0;34m)\u001b[0m\u001b[0;34m)\u001b[0m\u001b[0;34m\u001b[0m\u001b[0;34m\u001b[0m\u001b[0m\n\u001b[0m\u001b[1;32m    964\u001b[0m \u001b[0;34m\u001b[0m\u001b[0m\n\u001b[1;32m    965\u001b[0m     \u001b[0;32mdef\u001b[0m \u001b[0m__reduce__\u001b[0m\u001b[0;34m(\u001b[0m\u001b[0mself\u001b[0m\u001b[0;34m)\u001b[0m\u001b[0;34m:\u001b[0m\u001b[0;34m\u001b[0m\u001b[0;34m\u001b[0m\u001b[0m\n",
      "\u001b[0;32m~/anaconda3/envs/raw38/lib/python3.8/site-packages/dask/core.py\u001b[0m in \u001b[0;36mget\u001b[0;34m()\u001b[0m\n\u001b[1;32m    149\u001b[0m     \u001b[0;32mfor\u001b[0m \u001b[0mkey\u001b[0m \u001b[0;32min\u001b[0m \u001b[0mtoposort\u001b[0m\u001b[0;34m(\u001b[0m\u001b[0mdsk\u001b[0m\u001b[0;34m)\u001b[0m\u001b[0;34m:\u001b[0m\u001b[0;34m\u001b[0m\u001b[0;34m\u001b[0m\u001b[0m\n\u001b[1;32m    150\u001b[0m         \u001b[0mtask\u001b[0m \u001b[0;34m=\u001b[0m \u001b[0mdsk\u001b[0m\u001b[0;34m[\u001b[0m\u001b[0mkey\u001b[0m\u001b[0;34m]\u001b[0m\u001b[0;34m\u001b[0m\u001b[0;34m\u001b[0m\u001b[0m\n\u001b[0;32m--> 151\u001b[0;31m         \u001b[0mresult\u001b[0m \u001b[0;34m=\u001b[0m \u001b[0m_execute_task\u001b[0m\u001b[0;34m(\u001b[0m\u001b[0mtask\u001b[0m\u001b[0;34m,\u001b[0m \u001b[0mcache\u001b[0m\u001b[0;34m)\u001b[0m\u001b[0;34m\u001b[0m\u001b[0;34m\u001b[0m\u001b[0m\n\u001b[0m\u001b[1;32m    152\u001b[0m         \u001b[0mcache\u001b[0m\u001b[0;34m[\u001b[0m\u001b[0mkey\u001b[0m\u001b[0;34m]\u001b[0m \u001b[0;34m=\u001b[0m \u001b[0mresult\u001b[0m\u001b[0;34m\u001b[0m\u001b[0;34m\u001b[0m\u001b[0m\n\u001b[1;32m    153\u001b[0m     \u001b[0mresult\u001b[0m \u001b[0;34m=\u001b[0m \u001b[0m_execute_task\u001b[0m\u001b[0;34m(\u001b[0m\u001b[0mout\u001b[0m\u001b[0;34m,\u001b[0m \u001b[0mcache\u001b[0m\u001b[0;34m)\u001b[0m\u001b[0;34m\u001b[0m\u001b[0;34m\u001b[0m\u001b[0m\n",
      "\u001b[0;32m~/anaconda3/envs/raw38/lib/python3.8/site-packages/dask/core.py\u001b[0m in \u001b[0;36m_execute_task\u001b[0;34m()\u001b[0m\n\u001b[1;32m    119\u001b[0m         \u001b[0;31m# temporaries by their reference count and can execute certain\u001b[0m\u001b[0;34m\u001b[0m\u001b[0;34m\u001b[0m\u001b[0;34m\u001b[0m\u001b[0m\n\u001b[1;32m    120\u001b[0m         \u001b[0;31m# operations in-place.\u001b[0m\u001b[0;34m\u001b[0m\u001b[0;34m\u001b[0m\u001b[0;34m\u001b[0m\u001b[0m\n\u001b[0;32m--> 121\u001b[0;31m         \u001b[0;32mreturn\u001b[0m \u001b[0mfunc\u001b[0m\u001b[0;34m(\u001b[0m\u001b[0;34m*\u001b[0m\u001b[0;34m(\u001b[0m\u001b[0m_execute_task\u001b[0m\u001b[0;34m(\u001b[0m\u001b[0ma\u001b[0m\u001b[0;34m,\u001b[0m \u001b[0mcache\u001b[0m\u001b[0;34m)\u001b[0m \u001b[0;32mfor\u001b[0m \u001b[0ma\u001b[0m \u001b[0;32min\u001b[0m \u001b[0margs\u001b[0m\u001b[0;34m)\u001b[0m\u001b[0;34m)\u001b[0m\u001b[0;34m\u001b[0m\u001b[0;34m\u001b[0m\u001b[0m\n\u001b[0m\u001b[1;32m    122\u001b[0m     \u001b[0;32melif\u001b[0m \u001b[0;32mnot\u001b[0m \u001b[0mishashable\u001b[0m\u001b[0;34m(\u001b[0m\u001b[0marg\u001b[0m\u001b[0;34m)\u001b[0m\u001b[0;34m:\u001b[0m\u001b[0;34m\u001b[0m\u001b[0;34m\u001b[0m\u001b[0m\n\u001b[1;32m    123\u001b[0m         \u001b[0;32mreturn\u001b[0m \u001b[0marg\u001b[0m\u001b[0;34m\u001b[0m\u001b[0;34m\u001b[0m\u001b[0m\n",
      "\u001b[0;32m~/anaconda3/envs/raw38/lib/python3.8/site-packages/dask/utils.py\u001b[0m in \u001b[0;36mapply\u001b[0;34m()\u001b[0m\n\u001b[1;32m     32\u001b[0m \u001b[0;32mdef\u001b[0m \u001b[0mapply\u001b[0m\u001b[0;34m(\u001b[0m\u001b[0mfunc\u001b[0m\u001b[0;34m,\u001b[0m \u001b[0margs\u001b[0m\u001b[0;34m,\u001b[0m \u001b[0mkwargs\u001b[0m\u001b[0;34m=\u001b[0m\u001b[0;32mNone\u001b[0m\u001b[0;34m)\u001b[0m\u001b[0;34m:\u001b[0m\u001b[0;34m\u001b[0m\u001b[0;34m\u001b[0m\u001b[0m\n\u001b[1;32m     33\u001b[0m     \u001b[0;32mif\u001b[0m \u001b[0mkwargs\u001b[0m\u001b[0;34m:\u001b[0m\u001b[0;34m\u001b[0m\u001b[0;34m\u001b[0m\u001b[0m\n\u001b[0;32m---> 34\u001b[0;31m         \u001b[0;32mreturn\u001b[0m \u001b[0mfunc\u001b[0m\u001b[0;34m(\u001b[0m\u001b[0;34m*\u001b[0m\u001b[0margs\u001b[0m\u001b[0;34m,\u001b[0m \u001b[0;34m**\u001b[0m\u001b[0mkwargs\u001b[0m\u001b[0;34m)\u001b[0m\u001b[0;34m\u001b[0m\u001b[0;34m\u001b[0m\u001b[0m\n\u001b[0m\u001b[1;32m     35\u001b[0m     \u001b[0;32melse\u001b[0m\u001b[0;34m:\u001b[0m\u001b[0;34m\u001b[0m\u001b[0;34m\u001b[0m\u001b[0m\n\u001b[1;32m     36\u001b[0m         \u001b[0;32mreturn\u001b[0m \u001b[0mfunc\u001b[0m\u001b[0;34m(\u001b[0m\u001b[0;34m*\u001b[0m\u001b[0margs\u001b[0m\u001b[0;34m)\u001b[0m\u001b[0;34m\u001b[0m\u001b[0;34m\u001b[0m\u001b[0m\n",
      "\u001b[0;32m~/anaconda3/envs/raw38/lib/python3.8/site-packages/dask/dataframe/core.py\u001b[0m in \u001b[0;36mapply_and_enforce\u001b[0;34m()\u001b[0m\n\u001b[1;32m   5663\u001b[0m     \u001b[0mfunc\u001b[0m \u001b[0;34m=\u001b[0m \u001b[0mkwargs\u001b[0m\u001b[0;34m.\u001b[0m\u001b[0mpop\u001b[0m\u001b[0;34m(\u001b[0m\u001b[0;34m\"_func\"\u001b[0m\u001b[0;34m)\u001b[0m\u001b[0;34m\u001b[0m\u001b[0;34m\u001b[0m\u001b[0m\n\u001b[1;32m   5664\u001b[0m     \u001b[0mmeta\u001b[0m \u001b[0;34m=\u001b[0m \u001b[0mkwargs\u001b[0m\u001b[0;34m.\u001b[0m\u001b[0mpop\u001b[0m\u001b[0;34m(\u001b[0m\u001b[0;34m\"_meta\"\u001b[0m\u001b[0;34m)\u001b[0m\u001b[0;34m\u001b[0m\u001b[0;34m\u001b[0m\u001b[0m\n\u001b[0;32m-> 5665\u001b[0;31m     \u001b[0mdf\u001b[0m \u001b[0;34m=\u001b[0m \u001b[0mfunc\u001b[0m\u001b[0;34m(\u001b[0m\u001b[0;34m*\u001b[0m\u001b[0margs\u001b[0m\u001b[0;34m,\u001b[0m \u001b[0;34m**\u001b[0m\u001b[0mkwargs\u001b[0m\u001b[0;34m)\u001b[0m\u001b[0;34m\u001b[0m\u001b[0;34m\u001b[0m\u001b[0m\n\u001b[0m\u001b[1;32m   5666\u001b[0m     \u001b[0;32mif\u001b[0m \u001b[0mis_dataframe_like\u001b[0m\u001b[0;34m(\u001b[0m\u001b[0mdf\u001b[0m\u001b[0;34m)\u001b[0m \u001b[0;32mor\u001b[0m \u001b[0mis_series_like\u001b[0m\u001b[0;34m(\u001b[0m\u001b[0mdf\u001b[0m\u001b[0;34m)\u001b[0m \u001b[0;32mor\u001b[0m \u001b[0mis_index_like\u001b[0m\u001b[0;34m(\u001b[0m\u001b[0mdf\u001b[0m\u001b[0;34m)\u001b[0m\u001b[0;34m:\u001b[0m\u001b[0;34m\u001b[0m\u001b[0;34m\u001b[0m\u001b[0m\n\u001b[1;32m   5667\u001b[0m         \u001b[0;32mif\u001b[0m \u001b[0;32mnot\u001b[0m \u001b[0mlen\u001b[0m\u001b[0;34m(\u001b[0m\u001b[0mdf\u001b[0m\u001b[0;34m)\u001b[0m\u001b[0;34m:\u001b[0m\u001b[0;34m\u001b[0m\u001b[0;34m\u001b[0m\u001b[0m\n",
      "\u001b[0;32m/tmp/ipykernel_2931682/416571489.py\u001b[0m in \u001b[0;36mprocess_regions\u001b[0;34m()\u001b[0m\n\u001b[1;32m     12\u001b[0m                 \u001b[0;32melse\u001b[0m\u001b[0;34m:\u001b[0m\u001b[0;34m\u001b[0m\u001b[0;34m\u001b[0m\u001b[0m\n\u001b[1;32m     13\u001b[0m                     \u001b[0mresult\u001b[0m\u001b[0;34m[\u001b[0m\u001b[0;34m\"does_not_have_import\"\u001b[0m\u001b[0;34m]\u001b[0m\u001b[0;34m.\u001b[0m\u001b[0mupdate\u001b[0m\u001b[0;34m(\u001b[0m\u001b[0mrange\u001b[0m\u001b[0;34m(\u001b[0m\u001b[0mrow\u001b[0m\u001b[0;34m[\u001b[0m\u001b[0;34m\"floor_index\"\u001b[0m\u001b[0;34m]\u001b[0m\u001b[0;34m,\u001b[0m \u001b[0mrow\u001b[0m\u001b[0;34m[\u001b[0m\u001b[0;34m\"ceil_index\"\u001b[0m\u001b[0;34m]\u001b[0m \u001b[0;34m+\u001b[0m \u001b[0;36m1\u001b[0m\u001b[0;34m)\u001b[0m\u001b[0;34m)\u001b[0m\u001b[0;34m\u001b[0m\u001b[0;34m\u001b[0m\u001b[0m\n\u001b[0;32m---> 14\u001b[0;31m             \u001b[0;32mif\u001b[0m \u001b[0mrow\u001b[0m\u001b[0;34m[\u001b[0m\u001b[0;34m\"empty\"\u001b[0m\u001b[0;34m]\u001b[0m\u001b[0;34m:\u001b[0m\u001b[0;34m\u001b[0m\u001b[0;34m\u001b[0m\u001b[0m\n\u001b[0m\u001b[1;32m     15\u001b[0m                 \u001b[0mresult\u001b[0m\u001b[0;34m[\u001b[0m\u001b[0;34m\"exe_empty\"\u001b[0m\u001b[0;34m]\u001b[0m\u001b[0;34m.\u001b[0m\u001b[0mupdate\u001b[0m\u001b[0;34m(\u001b[0m\u001b[0mrange\u001b[0m\u001b[0;34m(\u001b[0m\u001b[0mrow\u001b[0m\u001b[0;34m[\u001b[0m\u001b[0;34m\"floor_index\"\u001b[0m\u001b[0;34m]\u001b[0m\u001b[0;34m,\u001b[0m \u001b[0mrow\u001b[0m\u001b[0;34m[\u001b[0m\u001b[0;34m\"ceil_index\"\u001b[0m\u001b[0;34m]\u001b[0m \u001b[0;34m+\u001b[0m \u001b[0;36m1\u001b[0m\u001b[0;34m)\u001b[0m\u001b[0;34m)\u001b[0m\u001b[0;34m\u001b[0m\u001b[0;34m\u001b[0m\u001b[0m\n\u001b[1;32m     16\u001b[0m             \u001b[0;32mif\u001b[0m \u001b[0mrow\u001b[0m\u001b[0;34m[\u001b[0m\u001b[0;34m\"execution_count\"\u001b[0m\u001b[0;34m]\u001b[0m \u001b[0;34m==\u001b[0m \u001b[0;34m\"*\"\u001b[0m\u001b[0;34m:\u001b[0m\u001b[0;34m\u001b[0m\u001b[0;34m\u001b[0m\u001b[0m\n",
      "\u001b[0;32m~/anaconda3/envs/raw38/lib/python3.8/site-packages/pandas/core/series.py\u001b[0m in \u001b[0;36m__getitem__\u001b[0;34m()\u001b[0m\n\u001b[1;32m    851\u001b[0m \u001b[0;34m\u001b[0m\u001b[0m\n\u001b[1;32m    852\u001b[0m         \u001b[0;32melif\u001b[0m \u001b[0mkey_is_scalar\u001b[0m\u001b[0;34m:\u001b[0m\u001b[0;34m\u001b[0m\u001b[0;34m\u001b[0m\u001b[0m\n\u001b[0;32m--> 853\u001b[0;31m             \u001b[0;32mreturn\u001b[0m \u001b[0mself\u001b[0m\u001b[0;34m.\u001b[0m\u001b[0m_get_value\u001b[0m\u001b[0;34m(\u001b[0m\u001b[0mkey\u001b[0m\u001b[0;34m)\u001b[0m\u001b[0;34m\u001b[0m\u001b[0;34m\u001b[0m\u001b[0m\n\u001b[0m\u001b[1;32m    854\u001b[0m \u001b[0;34m\u001b[0m\u001b[0m\n\u001b[1;32m    855\u001b[0m         \u001b[0;32mif\u001b[0m \u001b[0mis_hashable\u001b[0m\u001b[0;34m(\u001b[0m\u001b[0mkey\u001b[0m\u001b[0;34m)\u001b[0m\u001b[0;34m:\u001b[0m\u001b[0;34m\u001b[0m\u001b[0;34m\u001b[0m\u001b[0m\n",
      "\u001b[0;32m~/anaconda3/envs/raw38/lib/python3.8/site-packages/pandas/core/series.py\u001b[0m in \u001b[0;36m_get_value\u001b[0;34m()\u001b[0m\n\u001b[1;32m    959\u001b[0m \u001b[0;34m\u001b[0m\u001b[0m\n\u001b[1;32m    960\u001b[0m         \u001b[0;31m# Similar to Index.get_value, but we do not fall back to positional\u001b[0m\u001b[0;34m\u001b[0m\u001b[0;34m\u001b[0m\u001b[0;34m\u001b[0m\u001b[0m\n\u001b[0;32m--> 961\u001b[0;31m         \u001b[0mloc\u001b[0m \u001b[0;34m=\u001b[0m \u001b[0mself\u001b[0m\u001b[0;34m.\u001b[0m\u001b[0mindex\u001b[0m\u001b[0;34m.\u001b[0m\u001b[0mget_loc\u001b[0m\u001b[0;34m(\u001b[0m\u001b[0mlabel\u001b[0m\u001b[0;34m)\u001b[0m\u001b[0;34m\u001b[0m\u001b[0;34m\u001b[0m\u001b[0m\n\u001b[0m\u001b[1;32m    962\u001b[0m         \u001b[0;32mreturn\u001b[0m \u001b[0mself\u001b[0m\u001b[0;34m.\u001b[0m\u001b[0mindex\u001b[0m\u001b[0;34m.\u001b[0m\u001b[0m_get_values_for_loc\u001b[0m\u001b[0;34m(\u001b[0m\u001b[0mself\u001b[0m\u001b[0;34m,\u001b[0m \u001b[0mloc\u001b[0m\u001b[0;34m,\u001b[0m \u001b[0mlabel\u001b[0m\u001b[0;34m)\u001b[0m\u001b[0;34m\u001b[0m\u001b[0;34m\u001b[0m\u001b[0m\n\u001b[1;32m    963\u001b[0m \u001b[0;34m\u001b[0m\u001b[0m\n",
      "\u001b[0;32m~/anaconda3/envs/raw38/lib/python3.8/site-packages/pandas/core/indexes/base.py\u001b[0m in \u001b[0;36mget_loc\u001b[0;34m()\u001b[0m\n\u001b[1;32m   3080\u001b[0m                 \u001b[0;32mreturn\u001b[0m \u001b[0mself\u001b[0m\u001b[0;34m.\u001b[0m\u001b[0m_engine\u001b[0m\u001b[0;34m.\u001b[0m\u001b[0mget_loc\u001b[0m\u001b[0;34m(\u001b[0m\u001b[0mcasted_key\u001b[0m\u001b[0;34m)\u001b[0m\u001b[0;34m\u001b[0m\u001b[0;34m\u001b[0m\u001b[0m\n\u001b[1;32m   3081\u001b[0m             \u001b[0;32mexcept\u001b[0m \u001b[0mKeyError\u001b[0m \u001b[0;32mas\u001b[0m \u001b[0merr\u001b[0m\u001b[0;34m:\u001b[0m\u001b[0;34m\u001b[0m\u001b[0;34m\u001b[0m\u001b[0m\n\u001b[0;32m-> 3082\u001b[0;31m                 \u001b[0;32mraise\u001b[0m \u001b[0mKeyError\u001b[0m\u001b[0;34m(\u001b[0m\u001b[0mkey\u001b[0m\u001b[0;34m)\u001b[0m \u001b[0;32mfrom\u001b[0m \u001b[0merr\u001b[0m\u001b[0;34m\u001b[0m\u001b[0;34m\u001b[0m\u001b[0m\n\u001b[0m\u001b[1;32m   3083\u001b[0m \u001b[0;34m\u001b[0m\u001b[0m\n\u001b[1;32m   3084\u001b[0m         \u001b[0;32mif\u001b[0m \u001b[0mtolerance\u001b[0m \u001b[0;32mis\u001b[0m \u001b[0;32mnot\u001b[0m \u001b[0;32mNone\u001b[0m\u001b[0;34m:\u001b[0m\u001b[0;34m\u001b[0m\u001b[0;34m\u001b[0m\u001b[0m\n",
      "\u001b[0;31mKeyError\u001b[0m: 'empty'"
     ]
    }
   ],
   "source": [
    "bins = 1000\n",
    "\n",
    "\n",
    "def process_regions(df):\n",
    "    df[\"floor_index\"] = np.floor(df[\"index\"] / df[\"notebook_cells\"] * bins).astype(int)\n",
    "    df[\"ceil_index\"] = np.ceil((df[\"index\"] + 1) / df[\"notebook_cells\"] * bins).astype(\n",
    "        int\n",
    "    )\n",
    "    result = defaultdict(Counter)\n",
    "    for i, row in df.iterrows():\n",
    "        result[row[\"cell_type\"]].update(\n",
    "            range(row[\"floor_index\"], row[\"ceil_index\"] + 1)\n",
    "        )\n",
    "        if row[\"max_execution_count\"] > -0 and row[\"cell_type\"] == \"code\":\n",
    "            if row[\"language\"] == \"python\" and row[\"processed\"] & 1 == 0:\n",
    "                if row[\"has_import\"]:\n",
    "                    result[\"has_import\"].update(\n",
    "                        range(row[\"floor_index\"], row[\"ceil_index\"] + 1)\n",
    "                    )\n",
    "                else:\n",
    "                    result[\"does_not_have_import\"].update(\n",
    "                        range(row[\"floor_index\"], row[\"ceil_index\"] + 1)\n",
    "                    )\n",
    "            if row[\"empty\"]:\n",
    "                result[\"exe_empty\"].update(\n",
    "                    range(row[\"floor_index\"], row[\"ceil_index\"] + 1)\n",
    "                )\n",
    "            if row[\"execution_count\"] == \"*\":\n",
    "                result[\"exe_middle\"].update(\n",
    "                    range(row[\"floor_index\"], row[\"ceil_index\"] + 1)\n",
    "                )\n",
    "            elif row[\"execution_count\"] == \"&nbsp;\":\n",
    "                result[\"exe_blank\"].update(\n",
    "                    range(row[\"floor_index\"], row[\"ceil_index\"] + 1)\n",
    "                )\n",
    "            elif isinstance(row[\"execution_count\"], float):\n",
    "                result[\"exe_blank\"].update(\n",
    "                    range(row[\"floor_index\"], row[\"ceil_index\"] + 1)\n",
    "                )\n",
    "            else:\n",
    "                try:\n",
    "                    prop = int(row[\"execution_count\"]) / row[\"max_execution_count\"]\n",
    "                    result[\"exe_executed\"].update(\n",
    "                        range(row[\"floor_index\"], row[\"ceil_index\"] + 1)\n",
    "                    )\n",
    "                except Exception as e:\n",
    "                    print(e)\n",
    "\n",
    "    return result\n",
    "\n",
    "\n",
    "@calculate_auto(CONFIG, save_to=\"regions\", result=None)\n",
    "def fn(cells, prefix):\n",
    "    regions = cells.map_partitions(process_regions).compute()\n",
    "    return regions"
   ]
  },
  {
   "cell_type": "code",
   "execution_count": 38,
   "metadata": {},
   "outputs": [
    {
     "ename": "KeyError",
     "evalue": "'f_regions'",
     "output_type": "error",
     "traceback": [
      "\u001b[0;31m---------------------------------------------------------------------------\u001b[0m",
      "\u001b[0;31mKeyError\u001b[0m                                  Traceback (most recent call last)",
      "\u001b[0;32m/tmp/ipykernel_2931682/4069964116.py\u001b[0m in \u001b[0;36m<module>\u001b[0;34m\u001b[0m\n\u001b[1;32m      1\u001b[0m \u001b[0;34m@\u001b[0m\u001b[0mcalculate_auto\u001b[0m\u001b[0;34m(\u001b[0m\u001b[0mCONFIG\u001b[0m\u001b[0;34m,\u001b[0m \u001b[0msave_to\u001b[0m\u001b[0;34m=\u001b[0m\u001b[0;34m\"keys\"\u001b[0m\u001b[0;34m,\u001b[0m \u001b[0mresult\u001b[0m\u001b[0;34m=\u001b[0m\u001b[0;32mNone\u001b[0m\u001b[0;34m,\u001b[0m \u001b[0mlevel\u001b[0m\u001b[0;34m=\u001b[0m\u001b[0;32mNone\u001b[0m\u001b[0;34m)\u001b[0m\u001b[0;34m\u001b[0m\u001b[0;34m\u001b[0m\u001b[0m\n\u001b[0;32m----> 2\u001b[0;31m \u001b[0;32mdef\u001b[0m \u001b[0mfn\u001b[0m\u001b[0;34m(\u001b[0m\u001b[0mregions\u001b[0m\u001b[0;34m,\u001b[0m \u001b[0mprefix\u001b[0m\u001b[0;34m)\u001b[0m\u001b[0;34m:\u001b[0m\u001b[0;34m\u001b[0m\u001b[0;34m\u001b[0m\u001b[0m\n\u001b[0m\u001b[1;32m      3\u001b[0m     keys = {\n\u001b[1;32m      4\u001b[0m         \u001b[0mkey\u001b[0m\u001b[0;34m\u001b[0m\u001b[0;34m\u001b[0m\u001b[0m\n\u001b[1;32m      5\u001b[0m         \u001b[0;32mfor\u001b[0m \u001b[0mregion\u001b[0m \u001b[0;32min\u001b[0m \u001b[0mregions\u001b[0m\u001b[0;34m\u001b[0m\u001b[0;34m\u001b[0m\u001b[0m\n",
      "\u001b[0;32m~/20_04_2023/computational-reproducibility-pmc/analyses/analysis_helpers.py\u001b[0m in \u001b[0;36mdec\u001b[0;34m(f)\u001b[0m\n\u001b[1;32m    347\u001b[0m              \u001b[0;32mif\u001b[0m \u001b[0mx\u001b[0m\u001b[0;34m.\u001b[0m\u001b[0mname\u001b[0m \u001b[0;34m!=\u001b[0m \u001b[0;34m'prefix'\u001b[0m\u001b[0;34m\u001b[0m\u001b[0;34m\u001b[0m\u001b[0m\n\u001b[1;32m    348\u001b[0m         ]\n\u001b[0;32m--> 349\u001b[0;31m         \u001b[0;32mreturn\u001b[0m \u001b[0mcalculate_all\u001b[0m\u001b[0;34m(\u001b[0m\u001b[0mconfig\u001b[0m\u001b[0;34m,\u001b[0m \u001b[0margs\u001b[0m\u001b[0;34m,\u001b[0m \u001b[0mf\u001b[0m\u001b[0;34m,\u001b[0m \u001b[0msave_to\u001b[0m\u001b[0;34m=\u001b[0m\u001b[0msave_to\u001b[0m\u001b[0;34m,\u001b[0m \u001b[0mresult\u001b[0m\u001b[0;34m=\u001b[0m\u001b[0mresult\u001b[0m\u001b[0;34m,\u001b[0m \u001b[0mlevel\u001b[0m\u001b[0;34m=\u001b[0m\u001b[0mlevel\u001b[0m\u001b[0;34m)\u001b[0m\u001b[0;34m\u001b[0m\u001b[0;34m\u001b[0m\u001b[0m\n\u001b[0m\u001b[1;32m    350\u001b[0m     \u001b[0;32mreturn\u001b[0m \u001b[0mdec\u001b[0m\u001b[0;34m\u001b[0m\u001b[0;34m\u001b[0m\u001b[0m\n\u001b[1;32m    351\u001b[0m \u001b[0;34m\u001b[0m\u001b[0m\n",
      "\u001b[0;32m~/20_04_2023/computational-reproducibility-pmc/analyses/analysis_helpers.py\u001b[0m in \u001b[0;36mcalculate_all\u001b[0;34m(config, args, function, result, save_to, level)\u001b[0m\n\u001b[1;32m    332\u001b[0m         \u001b[0;32mif\u001b[0m \u001b[0mlevel\u001b[0m \u001b[0;32mis\u001b[0m \u001b[0;32mnot\u001b[0m \u001b[0;32mNone\u001b[0m\u001b[0;34m:\u001b[0m\u001b[0;34m\u001b[0m\u001b[0;34m\u001b[0m\u001b[0m\n\u001b[1;32m    333\u001b[0m             \u001b[0mdisplay\u001b[0m\u001b[0;34m(\u001b[0m\u001b[0mMarkdown\u001b[0m\u001b[0;34m(\u001b[0m\u001b[0;34m\"#\"\u001b[0m \u001b[0;34m*\u001b[0m \u001b[0mlevel\u001b[0m \u001b[0;34m+\u001b[0m \u001b[0;34m\" \"\u001b[0m \u001b[0;34m+\u001b[0m \u001b[0mname\u001b[0m\u001b[0;34m)\u001b[0m\u001b[0;34m)\u001b[0m\u001b[0;34m\u001b[0m\u001b[0;34m\u001b[0m\u001b[0m\n\u001b[0;32m--> 334\u001b[0;31m         \u001b[0mvalue\u001b[0m \u001b[0;34m=\u001b[0m \u001b[0mfunction\u001b[0m\u001b[0;34m(\u001b[0m\u001b[0;34m*\u001b[0m\u001b[0;34m[\u001b[0m\u001b[0mip\u001b[0m\u001b[0;34m.\u001b[0m\u001b[0mns_table\u001b[0m\u001b[0;34m[\u001b[0m\u001b[0;34m\"user_global\"\u001b[0m\u001b[0;34m]\u001b[0m\u001b[0;34m[\u001b[0m\u001b[0mprefix\u001b[0m \u001b[0;34m+\u001b[0m \u001b[0marg\u001b[0m\u001b[0;34m]\u001b[0m \u001b[0;32mfor\u001b[0m \u001b[0marg\u001b[0m \u001b[0;32min\u001b[0m \u001b[0margs\u001b[0m\u001b[0;34m]\u001b[0m\u001b[0;34m,\u001b[0m \u001b[0mprefix\u001b[0m\u001b[0;34m=\u001b[0m\u001b[0mprefix\u001b[0m\u001b[0;34m)\u001b[0m\u001b[0;34m\u001b[0m\u001b[0;34m\u001b[0m\u001b[0m\n\u001b[0m\u001b[1;32m    335\u001b[0m         \u001b[0;32mif\u001b[0m \u001b[0mname\u001b[0m \u001b[0;34m==\u001b[0m \u001b[0mresult\u001b[0m\u001b[0;34m:\u001b[0m\u001b[0;34m\u001b[0m\u001b[0;34m\u001b[0m\u001b[0m\n\u001b[1;32m    336\u001b[0m             \u001b[0mret\u001b[0m \u001b[0;34m=\u001b[0m \u001b[0mvalue\u001b[0m\u001b[0;34m\u001b[0m\u001b[0;34m\u001b[0m\u001b[0m\n",
      "\u001b[0;32m~/20_04_2023/computational-reproducibility-pmc/analyses/analysis_helpers.py\u001b[0m in \u001b[0;36m<listcomp>\u001b[0;34m(.0)\u001b[0m\n\u001b[1;32m    332\u001b[0m         \u001b[0;32mif\u001b[0m \u001b[0mlevel\u001b[0m \u001b[0;32mis\u001b[0m \u001b[0;32mnot\u001b[0m \u001b[0;32mNone\u001b[0m\u001b[0;34m:\u001b[0m\u001b[0;34m\u001b[0m\u001b[0;34m\u001b[0m\u001b[0m\n\u001b[1;32m    333\u001b[0m             \u001b[0mdisplay\u001b[0m\u001b[0;34m(\u001b[0m\u001b[0mMarkdown\u001b[0m\u001b[0;34m(\u001b[0m\u001b[0;34m\"#\"\u001b[0m \u001b[0;34m*\u001b[0m \u001b[0mlevel\u001b[0m \u001b[0;34m+\u001b[0m \u001b[0;34m\" \"\u001b[0m \u001b[0;34m+\u001b[0m \u001b[0mname\u001b[0m\u001b[0;34m)\u001b[0m\u001b[0;34m)\u001b[0m\u001b[0;34m\u001b[0m\u001b[0;34m\u001b[0m\u001b[0m\n\u001b[0;32m--> 334\u001b[0;31m         \u001b[0mvalue\u001b[0m \u001b[0;34m=\u001b[0m \u001b[0mfunction\u001b[0m\u001b[0;34m(\u001b[0m\u001b[0;34m*\u001b[0m\u001b[0;34m[\u001b[0m\u001b[0mip\u001b[0m\u001b[0;34m.\u001b[0m\u001b[0mns_table\u001b[0m\u001b[0;34m[\u001b[0m\u001b[0;34m\"user_global\"\u001b[0m\u001b[0;34m]\u001b[0m\u001b[0;34m[\u001b[0m\u001b[0mprefix\u001b[0m \u001b[0;34m+\u001b[0m \u001b[0marg\u001b[0m\u001b[0;34m]\u001b[0m \u001b[0;32mfor\u001b[0m \u001b[0marg\u001b[0m \u001b[0;32min\u001b[0m \u001b[0margs\u001b[0m\u001b[0;34m]\u001b[0m\u001b[0;34m,\u001b[0m \u001b[0mprefix\u001b[0m\u001b[0;34m=\u001b[0m\u001b[0mprefix\u001b[0m\u001b[0;34m)\u001b[0m\u001b[0;34m\u001b[0m\u001b[0;34m\u001b[0m\u001b[0m\n\u001b[0m\u001b[1;32m    335\u001b[0m         \u001b[0;32mif\u001b[0m \u001b[0mname\u001b[0m \u001b[0;34m==\u001b[0m \u001b[0mresult\u001b[0m\u001b[0;34m:\u001b[0m\u001b[0;34m\u001b[0m\u001b[0;34m\u001b[0m\u001b[0m\n\u001b[1;32m    336\u001b[0m             \u001b[0mret\u001b[0m \u001b[0;34m=\u001b[0m \u001b[0mvalue\u001b[0m\u001b[0;34m\u001b[0m\u001b[0;34m\u001b[0m\u001b[0m\n",
      "\u001b[0;31mKeyError\u001b[0m: 'f_regions'"
     ]
    }
   ],
   "source": [
    "@calculate_auto(CONFIG, save_to=\"keys\", result=None, level=None)\n",
    "def fn(regions, prefix):\n",
    "    keys = {key for region in regions for key in region}\n",
    "    return keys"
   ]
  },
  {
   "cell_type": "code",
   "execution_count": null,
   "metadata": {},
   "outputs": [],
   "source": [
    "@calculate_auto(CONFIG, save_to=\"cell_type_bins\", result=None, level=None)\n",
    "def fn(keys, regions, prefix):\n",
    "    cell_type_bins = {\n",
    "        key: sum((region[key] for region in regions), Counter()) for key in keys\n",
    "    }\n",
    "    return cell_type_bins"
   ]
  },
  {
   "cell_type": "code",
   "execution_count": null,
   "metadata": {},
   "outputs": [],
   "source": [
    "@calculate_auto(CONFIG, save_to=\"cell_type_bins_arrays\", result=None)\n",
    "def fn(cell_type_bins, prefix):\n",
    "    cell_type_bins_arrays = {\n",
    "        key: np.array([counter[i] for i in range(bins + 1)])\n",
    "        for key, counter in cell_type_bins.items()\n",
    "    }\n",
    "    pprint(cell_type_bins_arrays)\n",
    "    return cell_type_bins_arrays"
   ]
  },
  {
   "cell_type": "markdown",
   "metadata": {},
   "source": [
    "### Markdown x Code"
   ]
  },
  {
   "cell_type": "code",
   "execution_count": null,
   "metadata": {},
   "outputs": [],
   "source": [
    "select = [\"code\", \"markdown\"]  # , \"raw\", \"heading\"]\n",
    "\n",
    "\n",
    "@calculate_auto(CONFIG)\n",
    "@close_fig\n",
    "def fn(cell_type_bins_arrays, prefix):\n",
    "    with cell_distribution(\n",
    "        prefix + \"celltype_distribution\", 6, 2, select, bins, cell_type_bins_arrays\n",
    "    ) as ax:\n",
    "        ax.annotate(\"markdown\", xy=(30, 80), color=\"white\", weight=\"bold\")\n",
    "        ax.annotate(\"code\", xy=(850, 20), color=\"white\", weight=\"bold\")"
   ]
  },
  {
   "cell_type": "markdown",
   "metadata": {},
   "source": [
    "### Import distribution"
   ]
  },
  {
   "cell_type": "code",
   "execution_count": null,
   "metadata": {},
   "outputs": [],
   "source": [
    "select = [\"has_import\", \"does_not_have_import\"]\n",
    "\n",
    "\n",
    "@calculate_auto(CONFIG)\n",
    "@close_fig\n",
    "def fn(cell_type_bins_arrays, prefix):\n",
    "    with cell_distribution(\n",
    "        prefix + \"import_distribution\", 6, 2, select, bins, cell_type_bins_arrays\n",
    "    ) as ax:\n",
    "        ax.annotate(\"no-import\", xy=(730, 80), color=\"white\", weight=\"bold\")\n",
    "        ax.annotate(\"import\", xy=(30, 5), color=\"white\", weight=\"bold\")"
   ]
  },
  {
   "cell_type": "markdown",
   "metadata": {},
   "source": [
    "### Execution distribution"
   ]
  },
  {
   "cell_type": "code",
   "execution_count": null,
   "metadata": {},
   "outputs": [],
   "source": [
    "select = [\"exe_executed\", \"exe_blank\", \"exe_empty\"]\n",
    "\n",
    "\n",
    "@calculate_auto(CONFIG)\n",
    "@close_fig\n",
    "def fn(cell_type_bins_arrays, prefix):\n",
    "    with cell_distribution(\n",
    "        prefix + \"execution_distribution\", 6, 2, select, bins, cell_type_bins_arrays\n",
    "    ) as ax:\n",
    "        ax.annotate(\"executed\", xy=(30, 20), color=\"white\", weight=\"bold\")\n",
    "        ax.annotate(\"no-exec\", xy=(800, 80), rotation=-30, color=\"white\", weight=\"bold\")\n",
    "        ax.annotate(\"empty\", xy=(850, 90), color=\"white\", weight=\"bold\")\n",
    "        ax.set_ylim(0, 100)"
   ]
  },
  {
   "cell_type": "markdown",
   "metadata": {},
   "source": [
    "## Status"
   ]
  },
  {
   "cell_type": "code",
   "execution_count": null,
   "metadata": {},
   "outputs": [],
   "source": [
    "@calculate_auto(CONFIG, save_to=\"series\", result=None)\n",
    "def fn(cells, prefix):\n",
    "    series = cells.groupby(\"processed\").size().compute()\n",
    "    print(series)\n",
    "    return series"
   ]
  },
  {
   "cell_type": "code",
   "execution_count": null,
   "metadata": {},
   "outputs": [],
   "source": [
    "@calculate_auto(CONFIG)\n",
    "@close_fig\n",
    "def fn(series, prefix):\n",
    "    series.plot(kind=\"bar\")"
   ]
  },
  {
   "cell_type": "code",
   "execution_count": null,
   "metadata": {},
   "outputs": [],
   "source": [
    "@calculate_auto(CONFIG, save_to=\"described\", result=None)\n",
    "def fn(series, prefix):\n",
    "    described = describe_processed(series, C_STATUSES, True)\n",
    "    print(described)\n",
    "    return described"
   ]
  },
  {
   "cell_type": "code",
   "execution_count": null,
   "metadata": {},
   "outputs": [],
   "source": [
    "@calculate_auto(CONFIG)\n",
    "@close_fig\n",
    "def fn(described, prefix):\n",
    "    described.plot(kind=\"bar\")"
   ]
  },
  {
   "cell_type": "markdown",
   "metadata": {},
   "source": [
    "* Note that we only process python code cells and markdown cells. All the others are ignored"
   ]
  }
 ],
 "metadata": {
  "kernelspec": {
   "display_name": "Python 3 (ipykernel)",
   "language": "python",
   "name": "python3"
  },
  "language_info": {
   "codemirror_mode": {
    "name": "ipython",
    "version": 3
   },
   "file_extension": ".py",
   "mimetype": "text/x-python",
   "name": "python",
   "nbconvert_exporter": "python",
   "pygments_lexer": "ipython3",
   "version": "3.8.8"
  },
  "notify_time": "5",
  "toc": {
   "base_numbering": 1,
   "nav_menu": {},
   "number_sections": true,
   "sideBar": true,
   "skip_h1_title": false,
   "title_cell": "Table of Contents",
   "title_sidebar": "Contents",
   "toc_cell": true,
   "toc_position": {
    "height": "1032px",
    "left": "0px",
    "right": "1132.89px",
    "top": "111px",
    "width": "220px"
   },
   "toc_section_display": true,
   "toc_window_display": true
  }
 },
 "nbformat": 4,
 "nbformat_minor": 4
}
