{
 "cells": [
  {
   "cell_type": "markdown",
   "metadata": {
    "toc": "true"
   },
   "source": [
    "<h1>Table of Contents<span class=\"tocSkip\"></span></h1>\n",
    "<div class=\"toc\"><ul class=\"toc-item\"><li><span><a href=\"#Notebooks\" data-toc-modified-id=\"Notebooks-1\"><span class=\"toc-item-num\">1&nbsp;&nbsp;</span>Notebooks</a></span><ul class=\"toc-item\"><li><span><a href=\"#Load\" data-toc-modified-id=\"Load-1.1\"><span class=\"toc-item-num\">1.1&nbsp;&nbsp;</span>Load</a></span></li><li><span><a href=\"#Mark-false-positive-notebooks-and-notebooks-with-broken-format\" data-toc-modified-id=\"Mark-false-positive-notebooks-and-notebooks-with-broken-format-1.2\"><span class=\"toc-item-num\">1.2&nbsp;&nbsp;</span>Mark false-positive notebooks and notebooks with broken format</a></span></li><li><span><a href=\"#Mark-empty-notebooks\" data-toc-modified-id=\"Mark-empty-notebooks-1.3\"><span class=\"toc-item-num\">1.3&nbsp;&nbsp;</span>Mark empty notebooks</a></span></li><li><span><a href=\"#Mark-fork-duplicates\" data-toc-modified-id=\"Mark-fork-duplicates-1.4\"><span class=\"toc-item-num\">1.4&nbsp;&nbsp;</span>Mark fork duplicates</a></span></li><li><span><a href=\"#Mark-duplicates\" data-toc-modified-id=\"Mark-duplicates-1.5\"><span class=\"toc-item-num\">1.5&nbsp;&nbsp;</span>Mark duplicates</a></span></li><li><span><a href=\"#Mark-restricted-toy\" data-toc-modified-id=\"Mark-restricted-toy-1.6\"><span class=\"toc-item-num\">1.6&nbsp;&nbsp;</span>Mark restricted toy</a></span></li><li><span><a href=\"#Mark-toy-examples\" data-toc-modified-id=\"Mark-toy-examples-1.7\"><span class=\"toc-item-num\">1.7&nbsp;&nbsp;</span>Mark toy examples</a></span></li></ul></li></ul></div>"
   ]
  },
  {
   "cell_type": "markdown",
   "metadata": {},
   "source": [
    "# Notebooks\n",
    "\n",
    "Analyze notebooks: programming languages, python version, number of cells by notebookk, and notebook names."
   ]
  },
  {
   "cell_type": "code",
   "execution_count": 1,
   "metadata": {},
   "outputs": [],
   "source": [
    "import sys\n",
    "\n",
    "sys.path.insert(0, \"../archaeology\")\n",
    "\n",
    "import numpy as np\n",
    "import pandas as pd\n",
    "\n",
    "from db import connect, Query\n",
    "\n",
    "\n",
    "%matplotlib inline"
   ]
  },
  {
   "cell_type": "markdown",
   "metadata": {},
   "source": [
    "## Load"
   ]
  },
  {
   "cell_type": "code",
   "execution_count": 2,
   "metadata": {},
   "outputs": [
    {
     "name": "stdout",
     "output_type": "stream",
     "text": [
      "Last query: <Query(language:\"Jupyter Notebook\" created:2018-04-16T03:56:05Z..2018-04-16T22:18:58Z)>\n"
     ]
    }
   ],
   "source": [
    "with connect() as session:\n",
    "    print(\"Last query:\", session.query(Query).all()[-1])\n",
    "    notebooks = pd.read_sql_table(\"notebooks\", session.connection())"
   ]
  },
  {
   "cell_type": "code",
   "execution_count": 3,
   "metadata": {},
   "outputs": [
    {
     "data": {
      "text/plain": [
       "1450071"
      ]
     },
     "execution_count": 3,
     "metadata": {},
     "output_type": "execute_result"
    }
   ],
   "source": [
    "len(notebooks)"
   ]
  },
  {
   "cell_type": "code",
   "execution_count": 4,
   "metadata": {},
   "outputs": [],
   "source": [
    "notebooks[\"skip\"] = 0"
   ]
  },
  {
   "cell_type": "markdown",
   "metadata": {},
   "source": [
    "## Mark false-positive notebooks and notebooks with broken format"
   ]
  },
  {
   "cell_type": "code",
   "execution_count": 5,
   "metadata": {},
   "outputs": [
    {
     "data": {
      "text/plain": [
       "14698"
      ]
     },
     "execution_count": 5,
     "metadata": {},
     "output_type": "execute_result"
    }
   ],
   "source": [
    "mask = ~(\n",
    "    ~((notebooks[\"kernel\"] == \"no-kernel\") & (notebooks[\"nbformat\"] == \"0\"))\n",
    "    & (notebooks[\"total_cells\"] != 0)\n",
    ")\n",
    "SKIP = 1024\n",
    "notebooks.loc[mask, \"skip\"] = notebooks[mask][\"skip\"] | SKIP\n",
    "len(notebooks[np.bitwise_and(notebooks[\"skip\"], SKIP) == SKIP])"
   ]
  },
  {
   "cell_type": "markdown",
   "metadata": {},
   "source": [
    "## Mark empty notebooks"
   ]
  },
  {
   "cell_type": "code",
   "execution_count": 6,
   "metadata": {},
   "outputs": [
    {
     "data": {
      "text/plain": [
       "26395"
      ]
     },
     "execution_count": 6,
     "metadata": {},
     "output_type": "execute_result"
    }
   ],
   "source": [
    "mask = notebooks[\"total_cells\"] == notebooks[\"empty_cells\"]\n",
    "SKIP = 512\n",
    "notebooks.loc[mask, \"skip\"] = notebooks[mask][\"skip\"] | SKIP\n",
    "len(notebooks[np.bitwise_and(notebooks[\"skip\"], SKIP) == SKIP])"
   ]
  },
  {
   "cell_type": "markdown",
   "metadata": {},
   "source": [
    "## Mark fork duplicates"
   ]
  },
  {
   "cell_type": "code",
   "execution_count": 7,
   "metadata": {},
   "outputs": [
    {
     "data": {
      "text/plain": [
       "137181"
      ]
     },
     "execution_count": 7,
     "metadata": {},
     "output_type": "execute_result"
    }
   ],
   "source": [
    "mask = notebooks.duplicated(subset=[\"name\", \"sha1_source\"])\n",
    "SKIP = 256\n",
    "notebooks.loc[mask, \"skip\"] = notebooks[mask][\"skip\"] | SKIP\n",
    "len(notebooks[np.bitwise_and(notebooks[\"skip\"], SKIP) == SKIP])"
   ]
  },
  {
   "cell_type": "markdown",
   "metadata": {},
   "source": [
    "## Mark duplicates"
   ]
  },
  {
   "cell_type": "code",
   "execution_count": 8,
   "metadata": {},
   "outputs": [
    {
     "data": {
      "text/plain": [
       "290312"
      ]
     },
     "execution_count": 8,
     "metadata": {},
     "output_type": "execute_result"
    }
   ],
   "source": [
    "mask = notebooks.duplicated(subset=[\"sha1_source\"])\n",
    "SKIP = 128\n",
    "notebooks.loc[mask, \"skip\"] = notebooks[mask][\"skip\"] | SKIP\n",
    "len(notebooks[np.bitwise_and(notebooks[\"skip\"], SKIP) == SKIP])"
   ]
  },
  {
   "cell_type": "markdown",
   "metadata": {},
   "source": [
    "## Mark restricted toy"
   ]
  },
  {
   "cell_type": "code",
   "execution_count": 9,
   "metadata": {},
   "outputs": [
    {
     "data": {
      "text/plain": [
       "106619"
      ]
     },
     "execution_count": 9,
     "metadata": {},
     "output_type": "execute_result"
    }
   ],
   "source": [
    "mask = (notebooks[\"homework_count\"] != 0) | (\n",
    "    (notebooks[\"course_count\"] != 0)\n",
    "    & (\n",
    "        (notebooks[\"assignment_count\"] != 0)\n",
    "        | (notebooks[\"lesson_count\"] != 0)\n",
    "        | (notebooks[\"exercise_count\"] != 0)\n",
    "    )\n",
    ")\n",
    "SKIP = 64\n",
    "notebooks.loc[mask, \"skip\"] = notebooks[mask][\"skip\"] | SKIP\n",
    "len(notebooks[np.bitwise_and(notebooks[\"skip\"], SKIP) == SKIP])"
   ]
  },
  {
   "cell_type": "markdown",
   "metadata": {},
   "source": [
    "## Mark toy examples"
   ]
  },
  {
   "cell_type": "code",
   "execution_count": 10,
   "metadata": {},
   "outputs": [
    {
     "data": {
      "text/plain": [
       "357589"
      ]
     },
     "execution_count": 10,
     "metadata": {},
     "output_type": "execute_result"
    }
   ],
   "source": [
    "mask = (\n",
    "    (notebooks[\"homework_count\"] != 0)\n",
    "    | (notebooks[\"course_count\"] != 0)\n",
    "    | (notebooks[\"lesson_count\"] != 0)\n",
    "    | (notebooks[\"assignment_count\"] != 0)\n",
    "    | (notebooks[\"exercise_count\"] != 0)\n",
    ")\n",
    "SKIP = 32\n",
    "notebooks.loc[mask, \"skip\"] = notebooks[mask][\"skip\"] | SKIP\n",
    "len(notebooks[np.bitwise_and(notebooks[\"skip\"], SKIP) == SKIP])"
   ]
  },
  {
   "cell_type": "code",
   "execution_count": 11,
   "metadata": {},
   "outputs": [
    {
     "name": "stdout",
     "output_type": "stream",
     "text": [
      "CPU times: user 11.7 ms, sys: 463 µs, total: 12.1 ms\n",
      "Wall time: 1min 4s\n"
     ]
    }
   ],
   "source": [
    "%%time\n",
    "with connect() as session:\n",
    "    session.execute(\n",
    "        \"\"\"\n",
    "    UPDATE notebooks\n",
    "    set skip = 0;\n",
    "    \"\"\"\n",
    "    )"
   ]
  },
  {
   "cell_type": "code",
   "execution_count": 12,
   "metadata": {},
   "outputs": [
    {
     "name": "stderr",
     "output_type": "stream",
     "text": [
      "100%|██████████| 543493/543493 [04:27<00:00, 2030.53it/s]\n"
     ]
    }
   ],
   "source": [
    "import tqdm\n",
    "\n",
    "with_skip = notebooks[notebooks[\"skip\"] != 0]\n",
    "\n",
    "with connect() as session:\n",
    "    for id_, skip in tqdm.tqdm(\n",
    "        zip(with_skip[\"id\"], with_skip[\"skip\"]), total=len(with_skip)\n",
    "    ):\n",
    "        # print(id_)\n",
    "        session.execute(\n",
    "            \"UPDATE notebooks SET skip = {} WHERE id = {};\".format(skip, id_)\n",
    "        )\n",
    "    session.commit()"
   ]
  },
  {
   "cell_type": "code",
   "execution_count": 13,
   "metadata": {},
   "outputs": [
    {
     "name": "stdout",
     "output_type": "stream",
     "text": [
      "CPU times: user 10.5 ms, sys: 1.15 ms, total: 11.6 ms\n",
      "Wall time: 36.8 s\n"
     ]
    }
   ],
   "source": [
    "%%time\n",
    "with connect() as session:\n",
    "    session.execute(\n",
    "        \"\"\"\n",
    "    UPDATE notebook_features AS u\n",
    "    SET skip = n.skip\n",
    "    FROM notebooks AS n\n",
    "    WHERE u.notebook_id = n.id\n",
    "    \"\"\"\n",
    "    )\n",
    "    session.commit()"
   ]
  },
  {
   "cell_type": "code",
   "execution_count": 14,
   "metadata": {},
   "outputs": [
    {
     "name": "stdout",
     "output_type": "stream",
     "text": [
      "CPU times: user 22 ms, sys: 1.73 ms, total: 23.7 ms\n",
      "Wall time: 1min 25s\n"
     ]
    }
   ],
   "source": [
    "%%time\n",
    "with connect() as session:\n",
    "    session.execute(\n",
    "        \"\"\"\n",
    "    UPDATE notebook_modules AS u\n",
    "    SET skip = n.skip\n",
    "    FROM notebooks AS n\n",
    "    WHERE u.notebook_id = n.id\n",
    "    \"\"\"\n",
    "    )\n",
    "    session.commit()"
   ]
  },
  {
   "cell_type": "code",
   "execution_count": 15,
   "metadata": {},
   "outputs": [
    {
     "name": "stdout",
     "output_type": "stream",
     "text": [
      "CPU times: user 19.4 ms, sys: 8.47 ms, total: 27.9 ms\n",
      "Wall time: 2min 20s\n"
     ]
    }
   ],
   "source": [
    "%%time\n",
    "with connect() as session:\n",
    "    session.execute(\n",
    "        \"\"\"\n",
    "    UPDATE notebook_asts AS u\n",
    "    SET skip = n.skip\n",
    "    FROM notebooks AS n\n",
    "    WHERE u.notebook_id = n.id\n",
    "    \"\"\"\n",
    "    )\n",
    "    session.commit()"
   ]
  },
  {
   "cell_type": "code",
   "execution_count": 16,
   "metadata": {},
   "outputs": [
    {
     "name": "stdout",
     "output_type": "stream",
     "text": [
      "CPU times: user 23.4 ms, sys: 5 ms, total: 28.4 ms\n",
      "Wall time: 3min 51s\n"
     ]
    }
   ],
   "source": [
    "%%time\n",
    "with connect() as session:\n",
    "    session.execute(\n",
    "        \"\"\"\n",
    "    UPDATE notebook_names AS u\n",
    "    SET skip = n.skip\n",
    "    FROM notebooks AS n\n",
    "    WHERE u.notebook_id = n.id\n",
    "    \"\"\"\n",
    "    )\n",
    "    session.commit()"
   ]
  },
  {
   "cell_type": "code",
   "execution_count": 17,
   "metadata": {},
   "outputs": [
    {
     "name": "stdout",
     "output_type": "stream",
     "text": [
      "CPU times: user 23.6 ms, sys: 0 ns, total: 23.6 ms\n",
      "Wall time: 1min 26s\n"
     ]
    }
   ],
   "source": [
    "%%time\n",
    "with connect() as session:\n",
    "    session.execute(\n",
    "        \"\"\"\n",
    "    UPDATE notebook_markdowns AS u\n",
    "    SET skip = n.skip\n",
    "    FROM notebooks AS n\n",
    "    WHERE u.notebook_id = n.id\n",
    "    \"\"\"\n",
    "    )\n",
    "    session.commit()"
   ]
  },
  {
   "cell_type": "code",
   "execution_count": 18,
   "metadata": {},
   "outputs": [
    {
     "name": "stdout",
     "output_type": "stream",
     "text": [
      "CPU times: user 21.3 ms, sys: 6.82 ms, total: 28.1 ms\n",
      "Wall time: 3min 29s\n"
     ]
    }
   ],
   "source": [
    "%%time\n",
    "with connect() as session:\n",
    "    session.execute(\n",
    "        \"\"\"\n",
    "    UPDATE executions AS u\n",
    "    SET skip = n.skip\n",
    "    FROM notebooks AS n\n",
    "    WHERE u.notebook_id = n.id\n",
    "    \"\"\"\n",
    "    )\n",
    "    session.commit()"
   ]
  }
 ],
 "metadata": {
  "kernelspec": {
   "display_name": "Python 3",
   "language": "python",
   "name": "python3"
  },
  "language_info": {
   "codemirror_mode": {
    "name": "ipython",
    "version": 3
   },
   "file_extension": ".py",
   "mimetype": "text/x-python",
   "name": "python",
   "nbconvert_exporter": "python",
   "pygments_lexer": "ipython3",
   "version": "3.8.5"
  },
  "notify_time": "5",
  "toc": {
   "base_numbering": 1,
   "nav_menu": {
    "height": "392px",
    "width": "252px"
   },
   "number_sections": true,
   "sideBar": true,
   "skip_h1_title": false,
   "title_cell": "Table of Contents",
   "title_sidebar": "Contents",
   "toc_cell": true,
   "toc_position": {
    "height": "calc(100% - 180px)",
    "left": "10px",
    "top": "150px",
    "width": "295px"
   },
   "toc_section_display": "block",
   "toc_window_display": true
  }
 },
 "nbformat": 4,
 "nbformat_minor": 4
}
