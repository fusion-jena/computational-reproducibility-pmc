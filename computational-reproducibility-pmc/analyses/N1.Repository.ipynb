{
 "cells": [
  {
   "cell_type": "markdown",
   "metadata": {
    "toc": "true"
   },
   "source": [
    "<h1>Table of Contents<span class=\"tocSkip\"></span></h1>\n",
    "<div class=\"toc\"><ul class=\"toc-item\"><li><span><a href=\"#Repositories\" data-toc-modified-id=\"Repositories-1\"><span class=\"toc-item-num\">1&nbsp;&nbsp;</span>Repositories</a></span></li><li><span><a href=\"#Status\" data-toc-modified-id=\"Status-2\"><span class=\"toc-item-num\">2&nbsp;&nbsp;</span>Status</a></span></li><li><span><a href=\"#Repositories\" data-toc-modified-id=\"Repositories-3\"><span class=\"toc-item-num\">3&nbsp;&nbsp;</span>Repositories</a></span><ul class=\"toc-item\"><li><span><a href=\"#Remove-repositories-that-we-lost-access-without-a-backup\" data-toc-modified-id=\"Remove-repositories-that-we-lost-access-without-a-backup-3.1\"><span class=\"toc-item-num\">3.1&nbsp;&nbsp;</span>Remove repositories that we lost access without a backup</a></span><ul class=\"toc-item\"><li><span><a href=\"#Repositories-with-no-notebooks\" data-toc-modified-id=\"Repositories-with-no-notebooks-3.1.1\"><span class=\"toc-item-num\">3.1.1&nbsp;&nbsp;</span>Repositories with no notebooks</a></span></li><li><span><a href=\"#Valid-repositories\" data-toc-modified-id=\"Valid-repositories-3.1.2\"><span class=\"toc-item-num\">3.1.2&nbsp;&nbsp;</span>Valid repositories</a></span></li></ul></li><li><span><a href=\"#Notebook-count\" data-toc-modified-id=\"Notebook-count-3.2\"><span class=\"toc-item-num\">3.2&nbsp;&nbsp;</span>Notebook count</a></span></li><li><span><a href=\"#Repository-count\" data-toc-modified-id=\"Repository-count-3.3\"><span class=\"toc-item-num\">3.3&nbsp;&nbsp;</span>Repository count</a></span><ul class=\"toc-item\"><li><span><a href=\"#Repositories-with-only-1-notebook\" data-toc-modified-id=\"Repositories-with-only-1-notebook-3.3.1\"><span class=\"toc-item-num\">3.3.1&nbsp;&nbsp;</span>Repositories with only 1 notebook</a></span></li><li><span><a href=\"#Repositories-with-only-2-notebook\" data-toc-modified-id=\"Repositories-with-only-2-notebook-3.3.2\"><span class=\"toc-item-num\">3.3.2&nbsp;&nbsp;</span>Repositories with only 2 notebook</a></span></li><li><span><a href=\"#Repositories-with-10-or-more-notebooks\" data-toc-modified-id=\"Repositories-with-10-or-more-notebooks-3.3.3\"><span class=\"toc-item-num\">3.3.3&nbsp;&nbsp;</span>Repositories with 10 or more notebooks</a></span></li><li><span><a href=\"#Notebooks-that-belong-to-repositories-with-10-or-more-notebooks\" data-toc-modified-id=\"Notebooks-that-belong-to-repositories-with-10-or-more-notebooks-3.3.4\"><span class=\"toc-item-num\">3.3.4&nbsp;&nbsp;</span>Notebooks that belong to repositories with 10 or more notebooks</a></span></li></ul></li><li><span><a href=\"#Repositories-with-requirements.txt-or-setup.py\" data-toc-modified-id=\"Repositories-with-requirements.txt-or-setup.py-3.4\"><span class=\"toc-item-num\">3.4&nbsp;&nbsp;</span>Repositories with requirements.txt or setup.py</a></span></li><li><span><a href=\"#Notebooks-in-repositories-with-requirements.py-or-setup.py-or-Pipfile\" data-toc-modified-id=\"Notebooks-in-repositories-with-requirements.py-or-setup.py-or-Pipfile-3.5\"><span class=\"toc-item-num\">3.5&nbsp;&nbsp;</span>Notebooks in repositories with requirements.py or setup.py or Pipfile</a></span></li></ul></li></ul></div>"
   ]
  },
  {
   "cell_type": "markdown",
   "metadata": {},
   "source": [
    "# Repositories\n",
    "\n",
    "Analyze repositories: number of notebooks/repository, and repoositories with dependency files (setup.py, requirements.txt, Pipfile)"
   ]
  },
  {
   "cell_type": "code",
   "execution_count": 1,
   "metadata": {},
   "outputs": [],
   "source": [
    "import sys\n",
    "\n",
    "sys.path.insert(0, \"../archaeology\")\n",
    "sys.path.insert(0, \"../analysis\")\n",
    "\n",
    "import importlib\n",
    "\n",
    "import pandas as pd\n",
    "from consts import R_STATUSES\n",
    "from db import connect\n",
    "from matplotlib import pyplot as plt\n",
    "from matplotlib.ticker import NullLocator\n",
    "from matplotlib_venn import venn2, venn3\n",
    "\n",
    "import analysis_helpers\n",
    "\n",
    "importlib.reload(analysis_helpers)\n",
    "from analysis_helpers import (describe_processed, distribution_with_boxplot,\n",
    "                              relative_var, savefig, var)\n",
    "\n",
    "%matplotlib inline"
   ]
  },
  {
   "cell_type": "code",
   "execution_count": 2,
   "metadata": {},
   "outputs": [],
   "source": [
    "with connect() as session:\n",
    "    # print('Last query:', session.query(Query).all()[-1])\n",
    "    repositories = pd.read_sql_table(\"repositories\", session.connection())"
   ]
  },
  {
   "cell_type": "markdown",
   "metadata": {},
   "source": [
    "# Status"
   ]
  },
  {
   "cell_type": "code",
   "execution_count": 3,
   "metadata": {},
   "outputs": [],
   "source": [
    "series = repositories.groupby(\"processed\").size()\n",
    "# series\n",
    "# series.plot(kind=\"bar\")"
   ]
  },
  {
   "cell_type": "code",
   "execution_count": 4,
   "metadata": {},
   "outputs": [
    {
     "data": {
      "text/html": [
       "<div>\n",
       "<style scoped>\n",
       "    .dataframe tbody tr th:only-of-type {\n",
       "        vertical-align: middle;\n",
       "    }\n",
       "\n",
       "    .dataframe tbody tr th {\n",
       "        vertical-align: top;\n",
       "    }\n",
       "\n",
       "    .dataframe thead th {\n",
       "        text-align: right;\n",
       "    }\n",
       "</style>\n",
       "<table border=\"1\" class=\"dataframe\">\n",
       "  <thead>\n",
       "    <tr style=\"text-align: right;\">\n",
       "      <th></th>\n",
       "      <th>0</th>\n",
       "    </tr>\n",
       "  </thead>\n",
       "  <tbody>\n",
       "    <tr>\n",
       "      <th>notebooks and cells - ok</th>\n",
       "      <td>5240</td>\n",
       "    </tr>\n",
       "    <tr>\n",
       "      <th>compress - ok</th>\n",
       "      <td>5240</td>\n",
       "    </tr>\n",
       "    <tr>\n",
       "      <th>requirements - ok</th>\n",
       "      <td>5240</td>\n",
       "    </tr>\n",
       "    <tr>\n",
       "      <th>extracted files</th>\n",
       "      <td>5240</td>\n",
       "    </tr>\n",
       "    <tr>\n",
       "      <th>unavailable files</th>\n",
       "      <td>1</td>\n",
       "    </tr>\n",
       "  </tbody>\n",
       "</table>\n",
       "</div>"
      ],
      "text/plain": [
       "                             0\n",
       "notebooks and cells - ok  5240\n",
       "compress - ok             5240\n",
       "requirements - ok         5240\n",
       "extracted files           5240\n",
       "unavailable files            1"
      ]
     },
     "metadata": {},
     "output_type": "display_data"
    },
    {
     "data": {
      "text/plain": [
       "<AxesSubplot:>"
      ]
     },
     "execution_count": 4,
     "metadata": {},
     "output_type": "execute_result"
    },
    {
     "data": {
      "image/png": "[encoded data removed]",
      "text/plain": [
       "<Figure size 432x288 with 1 Axes>"
      ]
     },
     "metadata": {
      "needs_background": "light"
     },
     "output_type": "display_data"
    }
   ],
   "source": [
    "described = describe_processed(series, R_STATUSES, True)\n",
    "display(described.to_frame())\n",
    "described.plot(kind=\"bar\")"
   ]
  },
  {
   "cell_type": "markdown",
   "metadata": {},
   "source": [
    "# Repositories"
   ]
  },
  {
   "cell_type": "markdown",
   "metadata": {},
   "source": [
    "## Remove repositories that we lost access without a backup"
   ]
  },
  {
   "cell_type": "code",
   "execution_count": 5,
   "metadata": {},
   "outputs": [],
   "source": [
    "repositories = repositories[(repositories[\"processed\"] & 1024 == 0)]  # failed to clone"
   ]
  },
  {
   "cell_type": "markdown",
   "metadata": {},
   "source": [
    "### Repositories with no notebooks\n",
    "They matched the query 'language:\"Jupyter Notebook\"', but they did not have a notebook.\n",
    "Or they had only in checkpoint folders"
   ]
  },
  {
   "cell_type": "code",
   "execution_count": 6,
   "metadata": {},
   "outputs": [
    {
     "data": {
      "text/plain": [
       "2580"
      ]
     },
     "execution_count": 6,
     "metadata": {},
     "output_type": "execute_result"
    }
   ],
   "source": [
    "len(repositories[repositories[\"notebooks_count\"] == 0])"
   ]
  },
  {
   "cell_type": "markdown",
   "metadata": {},
   "source": [
    "### Valid repositories"
   ]
  },
  {
   "cell_type": "code",
   "execution_count": 7,
   "metadata": {},
   "outputs": [
    {
     "name": "stdout",
     "output_type": "stream",
     "text": [
      "Repositories: 2,660\n"
     ]
    }
   ],
   "source": [
    "repositories = repositories[repositories[\"notebooks_count\"] > 0]\n",
    "print(\"Repositories: {}\".format(var(\"repositories\", len(repositories), \"{:,}\")))"
   ]
  },
  {
   "cell_type": "code",
   "execution_count": 8,
   "metadata": {},
   "outputs": [
    {
     "data": {
      "text/html": [
       "<div>\n",
       "<style scoped>\n",
       "    .dataframe tbody tr th:only-of-type {\n",
       "        vertical-align: middle;\n",
       "    }\n",
       "\n",
       "    .dataframe tbody tr th {\n",
       "        vertical-align: top;\n",
       "    }\n",
       "\n",
       "    .dataframe thead th {\n",
       "        text-align: right;\n",
       "    }\n",
       "</style>\n",
       "<table border=\"1\" class=\"dataframe\">\n",
       "  <thead>\n",
       "    <tr style=\"text-align: right;\">\n",
       "      <th></th>\n",
       "      <th>id</th>\n",
       "      <th>article_id</th>\n",
       "      <th>domain</th>\n",
       "      <th>repository</th>\n",
       "      <th>hash_dir1</th>\n",
       "      <th>hash_dir2</th>\n",
       "      <th>commit</th>\n",
       "      <th>notebooks_count</th>\n",
       "      <th>setups_count</th>\n",
       "      <th>requirements_count</th>\n",
       "      <th>notebooks</th>\n",
       "      <th>setups</th>\n",
       "      <th>requirements</th>\n",
       "      <th>processed</th>\n",
       "      <th>pipfiles_count</th>\n",
       "      <th>pipfile_locks_count</th>\n",
       "      <th>pipfiles</th>\n",
       "      <th>pipfile_locks</th>\n",
       "    </tr>\n",
       "  </thead>\n",
       "  <tbody>\n",
       "    <tr>\n",
       "      <th>2</th>\n",
       "      <td>3</td>\n",
       "      <td>1</td>\n",
       "      <td>github.com</td>\n",
       "      <td>ncbi/elastic-blast-demos</td>\n",
       "      <td>db</td>\n",
       "      <td>e656ffaf821bc27abe9b352690487f7eb8085e</td>\n",
       "      <td>3dbc7a3c5a42cd092e4921beffa8250b523cf0e5</td>\n",
       "      <td>1</td>\n",
       "      <td>0</td>\n",
       "      <td>1</td>\n",
       "      <td>elastic-blast-rdrp.ipynb</td>\n",
       "      <td></td>\n",
       "      <td>requirements.txt</td>\n",
       "      <td>8329</td>\n",
       "      <td>0</td>\n",
       "      <td>0</td>\n",
       "      <td></td>\n",
       "      <td></td>\n",
       "    </tr>\n",
       "    <tr>\n",
       "      <th>5</th>\n",
       "      <td>6</td>\n",
       "      <td>3</td>\n",
       "      <td>github.com</td>\n",
       "      <td>drorlab/pensa</td>\n",
       "      <td>f2</td>\n",
       "      <td>2dc35bf663a70ccb2e205488d23561a161c05d</td>\n",
       "      <td>31beb6c005302ca6cdabed2921138c2a67388b66</td>\n",
       "      <td>1</td>\n",
       "      <td>1</td>\n",
       "      <td>1</td>\n",
       "      <td>tutorial/PENSA_Tutorial_GPCRmd_MOR.ipynb</td>\n",
       "      <td>setup.py</td>\n",
       "      <td>docs/requirements.txt</td>\n",
       "      <td>8329</td>\n",
       "      <td>0</td>\n",
       "      <td>0</td>\n",
       "      <td></td>\n",
       "      <td></td>\n",
       "    </tr>\n",
       "    <tr>\n",
       "      <th>7</th>\n",
       "      <td>8</td>\n",
       "      <td>5</td>\n",
       "      <td>github.com</td>\n",
       "      <td>predictive-clinical-neuroscience/braincharts</td>\n",
       "      <td>f2</td>\n",
       "      <td>2614f9a4c5bd780af3275392d5f1d95dba8c16</td>\n",
       "      <td>1b0967244ac1af6ff1127831ffc733fe92661a9f</td>\n",
       "      <td>5</td>\n",
       "      <td>0</td>\n",
       "      <td>0</td>\n",
       "      <td>scripts/apply_normative_models_sa.ipynb;script...</td>\n",
       "      <td></td>\n",
       "      <td></td>\n",
       "      <td>8329</td>\n",
       "      <td>0</td>\n",
       "      <td>0</td>\n",
       "      <td></td>\n",
       "      <td></td>\n",
       "    </tr>\n",
       "    <tr>\n",
       "      <th>8</th>\n",
       "      <td>9</td>\n",
       "      <td>5</td>\n",
       "      <td>github.com</td>\n",
       "      <td>saigerutherford/evidence_embracing_nm</td>\n",
       "      <td>53</td>\n",
       "      <td>1484bbcc98527222a4d3ca3057302e247bc0bb</td>\n",
       "      <td>81a1a1622f3bf1e96c0299b14e5301e05daf7c64</td>\n",
       "      <td>5</td>\n",
       "      <td>0</td>\n",
       "      <td>0</td>\n",
       "      <td>EvaluationFigures.ipynb;svm_groupdiff_ct_yeo.i...</td>\n",
       "      <td></td>\n",
       "      <td></td>\n",
       "      <td>8329</td>\n",
       "      <td>0</td>\n",
       "      <td>0</td>\n",
       "      <td></td>\n",
       "      <td></td>\n",
       "    </tr>\n",
       "    <tr>\n",
       "      <th>9</th>\n",
       "      <td>10</td>\n",
       "      <td>6</td>\n",
       "      <td>github.com</td>\n",
       "      <td>draeger-lab/pymCADRE</td>\n",
       "      <td>bc</td>\n",
       "      <td>115432e1ab35f6eaa726a0d6b172a4129a4d87</td>\n",
       "      <td>13b3dc9c04804a6d9e01d5fce2bbcce05a303456</td>\n",
       "      <td>8</td>\n",
       "      <td>1</td>\n",
       "      <td>0</td>\n",
       "      <td>PREDICATE.ipynb;pymCADRE_code/code/main_pymcad...</td>\n",
       "      <td>setup.py</td>\n",
       "      <td></td>\n",
       "      <td>8329</td>\n",
       "      <td>0</td>\n",
       "      <td>0</td>\n",
       "      <td></td>\n",
       "      <td></td>\n",
       "    </tr>\n",
       "  </tbody>\n",
       "</table>\n",
       "</div>"
      ],
      "text/plain": [
       "   id  article_id      domain                                    repository  \\\n",
       "2   3           1  github.com                      ncbi/elastic-blast-demos   \n",
       "5   6           3  github.com                                 drorlab/pensa   \n",
       "7   8           5  github.com  predictive-clinical-neuroscience/braincharts   \n",
       "8   9           5  github.com         saigerutherford/evidence_embracing_nm   \n",
       "9  10           6  github.com                          draeger-lab/pymCADRE   \n",
       "\n",
       "  hash_dir1                               hash_dir2  \\\n",
       "2        db  e656ffaf821bc27abe9b352690487f7eb8085e   \n",
       "5        f2  2dc35bf663a70ccb2e205488d23561a161c05d   \n",
       "7        f2  2614f9a4c5bd780af3275392d5f1d95dba8c16   \n",
       "8        53  1484bbcc98527222a4d3ca3057302e247bc0bb   \n",
       "9        bc  115432e1ab35f6eaa726a0d6b172a4129a4d87   \n",
       "\n",
       "                                     commit  notebooks_count  setups_count  \\\n",
       "2  3dbc7a3c5a42cd092e4921beffa8250b523cf0e5                1             0   \n",
       "5  31beb6c005302ca6cdabed2921138c2a67388b66                1             1   \n",
       "7  1b0967244ac1af6ff1127831ffc733fe92661a9f                5             0   \n",
       "8  81a1a1622f3bf1e96c0299b14e5301e05daf7c64                5             0   \n",
       "9  13b3dc9c04804a6d9e01d5fce2bbcce05a303456                8             1   \n",
       "\n",
       "   requirements_count                                          notebooks  \\\n",
       "2                   1                           elastic-blast-rdrp.ipynb   \n",
       "5                   1           tutorial/PENSA_Tutorial_GPCRmd_MOR.ipynb   \n",
       "7                   0  scripts/apply_normative_models_sa.ipynb;script...   \n",
       "8                   0  EvaluationFigures.ipynb;svm_groupdiff_ct_yeo.i...   \n",
       "9                   0  PREDICATE.ipynb;pymCADRE_code/code/main_pymcad...   \n",
       "\n",
       "     setups           requirements  processed  pipfiles_count  \\\n",
       "2                 requirements.txt       8329               0   \n",
       "5  setup.py  docs/requirements.txt       8329               0   \n",
       "7                                        8329               0   \n",
       "8                                        8329               0   \n",
       "9  setup.py                              8329               0   \n",
       "\n",
       "   pipfile_locks_count pipfiles pipfile_locks  \n",
       "2                    0                         \n",
       "5                    0                         \n",
       "7                    0                         \n",
       "8                    0                         \n",
       "9                    0                         "
      ]
     },
     "execution_count": 8,
     "metadata": {},
     "output_type": "execute_result"
    }
   ],
   "source": [
    "repositories.head(5)"
   ]
  },
  {
   "cell_type": "markdown",
   "metadata": {},
   "source": [
    "## Notebook count"
   ]
  },
  {
   "cell_type": "code",
   "execution_count": 9,
   "metadata": {},
   "outputs": [
    {
     "data": {
      "text/plain": [
       "'27,271'"
      ]
     },
     "execution_count": 9,
     "metadata": {},
     "output_type": "execute_result"
    }
   ],
   "source": [
    "total_notebooks = repositories[\"notebooks_count\"].sum()\n",
    "\"{:,}\".format(total_notebooks)"
   ]
  },
  {
   "cell_type": "code",
   "execution_count": 10,
   "metadata": {},
   "outputs": [
    {
     "name": "stdout",
     "output_type": "stream",
     "text": [
      "Distribution(min=1, q1=1.0, median=3.5, q3=9.0, max=1928)\n"
     ]
    },
    {
     "data": {
      "image/png": "[encoded data removed]",
      "text/plain": [
       "<Figure size 648x360 with 2 Axes>"
      ]
     },
     "metadata": {
      "needs_background": "light"
     },
     "output_type": "display_data"
    }
   ],
   "source": [
    "column = repositories[\"notebooks_count\"]\n",
    "with savefig(\"notebooks_count\", 9, 5):\n",
    "    distribution = distribution_with_boxplot(\n",
    "        column, 0, 20, 2, \"Repositories\", \"Notebooks\", True\n",
    "    )\n",
    "    print(distribution)"
   ]
  },
  {
   "cell_type": "markdown",
   "metadata": {},
   "source": [
    "## Repository count"
   ]
  },
  {
   "cell_type": "code",
   "execution_count": 11,
   "metadata": {},
   "outputs": [
    {
     "data": {
      "text/plain": [
       "2660"
      ]
     },
     "execution_count": 11,
     "metadata": {},
     "output_type": "execute_result"
    }
   ],
   "source": [
    "total = len(repositories)\n",
    "total"
   ]
  },
  {
   "cell_type": "markdown",
   "metadata": {},
   "source": [
    "### Repositories with only 1 notebook"
   ]
  },
  {
   "cell_type": "code",
   "execution_count": 12,
   "metadata": {},
   "outputs": [
    {
     "data": {
      "text/plain": [
       "'692 (26.02%)'"
      ]
     },
     "execution_count": 12,
     "metadata": {},
     "output_type": "execute_result"
    }
   ],
   "source": [
    "relative_var(\n",
    "    \"repositories_1_notebook\",\n",
    "    len(repositories[repositories[\"notebooks_count\"] == 1]),\n",
    "    total,\n",
    ")"
   ]
  },
  {
   "cell_type": "markdown",
   "metadata": {},
   "source": [
    "### Repositories with only 2 notebook"
   ]
  },
  {
   "cell_type": "code",
   "execution_count": 13,
   "metadata": {},
   "outputs": [
    {
     "data": {
      "text/plain": [
       "'1,082 (40.68%)'"
      ]
     },
     "execution_count": 13,
     "metadata": {},
     "output_type": "execute_result"
    }
   ],
   "source": [
    "relative_var(\n",
    "    \"repositories_2_notebooks\",\n",
    "    len(repositories[repositories[\"notebooks_count\"] <= 2]),\n",
    "    total,\n",
    ")"
   ]
  },
  {
   "cell_type": "markdown",
   "metadata": {},
   "source": [
    "### Repositories with 10 or more notebooks"
   ]
  },
  {
   "cell_type": "code",
   "execution_count": 14,
   "metadata": {},
   "outputs": [
    {
     "data": {
      "text/plain": [
       "'618 (23.23%)'"
      ]
     },
     "execution_count": 14,
     "metadata": {},
     "output_type": "execute_result"
    }
   ],
   "source": [
    "repo_10_plus = repositories[repositories[\"notebooks_count\"] >= 10]\n",
    "relative_var(\n",
    "    \"repositories_10_notebooks\",\n",
    "    len(repo_10_plus),\n",
    "    total,\n",
    ")"
   ]
  },
  {
   "cell_type": "markdown",
   "metadata": {},
   "source": [
    "### Notebooks that belong to repositories with 10 or more notebooks"
   ]
  },
  {
   "cell_type": "code",
   "execution_count": 15,
   "metadata": {},
   "outputs": [
    {
     "data": {
      "text/plain": [
       "'20,838 (76.41%)'"
      ]
     },
     "execution_count": 15,
     "metadata": {},
     "output_type": "execute_result"
    }
   ],
   "source": [
    "notebooks_in_repo_10_plus = repo_10_plus[\"notebooks_count\"].sum()\n",
    "relative_var(\n",
    "    \"notebooks_from_repositories_10\",\n",
    "    notebooks_in_repo_10_plus,\n",
    "    total_notebooks,\n",
    ")"
   ]
  },
  {
   "cell_type": "markdown",
   "metadata": {},
   "source": [
    "## Repositories with requirements.txt or setup.py"
   ]
  },
  {
   "cell_type": "code",
   "execution_count": 16,
   "metadata": {},
   "outputs": [],
   "source": [
    "fn = lambda x: len(x)\n",
    "\n",
    "setup_and_requirements_and_pipfile = fn(\n",
    "    repositories[\n",
    "        (repositories[\"setups_count\"] > 0)\n",
    "        & (repositories[\"requirements_count\"] > 0)\n",
    "        & (\n",
    "            (repositories[\"pipfiles_count\"] > 0)\n",
    "            | (repositories[\"pipfile_locks_count\"] > 0)\n",
    "        )\n",
    "    ]\n",
    ")\n",
    "setup_and_requirements = fn(\n",
    "    repositories[\n",
    "        (repositories[\"setups_count\"] > 0)\n",
    "        & (repositories[\"requirements_count\"] > 0)\n",
    "        & ~(\n",
    "            (repositories[\"pipfiles_count\"] > 0)\n",
    "            | (repositories[\"pipfile_locks_count\"] > 0)\n",
    "        )\n",
    "    ]\n",
    ")\n",
    "setup_and_pipfile = fn(\n",
    "    repositories[\n",
    "        (repositories[\"setups_count\"] > 0)\n",
    "        & ~(repositories[\"requirements_count\"] > 0)\n",
    "        & (\n",
    "            (repositories[\"pipfiles_count\"] > 0)\n",
    "            | (repositories[\"pipfile_locks_count\"] > 0)\n",
    "        )\n",
    "    ]\n",
    ")\n",
    "requirements_and_pipfile = fn(\n",
    "    repositories[\n",
    "        ~(repositories[\"setups_count\"] > 0)\n",
    "        & (repositories[\"requirements_count\"] > 0)\n",
    "        & (\n",
    "            (repositories[\"pipfiles_count\"] > 0)\n",
    "            | (repositories[\"pipfile_locks_count\"] > 0)\n",
    "        )\n",
    "    ]\n",
    ")\n",
    "setup = fn(\n",
    "    repositories[\n",
    "        (repositories[\"setups_count\"] > 0)\n",
    "        & ~(repositories[\"requirements_count\"] > 0)\n",
    "        & ~(\n",
    "            (repositories[\"pipfiles_count\"] > 0)\n",
    "            | (repositories[\"pipfile_locks_count\"] > 0)\n",
    "        )\n",
    "    ]\n",
    ")\n",
    "requirements = fn(\n",
    "    repositories[\n",
    "        ~(repositories[\"setups_count\"] > 0)\n",
    "        & (repositories[\"requirements_count\"] > 0)\n",
    "        & ~(\n",
    "            (repositories[\"pipfiles_count\"] > 0)\n",
    "            | (repositories[\"pipfile_locks_count\"] > 0)\n",
    "        )\n",
    "    ]\n",
    ")\n",
    "pipfiles = fn(\n",
    "    repositories[\n",
    "        ~(repositories[\"setups_count\"] > 0)\n",
    "        & ~(repositories[\"requirements_count\"] > 0)\n",
    "        & (\n",
    "            (repositories[\"pipfiles_count\"] > 0)\n",
    "            | (repositories[\"pipfile_locks_count\"] > 0)\n",
    "        )\n",
    "    ]\n",
    ")\n",
    "others = fn(\n",
    "    repositories[\n",
    "        ~(repositories[\"setups_count\"] > 0)\n",
    "        & ~(repositories[\"requirements_count\"] > 0)\n",
    "        & ~(\n",
    "            (repositories[\"pipfiles_count\"] > 0)\n",
    "            | (repositories[\"pipfile_locks_count\"] > 0)\n",
    "        )\n",
    "    ]\n",
    ")"
   ]
  },
  {
   "cell_type": "code",
   "execution_count": 17,
   "metadata": {},
   "outputs": [
    {
     "data": {
      "image/png": "[encoded data removed]",
      "text/plain": [
       "<Figure size 576x432 with 1 Axes>"
      ]
     },
     "metadata": {},
     "output_type": "display_data"
    }
   ],
   "source": [
    "with savefig(\"repository_dependencies_x3\", 8, 6):\n",
    "    fig = plt.figure()\n",
    "    ax = fig.add_subplot(111)\n",
    "    venn = venn3(\n",
    "        subsets={\n",
    "            \"111\": setup_and_requirements_and_pipfile,\n",
    "            \"110\": setup_and_requirements,\n",
    "            \"101\": setup_and_pipfile,\n",
    "            \"100\": setup,\n",
    "            \"011\": requirements_and_pipfile,\n",
    "            \"010\": requirements,\n",
    "            \"001\": pipfiles,\n",
    "        },\n",
    "        set_labels=(\"setup.py\", \"requirements.txt\", \"Pipfile\"),\n",
    "        ax=ax,\n",
    "    )\n",
    "    for label in venn.subset_labels:\n",
    "        label.set_text(\"{0:,g}\".format(int(label.get_text())))\n",
    "    ax.text(0, 0.6, \"{0:,g}\".format(others))\n",
    "    plt.tight_layout()\n",
    "    plt.plot()"
   ]
  },
  {
   "cell_type": "code",
   "execution_count": 18,
   "metadata": {},
   "outputs": [
    {
     "data": {
      "image/png": "[encoded data removed]",
      "text/plain": [
       "<Figure size 576x432 with 1 Axes>"
      ]
     },
     "metadata": {},
     "output_type": "display_data"
    }
   ],
   "source": [
    "with savefig(\"repository_dependencies_x2\", 8, 6):\n",
    "    fig = plt.figure()\n",
    "    ax = fig.add_subplot(111)\n",
    "    venn = venn2(\n",
    "        subsets={\n",
    "            \"11\": setup_and_requirements + setup_and_requirements_and_pipfile,\n",
    "            \"10\": setup + setup_and_pipfile,\n",
    "            \"01\": requirements + requirements_and_pipfile,\n",
    "        },\n",
    "        set_labels=(\"setup.py\", \"requirements.txt\"),\n",
    "        ax=ax,\n",
    "    )\n",
    "    for label in venn.subset_labels:\n",
    "        label.set_text(\"{0:,g}\".format(int(label.get_text())))\n",
    "    ax.text(0, 0.55, \"{0:,g}\".format(others + pipfiles))\n",
    "    ax.set_axis_off()\n",
    "    # plt.subplots_adjust(top = 0.9, bottom = 0, right = 1, left = 0,\n",
    "    #        hspace = 0, wspace = 0)\n",
    "    ax.margins(0, 0)\n",
    "    ax.xaxis.set_major_locator(NullLocator())\n",
    "    ax.yaxis.set_major_locator(NullLocator())\n",
    "    plt.plot()"
   ]
  },
  {
   "cell_type": "code",
   "execution_count": 19,
   "metadata": {},
   "outputs": [
    {
     "name": "stdout",
     "output_type": "stream",
     "text": [
      "Repositories with Pipfile: 21 (0.79%)\n",
      "Repositories with Declared Modules: 1,169 (43.95%)\n"
     ]
    }
   ],
   "source": [
    "pipfile_total = (\n",
    "    setup_and_requirements_and_pipfile\n",
    "    + setup_and_pipfile\n",
    "    + requirements_and_pipfile\n",
    "    + pipfiles\n",
    ")\n",
    "dependencies = (\n",
    "    setup_and_requirements_and_pipfile\n",
    "    + setup_and_requirements\n",
    "    + setup_and_pipfile\n",
    "    + setup\n",
    "    + requirements_and_pipfile\n",
    "    + requirements\n",
    "    + pipfiles\n",
    ")\n",
    "\n",
    "print(\n",
    "    \"Repositories with Pipfile: {}\".format(\n",
    "        relative_var(\"repositories_with_pipfile\", pipfile_total, len(repositories))\n",
    "    )\n",
    ")\n",
    "print(\n",
    "    \"Repositories with Declared Modules: {}\".format(\n",
    "        relative_var(\n",
    "            \"repositories_with_dependencies\", dependencies, dependencies + others\n",
    "        )\n",
    "    )\n",
    ")"
   ]
  },
  {
   "cell_type": "markdown",
   "metadata": {},
   "source": [
    "## Notebooks in repositories with requirements.py or setup.py or Pipfile"
   ]
  },
  {
   "cell_type": "code",
   "execution_count": 20,
   "metadata": {},
   "outputs": [],
   "source": [
    "fn = lambda x: x[\"notebooks_count\"].sum()\n",
    "\n",
    "setup_and_requirements_and_pipfile = fn(\n",
    "    repositories[\n",
    "        (repositories[\"setups_count\"] > 0)\n",
    "        & (repositories[\"requirements_count\"] > 0)\n",
    "        & (\n",
    "            (repositories[\"pipfiles_count\"] > 0)\n",
    "            | (repositories[\"pipfile_locks_count\"] > 0)\n",
    "        )\n",
    "    ]\n",
    ")\n",
    "setup_and_requirements = fn(\n",
    "    repositories[\n",
    "        (repositories[\"setups_count\"] > 0)\n",
    "        & (repositories[\"requirements_count\"] > 0)\n",
    "        & ~(\n",
    "            (repositories[\"pipfiles_count\"] > 0)\n",
    "            | (repositories[\"pipfile_locks_count\"] > 0)\n",
    "        )\n",
    "    ]\n",
    ")\n",
    "setup_and_pipfile = fn(\n",
    "    repositories[\n",
    "        (repositories[\"setups_count\"] > 0)\n",
    "        & ~(repositories[\"requirements_count\"] > 0)\n",
    "        & (\n",
    "            (repositories[\"pipfiles_count\"] > 0)\n",
    "            | (repositories[\"pipfile_locks_count\"] > 0)\n",
    "        )\n",
    "    ]\n",
    ")\n",
    "requirements_and_pipfile = fn(\n",
    "    repositories[\n",
    "        ~(repositories[\"setups_count\"] > 0)\n",
    "        & (repositories[\"requirements_count\"] > 0)\n",
    "        & (\n",
    "            (repositories[\"pipfiles_count\"] > 0)\n",
    "            | (repositories[\"pipfile_locks_count\"] > 0)\n",
    "        )\n",
    "    ]\n",
    ")\n",
    "setup = fn(\n",
    "    repositories[\n",
    "        (repositories[\"setups_count\"] > 0)\n",
    "        & ~(repositories[\"requirements_count\"] > 0)\n",
    "        & ~(\n",
    "            (repositories[\"pipfiles_count\"] > 0)\n",
    "            | (repositories[\"pipfile_locks_count\"] > 0)\n",
    "        )\n",
    "    ]\n",
    ")\n",
    "requirements = fn(\n",
    "    repositories[\n",
    "        ~(repositories[\"setups_count\"] > 0)\n",
    "        & (repositories[\"requirements_count\"] > 0)\n",
    "        & ~(\n",
    "            (repositories[\"pipfiles_count\"] > 0)\n",
    "            | (repositories[\"pipfile_locks_count\"] > 0)\n",
    "        )\n",
    "    ]\n",
    ")\n",
    "pipfiles = fn(\n",
    "    repositories[\n",
    "        ~(repositories[\"setups_count\"] > 0)\n",
    "        & ~(repositories[\"requirements_count\"] > 0)\n",
    "        & (\n",
    "            (repositories[\"pipfiles_count\"] > 0)\n",
    "            | (repositories[\"pipfile_locks_count\"] > 0)\n",
    "        )\n",
    "    ]\n",
    ")\n",
    "others = fn(\n",
    "    repositories[\n",
    "        ~(repositories[\"setups_count\"] > 0)\n",
    "        & ~(repositories[\"requirements_count\"] > 0)\n",
    "        & ~(\n",
    "            (repositories[\"pipfiles_count\"] > 0)\n",
    "            | (repositories[\"pipfile_locks_count\"] > 0)\n",
    "        )\n",
    "    ]\n",
    ")"
   ]
  },
  {
   "cell_type": "code",
   "execution_count": 21,
   "metadata": {},
   "outputs": [
    {
     "data": {
      "image/png": "[encoded data removed]",
      "text/plain": [
       "<Figure size 576x432 with 1 Axes>"
      ]
     },
     "metadata": {},
     "output_type": "display_data"
    }
   ],
   "source": [
    "with savefig(\"notebook_dependencies_x3\", 8, 6):\n",
    "    fig = plt.figure()\n",
    "    ax = fig.add_subplot(111)\n",
    "    venn = venn3(\n",
    "        subsets={\n",
    "            \"111\": setup_and_requirements_and_pipfile,\n",
    "            \"110\": setup_and_requirements,\n",
    "            \"101\": setup_and_pipfile,\n",
    "            \"100\": setup,\n",
    "            \"011\": requirements_and_pipfile,\n",
    "            \"010\": requirements,\n",
    "            \"001\": pipfiles,\n",
    "        },\n",
    "        set_labels=(\"setup.py\", \"requirements.txt\", \"Pipfile\"),\n",
    "        ax=ax,\n",
    "    )\n",
    "    for label in venn.subset_labels:\n",
    "        if label:\n",
    "            label.set_text(\"{0:,g}\".format(int(label.get_text())))\n",
    "    ax.text(0, 0.6, \"{0:,}\".format(others))\n",
    "    plt.plot()"
   ]
  },
  {
   "cell_type": "code",
   "execution_count": 22,
   "metadata": {},
   "outputs": [
    {
     "data": {
      "image/png": "[encoded data removed]",
      "text/plain": [
       "<Figure size 576x432 with 1 Axes>"
      ]
     },
     "metadata": {},
     "output_type": "display_data"
    }
   ],
   "source": [
    "with savefig(\"notebook_dependencies_x2\", 8, 6):\n",
    "    fig = plt.figure()\n",
    "    ax = fig.add_subplot(111)\n",
    "    venn = venn2(\n",
    "        subsets={\n",
    "            \"11\": setup_and_requirements + setup_and_requirements_and_pipfile,\n",
    "            \"10\": setup + setup_and_pipfile,\n",
    "            \"01\": requirements + requirements_and_pipfile,\n",
    "        },\n",
    "        set_labels=(\"setup.py\", \"requirements.txt\"),\n",
    "        ax=ax,\n",
    "    )\n",
    "    for label in venn.subset_labels:\n",
    "        label.set_text(\"{0:,g}\".format(int(label.get_text())))\n",
    "    # ax.text(0, 0.6, \"{0:,}\".format(others + pipfiles))\n",
    "    plt.subplots_adjust(top=0.8, right=0.8)\n",
    "    plt.plot()"
   ]
  },
  {
   "cell_type": "code",
   "execution_count": 23,
   "metadata": {},
   "outputs": [
    {
     "name": "stdout",
     "output_type": "stream",
     "text": [
      "Notebooks in repositories with Pipfile: 353 (1.29%)\n",
      "Notebooks in repositories with Declared Modules: 11,818 (43.34%)\n"
     ]
    }
   ],
   "source": [
    "pipfile_total = (\n",
    "    setup_and_requirements_and_pipfile\n",
    "    + setup_and_pipfile\n",
    "    + requirements_and_pipfile\n",
    "    + pipfiles\n",
    ")\n",
    "dependencies = (\n",
    "    setup_and_requirements_and_pipfile\n",
    "    + setup_and_requirements\n",
    "    + setup_and_pipfile\n",
    "    + setup\n",
    "    + requirements_and_pipfile\n",
    "    + requirements\n",
    "    + pipfiles\n",
    ")\n",
    "\n",
    "print(\n",
    "    \"Notebooks in repositories with Pipfile: {}\".format(\n",
    "        relative_var(\"notebooks_with_pipfile\", pipfile_total, total_notebooks)\n",
    "    )\n",
    ")\n",
    "print(\n",
    "    \"Notebooks in repositories with Declared Modules: {}\".format(\n",
    "        relative_var(\n",
    "            \"notebooks_with_dependencies\", dependencies, dependencies + others\n",
    "        ),\n",
    "    )\n",
    ")"
   ]
  },
  {
   "cell_type": "code",
   "execution_count": null,
   "metadata": {},
   "outputs": [],
   "source": []
  }
 ],
 "metadata": {
  "kernelspec": {
   "display_name": "Python 3 (ipykernel)",
   "language": "python",
   "name": "python3"
  },
  "language_info": {
   "codemirror_mode": {
    "name": "ipython",
    "version": 3
   },
   "file_extension": ".py",
   "mimetype": "text/x-python",
   "name": "python",
   "nbconvert_exporter": "python",
   "pygments_lexer": "ipython3",
   "version": "3.8.8"
  },
  "toc": {
   "base_numbering": 1,
   "nav_menu": {
    "height": "186px",
    "width": "251px"
   },
   "number_sections": true,
   "sideBar": true,
   "skip_h1_title": false,
   "title_cell": "Table of Contents",
   "title_sidebar": "Contents",
   "toc_cell": true,
   "toc_position": {
    "height": "calc(100% - 180px)",
    "left": "10px",
    "top": "150px",
    "width": "288px"
   },
   "toc_section_display": "block",
   "toc_window_display": true
  }
 },
 "nbformat": 4,
 "nbformat_minor": 4
}
